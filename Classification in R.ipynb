{
 "cells": [
  {
   "cell_type": "markdown",
   "metadata": {},
   "source": [
    "# Classification on Diabetes Data in R"
   ]
  },
  {
   "cell_type": "markdown",
   "metadata": {},
   "source": [
    "For classification, find the best from below ML algroithms:\n",
    "\n",
    "    Gaussian Naive Bayes\n",
    "    Support Vector Machine (SVM)\n",
    "    Logistic Regression\n",
    "    K Nearest Neighbors (K-NN)\n",
    "    Decision Tree \n",
    "    Random Forest\n",
    "    Neural Network\n",
    "    Gardiant Boosting"
   ]
  },
  {
   "cell_type": "markdown",
   "metadata": {},
   "source": [
    "![Top ML](https://editor.analyticsvidhya.com/uploads/32753Screenshot%202020-11-28%20at%2010.09.40%20PM.png)"
   ]
  },
  {
   "cell_type": "markdown",
   "metadata": {},
   "source": [
    "##  Data Preparation\n",
    "### 768 Females of Pima Indian Heritage"
   ]
  },
  {
   "cell_type": "markdown",
   "metadata": {},
   "source": [
    "We have 768 instances and the following 8 attributes:\n",
    "\n",
    "    Number of times pregnant (preg)\n",
    "    Plasma glucose concentration a 2 hours in an oral glucose tolerance test (plas)\n",
    "    Diastolic blood pressure in mm Hg (pres)\n",
    "    Triceps skin fold thickness in mm (skin)\n",
    "    2-Hour serum insulin in mu U/ml (insu)\n",
    "    Body mass index measured as weight in kg/(height in m)^2 (mass)\n",
    "    Diabetes pedigree function (pedi)\n",
    "    Age in years (age)\n",
    "    Outcome: Class variable (0 if non-diabetic, 1 if diabetic)\n"
   ]
  },
  {
   "cell_type": "code",
   "execution_count": 14,
   "metadata": {},
   "outputs": [
    {
     "name": "stderr",
     "output_type": "stream",
     "text": [
      "Loading required package: randomForests\n",
      "Loading required package: knnn\n"
     ]
    }
   ],
   "source": [
    "defaultW <- getOption(\"warn\") \n",
    "options(warn = -1) \n",
    "\n",
    "# load libraries\n",
    "\n",
    "if (!require(tidyverse)) install.packages('tidyverse')   # data manipulation\n",
    "suppressWarnings(suppressMessages(library(tidyverse) ))\n",
    "\n",
    "if (!require(ggplot2)) install.packages('ggplot2')\n",
    "suppressWarnings(suppressMessages(library(ggplot2)))\n",
    "\n",
    "if (!require(GGally)) install.packages('GGally')\n",
    "suppressWarnings(suppressMessages(library(\"GGally\")))\n",
    "\n",
    "if (!require(caret)) install.packages('caret') # Train/test functions\n",
    "suppressWarnings(suppressMessages(library(caret)  ))\n",
    "\n",
    "#if (!require(e1071)) install.packages('e1071') # machine learning functions\n",
    "#library(e1071)\n",
    "\n",
    "#if (!require(mlbench)) install.packages('mlbench')\n",
    "#library(mlbench)\n",
    "\n",
    "if (!require(naivebayes)) install.packages('naivebayes')  # Naive Bayes functions\n",
    "suppressWarnings(suppressMessages(library(naivebayes) ))\n",
    "\n",
    "if (!require(randomForests)) install.packages('randomForest')  # Random Forest functions\n",
    "suppressWarnings(suppressMessages(library(randomForest)))\n",
    "\n",
    "if (!require(RSNNS)) install.packages('RSNNS')  # Multi-Layer Perceptron functions\n",
    "suppressWarnings(suppressMessages(library(RSNNS)))\n",
    "\n",
    "\n",
    "if (!require(gbm)) install.packages('gbm')  # Gradient Boosting Machines functions\n",
    "suppressWarnings(suppressMessages(library(gbm)))\n",
    "\n",
    "if (!require(rpart)) install.packages('rpart')  # CART functions\n",
    "suppressWarnings(suppressMessages(library(rpart)))\n",
    "\n",
    "\n",
    "if (!require(knnn)) install.packages('kknn')  # k-nearest neighbor classification\n",
    "suppressWarnings(suppressMessages(library(kknn)))\n",
    "\n"
   ]
  },
  {
   "cell_type": "code",
   "execution_count": 15,
   "metadata": {},
   "outputs": [
    {
     "data": {
      "text/html": [
       "<table>\n",
       "<thead><tr><th scope=col>Pregnancies</th><th scope=col>Glucose</th><th scope=col>BloodPressure</th><th scope=col>SkinThickness</th><th scope=col>Insulin</th><th scope=col>BMI</th><th scope=col>DiabetesPedigreeFunction</th><th scope=col>Age</th><th scope=col>Outcome</th></tr></thead>\n",
       "<tbody>\n",
       "\t<tr><td>6    </td><td>148  </td><td>72   </td><td>35   </td><td>  0  </td><td>33.6 </td><td>0.627</td><td>50   </td><td>1    </td></tr>\n",
       "\t<tr><td>1    </td><td> 85  </td><td>66   </td><td>29   </td><td>  0  </td><td>26.6 </td><td>0.351</td><td>31   </td><td>0    </td></tr>\n",
       "\t<tr><td>8    </td><td>183  </td><td>64   </td><td> 0   </td><td>  0  </td><td>23.3 </td><td>0.672</td><td>32   </td><td>1    </td></tr>\n",
       "\t<tr><td>1    </td><td> 89  </td><td>66   </td><td>23   </td><td> 94  </td><td>28.1 </td><td>0.167</td><td>21   </td><td>0    </td></tr>\n",
       "\t<tr><td>0    </td><td>137  </td><td>40   </td><td>35   </td><td>168  </td><td>43.1 </td><td>2.288</td><td>33   </td><td>1    </td></tr>\n",
       "\t<tr><td>5    </td><td>116  </td><td>74   </td><td> 0   </td><td>  0  </td><td>25.6 </td><td>0.201</td><td>30   </td><td>0    </td></tr>\n",
       "</tbody>\n",
       "</table>\n"
      ],
      "text/latex": [
       "\\begin{tabular}{r|lllllllll}\n",
       " Pregnancies & Glucose & BloodPressure & SkinThickness & Insulin & BMI & DiabetesPedigreeFunction & Age & Outcome\\\\\n",
       "\\hline\n",
       "\t 6     & 148   & 72    & 35    &   0   & 33.6  & 0.627 & 50    & 1    \\\\\n",
       "\t 1     &  85   & 66    & 29    &   0   & 26.6  & 0.351 & 31    & 0    \\\\\n",
       "\t 8     & 183   & 64    &  0    &   0   & 23.3  & 0.672 & 32    & 1    \\\\\n",
       "\t 1     &  89   & 66    & 23    &  94   & 28.1  & 0.167 & 21    & 0    \\\\\n",
       "\t 0     & 137   & 40    & 35    & 168   & 43.1  & 2.288 & 33    & 1    \\\\\n",
       "\t 5     & 116   & 74    &  0    &   0   & 25.6  & 0.201 & 30    & 0    \\\\\n",
       "\\end{tabular}\n"
      ],
      "text/markdown": [
       "\n",
       "| Pregnancies | Glucose | BloodPressure | SkinThickness | Insulin | BMI | DiabetesPedigreeFunction | Age | Outcome |\n",
       "|---|---|---|---|---|---|---|---|---|\n",
       "| 6     | 148   | 72    | 35    |   0   | 33.6  | 0.627 | 50    | 1     |\n",
       "| 1     |  85   | 66    | 29    |   0   | 26.6  | 0.351 | 31    | 0     |\n",
       "| 8     | 183   | 64    |  0    |   0   | 23.3  | 0.672 | 32    | 1     |\n",
       "| 1     |  89   | 66    | 23    |  94   | 28.1  | 0.167 | 21    | 0     |\n",
       "| 0     | 137   | 40    | 35    | 168   | 43.1  | 2.288 | 33    | 1     |\n",
       "| 5     | 116   | 74    |  0    |   0   | 25.6  | 0.201 | 30    | 0     |\n",
       "\n"
      ],
      "text/plain": [
       "  Pregnancies Glucose BloodPressure SkinThickness Insulin BMI \n",
       "1 6           148     72            35              0     33.6\n",
       "2 1            85     66            29              0     26.6\n",
       "3 8           183     64             0              0     23.3\n",
       "4 1            89     66            23             94     28.1\n",
       "5 0           137     40            35            168     43.1\n",
       "6 5           116     74             0              0     25.6\n",
       "  DiabetesPedigreeFunction Age Outcome\n",
       "1 0.627                    50  1      \n",
       "2 0.351                    31  0      \n",
       "3 0.672                    32  1      \n",
       "4 0.167                    21  0      \n",
       "5 2.288                    33  1      \n",
       "6 0.201                    30  0      "
      ]
     },
     "metadata": {},
     "output_type": "display_data"
    }
   ],
   "source": [
    "# dataset from\n",
    "url <- \"https://raw.githubusercontent.com/npradaschnor/Pima-Indians-Diabetes-Dataset/master/diabetes.csv\"\n",
    "\n",
    "# Import dataset\n",
    "rawdata <- read.csv(url,header=TRUE, sep=\",\", as.is=TRUE)\n",
    "rawdata %>% \n",
    "    as_tibble() %>%\n",
    "    head()   # See top 6 rows "
   ]
  },
  {
   "cell_type": "code",
   "execution_count": 16,
   "metadata": {
    "scrolled": false
   },
   "outputs": [
    {
     "name": "stdout",
     "output_type": "stream",
     "text": [
      "'data.frame':\t768 obs. of  9 variables:\n",
      " $ Pregnancies             : int  6 1 8 1 0 5 3 10 2 8 ...\n",
      " $ Glucose                 : int  148 85 183 89 137 116 78 115 197 125 ...\n",
      " $ BloodPressure           : int  72 66 64 66 40 74 50 0 70 96 ...\n",
      " $ SkinThickness           : int  35 29 0 23 35 0 32 0 45 0 ...\n",
      " $ Insulin                 : int  0 0 0 94 168 0 88 0 543 0 ...\n",
      " $ BMI                     : num  33.6 26.6 23.3 28.1 43.1 25.6 31 35.3 30.5 0 ...\n",
      " $ DiabetesPedigreeFunction: num  0.627 0.351 0.672 0.167 2.288 ...\n",
      " $ Age                     : int  50 31 32 21 33 30 26 29 53 54 ...\n",
      " $ Outcome                 : int  1 0 1 0 1 0 1 0 1 1 ...\n"
     ]
    }
   ],
   "source": [
    "# Structure of the dataframe\n",
    "rawdata %>% str()"
   ]
  },
  {
   "cell_type": "markdown",
   "metadata": {},
   "source": [
    "## Descriptive statistics"
   ]
  },
  {
   "cell_type": "code",
   "execution_count": 17,
   "metadata": {},
   "outputs": [
    {
     "data": {
      "text/plain": [
       "  Pregnancies        Glucose      BloodPressure    SkinThickness  \n",
       " Min.   : 0.000   Min.   :  0.0   Min.   :  0.00   Min.   : 0.00  \n",
       " 1st Qu.: 1.000   1st Qu.: 99.0   1st Qu.: 62.00   1st Qu.: 0.00  \n",
       " Median : 3.000   Median :117.0   Median : 72.00   Median :23.00  \n",
       " Mean   : 3.845   Mean   :120.9   Mean   : 69.11   Mean   :20.54  \n",
       " 3rd Qu.: 6.000   3rd Qu.:140.2   3rd Qu.: 80.00   3rd Qu.:32.00  \n",
       " Max.   :17.000   Max.   :199.0   Max.   :122.00   Max.   :99.00  \n",
       "    Insulin           BMI        DiabetesPedigreeFunction      Age       \n",
       " Min.   :  0.0   Min.   : 0.00   Min.   :0.0780           Min.   :21.00  \n",
       " 1st Qu.:  0.0   1st Qu.:27.30   1st Qu.:0.2437           1st Qu.:24.00  \n",
       " Median : 30.5   Median :32.00   Median :0.3725           Median :29.00  \n",
       " Mean   : 79.8   Mean   :31.99   Mean   :0.4719           Mean   :33.24  \n",
       " 3rd Qu.:127.2   3rd Qu.:36.60   3rd Qu.:0.6262           3rd Qu.:41.00  \n",
       " Max.   :846.0   Max.   :67.10   Max.   :2.4200           Max.   :81.00  \n",
       "    Outcome     \n",
       " Min.   :0.000  \n",
       " 1st Qu.:0.000  \n",
       " Median :0.000  \n",
       " Mean   :0.349  \n",
       " 3rd Qu.:1.000  \n",
       " Max.   :1.000  "
      ]
     },
     "metadata": {},
     "output_type": "display_data"
    }
   ],
   "source": [
    "rawdata %>% summary()"
   ]
  },
  {
   "cell_type": "code",
   "execution_count": 18,
   "metadata": {
    "scrolled": true
   },
   "outputs": [
    {
     "data": {
      "text/html": [
       "<dl class=dl-horizontal>\n",
       "\t<dt>Pregnancies</dt>\n",
       "\t\t<dd>0</dd>\n",
       "\t<dt>Glucose</dt>\n",
       "\t\t<dd>0</dd>\n",
       "\t<dt>BloodPressure</dt>\n",
       "\t\t<dd>0</dd>\n",
       "\t<dt>SkinThickness</dt>\n",
       "\t\t<dd>0</dd>\n",
       "\t<dt>Insulin</dt>\n",
       "\t\t<dd>0</dd>\n",
       "\t<dt>BMI</dt>\n",
       "\t\t<dd>0</dd>\n",
       "\t<dt>DiabetesPedigreeFunction</dt>\n",
       "\t\t<dd>0</dd>\n",
       "\t<dt>Age</dt>\n",
       "\t\t<dd>0</dd>\n",
       "\t<dt>Outcome</dt>\n",
       "\t\t<dd>0</dd>\n",
       "</dl>\n"
      ],
      "text/latex": [
       "\\begin{description*}\n",
       "\\item[Pregnancies] 0\n",
       "\\item[Glucose] 0\n",
       "\\item[BloodPressure] 0\n",
       "\\item[SkinThickness] 0\n",
       "\\item[Insulin] 0\n",
       "\\item[BMI] 0\n",
       "\\item[DiabetesPedigreeFunction] 0\n",
       "\\item[Age] 0\n",
       "\\item[Outcome] 0\n",
       "\\end{description*}\n"
      ],
      "text/markdown": [
       "Pregnancies\n",
       ":   0Glucose\n",
       ":   0BloodPressure\n",
       ":   0SkinThickness\n",
       ":   0Insulin\n",
       ":   0BMI\n",
       ":   0DiabetesPedigreeFunction\n",
       ":   0Age\n",
       ":   0Outcome\n",
       ":   0\n",
       "\n"
      ],
      "text/plain": [
       "             Pregnancies                  Glucose            BloodPressure \n",
       "                       0                        0                        0 \n",
       "           SkinThickness                  Insulin                      BMI \n",
       "                       0                        0                        0 \n",
       "DiabetesPedigreeFunction                      Age                  Outcome \n",
       "                       0                        0                        0 "
      ]
     },
     "metadata": {},
     "output_type": "display_data"
    }
   ],
   "source": [
    "# any na\n",
    "na_count <-sapply(rawdata, function(y) sum(length(which(is.na(y)))))\n",
    "na_count"
   ]
  },
  {
   "cell_type": "code",
   "execution_count": 19,
   "metadata": {},
   "outputs": [
    {
     "name": "stdout",
     "output_type": "stream",
     "text": [
      "-- Data Summary ------------------------\n",
      "                           Values\n",
      "Name                       .data \n",
      "Number of rows             768   \n",
      "Number of columns          9     \n",
      "_______________________          \n",
      "Column type frequency:           \n",
      "  numeric                  9     \n",
      "________________________         \n",
      "Group variables            None  \n",
      "\n",
      "-- Variable type: numeric ------------------------------------------------------\n",
      "# A tibble: 9 x 7\n",
      "  skim_variable            n_missing complete_rate    mean      sd     p0    p25\n",
      "* <chr>                        <int>         <dbl>   <dbl>   <dbl>  <dbl>  <dbl>\n",
      "1 Pregnancies                      0             1   3.85    3.37   0      1    \n",
      "2 Glucose                          0             1 121.     32.0    0     99    \n",
      "3 BloodPressure                    0             1  69.1    19.4    0     62    \n",
      "4 SkinThickness                    0             1  20.5    16.0    0      0    \n",
      "5 Insulin                          0             1  79.8   115.     0      0    \n",
      "6 BMI                              0             1  32.0     7.88   0     27.3  \n",
      "7 DiabetesPedigreeFunction         0             1   0.472   0.331  0.078  0.244\n",
      "8 Age                              0             1  33.2    11.8   21     24    \n",
      "9 Outcome                          0             1   0.349   0.477  0      0    \n"
     ]
    }
   ],
   "source": [
    "# The skimr package provides a nice solution to show key descriptive stats for each column.\n",
    "if (!require(skimr)) install.packages('skimr') \n",
    "suppressWarnings(suppressMessages(library(skimr)))\n",
    "                 \n",
    "skimmed <- skim_to_wide(rawdata)\n",
    "skimmed[,1:8]"
   ]
  },
  {
   "cell_type": "markdown",
   "metadata": {},
   "source": [
    "## Display Data"
   ]
  },
  {
   "cell_type": "code",
   "execution_count": 20,
   "metadata": {},
   "outputs": [
    {
     "data": {
      "image/png": "[encoded data removed]",
      "text/plain": [
       "plot without title"
      ]
     },
     "metadata": {},
     "output_type": "display_data"
    }
   ],
   "source": [
    "options(repr.plot.width=5, repr.plot.height=3)\n",
    "\n",
    "df <- rawdata %>%\n",
    "    mutate( Outcome = ifelse (Outcome == 0 ,\"non-diabetic\",\"diabetic\")) %>%\n",
    "    mutate(Outcome = as.factor(Outcome)) \n",
    "df %>%\n",
    "    ggplot() +\n",
    "    geom_bar(aes(x=Outcome, fill=Outcome))\n",
    "\n",
    "\n",
    "options(repr.plot.width=NULL, repr.plot.height=NULL)\n",
    "# https://irkernel.github.io/docs/repr/0.6/repr-options.html"
   ]
  },
  {
   "cell_type": "code",
   "execution_count": 21,
   "metadata": {},
   "outputs": [
    {
     "data": {
      "image/png": "[encoded data removed]",
      "text/plain": [
       "plot without title"
      ]
     },
     "metadata": {},
     "output_type": "display_data"
    }
   ],
   "source": [
    "options(repr.plot.width=8, repr.plot.height=7, repr.plot.pointsize=5)\n",
    "\n",
    "# remove  nominal data columns\n",
    "\n",
    "# plot corr matrix\n",
    "df %>% \n",
    "    select(-Outcome)  %>%\n",
    "     ggpairs(aes(color=df$Outcome)) "
   ]
  },
  {
   "cell_type": "code",
   "execution_count": 22,
   "metadata": {},
   "outputs": [
    {
     "data": {
      "image/png": "[encoded data removed]",
      "text/plain": [
       "plot without title"
      ]
     },
     "metadata": {},
     "output_type": "display_data"
    }
   ],
   "source": [
    "options(repr.plot.width=12, repr.plot.height=10, repr.plot.pointsize=8)\n",
    "\n",
    "df %>%\n",
    "    ggpairs(\n",
    "        aes(color=df$Outcome),\n",
    "        lower=list(combo= wrap(\"facethist\",\n",
    "                                binwidth=0.5)\n",
    "                  )\n",
    "    )"
   ]
  },
  {
   "cell_type": "markdown",
   "metadata": {},
   "source": [
    "As we can see from the plot, glucose levels, age, BMI and number of pregnancies all have significant correlation with the outcome variable. Also notice the correlation between pairs of features, like age and pregnancies, or insulin and skin thickness."
   ]
  },
  {
   "cell_type": "markdown",
   "metadata": {},
   "source": [
    "https://towardsdatascience.com/feature-scaling-effectively-choose-input-variables-based-on-distributions-3032207c921f\n",
    "\n",
    "Gaussian Distribution — BMI, BloodPressure, Glucose.\n",
    "\n",
    "Non-Gaussian Distribution — Age, DiabetesPedigreeFunction, Insulin, Pregnancies, SkinThickness"
   ]
  },
  {
   "cell_type": "markdown",
   "metadata": {},
   "source": [
    "### Splitting the Data-Set into Training Set and Test Set"
   ]
  },
  {
   "cell_type": "code",
   "execution_count": 23,
   "metadata": {
    "scrolled": true
   },
   "outputs": [
    {
     "data": {
      "text/html": [
       "<ol class=list-inline>\n",
       "\t<li>615</li>\n",
       "\t<li>9</li>\n",
       "</ol>\n"
      ],
      "text/latex": [
       "\\begin{enumerate*}\n",
       "\\item 615\n",
       "\\item 9\n",
       "\\end{enumerate*}\n"
      ],
      "text/markdown": [
       "1. 615\n",
       "2. 9\n",
       "\n",
       "\n"
      ],
      "text/plain": [
       "[1] 615   9"
      ]
     },
     "metadata": {},
     "output_type": "display_data"
    },
    {
     "data": {
      "text/html": [
       "<ol class=list-inline>\n",
       "\t<li>153</li>\n",
       "\t<li>9</li>\n",
       "</ol>\n"
      ],
      "text/latex": [
       "\\begin{enumerate*}\n",
       "\\item 153\n",
       "\\item 9\n",
       "\\end{enumerate*}\n"
      ],
      "text/markdown": [
       "1. 153\n",
       "2. 9\n",
       "\n",
       "\n"
      ],
      "text/plain": [
       "[1] 153   9"
      ]
     },
     "metadata": {},
     "output_type": "display_data"
    }
   ],
   "source": [
    "# https://rstatisticsblog.com/data-science-in-action/data-preprocessing/six-amazing-function-to-create-train-test-split-in-r/\n",
    "\n",
    "# Create the training and test datasets\n",
    "set.seed(123)\n",
    "index <- createDataPartition(rawdata$Outcome, p = 0.80, list = FALSE)\n",
    "trn <- df[index, ]   #  Create the training  dataset\n",
    "tst <- df[-index, ]  # Create the test dataset\n",
    "\n",
    "dim(trn)\n",
    "dim(tst)"
   ]
  },
  {
   "cell_type": "code",
   "execution_count": 24,
   "metadata": {},
   "outputs": [
    {
     "data": {
      "text/html": [
       "FALSE"
      ],
      "text/latex": [
       "FALSE"
      ],
      "text/markdown": [
       "FALSE"
      ],
      "text/plain": [
       "[1] FALSE"
      ]
     },
     "metadata": {},
     "output_type": "display_data"
    }
   ],
   "source": [
    "anyNA(trn)"
   ]
  },
  {
   "cell_type": "code",
   "execution_count": 25,
   "metadata": {},
   "outputs": [
    {
     "data": {
      "text/html": [
       "<dl class=dl-horizontal>\n",
       "\t<dt>Pregnancies</dt>\n",
       "\t\t<dd>'integer'</dd>\n",
       "\t<dt>Glucose</dt>\n",
       "\t\t<dd>'integer'</dd>\n",
       "\t<dt>BloodPressure</dt>\n",
       "\t\t<dd>'integer'</dd>\n",
       "\t<dt>SkinThickness</dt>\n",
       "\t\t<dd>'integer'</dd>\n",
       "\t<dt>Insulin</dt>\n",
       "\t\t<dd>'integer'</dd>\n",
       "\t<dt>BMI</dt>\n",
       "\t\t<dd>'numeric'</dd>\n",
       "\t<dt>DiabetesPedigreeFunction</dt>\n",
       "\t\t<dd>'numeric'</dd>\n",
       "\t<dt>Age</dt>\n",
       "\t\t<dd>'integer'</dd>\n",
       "\t<dt>Outcome</dt>\n",
       "\t\t<dd>'factor'</dd>\n",
       "</dl>\n"
      ],
      "text/latex": [
       "\\begin{description*}\n",
       "\\item[Pregnancies] 'integer'\n",
       "\\item[Glucose] 'integer'\n",
       "\\item[BloodPressure] 'integer'\n",
       "\\item[SkinThickness] 'integer'\n",
       "\\item[Insulin] 'integer'\n",
       "\\item[BMI] 'numeric'\n",
       "\\item[DiabetesPedigreeFunction] 'numeric'\n",
       "\\item[Age] 'integer'\n",
       "\\item[Outcome] 'factor'\n",
       "\\end{description*}\n"
      ],
      "text/markdown": [
       "Pregnancies\n",
       ":   'integer'Glucose\n",
       ":   'integer'BloodPressure\n",
       ":   'integer'SkinThickness\n",
       ":   'integer'Insulin\n",
       ":   'integer'BMI\n",
       ":   'numeric'DiabetesPedigreeFunction\n",
       ":   'numeric'Age\n",
       ":   'integer'Outcome\n",
       ":   'factor'\n",
       "\n"
      ],
      "text/plain": [
       "             Pregnancies                  Glucose            BloodPressure \n",
       "               \"integer\"                \"integer\"                \"integer\" \n",
       "           SkinThickness                  Insulin                      BMI \n",
       "               \"integer\"                \"integer\"                \"numeric\" \n",
       "DiabetesPedigreeFunction                      Age                  Outcome \n",
       "               \"numeric\"                \"integer\"                 \"factor\" "
      ]
     },
     "metadata": {},
     "output_type": "display_data"
    }
   ],
   "source": [
    "sapply(trn, class)"
   ]
  },
  {
   "cell_type": "markdown",
   "metadata": {},
   "source": [
    "### Cross validation\n",
    "\n",
    "We will be using K- fold cross validation, with number of folds (k) set at 10 and 3 repeats."
   ]
  },
  {
   "cell_type": "markdown",
   "metadata": {},
   "source": [
    "https://www.pluralsight.com/guides/validating-machine-learning-models-with-r\n",
    "\n",
    "Repeated K-fold Cross-Validation\n",
    "\n",
    "The process of splitting the data into k folds can be repeated a number of times. This is called repeated k-fold cross-validation*, in which the final model accuracy is taken as the mean of the number of repeats."
   ]
  },
  {
   "cell_type": "markdown",
   "metadata": {},
   "source": [
    "Leave-One-Out Cross-Validation (LOOCV)\n",
    "\n",
    "Leave-one-out cross-validation, or LOOCV, is the cross-validation technique in which the size of the fold is “1” with “k” being set to the number of observations in the data. This variation is useful when the training data is of limited size and the number of parameters to be tested is not high."
   ]
  },
  {
   "cell_type": "code",
   "execution_count": 26,
   "metadata": {},
   "outputs": [],
   "source": [
    "tcontrol <- caret::trainControl(method=\"repeatedcv\", number=10, repeats=3)\n",
    "#tcontrol <- trainControl(method=\"LOOCV\", number=10)"
   ]
  },
  {
   "cell_type": "markdown",
   "metadata": {},
   "source": [
    "https://towardsdatascience.com/all-about-feature-scaling-bcc0ad75cb35\n",
    "\n",
    "### Scaling\n",
    "\n",
    "Few key points to note :\n",
    "\n",
    "    Mean centering does not affect the covariance matrix\n",
    "    Scaling of variables does affect the covariance matrix\n",
    "    Standardizing affects the covariance\n",
    "\n",
    "Algorithms that do not require normalization/scaling are the ones that rely on rules. They would not be affected by any monotonic transformations of the variables. Scaling is a monotonic transformation. Examples of algorithms in this category are all the tree-based algorithms — CART, Random Forests, Gradient Boosted Decision Trees. These algorithms utilize rules (series of inequalities) and do not require normalization.\n",
    "\n",
    "In many algorithms, when we desire faster convergence, scaling is a MUST like in Neural Network.\n",
    "KNN, K-Means, PCA algorithms where feature scaling matters.\n",
    "\n",
    "Algorithms like Linear Discriminant Analysis(LDA), Naive Bayes is by design equipped to handle this and give weights to the features accordingly. Performing features scaling in these algorithms may not have much effect."
   ]
  },
  {
   "cell_type": "markdown",
   "metadata": {},
   "source": [
    "Summary\n",
    "\n",
    "We need to perform Feature Scaling when we are dealing with Gradient Descent Based algorithms (Linear and Logistic Regression, Neural Network) and Distance-based algorithms (KNN, K-means, SVM) as these are very sensitive to the range of the data points. This step is not mandatory when dealing with Tree-based algorithms."
   ]
  },
  {
   "cell_type": "markdown",
   "metadata": {},
   "source": [
    "https://machinelearningmastery.com/pre-process-your-dataset-in-r/\n",
    "\n",
    "#### Summary of Transform Methods\n",
    "Below is a quick summary of all of the transform methods supported in the method argument of the preProcess() function in caret.\n",
    "\n",
    "    “BoxCox“: apply a Box–Cox transform, values must be non-zero and positive.\n",
    "    “YeoJohnson“: apply a Yeo-Johnson transform, like a BoxCox, but values can be negative.\n",
    "    “expoTrans“: apply a power transform like BoxCox and YeoJohnson.\n",
    "    “zv“: remove attributes with a zero variance (all the same value).\n",
    "    “nzv“: remove attributes with a near zero variance (close to the same value).\n",
    "    “center“: subtract mean from values.\n",
    "    “scale“: divide values by standard deviation.\n",
    "    “range“: normalize values.\n",
    "    “pca“: transform data to the principal components.\n",
    "    “ica“: transform data to the independent components.\n",
    "    “spatialSign“: project data onto a unit circle."
   ]
  },
  {
   "cell_type": "markdown",
   "metadata": {},
   "source": [
    "###  Modeling onTrain data\n",
    "\n",
    "Using the training partition we fit a few different classification model types using 10-fold cross validation and 3 repeats."
   ]
  },
  {
   "cell_type": "code",
   "execution_count": 27,
   "metadata": {
    "scrolled": false
   },
   "outputs": [],
   "source": [
    "#### https://topepo.github.io/caret/available-models.html\n",
    "#### \n",
    "\n",
    "\n",
    "# Naive Bayes\n",
    "set.seed(123)\n",
    "modelNB <- caret::train(Outcome ~ ., data = trn, method = \"naive_bayes\", trControl = tcontrol, verbose = FALSE)\n",
    "\n",
    "# Random Forest\n",
    "set.seed(123)\n",
    "modelRFC <- caret::train(Outcome ~ ., data = trn, method = \"rf\", trControl = tcontrol, verbose = FALSE)\n",
    "\n",
    "# Boosted Logistic Regression     #######  this way works for me   #################\n",
    "set.seed(123)\n",
    "#modelLRC <- caret::train(Outcome ~ ., data = trn, method = \"LogitBoost\", family = \"binomial\", preProcess = c(\"range\"), trControl = tcontrol, verbose = FALSE)\n",
    "modelLRC <- caret::train(Outcome ~ ., data = trn, method = \"glm\", family = \"binomial\", preProcess = c(\"range\"), \n",
    "                         trControl = trainControl(method=\"repeatedcv\", number=10, repeats=3) )\n",
    "\n",
    "# SVM  with Linear Kernel\n",
    "set.seed(123)\n",
    "modelSVC <- caret::train(Outcome~., data=trn, method=\"svmLinear2\", preProcess = c(\"range\"), trControl=tcontrol, verbose = FALSE)\n",
    "\n",
    "# Neural Network (Multi-Layer Perceptron)\n",
    "set.seed(123)\n",
    "modelMLP <- caret::train(Outcome ~ ., data=trn, method = \"mlp\" , preProcess = c(\"range\"), trControl=tcontrol, verbose = FALSE)\n",
    "\n",
    "# Stocastic Gardiant Boosting \n",
    "set.seed(123)\n",
    "modelGBM <- caret::train(Outcome ~ ., data=trn,  method=\"gbm\", trControl=tcontrol, verbose = FALSE)\n",
    "\n",
    "# k-nearest neighbor classification\n",
    "set.seed(123)\n",
    "modelKNN <- caret::train(Outcome ~ ., data = trn, method = \"kknn\", preProcess = c(\"range\"), trControl = tcontrol, verbose = FALSE)  # data is normalised using Preprocess\n",
    "\n",
    "# Decision Tree (CART)  #######  this way works for me   #################\n",
    "set.seed(123)\n",
    "modelDTC <- caret::train(Outcome ~ ., data=trn,  method=\"rpart\",  \n",
    "                         trControl=trainControl(method=\"repeatedcv\", number=10, repeats=3))\n",
    "\n",
    "# Cost-Sensitive C5.0\n",
    "#set.seed(123)\n",
    "#modelDTC <- caret::train(Outcome ~.,data=trn, ,method = \"C5.0Cost\" , trControl = tcontrol, verbose = FALSE)"
   ]
  },
  {
   "cell_type": "markdown",
   "metadata": {},
   "source": [
    "After the models are trained, they are added to a list and resamples() is called on the list of models. This function checks that the models are comparable and that they used the same training scheme (trainControl configuration). This object contains the evaluation metrics for each fold and each repeat for each algorithm to be evaluated."
   ]
  },
  {
   "cell_type": "code",
   "execution_count": 28,
   "metadata": {},
   "outputs": [],
   "source": [
    "# collect resamples\n",
    "results <- resamples(list(NB=modelNB, \n",
    "                          LRC=modelLRC,\n",
    "                          SVC=modelSVC,\n",
    "                          KNN=modelKNN,\n",
    "                          RFC=modelRFC,\n",
    "                          GBM=modelGBM,\n",
    "                          DTC=modelDTC,\n",
    "                          MLP=modelMLP\n",
    "                         )\n",
    "                    )"
   ]
  },
  {
   "cell_type": "markdown",
   "metadata": {},
   "source": [
    "### Compare Models"
   ]
  },
  {
   "cell_type": "code",
   "execution_count": 29,
   "metadata": {
    "scrolled": false
   },
   "outputs": [
    {
     "data": {
      "text/plain": [
       "\n",
       "Call:\n",
       "summary.resamples(object = results)\n",
       "\n",
       "Models: NB, LRC, SVC, KNN, RFC, GBM, DTC, MLP \n",
       "Number of resamples: 30 \n",
       "\n",
       "Accuracy \n",
       "         Min.   1st Qu.    Median      Mean   3rd Qu.      Max. NA's\n",
       "NB  0.6451613 0.7061079 0.7562136 0.7532293 0.8024194 0.8709677    0\n",
       "LRC 0.6721311 0.7254098 0.7786885 0.7754137 0.8185484 0.9032258    0\n",
       "SVC 0.6451613 0.7258065 0.7642782 0.7705576 0.8177552 0.9032258    0\n",
       "KNN 0.5806452 0.6963908 0.7258065 0.7218432 0.7570730 0.8225806    0\n",
       "RFC 0.6229508 0.7178279 0.7480169 0.7462139 0.7741935 0.8548387    0\n",
       "GBM 0.6393443 0.7287811 0.7642782 0.7683533 0.8064516 0.9032258    0\n",
       "DTC 0.6229508 0.7096774 0.7317557 0.7397708 0.7732681 0.8524590    0\n",
       "MLP 0.6393443 0.7287811 0.7580645 0.7694465 0.8064516 0.8870968    0\n",
       "\n",
       "Kappa \n",
       "          Min.   1st Qu.    Median      Mean   3rd Qu.      Max. NA's\n",
       "NB  0.20881671 0.3459131 0.4316046 0.4425645 0.5583508 0.7181818    0\n",
       "LRC 0.25970874 0.3648617 0.4832497 0.4799961 0.5847840 0.7796209    0\n",
       "SVC 0.20881671 0.3611090 0.4673839 0.4699389 0.5780359 0.7796209    0\n",
       "KNN 0.08409091 0.3265308 0.3905435 0.3684890 0.4413926 0.6002345    0\n",
       "RFC 0.17422013 0.3647142 0.4263069 0.4279149 0.5031814 0.6796785    0\n",
       "GBM 0.18567961 0.3705660 0.4553474 0.4609102 0.5612351 0.7748184    0\n",
       "DTC 0.17422013 0.3272078 0.4040242 0.4125473 0.4946313 0.6694762    0\n",
       "MLP 0.16852540 0.3838911 0.4600271 0.4782956 0.5471286 0.7401198    0\n"
      ]
     },
     "metadata": {},
     "output_type": "display_data"
    }
   ],
   "source": [
    "# summarize differences between modes\n",
    "summary(results)"
   ]
  },
  {
   "cell_type": "markdown",
   "metadata": {},
   "source": [
    "Accuracy is the percentage of correctly classifies instances out of all instances.\n",
    "https://machinelearningmastery.com/machine-learning-evaluation-metrics-in-r/"
   ]
  },
  {
   "cell_type": "markdown",
   "metadata": {},
   "source": [
    "Kappa https://blogs.fu-berlin.de/reseda/accuracy-statistics-in-r/\n",
    "\n",
    "The Kappa Coefficient can be used to evaluate the accuracy of a classification. It evaluates how well the classification performs compared to map, in which all values are just randomly assigned.\n",
    "The Kappa coefficient can range from -1 to 1.\n",
    "\n",
    "    A value of 0 indicates that the classification is as good as random values.\n",
    "    A value below 0 indicates the classification is significantly worse than random.\n",
    "    A value greater than 0 indicates that the classification is significantly better than random."
   ]
  },
  {
   "cell_type": "code",
   "execution_count": 126,
   "metadata": {
    "scrolled": false
   },
   "outputs": [
    {
     "data": {
      "image/png": "[encoded data removed]",
      "text/plain": [
       "plot without title"
      ]
     },
     "metadata": {},
     "output_type": "display_data"
    }
   ],
   "source": [
    "# box and whisker plots to compare models\n",
    "scales <- list(x=list(relation=\"free\"), y=list(relation=\"free\"))\n",
    "bwplot(results, scales=scales)"
   ]
  },
  {
   "cell_type": "markdown",
   "metadata": {},
   "source": [
    "#### The best 3 models are MLP, GBM and SVC based on median of Accuracy in K-Fold Cross Validation"
   ]
  },
  {
   "cell_type": "markdown",
   "metadata": {},
   "source": [
    "## Statistical Significance Tests"
   ]
  },
  {
   "cell_type": "code",
   "execution_count": 31,
   "metadata": {
    "scrolled": true
   },
   "outputs": [
    {
     "data": {
      "text/plain": [
       "\n",
       "Call:\n",
       "summary.diff.resamples(object = diffs)\n",
       "\n",
       "p-value adjustment: bonferroni \n",
       "Upper diagonal: estimates of the difference\n",
       "Lower diagonal: p-value for H0: difference = 0\n",
       "\n",
       "Accuracy \n",
       "    NB        LRC       SVC       KNN       RFC       GBM       DTC      \n",
       "NB            -0.022184 -0.017328  0.031386  0.007015 -0.015124  0.013458\n",
       "LRC 0.4379531            0.004856  0.053570  0.029200  0.007060  0.035643\n",
       "SVC 1.0000000 1.0000000            0.048714  0.024344  0.002204  0.030787\n",
       "KNN 0.2147211 1.27e-05  0.0003570           -0.024371 -0.046510 -0.017928\n",
       "RFC 1.0000000 0.0296616 0.2836342 0.4454905           -0.022139  0.006443\n",
       "GBM 1.0000000 1.0000000 1.0000000 0.0008804 0.0843561            0.028582\n",
       "DTC 1.0000000 0.0286579 0.1718479 1.0000000 1.0000000 0.0824173          \n",
       "MLP 1.0000000 1.0000000 1.0000000 0.0004201 0.2649208 1.0000000 0.1279933\n",
       "    MLP      \n",
       "NB  -0.016217\n",
       "LRC  0.005967\n",
       "SVC  0.001111\n",
       "KNN -0.047603\n",
       "RFC -0.023233\n",
       "GBM -0.001093\n",
       "DTC -0.029676\n",
       "MLP          \n",
       "\n",
       "Kappa \n",
       "    NB        LRC       SVC       KNN       RFC       GBM       DTC      \n",
       "NB            -0.037432 -0.027374  0.074076  0.014650 -0.018346  0.030017\n",
       "LRC 1.0000000            0.010057  0.111507  0.052081  0.019086  0.067449\n",
       "SVC 1.0000000 1.0000000            0.101450  0.042024  0.009029  0.057392\n",
       "KNN 0.2011585 0.0001152 0.0020462           -0.059426 -0.092421 -0.044058\n",
       "RFC 1.0000000 0.2560350 1.0000000 0.1837842           -0.032995  0.015368\n",
       "GBM 1.0000000 1.0000000 1.0000000 0.0071832 1.0000000            0.048363\n",
       "DTC 1.0000000 0.1623316 0.6983053 1.0000000 1.0000000 0.6149889          \n",
       "MLP 1.0000000 1.0000000 1.0000000 9.893e-05 0.3407769 1.0000000 0.1783208\n",
       "    MLP      \n",
       "NB  -0.035731\n",
       "LRC  0.001700\n",
       "SVC -0.008357\n",
       "KNN -0.109807\n",
       "RFC -0.050381\n",
       "GBM -0.017385\n",
       "DTC -0.065748\n",
       "MLP          \n"
      ]
     },
     "metadata": {},
     "output_type": "display_data"
    }
   ],
   "source": [
    "# difference in model predictions\n",
    "diffs <- diff(results)\n",
    "# summarize p-values for pair-wise comparisons\n",
    "summary(diffs)"
   ]
  },
  {
   "cell_type": "markdown",
   "metadata": {},
   "source": [
    "The lower diagonal of the table shows p-values for the null hypothesis (distributions are the same), smaller is better. We can see no difference between NB with SVC, RFC, GBM, DTC, MLP, we can also see little difference between the distributions for LRC with NB and KNN."
   ]
  },
  {
   "cell_type": "markdown",
   "metadata": {},
   "source": [
    "## Hyperparameter tuning on best 4 models:\n",
    "https://www.machinelearningplus.com/machine-learning/caret-package/"
   ]
  },
  {
   "cell_type": "markdown",
   "metadata": {},
   "source": [
    "### Hyperparameter tuning on Support Vector Machines"
   ]
  },
  {
   "cell_type": "code",
   "execution_count": 32,
   "metadata": {
    "scrolled": false
   },
   "outputs": [
    {
     "data": {
      "text/html": [
       "<table>\n",
       "<thead><tr><th scope=col>model</th><th scope=col>parameter</th><th scope=col>label</th><th scope=col>forReg</th><th scope=col>forClass</th><th scope=col>probModel</th></tr></thead>\n",
       "<tbody>\n",
       "\t<tr><td>svmLinear2</td><td>cost      </td><td>Cost      </td><td>TRUE      </td><td>TRUE      </td><td>TRUE      </td></tr>\n",
       "</tbody>\n",
       "</table>\n"
      ],
      "text/latex": [
       "\\begin{tabular}{r|llllll}\n",
       " model & parameter & label & forReg & forClass & probModel\\\\\n",
       "\\hline\n",
       "\t svmLinear2 & cost       & Cost       & TRUE       & TRUE       & TRUE      \\\\\n",
       "\\end{tabular}\n"
      ],
      "text/markdown": [
       "\n",
       "| model | parameter | label | forReg | forClass | probModel |\n",
       "|---|---|---|---|---|---|\n",
       "| svmLinear2 | cost       | Cost       | TRUE       | TRUE       | TRUE       |\n",
       "\n"
      ],
      "text/plain": [
       "  model      parameter label forReg forClass probModel\n",
       "1 svmLinear2 cost      Cost  TRUE   TRUE     TRUE     "
      ]
     },
     "metadata": {},
     "output_type": "display_data"
    }
   ],
   "source": [
    "#  getting information related to the tuning parameters for a model. \n",
    "modelLookup(\"svmLinear2\")"
   ]
  },
  {
   "cell_type": "code",
   "execution_count": 33,
   "metadata": {
    "scrolled": true
   },
   "outputs": [
    {
     "data": {
      "text/plain": [
       "Support Vector Machines with Linear Kernel \n",
       "\n",
       "615 samples\n",
       "  8 predictor\n",
       "  2 classes: 'diabetic', 'non-diabetic' \n",
       "\n",
       "Pre-processing: re-scaling to [0, 1] (8) \n",
       "Resampling: Cross-Validated (10 fold, repeated 3 times) \n",
       "Summary of sample sizes: 553, 553, 554, 554, 553, 555, ... \n",
       "Resampling results across tuning parameters:\n",
       "\n",
       "  cost  Accuracy   Kappa    \n",
       "  0.25  0.7694647  0.4674955\n",
       "  0.50  0.7694735  0.4675694\n",
       "  1.00  0.7705576  0.4699389\n",
       "\n",
       "Accuracy was used to select the optimal model using the largest value.\n",
       "The final value used for the model was cost = 1."
      ]
     },
     "metadata": {},
     "output_type": "display_data"
    }
   ],
   "source": [
    "# model before hypertuning\n",
    "modelSVC"
   ]
  },
  {
   "cell_type": "code",
   "execution_count": 34,
   "metadata": {
    "scrolled": true
   },
   "outputs": [
    {
     "data": {
      "image/png": "[encoded data removed]",
      "text/plain": [
       "plot without title"
      ]
     },
     "metadata": {},
     "output_type": "display_data"
    }
   ],
   "source": [
    "# compute variable importance\n",
    "varimp_mars <- varImp(modelSVC)\n",
    "plot(varimp_mars, main=\"Variable Importance with SVC\")"
   ]
  },
  {
   "cell_type": "code",
   "execution_count": 61,
   "metadata": {},
   "outputs": [
    {
     "data": {
      "text/plain": [
       "Confusion Matrix and Statistics\n",
       "\n",
       "              Reference\n",
       "Prediction     diabetic non-diabetic\n",
       "  diabetic           29           13\n",
       "  non-diabetic       23           88\n",
       "                                          \n",
       "               Accuracy : 0.7647          \n",
       "                 95% CI : (0.6894, 0.8294)\n",
       "    No Information Rate : 0.6601          \n",
       "    P-Value [Acc > NIR] : 0.003318        \n",
       "                                          \n",
       "                  Kappa : 0.45            \n",
       "                                          \n",
       " Mcnemar's Test P-Value : 0.133614        \n",
       "                                          \n",
       "            Sensitivity : 0.5577          \n",
       "            Specificity : 0.8713          \n",
       "         Pos Pred Value : 0.6905          \n",
       "         Neg Pred Value : 0.7928          \n",
       "             Prevalence : 0.3399          \n",
       "         Detection Rate : 0.1895          \n",
       "   Detection Prevalence : 0.2745          \n",
       "      Balanced Accuracy : 0.7145          \n",
       "                                          \n",
       "       'Positive' Class : diabetic        \n",
       "                                          "
      ]
     },
     "metadata": {},
     "output_type": "display_data"
    }
   ],
   "source": [
    "# Predict on testData before hypertuning\n",
    "predicted <- predict(modelSVC, tst)\n",
    "# Compute the confusion matrix\n",
    "caret::confusionMatrix(predicted,factor(tst$Outcome) )"
   ]
  },
  {
   "cell_type": "code",
   "execution_count": 35,
   "metadata": {
    "scrolled": true
   },
   "outputs": [
    {
     "data": {
      "text/html": [
       "20"
      ],
      "text/latex": [
       "20"
      ],
      "text/markdown": [
       "20"
      ],
      "text/plain": [
       "[1] 20"
      ]
     },
     "metadata": {},
     "output_type": "display_data"
    }
   ],
   "source": [
    "# Fit the model on the training set\n",
    "set.seed(123)\n",
    "metric <- \"Accuracy\"\n",
    "\n",
    "#SVM - Tune hyper parameters by setting tuneGrid\n",
    "hyper_grid_svm <- expand.grid(cost = seq(0, 2, length = 20) ) # 10 ^ ((-2):1))\n",
    "set.seed(1953)\n",
    "\n",
    "# total number of combinations\n",
    "nrow(hyper_grid_svm)"
   ]
  },
  {
   "cell_type": "code",
   "execution_count": 36,
   "metadata": {},
   "outputs": [
    {
     "data": {
      "image/png": "[encoded data removed]",
      "text/plain": [
       "plot without title"
      ]
     },
     "metadata": {},
     "output_type": "display_data"
    }
   ],
   "source": [
    "fit_svm <- caret::train(\n",
    "  form = Outcome ~ .,\n",
    "  data = trn,\n",
    "  trControl = tcontrol,\n",
    "  tuneGrid = hyper_grid_svm,\n",
    "  method = \"svmLinear2\",\n",
    "  preProcess = c(\"range\"),\n",
    "  metric = metric\n",
    ")\n",
    "\n",
    "\n",
    "# Plot model accuracy vs different values of Cost\n",
    "plot(fit_svm)"
   ]
  },
  {
   "cell_type": "code",
   "execution_count": 37,
   "metadata": {
    "scrolled": true
   },
   "outputs": [
    {
     "data": {
      "text/plain": [
       "\n",
       "Call:\n",
       "svm.default(x = as.matrix(x), y = y, kernel = \"linear\", cost = param$cost, \n",
       "    probability = classProbs)\n",
       "\n",
       "\n",
       "Parameters:\n",
       "   SVM-Type:  C-classification \n",
       " SVM-Kernel:  linear \n",
       "       cost:  0.1052632 \n",
       "\n",
       "Number of Support Vectors:  335\n"
      ]
     },
     "metadata": {},
     "output_type": "display_data"
    }
   ],
   "source": [
    "fit_svm$finalModel"
   ]
  },
  {
   "cell_type": "code",
   "execution_count": 68,
   "metadata": {
    "scrolled": true
   },
   "outputs": [
    {
     "data": {
      "text/plain": [
       "Confusion Matrix and Statistics\n",
       "\n",
       "              Reference\n",
       "Prediction     diabetic non-diabetic\n",
       "  diabetic           29           12\n",
       "  non-diabetic       23           89\n",
       "                                          \n",
       "               Accuracy : 0.7712          \n",
       "                 95% CI : (0.6965, 0.8352)\n",
       "    No Information Rate : 0.6601          \n",
       "    P-Value [Acc > NIR] : 0.001883        \n",
       "                                          \n",
       "                  Kappa : 0.4626          \n",
       "                                          \n",
       " Mcnemar's Test P-Value : 0.090969        \n",
       "                                          \n",
       "            Sensitivity : 0.5577          \n",
       "            Specificity : 0.8812          \n",
       "         Pos Pred Value : 0.7073          \n",
       "         Neg Pred Value : 0.7946          \n",
       "             Prevalence : 0.3399          \n",
       "         Detection Rate : 0.1895          \n",
       "   Detection Prevalence : 0.2680          \n",
       "      Balanced Accuracy : 0.7194          \n",
       "                                          \n",
       "       'Positive' Class : diabetic        \n",
       "                                          "
      ]
     },
     "metadata": {},
     "output_type": "display_data"
    }
   ],
   "source": [
    "# Predict on testData and Compute the confusion matrix after tuning\n",
    "predicted2 <- predict(fit_svm, tst)\n",
    "# Compute the confusion matrix\n",
    "caret::confusionMatrix(predicted2,factor(tst$Outcome) )"
   ]
  },
  {
   "cell_type": "markdown",
   "metadata": {},
   "source": [
    "### Hyperparameter tuning on Nerual Network"
   ]
  },
  {
   "cell_type": "code",
   "execution_count": 38,
   "metadata": {
    "scrolled": true
   },
   "outputs": [
    {
     "data": {
      "text/html": [
       "<table>\n",
       "<thead><tr><th scope=col>model</th><th scope=col>parameter</th><th scope=col>label</th><th scope=col>forReg</th><th scope=col>forClass</th><th scope=col>probModel</th></tr></thead>\n",
       "<tbody>\n",
       "\t<tr><td>mlp          </td><td>size         </td><td>#Hidden Units</td><td>TRUE         </td><td>TRUE         </td><td>TRUE         </td></tr>\n",
       "</tbody>\n",
       "</table>\n"
      ],
      "text/latex": [
       "\\begin{tabular}{r|llllll}\n",
       " model & parameter & label & forReg & forClass & probModel\\\\\n",
       "\\hline\n",
       "\t mlp             & size            & \\#Hidden Units & TRUE            & TRUE            & TRUE           \\\\\n",
       "\\end{tabular}\n"
      ],
      "text/markdown": [
       "\n",
       "| model | parameter | label | forReg | forClass | probModel |\n",
       "|---|---|---|---|---|---|\n",
       "| mlp           | size          | #Hidden Units | TRUE          | TRUE          | TRUE          |\n",
       "\n"
      ],
      "text/plain": [
       "  model parameter label         forReg forClass probModel\n",
       "1 mlp   size      #Hidden Units TRUE   TRUE     TRUE     "
      ]
     },
     "metadata": {},
     "output_type": "display_data"
    }
   ],
   "source": [
    "#  getting information related to the tuning parameters for a model. \n",
    "modelLookup(\"mlp\")"
   ]
  },
  {
   "cell_type": "code",
   "execution_count": 39,
   "metadata": {
    "scrolled": true
   },
   "outputs": [
    {
     "data": {
      "text/plain": [
       "Multi-Layer Perceptron \n",
       "\n",
       "615 samples\n",
       "  8 predictor\n",
       "  2 classes: 'diabetic', 'non-diabetic' \n",
       "\n",
       "Pre-processing: re-scaling to [0, 1] (8) \n",
       "Resampling: Cross-Validated (10 fold, repeated 3 times) \n",
       "Summary of sample sizes: 553, 553, 554, 554, 553, 555, ... \n",
       "Resampling results across tuning parameters:\n",
       "\n",
       "  size  Accuracy   Kappa    \n",
       "  1     0.7580945  0.4505995\n",
       "  3     0.7624487  0.4632608\n",
       "  5     0.7694465  0.4782956\n",
       "\n",
       "Accuracy was used to select the optimal model using the largest value.\n",
       "The final value used for the model was size = 5."
      ]
     },
     "metadata": {},
     "output_type": "display_data"
    }
   ],
   "source": [
    "# model before hypertuning\n",
    "modelMLP"
   ]
  },
  {
   "cell_type": "code",
   "execution_count": 46,
   "metadata": {},
   "outputs": [
    {
     "data": {
      "image/png": "[encoded data removed]",
      "text/plain": [
       "plot without title"
      ]
     },
     "metadata": {},
     "output_type": "display_data"
    }
   ],
   "source": [
    "# compute variable importance\n",
    "varimp_mars <- varImp(modelMLP)\n",
    "plot(varimp_mars, main=\"Variable Importance with MLPC\")"
   ]
  },
  {
   "cell_type": "code",
   "execution_count": 82,
   "metadata": {},
   "outputs": [
    {
     "data": {
      "text/plain": [
       "Confusion Matrix and Statistics\n",
       "\n",
       "              Reference\n",
       "Prediction     diabetic non-diabetic\n",
       "  diabetic           26            7\n",
       "  non-diabetic       26           94\n",
       "                                          \n",
       "               Accuracy : 0.7843          \n",
       "                 95% CI : (0.7106, 0.8466)\n",
       "    No Information Rate : 0.6601          \n",
       "    P-Value [Acc > NIR] : 0.0005461       \n",
       "                                          \n",
       "                  Kappa : 0.4726          \n",
       "                                          \n",
       " Mcnemar's Test P-Value : 0.0017280       \n",
       "                                          \n",
       "            Sensitivity : 0.5000          \n",
       "            Specificity : 0.9307          \n",
       "         Pos Pred Value : 0.7879          \n",
       "         Neg Pred Value : 0.7833          \n",
       "             Prevalence : 0.3399          \n",
       "         Detection Rate : 0.1699          \n",
       "   Detection Prevalence : 0.2157          \n",
       "      Balanced Accuracy : 0.7153          \n",
       "                                          \n",
       "       'Positive' Class : diabetic        \n",
       "                                          "
      ]
     },
     "metadata": {},
     "output_type": "display_data"
    }
   ],
   "source": [
    "# Predict on testData before hypertuning\n",
    "predicted <- predict(modelMLP, tst)\n",
    "# Compute the confusion matrix\n",
    "caret::confusionMatrix(predicted,factor(tst$Outcome) )"
   ]
  },
  {
   "cell_type": "code",
   "execution_count": 40,
   "metadata": {
    "scrolled": false
   },
   "outputs": [
    {
     "data": {
      "image/png": "[encoded data removed]",
      "text/plain": [
       "plot without title"
      ]
     },
     "metadata": {},
     "output_type": "display_data"
    }
   ],
   "source": [
    "hyper_grid_mlp <- expand.grid(size = seq(1, 20, length = 20) )\n",
    "set.seed(123)\n",
    "fit_mlp <- caret::train(\n",
    "  form = Outcome ~ .,\n",
    "  data = trn,\n",
    "  trControl = tcontrol,\n",
    "  tuneGrid = hyper_grid_mlp,\n",
    "  method = \"mlp\",\n",
    "  preProcess = c(\"range\"),\n",
    "  metric = metric\n",
    ")\n",
    "# Plot model accuracy vs different values \n",
    "plot(fit_mlp)"
   ]
  },
  {
   "cell_type": "code",
   "execution_count": 41,
   "metadata": {
    "scrolled": true
   },
   "outputs": [
    {
     "data": {
      "text/plain": [
       "Class: mlp->rsnns\n",
       "Number of inputs: 8 \n",
       "Number of outputs: 2 \n",
       "Maximal iterations: 100 \n",
       "Initialization function: Randomize_Weights \n",
       "Initialization function parameters: -0.3 0.3 \n",
       "Learning function: Std_Backpropagation \n",
       "Learning function parameters: 0.2 0 \n",
       "Update function:Topological_Order\n",
       "Update function parameters: 0 \n",
       "Patterns are shuffled internally: TRUE \n",
       "Compute error in every iteration: TRUE \n",
       "Architecture Parameters:\n",
       "$size\n",
       "[1] 16\n",
       "\n",
       "All members of model:\n",
       " [1] \"nInputs\"               \"maxit\"                 \"initFunc\"             \n",
       " [4] \"initFuncParams\"        \"learnFunc\"             \"learnFuncParams\"      \n",
       " [7] \"updateFunc\"            \"updateFuncParams\"      \"shufflePatterns\"      \n",
       "[10] \"computeIterativeError\" \"snnsObject\"            \"archParams\"           \n",
       "[13] \"IterativeFitError\"     \"fitted.values\"         \"nOutputs\"             \n",
       "[16] \"xNames\"                \"problemType\"           \"tuneValue\"            \n",
       "[19] \"obsLevels\"             \"param\"                "
      ]
     },
     "metadata": {},
     "output_type": "display_data"
    }
   ],
   "source": [
    "fit_mlp$finalModel"
   ]
  },
  {
   "cell_type": "code",
   "execution_count": 95,
   "metadata": {},
   "outputs": [
    {
     "data": {
      "text/plain": [
       "Confusion Matrix and Statistics\n",
       "\n",
       "              Reference\n",
       "Prediction     diabetic non-diabetic\n",
       "  diabetic           35           15\n",
       "  non-diabetic       17           86\n",
       "                                          \n",
       "               Accuracy : 0.7908          \n",
       "                 95% CI : (0.7178, 0.8523)\n",
       "    No Information Rate : 0.6601          \n",
       "    P-Value [Acc > NIR] : 0.0002786       \n",
       "                                          \n",
       "                  Kappa : 0.5295          \n",
       "                                          \n",
       " Mcnemar's Test P-Value : 0.8596838       \n",
       "                                          \n",
       "            Sensitivity : 0.6731          \n",
       "            Specificity : 0.8515          \n",
       "         Pos Pred Value : 0.7000          \n",
       "         Neg Pred Value : 0.8350          \n",
       "             Prevalence : 0.3399          \n",
       "         Detection Rate : 0.2288          \n",
       "   Detection Prevalence : 0.3268          \n",
       "      Balanced Accuracy : 0.7623          \n",
       "                                          \n",
       "       'Positive' Class : diabetic        \n",
       "                                          "
      ]
     },
     "metadata": {},
     "output_type": "display_data"
    }
   ],
   "source": [
    "# Predict on testData and Compute the confusion matrix after tuning\n",
    "predicted2 <- predict(fit_mlp, tst)\n",
    "# Compute the confusion matrix\n",
    "caret::confusionMatrix(predicted2,factor(tst$Outcome) )"
   ]
  },
  {
   "cell_type": "markdown",
   "metadata": {},
   "source": [
    "### Hyperparameter tuning on Logistic Regression"
   ]
  },
  {
   "cell_type": "code",
   "execution_count": 96,
   "metadata": {},
   "outputs": [
    {
     "data": {
      "text/html": [
       "<table>\n",
       "<thead><tr><th scope=col>model</th><th scope=col>parameter</th><th scope=col>label</th><th scope=col>forReg</th><th scope=col>forClass</th><th scope=col>probModel</th></tr></thead>\n",
       "<tbody>\n",
       "\t<tr><td>glm      </td><td>parameter</td><td>parameter</td><td>TRUE     </td><td>TRUE     </td><td>TRUE     </td></tr>\n",
       "</tbody>\n",
       "</table>\n"
      ],
      "text/latex": [
       "\\begin{tabular}{r|llllll}\n",
       " model & parameter & label & forReg & forClass & probModel\\\\\n",
       "\\hline\n",
       "\t glm       & parameter & parameter & TRUE      & TRUE      & TRUE     \\\\\n",
       "\\end{tabular}\n"
      ],
      "text/markdown": [
       "\n",
       "| model | parameter | label | forReg | forClass | probModel |\n",
       "|---|---|---|---|---|---|\n",
       "| glm       | parameter | parameter | TRUE      | TRUE      | TRUE      |\n",
       "\n"
      ],
      "text/plain": [
       "  model parameter label     forReg forClass probModel\n",
       "1 glm   parameter parameter TRUE   TRUE     TRUE     "
      ]
     },
     "metadata": {},
     "output_type": "display_data"
    }
   ],
   "source": [
    "#  getting information related to the tuning parameters for a model. \n",
    "modelLookup(\"glm\")"
   ]
  },
  {
   "cell_type": "code",
   "execution_count": 97,
   "metadata": {
    "scrolled": false
   },
   "outputs": [
    {
     "data": {
      "text/plain": [
       "Generalized Linear Model \n",
       "\n",
       "615 samples\n",
       "  8 predictor\n",
       "  2 classes: 'diabetic', 'non-diabetic' \n",
       "\n",
       "Pre-processing: re-scaling to [0, 1] (8) \n",
       "Resampling: Cross-Validated (10 fold, repeated 3 times) \n",
       "Summary of sample sizes: 553, 553, 554, 554, 553, 555, ... \n",
       "Resampling results:\n",
       "\n",
       "  Accuracy   Kappa    \n",
       "  0.7754137  0.4799961\n"
      ]
     },
     "metadata": {},
     "output_type": "display_data"
    }
   ],
   "source": [
    "# model before hypertuning\n",
    "modelLRC"
   ]
  },
  {
   "cell_type": "code",
   "execution_count": 98,
   "metadata": {},
   "outputs": [
    {
     "data": {
      "image/png": "[encoded data removed]",
      "text/plain": [
       "plot without title"
      ]
     },
     "metadata": {},
     "output_type": "display_data"
    }
   ],
   "source": [
    "# compute variable importance\n",
    "varimp_mars <- varImp(modelLRC)\n",
    "plot(varimp_mars, main=\"Variable Importance with LRC\")"
   ]
  },
  {
   "cell_type": "markdown",
   "metadata": {},
   "source": [
    "#### No parameter need to tune"
   ]
  },
  {
   "cell_type": "code",
   "execution_count": 99,
   "metadata": {
    "scrolled": true
   },
   "outputs": [
    {
     "data": {
      "text/plain": [
       "Confusion Matrix and Statistics\n",
       "\n",
       "              Reference\n",
       "Prediction     diabetic non-diabetic\n",
       "  diabetic           30           10\n",
       "  non-diabetic       22           91\n",
       "                                          \n",
       "               Accuracy : 0.7908          \n",
       "                 95% CI : (0.7178, 0.8523)\n",
       "    No Information Rate : 0.6601          \n",
       "    P-Value [Acc > NIR] : 0.0002786       \n",
       "                                          \n",
       "                  Kappa : 0.5063          \n",
       "                                          \n",
       " Mcnemar's Test P-Value : 0.0518299       \n",
       "                                          \n",
       "            Sensitivity : 0.5769          \n",
       "            Specificity : 0.9010          \n",
       "         Pos Pred Value : 0.7500          \n",
       "         Neg Pred Value : 0.8053          \n",
       "             Prevalence : 0.3399          \n",
       "         Detection Rate : 0.1961          \n",
       "   Detection Prevalence : 0.2614          \n",
       "      Balanced Accuracy : 0.7390          \n",
       "                                          \n",
       "       'Positive' Class : diabetic        \n",
       "                                          "
      ]
     },
     "metadata": {},
     "output_type": "display_data"
    }
   ],
   "source": [
    "# Predict on testData before hypertuning\n",
    "predicted <- predict(modelLRC, tst)\n",
    "# Compute the confusion matrix\n",
    "caret::confusionMatrix(predicted,factor(tst$Outcome) )"
   ]
  },
  {
   "cell_type": "markdown",
   "metadata": {},
   "source": [
    "### Hyperparameter tuning on Gardiant Boosting"
   ]
  },
  {
   "cell_type": "code",
   "execution_count": 100,
   "metadata": {
    "scrolled": true
   },
   "outputs": [
    {
     "data": {
      "text/html": [
       "<table>\n",
       "<thead><tr><th scope=col>model</th><th scope=col>parameter</th><th scope=col>label</th><th scope=col>forReg</th><th scope=col>forClass</th><th scope=col>probModel</th></tr></thead>\n",
       "<tbody>\n",
       "\t<tr><td>gbm                    </td><td>n.trees                </td><td># Boosting Iterations  </td><td>TRUE                   </td><td>TRUE                   </td><td>TRUE                   </td></tr>\n",
       "\t<tr><td>gbm                    </td><td>interaction.depth      </td><td>Max Tree Depth         </td><td>TRUE                   </td><td>TRUE                   </td><td>TRUE                   </td></tr>\n",
       "\t<tr><td>gbm                    </td><td>shrinkage              </td><td>Shrinkage              </td><td>TRUE                   </td><td>TRUE                   </td><td>TRUE                   </td></tr>\n",
       "\t<tr><td>gbm                    </td><td>n.minobsinnode         </td><td>Min. Terminal Node Size</td><td>TRUE                   </td><td>TRUE                   </td><td>TRUE                   </td></tr>\n",
       "</tbody>\n",
       "</table>\n"
      ],
      "text/latex": [
       "\\begin{tabular}{r|llllll}\n",
       " model & parameter & label & forReg & forClass & probModel\\\\\n",
       "\\hline\n",
       "\t gbm                       & n.trees                   & \\# Boosting Iterations   & TRUE                      & TRUE                      & TRUE                     \\\\\n",
       "\t gbm                     & interaction.depth       & Max Tree Depth          & TRUE                    & TRUE                    & TRUE                   \\\\\n",
       "\t gbm                     & shrinkage               & Shrinkage               & TRUE                    & TRUE                    & TRUE                   \\\\\n",
       "\t gbm                     & n.minobsinnode          & Min. Terminal Node Size & TRUE                    & TRUE                    & TRUE                   \\\\\n",
       "\\end{tabular}\n"
      ],
      "text/markdown": [
       "\n",
       "| model | parameter | label | forReg | forClass | probModel |\n",
       "|---|---|---|---|---|---|\n",
       "| gbm                     | n.trees                 | # Boosting Iterations   | TRUE                    | TRUE                    | TRUE                    |\n",
       "| gbm                     | interaction.depth       | Max Tree Depth          | TRUE                    | TRUE                    | TRUE                    |\n",
       "| gbm                     | shrinkage               | Shrinkage               | TRUE                    | TRUE                    | TRUE                    |\n",
       "| gbm                     | n.minobsinnode          | Min. Terminal Node Size | TRUE                    | TRUE                    | TRUE                    |\n",
       "\n"
      ],
      "text/plain": [
       "  model parameter         label                   forReg forClass probModel\n",
       "1 gbm   n.trees           # Boosting Iterations   TRUE   TRUE     TRUE     \n",
       "2 gbm   interaction.depth Max Tree Depth          TRUE   TRUE     TRUE     \n",
       "3 gbm   shrinkage         Shrinkage               TRUE   TRUE     TRUE     \n",
       "4 gbm   n.minobsinnode    Min. Terminal Node Size TRUE   TRUE     TRUE     "
      ]
     },
     "metadata": {},
     "output_type": "display_data"
    }
   ],
   "source": [
    "#  getting information related to the tuning parameters for a model. \n",
    "modelLookup(\"gbm\")"
   ]
  },
  {
   "cell_type": "code",
   "execution_count": 101,
   "metadata": {
    "scrolled": true
   },
   "outputs": [
    {
     "data": {
      "text/plain": [
       "Stochastic Gradient Boosting \n",
       "\n",
       "615 samples\n",
       "  8 predictor\n",
       "  2 classes: 'diabetic', 'non-diabetic' \n",
       "\n",
       "No pre-processing\n",
       "Resampling: Cross-Validated (10 fold, repeated 3 times) \n",
       "Summary of sample sizes: 553, 553, 554, 554, 553, 555, ... \n",
       "Resampling results across tuning parameters:\n",
       "\n",
       "  interaction.depth  n.trees  Accuracy   Kappa    \n",
       "  1                   50      0.7683533  0.4609102\n",
       "  1                  100      0.7564901  0.4413765\n",
       "  1                  150      0.7434723  0.4141353\n",
       "  2                   50      0.7596986  0.4472035\n",
       "  2                  100      0.7597335  0.4562553\n",
       "  2                  150      0.7450940  0.4222485\n",
       "  3                   50      0.7575210  0.4501108\n",
       "  3                  100      0.7380160  0.4072832\n",
       "  3                  150      0.7342267  0.4032589\n",
       "\n",
       "Tuning parameter 'shrinkage' was held constant at a value of 0.1\n",
       "\n",
       "Tuning parameter 'n.minobsinnode' was held constant at a value of 10\n",
       "Accuracy was used to select the optimal model using the largest value.\n",
       "The final values used for the model were n.trees = 50, interaction.depth =\n",
       " 1, shrinkage = 0.1 and n.minobsinnode = 10."
      ]
     },
     "metadata": {},
     "output_type": "display_data"
    }
   ],
   "source": [
    "# model before hypertuning\n",
    "modelGBM"
   ]
  },
  {
   "cell_type": "code",
   "execution_count": 102,
   "metadata": {},
   "outputs": [
    {
     "data": {
      "image/png": "[encoded data removed]",
      "text/plain": [
       "plot without title"
      ]
     },
     "metadata": {},
     "output_type": "display_data"
    }
   ],
   "source": [
    "# compute variable importance\n",
    "varimp_mars <- varImp(modelGBM)\n",
    "plot(varimp_mars, main=\"Variable Importance with GBM\")"
   ]
  },
  {
   "cell_type": "markdown",
   "metadata": {},
   "source": [
    "https://bradleyboehmke.github.io/HOML/gbm.html\n",
    "https://s3.amazonaws.com/assets.datacamp.com/production/course_6650/slides/chapter2.pdf"
   ]
  },
  {
   "cell_type": "code",
   "execution_count": 113,
   "metadata": {},
   "outputs": [],
   "source": [
    "hyper_grid_gbm <-  expand.grid(n.trees =  seq(from = 10, to = 300, by = 50),                        \n",
    "                         interaction.depth = seq(from = 1, to = 10, length.out = 6),                          \n",
    "                         shrinkage = 0.1,                         \n",
    "                         n.minobsinnode = 10)"
   ]
  },
  {
   "cell_type": "code",
   "execution_count": 114,
   "metadata": {},
   "outputs": [],
   "source": [
    "set.seed(123)\n",
    "fit_gbm <- caret::train(\n",
    "  form = Outcome ~ .,\n",
    "  data = trn,\n",
    "  trControl = tcontrol,\n",
    "  tuneGrid = hyper_grid_gbm,\n",
    "  method = \"gbm\",\n",
    "  metric = metric\n",
    "    , verbose = FALSE\n",
    ")\n"
   ]
  },
  {
   "cell_type": "code",
   "execution_count": 115,
   "metadata": {
    "scrolled": true
   },
   "outputs": [
    {
     "data": {
      "text/plain": [
       "A gradient boosted model with bernoulli loss function.\n",
       "60 iterations were performed.\n",
       "There were 8 predictors of which 7 had non-zero influence."
      ]
     },
     "metadata": {},
     "output_type": "display_data"
    }
   ],
   "source": [
    "fit_gbm$finalModel"
   ]
  },
  {
   "cell_type": "code",
   "execution_count": 116,
   "metadata": {
    "scrolled": true
   },
   "outputs": [
    {
     "data": {
      "text/plain": [
       "Stochastic Gradient Boosting \n",
       "\n",
       "615 samples\n",
       "  8 predictor\n",
       "  2 classes: 'diabetic', 'non-diabetic' \n",
       "\n",
       "No pre-processing\n",
       "Resampling: Cross-Validated (10 fold, repeated 3 times) \n",
       "Summary of sample sizes: 553, 553, 554, 554, 553, 555, ... \n",
       "Resampling results across tuning parameters:\n",
       "\n",
       "  interaction.depth  n.trees  Accuracy   Kappa    \n",
       "   1.0                10      0.7472354  0.3804913\n",
       "   1.0                60      0.7666872  0.4615336\n",
       "   1.0               110      0.7591427  0.4495020\n",
       "   1.0               160      0.7510344  0.4331467\n",
       "   1.0               210      0.7472440  0.4251323\n",
       "   1.0               260      0.7450320  0.4206800\n",
       "   2.8                10      0.7581653  0.4162483\n",
       "   2.8                60      0.7586492  0.4472209\n",
       "   2.8               110      0.7505056  0.4322465\n",
       "   2.8               160      0.7412859  0.4154174\n",
       "   2.8               210      0.7348437  0.4010815\n",
       "   2.8               260      0.7375140  0.4067126\n",
       "   4.6                10      0.7585869  0.4258729\n",
       "   4.6                60      0.7526644  0.4407201\n",
       "   4.6               110      0.7386251  0.4133861\n",
       "   4.6               160      0.7299700  0.3993139\n",
       "   4.6               210      0.7266373  0.3912357\n",
       "   4.6               260      0.7228659  0.3826297\n",
       "   6.4                10      0.7608179  0.4354465\n",
       "   6.4                60      0.7429523  0.4210339\n",
       "   6.4               110      0.7336885  0.4059791\n",
       "   6.4               160      0.7245050  0.3844181\n",
       "   6.4               210      0.7147479  0.3655346\n",
       "   6.4               260      0.7169693  0.3724616\n",
       "   8.2                10      0.7467063  0.4080246\n",
       "   8.2                60      0.7331691  0.4047876\n",
       "   8.2               110      0.7256067  0.3881955\n",
       "   8.2               160      0.7163876  0.3689339\n",
       "   8.2               210      0.7174452  0.3724581\n",
       "   8.2               260      0.7120069  0.3605128\n",
       "  10.0                10      0.7548860  0.4250155\n",
       "  10.0                60      0.7331861  0.4003661\n",
       "  10.0               110      0.7212789  0.3790861\n",
       "  10.0               160      0.7131879  0.3603181\n",
       "  10.0               210      0.7077231  0.3517190\n",
       "  10.0               260      0.7023115  0.3390522\n",
       "\n",
       "Tuning parameter 'shrinkage' was held constant at a value of 0.1\n",
       "\n",
       "Tuning parameter 'n.minobsinnode' was held constant at a value of 10\n",
       "Accuracy was used to select the optimal model using the largest value.\n",
       "The final values used for the model were n.trees = 60, interaction.depth =\n",
       " 1, shrinkage = 0.1 and n.minobsinnode = 10."
      ]
     },
     "metadata": {},
     "output_type": "display_data"
    }
   ],
   "source": [
    "fit_gbm"
   ]
  },
  {
   "cell_type": "code",
   "execution_count": 117,
   "metadata": {},
   "outputs": [
    {
     "data": {
      "image/png": "[encoded data removed]",
      "text/plain": [
       "plot without title"
      ]
     },
     "metadata": {},
     "output_type": "display_data"
    }
   ],
   "source": [
    "ggplot(fit_gbm)"
   ]
  },
  {
   "cell_type": "code",
   "execution_count": 118,
   "metadata": {
    "scrolled": true
   },
   "outputs": [
    {
     "data": {
      "text/plain": [
       "Confusion Matrix and Statistics\n",
       "\n",
       "              Reference\n",
       "Prediction     diabetic non-diabetic\n",
       "  diabetic           28           15\n",
       "  non-diabetic       24           86\n",
       "                                         \n",
       "               Accuracy : 0.7451         \n",
       "                 95% CI : (0.6684, 0.812)\n",
       "    No Information Rate : 0.6601         \n",
       "    P-Value [Acc > NIR] : 0.0149         \n",
       "                                         \n",
       "                  Kappa : 0.407          \n",
       "                                         \n",
       " Mcnemar's Test P-Value : 0.2002         \n",
       "                                         \n",
       "            Sensitivity : 0.5385         \n",
       "            Specificity : 0.8515         \n",
       "         Pos Pred Value : 0.6512         \n",
       "         Neg Pred Value : 0.7818         \n",
       "             Prevalence : 0.3399         \n",
       "         Detection Rate : 0.1830         \n",
       "   Detection Prevalence : 0.2810         \n",
       "      Balanced Accuracy : 0.6950         \n",
       "                                         \n",
       "       'Positive' Class : diabetic       \n",
       "                                         "
      ]
     },
     "metadata": {},
     "output_type": "display_data"
    }
   ],
   "source": [
    "# Predict on testData and Compute the confusion matrix after tuning\n",
    "predicted2 <- predict(fit_gbm, tst)\n",
    "# Compute the confusion matrix\n",
    "caret::confusionMatrix(predicted2,factor(tst$Outcome) )"
   ]
  },
  {
   "cell_type": "markdown",
   "metadata": {},
   "source": [
    "### Adaptive Resampling on GBM"
   ]
  },
  {
   "cell_type": "markdown",
   "metadata": {},
   "source": [
    "    min: minimum number of resamples per hyperparameter\n",
    "    alpha: confidence level for removing hyperparameters\n",
    "    method: \"gls\" for linear model or \"BT\" for Bradley-Terry\n",
    "    complete: if TRUE generates full resampling set"
   ]
  },
  {
   "cell_type": "code",
   "execution_count": 121,
   "metadata": {},
   "outputs": [],
   "source": [
    "fitControl <- trainControl(method = \"adaptive_cv\",\n",
    "                            number=10, repeats=3,\n",
    "                           adaptive = list(min = 2, alpha = 0.05,\n",
    "                                           method = \"gls\", complete = TRUE),\n",
    "                           search = \"random\")"
   ]
  },
  {
   "cell_type": "code",
   "execution_count": 124,
   "metadata": {},
   "outputs": [
    {
     "data": {
      "text/plain": [
       "Stochastic Gradient Boosting \n",
       "\n",
       "615 samples\n",
       "  8 predictor\n",
       "  2 classes: 'diabetic', 'non-diabetic' \n",
       "\n",
       "No pre-processing\n",
       "Resampling: Adaptively Cross-Validated (10 fold, repeated 3 times) \n",
       "Summary of sample sizes: 553, 553, 554, 553, 554, 553, ... \n",
       "Resampling results across tuning parameters:\n",
       "\n",
       "  shrinkage   interaction.depth  n.minobsinnode  n.trees  Accuracy   Kappa    \n",
       "  0.01221942  4                  19              4657     0.7237392  0.3850978\n",
       "  0.07338338  1                  24              2314     0.7436227  0.4263135\n",
       "  0.08529129  6                  21              4522     0.7249545  0.3967564\n",
       "  0.08587252  2                   7              1468     0.7140666  0.3561896\n",
       "  0.21299230  8                   6               866     0.6854839  0.3013602\n",
       "  0.25267299  5                  16              1010     0.7215759  0.3877784\n",
       "  0.31727987  8                   5              2910     0.7126520  0.3337196\n",
       "  0.40650297  4                  23              4101     0.7044553  0.3326714\n",
       "  0.43680273  1                   8              4286     0.6918738  0.3159657\n",
       "  0.59391263  6                   6               103     0.6693548  0.2886467\n",
       "  Resamples\n",
       "  11       \n",
       "  30       \n",
       "   9       \n",
       "   5       \n",
       "   2       \n",
       "   7       \n",
       "   4       \n",
       "   4       \n",
       "   3       \n",
       "   2       \n",
       "\n",
       "Accuracy was used to select the optimal model using the largest value.\n",
       "The final values used for the model were n.trees = 2314, interaction.depth =\n",
       " 1, shrinkage = 0.07338338 and n.minobsinnode = 24."
      ]
     },
     "metadata": {},
     "output_type": "display_data"
    }
   ],
   "source": [
    "set.seed(1232)\n",
    "gbm_model_adaptive <- caret::train(Outcome~., data=trn, \n",
    "                                   method = \"gbm\",\n",
    "                                   trControl = fitControl,\n",
    "                                   verbose = FALSE,\n",
    "                                   tuneLength = 10)\n",
    "\n",
    "gbm_model_adaptive"
   ]
  },
  {
   "cell_type": "markdown",
   "metadata": {},
   "source": [
    "Reference:\n",
    "http://zevross.com/blog/2017/09/19/predictive-modeling-and-machine-learning-in-r-with-the-caret-package/\n",
    "https://towardsdatascience.com/feature-scaling-effectively-choose-input-variables-based-on-distributions-3032207c921f"
   ]
  }
 ],
 "metadata": {
  "kernelspec": {
   "display_name": "R",
   "language": "R",
   "name": "ir"
  },
  "language_info": {
   "codemirror_mode": "r",
   "file_extension": ".r",
   "mimetype": "text/x-r-source",
   "name": "R",
   "pygments_lexer": "r",
   "version": "3.6.1"
  }
 },
 "nbformat": 4,
 "nbformat_minor": 4
}
