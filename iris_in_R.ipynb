{
 "cells": [
  {
   "cell_type": "markdown",
   "metadata": {},
   "source": [
    "# Descriptive statistics and PCA Analysis for iris data in R"
   ]
  },
  {
   "cell_type": "markdown",
   "metadata": {},
   "source": [
    "![iris dataset](https://image.ibb.co/gbH3ue/iris.png)"
   ]
  },
  {
   "cell_type": "code",
   "execution_count": 1,
   "metadata": {},
   "outputs": [
    {
     "data": {
      "text/html": [
       "<table>\n",
       "<thead><tr><th scope=col>Sepal.Length</th><th scope=col>Sepal.Width</th><th scope=col>Petal.Length</th><th scope=col>Petal.Width</th><th scope=col>Species</th></tr></thead>\n",
       "<tbody>\n",
       "\t<tr><td>5.1   </td><td>3.5   </td><td>1.4   </td><td>0.2   </td><td>setosa</td></tr>\n",
       "\t<tr><td>4.9   </td><td>3.0   </td><td>1.4   </td><td>0.2   </td><td>setosa</td></tr>\n",
       "\t<tr><td>4.7   </td><td>3.2   </td><td>1.3   </td><td>0.2   </td><td>setosa</td></tr>\n",
       "\t<tr><td>4.6   </td><td>3.1   </td><td>1.5   </td><td>0.2   </td><td>setosa</td></tr>\n",
       "\t<tr><td>5.0   </td><td>3.6   </td><td>1.4   </td><td>0.2   </td><td>setosa</td></tr>\n",
       "\t<tr><td>5.4   </td><td>3.9   </td><td>1.7   </td><td>0.4   </td><td>setosa</td></tr>\n",
       "</tbody>\n",
       "</table>\n"
      ],
      "text/latex": [
       "\\begin{tabular}{r|lllll}\n",
       " Sepal.Length & Sepal.Width & Petal.Length & Petal.Width & Species\\\\\n",
       "\\hline\n",
       "\t 5.1    & 3.5    & 1.4    & 0.2    & setosa\\\\\n",
       "\t 4.9    & 3.0    & 1.4    & 0.2    & setosa\\\\\n",
       "\t 4.7    & 3.2    & 1.3    & 0.2    & setosa\\\\\n",
       "\t 4.6    & 3.1    & 1.5    & 0.2    & setosa\\\\\n",
       "\t 5.0    & 3.6    & 1.4    & 0.2    & setosa\\\\\n",
       "\t 5.4    & 3.9    & 1.7    & 0.4    & setosa\\\\\n",
       "\\end{tabular}\n"
      ],
      "text/markdown": [
       "\n",
       "| Sepal.Length | Sepal.Width | Petal.Length | Petal.Width | Species |\n",
       "|---|---|---|---|---|\n",
       "| 5.1    | 3.5    | 1.4    | 0.2    | setosa |\n",
       "| 4.9    | 3.0    | 1.4    | 0.2    | setosa |\n",
       "| 4.7    | 3.2    | 1.3    | 0.2    | setosa |\n",
       "| 4.6    | 3.1    | 1.5    | 0.2    | setosa |\n",
       "| 5.0    | 3.6    | 1.4    | 0.2    | setosa |\n",
       "| 5.4    | 3.9    | 1.7    | 0.4    | setosa |\n",
       "\n"
      ],
      "text/plain": [
       "  Sepal.Length Sepal.Width Petal.Length Petal.Width Species\n",
       "1 5.1          3.5         1.4          0.2         setosa \n",
       "2 4.9          3.0         1.4          0.2         setosa \n",
       "3 4.7          3.2         1.3          0.2         setosa \n",
       "4 4.6          3.1         1.5          0.2         setosa \n",
       "5 5.0          3.6         1.4          0.2         setosa \n",
       "6 5.4          3.9         1.7          0.4         setosa "
      ]
     },
     "metadata": {},
     "output_type": "display_data"
    }
   ],
   "source": [
    "#Load the iris dataset\n",
    "library(datasets)\n",
    "data(iris)\n",
    "head(iris) # first 6 rows"
   ]
  },
  {
   "cell_type": "code",
   "execution_count": 2,
   "metadata": {},
   "outputs": [
    {
     "name": "stdout",
     "output_type": "stream",
     "text": [
      "'data.frame':\t150 obs. of  5 variables:\n",
      " $ Sepal.Length: num  5.1 4.9 4.7 4.6 5 5.4 4.6 5 4.4 4.9 ...\n",
      " $ Sepal.Width : num  3.5 3 3.2 3.1 3.6 3.9 3.4 3.4 2.9 3.1 ...\n",
      " $ Petal.Length: num  1.4 1.4 1.3 1.5 1.4 1.7 1.4 1.5 1.4 1.5 ...\n",
      " $ Petal.Width : num  0.2 0.2 0.2 0.2 0.2 0.4 0.3 0.2 0.2 0.1 ...\n",
      " $ Species     : Factor w/ 3 levels \"setosa\",\"versicolor\",..: 1 1 1 1 1 1 1 1 1 1 ...\n"
     ]
    }
   ],
   "source": [
    "# the structure of the data set\n",
    "str(iris)"
   ]
  },
  {
   "cell_type": "code",
   "execution_count": 3,
   "metadata": {},
   "outputs": [
    {
     "data": {
      "text/html": [
       "<dl class=dl-horizontal>\n",
       "\t<dt>Sepal.Length</dt>\n",
       "\t\t<dd>0</dd>\n",
       "\t<dt>Sepal.Width</dt>\n",
       "\t\t<dd>0</dd>\n",
       "\t<dt>Petal.Length</dt>\n",
       "\t\t<dd>0</dd>\n",
       "\t<dt>Petal.Width</dt>\n",
       "\t\t<dd>0</dd>\n",
       "\t<dt>Species</dt>\n",
       "\t\t<dd>0</dd>\n",
       "</dl>\n"
      ],
      "text/latex": [
       "\\begin{description*}\n",
       "\\item[Sepal.Length] 0\n",
       "\\item[Sepal.Width] 0\n",
       "\\item[Petal.Length] 0\n",
       "\\item[Petal.Width] 0\n",
       "\\item[Species] 0\n",
       "\\end{description*}\n"
      ],
      "text/markdown": [
       "Sepal.Length\n",
       ":   0Sepal.Width\n",
       ":   0Petal.Length\n",
       ":   0Petal.Width\n",
       ":   0Species\n",
       ":   0\n",
       "\n"
      ],
      "text/plain": [
       "Sepal.Length  Sepal.Width Petal.Length  Petal.Width      Species \n",
       "           0            0            0            0            0 "
      ]
     },
     "metadata": {},
     "output_type": "display_data"
    }
   ],
   "source": [
    "colSums(is.na(iris)) #compute the total missing values in each column"
   ]
  },
  {
   "cell_type": "code",
   "execution_count": 4,
   "metadata": {},
   "outputs": [
    {
     "data": {
      "text/html": [
       "<ol class=list-inline>\n",
       "\t<li>FALSE</li>\n",
       "\t<li>FALSE</li>\n",
       "\t<li>FALSE</li>\n",
       "\t<li>FALSE</li>\n",
       "\t<li>FALSE</li>\n",
       "\t<li>FALSE</li>\n",
       "\t<li>FALSE</li>\n",
       "\t<li>FALSE</li>\n",
       "\t<li>FALSE</li>\n",
       "\t<li>FALSE</li>\n",
       "\t<li>FALSE</li>\n",
       "\t<li>FALSE</li>\n",
       "\t<li>FALSE</li>\n",
       "\t<li>FALSE</li>\n",
       "\t<li>FALSE</li>\n",
       "\t<li>FALSE</li>\n",
       "\t<li>FALSE</li>\n",
       "\t<li>FALSE</li>\n",
       "\t<li>FALSE</li>\n",
       "\t<li>FALSE</li>\n",
       "\t<li>FALSE</li>\n",
       "\t<li>FALSE</li>\n",
       "\t<li>FALSE</li>\n",
       "\t<li>FALSE</li>\n",
       "\t<li>FALSE</li>\n",
       "\t<li>FALSE</li>\n",
       "\t<li>FALSE</li>\n",
       "\t<li>FALSE</li>\n",
       "\t<li>FALSE</li>\n",
       "\t<li>FALSE</li>\n",
       "\t<li>FALSE</li>\n",
       "\t<li>FALSE</li>\n",
       "\t<li>FALSE</li>\n",
       "\t<li>FALSE</li>\n",
       "\t<li>FALSE</li>\n",
       "\t<li>FALSE</li>\n",
       "\t<li>FALSE</li>\n",
       "\t<li>FALSE</li>\n",
       "\t<li>FALSE</li>\n",
       "\t<li>FALSE</li>\n",
       "\t<li>FALSE</li>\n",
       "\t<li>FALSE</li>\n",
       "\t<li>FALSE</li>\n",
       "\t<li>FALSE</li>\n",
       "\t<li>FALSE</li>\n",
       "\t<li>FALSE</li>\n",
       "\t<li>FALSE</li>\n",
       "\t<li>FALSE</li>\n",
       "\t<li>FALSE</li>\n",
       "\t<li>FALSE</li>\n",
       "\t<li>FALSE</li>\n",
       "\t<li>FALSE</li>\n",
       "\t<li>FALSE</li>\n",
       "\t<li>FALSE</li>\n",
       "\t<li>FALSE</li>\n",
       "\t<li>FALSE</li>\n",
       "\t<li>FALSE</li>\n",
       "\t<li>FALSE</li>\n",
       "\t<li>FALSE</li>\n",
       "\t<li>FALSE</li>\n",
       "\t<li>FALSE</li>\n",
       "\t<li>FALSE</li>\n",
       "\t<li>FALSE</li>\n",
       "\t<li>FALSE</li>\n",
       "\t<li>FALSE</li>\n",
       "\t<li>FALSE</li>\n",
       "\t<li>FALSE</li>\n",
       "\t<li>FALSE</li>\n",
       "\t<li>FALSE</li>\n",
       "\t<li>FALSE</li>\n",
       "\t<li>FALSE</li>\n",
       "\t<li>FALSE</li>\n",
       "\t<li>FALSE</li>\n",
       "\t<li>FALSE</li>\n",
       "\t<li>FALSE</li>\n",
       "\t<li>FALSE</li>\n",
       "\t<li>FALSE</li>\n",
       "\t<li>FALSE</li>\n",
       "\t<li>FALSE</li>\n",
       "\t<li>FALSE</li>\n",
       "\t<li>FALSE</li>\n",
       "\t<li>FALSE</li>\n",
       "\t<li>FALSE</li>\n",
       "\t<li>FALSE</li>\n",
       "\t<li>FALSE</li>\n",
       "\t<li>FALSE</li>\n",
       "\t<li>FALSE</li>\n",
       "\t<li>FALSE</li>\n",
       "\t<li>FALSE</li>\n",
       "\t<li>FALSE</li>\n",
       "\t<li>FALSE</li>\n",
       "\t<li>FALSE</li>\n",
       "\t<li>FALSE</li>\n",
       "\t<li>FALSE</li>\n",
       "\t<li>FALSE</li>\n",
       "\t<li>FALSE</li>\n",
       "\t<li>FALSE</li>\n",
       "\t<li>FALSE</li>\n",
       "\t<li>FALSE</li>\n",
       "\t<li>FALSE</li>\n",
       "\t<li>FALSE</li>\n",
       "\t<li>FALSE</li>\n",
       "\t<li>FALSE</li>\n",
       "\t<li>FALSE</li>\n",
       "\t<li>FALSE</li>\n",
       "\t<li>FALSE</li>\n",
       "\t<li>FALSE</li>\n",
       "\t<li>FALSE</li>\n",
       "\t<li>FALSE</li>\n",
       "\t<li>FALSE</li>\n",
       "\t<li>FALSE</li>\n",
       "\t<li>FALSE</li>\n",
       "\t<li>FALSE</li>\n",
       "\t<li>FALSE</li>\n",
       "\t<li>FALSE</li>\n",
       "\t<li>FALSE</li>\n",
       "\t<li>FALSE</li>\n",
       "\t<li>FALSE</li>\n",
       "\t<li>FALSE</li>\n",
       "\t<li>FALSE</li>\n",
       "\t<li>FALSE</li>\n",
       "\t<li>FALSE</li>\n",
       "\t<li>FALSE</li>\n",
       "\t<li>FALSE</li>\n",
       "\t<li>FALSE</li>\n",
       "\t<li>FALSE</li>\n",
       "\t<li>FALSE</li>\n",
       "\t<li>FALSE</li>\n",
       "\t<li>FALSE</li>\n",
       "\t<li>FALSE</li>\n",
       "\t<li>FALSE</li>\n",
       "\t<li>FALSE</li>\n",
       "\t<li>FALSE</li>\n",
       "\t<li>FALSE</li>\n",
       "\t<li>FALSE</li>\n",
       "\t<li>FALSE</li>\n",
       "\t<li>FALSE</li>\n",
       "\t<li>FALSE</li>\n",
       "\t<li>FALSE</li>\n",
       "\t<li>FALSE</li>\n",
       "\t<li>FALSE</li>\n",
       "\t<li>FALSE</li>\n",
       "\t<li>TRUE</li>\n",
       "\t<li>FALSE</li>\n",
       "\t<li>FALSE</li>\n",
       "\t<li>FALSE</li>\n",
       "\t<li>FALSE</li>\n",
       "\t<li>FALSE</li>\n",
       "\t<li>FALSE</li>\n",
       "\t<li>FALSE</li>\n",
       "</ol>\n"
      ],
      "text/latex": [
       "\\begin{enumerate*}\n",
       "\\item FALSE\n",
       "\\item FALSE\n",
       "\\item FALSE\n",
       "\\item FALSE\n",
       "\\item FALSE\n",
       "\\item FALSE\n",
       "\\item FALSE\n",
       "\\item FALSE\n",
       "\\item FALSE\n",
       "\\item FALSE\n",
       "\\item FALSE\n",
       "\\item FALSE\n",
       "\\item FALSE\n",
       "\\item FALSE\n",
       "\\item FALSE\n",
       "\\item FALSE\n",
       "\\item FALSE\n",
       "\\item FALSE\n",
       "\\item FALSE\n",
       "\\item FALSE\n",
       "\\item FALSE\n",
       "\\item FALSE\n",
       "\\item FALSE\n",
       "\\item FALSE\n",
       "\\item FALSE\n",
       "\\item FALSE\n",
       "\\item FALSE\n",
       "\\item FALSE\n",
       "\\item FALSE\n",
       "\\item FALSE\n",
       "\\item FALSE\n",
       "\\item FALSE\n",
       "\\item FALSE\n",
       "\\item FALSE\n",
       "\\item FALSE\n",
       "\\item FALSE\n",
       "\\item FALSE\n",
       "\\item FALSE\n",
       "\\item FALSE\n",
       "\\item FALSE\n",
       "\\item FALSE\n",
       "\\item FALSE\n",
       "\\item FALSE\n",
       "\\item FALSE\n",
       "\\item FALSE\n",
       "\\item FALSE\n",
       "\\item FALSE\n",
       "\\item FALSE\n",
       "\\item FALSE\n",
       "\\item FALSE\n",
       "\\item FALSE\n",
       "\\item FALSE\n",
       "\\item FALSE\n",
       "\\item FALSE\n",
       "\\item FALSE\n",
       "\\item FALSE\n",
       "\\item FALSE\n",
       "\\item FALSE\n",
       "\\item FALSE\n",
       "\\item FALSE\n",
       "\\item FALSE\n",
       "\\item FALSE\n",
       "\\item FALSE\n",
       "\\item FALSE\n",
       "\\item FALSE\n",
       "\\item FALSE\n",
       "\\item FALSE\n",
       "\\item FALSE\n",
       "\\item FALSE\n",
       "\\item FALSE\n",
       "\\item FALSE\n",
       "\\item FALSE\n",
       "\\item FALSE\n",
       "\\item FALSE\n",
       "\\item FALSE\n",
       "\\item FALSE\n",
       "\\item FALSE\n",
       "\\item FALSE\n",
       "\\item FALSE\n",
       "\\item FALSE\n",
       "\\item FALSE\n",
       "\\item FALSE\n",
       "\\item FALSE\n",
       "\\item FALSE\n",
       "\\item FALSE\n",
       "\\item FALSE\n",
       "\\item FALSE\n",
       "\\item FALSE\n",
       "\\item FALSE\n",
       "\\item FALSE\n",
       "\\item FALSE\n",
       "\\item FALSE\n",
       "\\item FALSE\n",
       "\\item FALSE\n",
       "\\item FALSE\n",
       "\\item FALSE\n",
       "\\item FALSE\n",
       "\\item FALSE\n",
       "\\item FALSE\n",
       "\\item FALSE\n",
       "\\item FALSE\n",
       "\\item FALSE\n",
       "\\item FALSE\n",
       "\\item FALSE\n",
       "\\item FALSE\n",
       "\\item FALSE\n",
       "\\item FALSE\n",
       "\\item FALSE\n",
       "\\item FALSE\n",
       "\\item FALSE\n",
       "\\item FALSE\n",
       "\\item FALSE\n",
       "\\item FALSE\n",
       "\\item FALSE\n",
       "\\item FALSE\n",
       "\\item FALSE\n",
       "\\item FALSE\n",
       "\\item FALSE\n",
       "\\item FALSE\n",
       "\\item FALSE\n",
       "\\item FALSE\n",
       "\\item FALSE\n",
       "\\item FALSE\n",
       "\\item FALSE\n",
       "\\item FALSE\n",
       "\\item FALSE\n",
       "\\item FALSE\n",
       "\\item FALSE\n",
       "\\item FALSE\n",
       "\\item FALSE\n",
       "\\item FALSE\n",
       "\\item FALSE\n",
       "\\item FALSE\n",
       "\\item FALSE\n",
       "\\item FALSE\n",
       "\\item FALSE\n",
       "\\item FALSE\n",
       "\\item FALSE\n",
       "\\item FALSE\n",
       "\\item FALSE\n",
       "\\item FALSE\n",
       "\\item FALSE\n",
       "\\item TRUE\n",
       "\\item FALSE\n",
       "\\item FALSE\n",
       "\\item FALSE\n",
       "\\item FALSE\n",
       "\\item FALSE\n",
       "\\item FALSE\n",
       "\\item FALSE\n",
       "\\end{enumerate*}\n"
      ],
      "text/markdown": [
       "1. FALSE\n",
       "2. FALSE\n",
       "3. FALSE\n",
       "4. FALSE\n",
       "5. FALSE\n",
       "6. FALSE\n",
       "7. FALSE\n",
       "8. FALSE\n",
       "9. FALSE\n",
       "10. FALSE\n",
       "11. FALSE\n",
       "12. FALSE\n",
       "13. FALSE\n",
       "14. FALSE\n",
       "15. FALSE\n",
       "16. FALSE\n",
       "17. FALSE\n",
       "18. FALSE\n",
       "19. FALSE\n",
       "20. FALSE\n",
       "21. FALSE\n",
       "22. FALSE\n",
       "23. FALSE\n",
       "24. FALSE\n",
       "25. FALSE\n",
       "26. FALSE\n",
       "27. FALSE\n",
       "28. FALSE\n",
       "29. FALSE\n",
       "30. FALSE\n",
       "31. FALSE\n",
       "32. FALSE\n",
       "33. FALSE\n",
       "34. FALSE\n",
       "35. FALSE\n",
       "36. FALSE\n",
       "37. FALSE\n",
       "38. FALSE\n",
       "39. FALSE\n",
       "40. FALSE\n",
       "41. FALSE\n",
       "42. FALSE\n",
       "43. FALSE\n",
       "44. FALSE\n",
       "45. FALSE\n",
       "46. FALSE\n",
       "47. FALSE\n",
       "48. FALSE\n",
       "49. FALSE\n",
       "50. FALSE\n",
       "51. FALSE\n",
       "52. FALSE\n",
       "53. FALSE\n",
       "54. FALSE\n",
       "55. FALSE\n",
       "56. FALSE\n",
       "57. FALSE\n",
       "58. FALSE\n",
       "59. FALSE\n",
       "60. FALSE\n",
       "61. FALSE\n",
       "62. FALSE\n",
       "63. FALSE\n",
       "64. FALSE\n",
       "65. FALSE\n",
       "66. FALSE\n",
       "67. FALSE\n",
       "68. FALSE\n",
       "69. FALSE\n",
       "70. FALSE\n",
       "71. FALSE\n",
       "72. FALSE\n",
       "73. FALSE\n",
       "74. FALSE\n",
       "75. FALSE\n",
       "76. FALSE\n",
       "77. FALSE\n",
       "78. FALSE\n",
       "79. FALSE\n",
       "80. FALSE\n",
       "81. FALSE\n",
       "82. FALSE\n",
       "83. FALSE\n",
       "84. FALSE\n",
       "85. FALSE\n",
       "86. FALSE\n",
       "87. FALSE\n",
       "88. FALSE\n",
       "89. FALSE\n",
       "90. FALSE\n",
       "91. FALSE\n",
       "92. FALSE\n",
       "93. FALSE\n",
       "94. FALSE\n",
       "95. FALSE\n",
       "96. FALSE\n",
       "97. FALSE\n",
       "98. FALSE\n",
       "99. FALSE\n",
       "100. FALSE\n",
       "101. FALSE\n",
       "102. FALSE\n",
       "103. FALSE\n",
       "104. FALSE\n",
       "105. FALSE\n",
       "106. FALSE\n",
       "107. FALSE\n",
       "108. FALSE\n",
       "109. FALSE\n",
       "110. FALSE\n",
       "111. FALSE\n",
       "112. FALSE\n",
       "113. FALSE\n",
       "114. FALSE\n",
       "115. FALSE\n",
       "116. FALSE\n",
       "117. FALSE\n",
       "118. FALSE\n",
       "119. FALSE\n",
       "120. FALSE\n",
       "121. FALSE\n",
       "122. FALSE\n",
       "123. FALSE\n",
       "124. FALSE\n",
       "125. FALSE\n",
       "126. FALSE\n",
       "127. FALSE\n",
       "128. FALSE\n",
       "129. FALSE\n",
       "130. FALSE\n",
       "131. FALSE\n",
       "132. FALSE\n",
       "133. FALSE\n",
       "134. FALSE\n",
       "135. FALSE\n",
       "136. FALSE\n",
       "137. FALSE\n",
       "138. FALSE\n",
       "139. FALSE\n",
       "140. FALSE\n",
       "141. FALSE\n",
       "142. FALSE\n",
       "143. TRUE\n",
       "144. FALSE\n",
       "145. FALSE\n",
       "146. FALSE\n",
       "147. FALSE\n",
       "148. FALSE\n",
       "149. FALSE\n",
       "150. FALSE\n",
       "\n",
       "\n"
      ],
      "text/plain": [
       "  [1] FALSE FALSE FALSE FALSE FALSE FALSE FALSE FALSE FALSE FALSE FALSE FALSE\n",
       " [13] FALSE FALSE FALSE FALSE FALSE FALSE FALSE FALSE FALSE FALSE FALSE FALSE\n",
       " [25] FALSE FALSE FALSE FALSE FALSE FALSE FALSE FALSE FALSE FALSE FALSE FALSE\n",
       " [37] FALSE FALSE FALSE FALSE FALSE FALSE FALSE FALSE FALSE FALSE FALSE FALSE\n",
       " [49] FALSE FALSE FALSE FALSE FALSE FALSE FALSE FALSE FALSE FALSE FALSE FALSE\n",
       " [61] FALSE FALSE FALSE FALSE FALSE FALSE FALSE FALSE FALSE FALSE FALSE FALSE\n",
       " [73] FALSE FALSE FALSE FALSE FALSE FALSE FALSE FALSE FALSE FALSE FALSE FALSE\n",
       " [85] FALSE FALSE FALSE FALSE FALSE FALSE FALSE FALSE FALSE FALSE FALSE FALSE\n",
       " [97] FALSE FALSE FALSE FALSE FALSE FALSE FALSE FALSE FALSE FALSE FALSE FALSE\n",
       "[109] FALSE FALSE FALSE FALSE FALSE FALSE FALSE FALSE FALSE FALSE FALSE FALSE\n",
       "[121] FALSE FALSE FALSE FALSE FALSE FALSE FALSE FALSE FALSE FALSE FALSE FALSE\n",
       "[133] FALSE FALSE FALSE FALSE FALSE FALSE FALSE FALSE FALSE FALSE  TRUE FALSE\n",
       "[145] FALSE FALSE FALSE FALSE FALSE FALSE"
      ]
     },
     "metadata": {},
     "output_type": "display_data"
    },
    {
     "data": {
      "text/html": [
       "143"
      ],
      "text/latex": [
       "143"
      ],
      "text/markdown": [
       "143"
      ],
      "text/plain": [
       "[1] 143"
      ]
     },
     "metadata": {},
     "output_type": "display_data"
    }
   ],
   "source": [
    "#install.packages(\"tidyverse\")\n",
    "#library(tidyverse)\n",
    "duplicated(iris)\n",
    "which(duplicated(iris))"
   ]
  },
  {
   "cell_type": "code",
   "execution_count": 5,
   "metadata": {},
   "outputs": [
    {
     "name": "stdout",
     "output_type": "stream",
     "text": [
      "'data.frame':\t149 obs. of  5 variables:\n",
      " $ Sepal.Length: num  5.1 4.9 4.7 4.6 5 5.4 4.6 5 4.4 4.9 ...\n",
      " $ Sepal.Width : num  3.5 3 3.2 3.1 3.6 3.9 3.4 3.4 2.9 3.1 ...\n",
      " $ Petal.Length: num  1.4 1.4 1.3 1.5 1.4 1.7 1.4 1.5 1.4 1.5 ...\n",
      " $ Petal.Width : num  0.2 0.2 0.2 0.2 0.2 0.4 0.3 0.2 0.2 0.1 ...\n",
      " $ Species     : Factor w/ 3 levels \"setosa\",\"versicolor\",..: 1 1 1 1 1 1 1 1 1 1 ...\n"
     ]
    }
   ],
   "source": [
    "# removed row 143\n",
    "iris <-  iris[!duplicated(iris), ]\n",
    "str(iris)"
   ]
  },
  {
   "cell_type": "code",
   "execution_count": 6,
   "metadata": {},
   "outputs": [
    {
     "data": {
      "text/plain": [
       "  Sepal.Length    Sepal.Width    Petal.Length    Petal.Width          Species  \n",
       " Min.   :4.300   Min.   :2.00   Min.   :1.000   Min.   :0.100   setosa    :50  \n",
       " 1st Qu.:5.100   1st Qu.:2.80   1st Qu.:1.600   1st Qu.:0.300   versicolor:50  \n",
       " Median :5.800   Median :3.00   Median :4.300   Median :1.300   virginica :49  \n",
       " Mean   :5.844   Mean   :3.06   Mean   :3.749   Mean   :1.195                  \n",
       " 3rd Qu.:6.400   3rd Qu.:3.30   3rd Qu.:5.100   3rd Qu.:1.800                  \n",
       " Max.   :7.900   Max.   :4.40   Max.   :6.900   Max.   :2.500                  "
      ]
     },
     "metadata": {},
     "output_type": "display_data"
    }
   ],
   "source": [
    "summary(iris)  #Summary of a single variable"
   ]
  },
  {
   "cell_type": "code",
   "execution_count": 7,
   "metadata": {},
   "outputs": [
    {
     "name": "stderr",
     "output_type": "stream",
     "text": [
      "Warning message:\n",
      "\"package 'psych' was built under R version 3.5.3\""
     ]
    }
   ],
   "source": [
    "#install.packages(\"psych\")\n",
    "library(psych) # using another summary function; https://www.personality-project.org/r/html/describe.html"
   ]
  },
  {
   "cell_type": "code",
   "execution_count": 8,
   "metadata": {},
   "outputs": [
    {
     "data": {
      "text/html": [
       "<table>\n",
       "<thead><tr><th></th><th scope=col>vars</th><th scope=col>n</th><th scope=col>mean</th><th scope=col>sd</th><th scope=col>median</th><th scope=col>trimmed</th><th scope=col>mad</th><th scope=col>min</th><th scope=col>max</th><th scope=col>range</th><th scope=col>skew</th><th scope=col>kurtosis</th><th scope=col>se</th></tr></thead>\n",
       "<tbody>\n",
       "\t<tr><th scope=row>Sepal.Length</th><td>1          </td><td>149        </td><td>5.843624   </td><td>0.8308513  </td><td>5.8        </td><td>5.809091   </td><td>1.03782    </td><td>4.3        </td><td>7.9        </td><td>3.6        </td><td> 0.30655585</td><td>-0.622330  </td><td>0.06806599 </td></tr>\n",
       "\t<tr><th scope=row>Sepal.Width</th><td>2          </td><td>149        </td><td>3.059732   </td><td>0.4363422  </td><td>3.0        </td><td>3.047107   </td><td>0.44478    </td><td>2.0        </td><td>4.4        </td><td>2.4        </td><td> 0.30099210</td><td> 0.136191  </td><td>0.03574655 </td></tr>\n",
       "\t<tr><th scope=row>Petal.Length</th><td>3          </td><td>149        </td><td>3.748993   </td><td>1.7677906  </td><td>4.3        </td><td>3.746281   </td><td>1.92738    </td><td>1.0        </td><td>6.9        </td><td>5.9        </td><td>-0.25782745</td><td>-1.422839  </td><td>0.14482304 </td></tr>\n",
       "\t<tr><th scope=row>Petal.Width</th><td>4          </td><td>149        </td><td>1.194631   </td><td>0.7626222  </td><td>1.3        </td><td>1.178512   </td><td>1.03782    </td><td>0.1        </td><td>2.5        </td><td>2.4        </td><td>-0.08827065</td><td>-1.357677  </td><td>0.06247644 </td></tr>\n",
       "\t<tr><th scope=row>Species*</th><td>5          </td><td>149        </td><td>1.993289   </td><td>0.8178469  </td><td>2.0        </td><td>1.991736   </td><td>1.48260    </td><td>1.0        </td><td>3.0        </td><td>2.0        </td><td> 0.01218523</td><td>-1.514884  </td><td>0.06700063 </td></tr>\n",
       "</tbody>\n",
       "</table>\n"
      ],
      "text/latex": [
       "\\begin{tabular}{r|lllllllllllll}\n",
       "  & vars & n & mean & sd & median & trimmed & mad & min & max & range & skew & kurtosis & se\\\\\n",
       "\\hline\n",
       "\tSepal.Length & 1           & 149         & 5.843624    & 0.8308513   & 5.8         & 5.809091    & 1.03782     & 4.3         & 7.9         & 3.6         &  0.30655585 & -0.622330   & 0.06806599 \\\\\n",
       "\tSepal.Width & 2           & 149         & 3.059732    & 0.4363422   & 3.0         & 3.047107    & 0.44478     & 2.0         & 4.4         & 2.4         &  0.30099210 &  0.136191   & 0.03574655 \\\\\n",
       "\tPetal.Length & 3           & 149         & 3.748993    & 1.7677906   & 4.3         & 3.746281    & 1.92738     & 1.0         & 6.9         & 5.9         & -0.25782745 & -1.422839   & 0.14482304 \\\\\n",
       "\tPetal.Width & 4           & 149         & 1.194631    & 0.7626222   & 1.3         & 1.178512    & 1.03782     & 0.1         & 2.5         & 2.4         & -0.08827065 & -1.357677   & 0.06247644 \\\\\n",
       "\tSpecies* & 5           & 149         & 1.993289    & 0.8178469   & 2.0         & 1.991736    & 1.48260     & 1.0         & 3.0         & 2.0         &  0.01218523 & -1.514884   & 0.06700063 \\\\\n",
       "\\end{tabular}\n"
      ],
      "text/markdown": [
       "\n",
       "| <!--/--> | vars | n | mean | sd | median | trimmed | mad | min | max | range | skew | kurtosis | se |\n",
       "|---|---|---|---|---|---|---|---|---|---|---|---|---|---|\n",
       "| Sepal.Length | 1           | 149         | 5.843624    | 0.8308513   | 5.8         | 5.809091    | 1.03782     | 4.3         | 7.9         | 3.6         |  0.30655585 | -0.622330   | 0.06806599  |\n",
       "| Sepal.Width | 2           | 149         | 3.059732    | 0.4363422   | 3.0         | 3.047107    | 0.44478     | 2.0         | 4.4         | 2.4         |  0.30099210 |  0.136191   | 0.03574655  |\n",
       "| Petal.Length | 3           | 149         | 3.748993    | 1.7677906   | 4.3         | 3.746281    | 1.92738     | 1.0         | 6.9         | 5.9         | -0.25782745 | -1.422839   | 0.14482304  |\n",
       "| Petal.Width | 4           | 149         | 1.194631    | 0.7626222   | 1.3         | 1.178512    | 1.03782     | 0.1         | 2.5         | 2.4         | -0.08827065 | -1.357677   | 0.06247644  |\n",
       "| Species* | 5           | 149         | 1.993289    | 0.8178469   | 2.0         | 1.991736    | 1.48260     | 1.0         | 3.0         | 2.0         |  0.01218523 | -1.514884   | 0.06700063  |\n",
       "\n"
      ],
      "text/plain": [
       "             vars n   mean     sd        median trimmed  mad     min max range\n",
       "Sepal.Length 1    149 5.843624 0.8308513 5.8    5.809091 1.03782 4.3 7.9 3.6  \n",
       "Sepal.Width  2    149 3.059732 0.4363422 3.0    3.047107 0.44478 2.0 4.4 2.4  \n",
       "Petal.Length 3    149 3.748993 1.7677906 4.3    3.746281 1.92738 1.0 6.9 5.9  \n",
       "Petal.Width  4    149 1.194631 0.7626222 1.3    1.178512 1.03782 0.1 2.5 2.4  \n",
       "Species*     5    149 1.993289 0.8178469 2.0    1.991736 1.48260 1.0 3.0 2.0  \n",
       "             skew        kurtosis  se        \n",
       "Sepal.Length  0.30655585 -0.622330 0.06806599\n",
       "Sepal.Width   0.30099210  0.136191 0.03574655\n",
       "Petal.Length -0.25782745 -1.422839 0.14482304\n",
       "Petal.Width  -0.08827065 -1.357677 0.06247644\n",
       "Species*      0.01218523 -1.514884 0.06700063"
      ]
     },
     "metadata": {},
     "output_type": "display_data"
    }
   ],
   "source": [
    "describe(iris)"
   ]
  },
  {
   "cell_type": "code",
   "execution_count": 9,
   "metadata": {},
   "outputs": [
    {
     "data": {
      "text/plain": [
       "\n",
       " Descriptive statistics by group \n",
       "group: setosa\n",
       "             vars  n mean   sd median trimmed  mad min max range skew kurtosis\n",
       "Sepal.Length    1 50 5.01 0.35    5.0    5.00 0.30 4.3 5.8   1.5 0.11    -0.45\n",
       "Sepal.Width     2 50 3.43 0.38    3.4    3.42 0.37 2.3 4.4   2.1 0.04     0.60\n",
       "Petal.Length    3 50 1.46 0.17    1.5    1.46 0.15 1.0 1.9   0.9 0.10     0.65\n",
       "Petal.Width     4 50 0.25 0.11    0.2    0.24 0.00 0.1 0.6   0.5 1.18     1.26\n",
       "Species*        5 50 1.00 0.00    1.0    1.00 0.00 1.0 1.0   0.0  NaN      NaN\n",
       "               se\n",
       "Sepal.Length 0.05\n",
       "Sepal.Width  0.05\n",
       "Petal.Length 0.02\n",
       "Petal.Width  0.01\n",
       "Species*     0.00\n",
       "------------------------------------------------------------ \n",
       "group: versicolor\n",
       "             vars  n mean   sd median trimmed  mad min max range  skew kurtosis\n",
       "Sepal.Length    1 50 5.94 0.52   5.90    5.94 0.52 4.9 7.0   2.1  0.10    -0.69\n",
       "Sepal.Width     2 50 2.77 0.31   2.80    2.78 0.30 2.0 3.4   1.4 -0.34    -0.55\n",
       "Petal.Length    3 50 4.26 0.47   4.35    4.29 0.52 3.0 5.1   2.1 -0.57    -0.19\n",
       "Petal.Width     4 50 1.33 0.20   1.30    1.32 0.22 1.0 1.8   0.8 -0.03    -0.59\n",
       "Species*        5 50 2.00 0.00   2.00    2.00 0.00 2.0 2.0   0.0   NaN      NaN\n",
       "               se\n",
       "Sepal.Length 0.07\n",
       "Sepal.Width  0.04\n",
       "Petal.Length 0.07\n",
       "Petal.Width  0.03\n",
       "Species*     0.00\n",
       "------------------------------------------------------------ \n",
       "group: virginica\n",
       "             vars  n mean   sd median trimmed  mad min max range  skew kurtosis\n",
       "Sepal.Length    1 49 6.60 0.63    6.5    6.60 0.59 4.9 7.9   3.0  0.08    -0.14\n",
       "Sepal.Width     2 49 2.98 0.32    3.0    2.97 0.30 2.2 3.8   1.6  0.31     0.38\n",
       "Petal.Length    3 49 5.56 0.55    5.6    5.53 0.59 4.5 6.9   2.4  0.48    -0.39\n",
       "Petal.Width     4 49 2.03 0.28    2.0    2.04 0.30 1.4 2.5   1.1 -0.15    -0.78\n",
       "Species*        5 49 3.00 0.00    3.0    3.00 0.00 3.0 3.0   0.0   NaN      NaN\n",
       "               se\n",
       "Sepal.Length 0.09\n",
       "Sepal.Width  0.05\n",
       "Petal.Length 0.08\n",
       "Petal.Width  0.04\n",
       "Species*     0.00"
      ]
     },
     "metadata": {},
     "output_type": "display_data"
    }
   ],
   "source": [
    "describeBy(iris,iris$Species)"
   ]
  },
  {
   "cell_type": "code",
   "execution_count": 10,
   "metadata": {},
   "outputs": [
    {
     "data": {
      "text/html": [
       "<table>\n",
       "<thead><tr><th scope=col>iris$Species</th><th scope=col>Sepal.Length</th><th scope=col>Sepal.Width</th><th scope=col>Petal.Length</th><th scope=col>Petal.Width</th><th scope=col>Species</th></tr></thead>\n",
       "<tbody>\n",
       "\t<tr><td>setosa    </td><td>5.006000  </td><td>3.428000  </td><td>1.462000  </td><td>0.246000  </td><td>1         </td></tr>\n",
       "\t<tr><td>versicolor</td><td>5.936000  </td><td>2.770000  </td><td>4.260000  </td><td>1.326000  </td><td>2         </td></tr>\n",
       "\t<tr><td>virginica </td><td>6.604082  </td><td>2.979592  </td><td>5.561224  </td><td>2.028571  </td><td>3         </td></tr>\n",
       "</tbody>\n",
       "</table>\n"
      ],
      "text/latex": [
       "\\begin{tabular}{r|llllll}\n",
       " iris\\$Species & Sepal.Length & Sepal.Width & Petal.Length & Petal.Width & Species\\\\\n",
       "\\hline\n",
       "\t setosa     & 5.006000   & 3.428000   & 1.462000   & 0.246000   & 1         \\\\\n",
       "\t versicolor & 5.936000   & 2.770000   & 4.260000   & 1.326000   & 2         \\\\\n",
       "\t virginica  & 6.604082   & 2.979592   & 5.561224   & 2.028571   & 3         \\\\\n",
       "\\end{tabular}\n"
      ],
      "text/markdown": [
       "\n",
       "| iris$Species | Sepal.Length | Sepal.Width | Petal.Length | Petal.Width | Species |\n",
       "|---|---|---|---|---|---|\n",
       "| setosa     | 5.006000   | 3.428000   | 1.462000   | 0.246000   | 1          |\n",
       "| versicolor | 5.936000   | 2.770000   | 4.260000   | 1.326000   | 2          |\n",
       "| virginica  | 6.604082   | 2.979592   | 5.561224   | 2.028571   | 3          |\n",
       "\n"
      ],
      "text/plain": [
       "  iris$Species Sepal.Length Sepal.Width Petal.Length Petal.Width Species\n",
       "1 setosa       5.006000     3.428000    1.462000     0.246000    1      \n",
       "2 versicolor   5.936000     2.770000    4.260000     1.326000    2      \n",
       "3 virginica    6.604082     2.979592    5.561224     2.028571    3      "
      ]
     },
     "metadata": {},
     "output_type": "display_data"
    }
   ],
   "source": [
    "## Calculating the group mean using aggregate\n",
    "aggregate(. ~ iris$Species, iris, mean)"
   ]
  },
  {
   "cell_type": "code",
   "execution_count": 11,
   "metadata": {},
   "outputs": [
    {
     "data": {
      "image/png": "[encoded data removed]",
      "text/plain": [
       "Plot with title \"Boxplot of all Species\""
      ]
     },
     "metadata": {},
     "output_type": "display_data"
    }
   ],
   "source": [
    "## Draws a box plot for lengths and widths of sepals and petals of 3 species\n",
    "boxplot((iris)[,c(1:4)], main=\"Boxplot of all Species\", xlab=\"in cm\", horizontal = TRUE,notch = TRUE) "
   ]
  },
  {
   "cell_type": "code",
   "execution_count": 66,
   "metadata": {},
   "outputs": [
    {
     "data": {
      "text/html": [
       "<table>\n",
       "<thead><tr><th></th><th scope=col>Sepal.Length</th><th scope=col>Sepal.Width</th><th scope=col>Petal.Length</th><th scope=col>Petal.Width</th><th scope=col>Species</th></tr></thead>\n",
       "<tbody>\n",
       "\t<tr><th scope=row>16</th><td>5.7       </td><td>4.4       </td><td>1.5       </td><td>0.4       </td><td>setosa    </td></tr>\n",
       "\t<tr><th scope=row>33</th><td>5.2       </td><td>4.1       </td><td>1.5       </td><td>0.1       </td><td>setosa    </td></tr>\n",
       "\t<tr><th scope=row>34</th><td>5.5       </td><td>4.2       </td><td>1.4       </td><td>0.2       </td><td>setosa    </td></tr>\n",
       "\t<tr><th scope=row>61</th><td>5.0       </td><td>2.0       </td><td>3.5       </td><td>1.0       </td><td>versicolor</td></tr>\n",
       "</tbody>\n",
       "</table>\n"
      ],
      "text/latex": [
       "\\begin{tabular}{r|lllll}\n",
       "  & Sepal.Length & Sepal.Width & Petal.Length & Petal.Width & Species\\\\\n",
       "\\hline\n",
       "\t16 & 5.7        & 4.4        & 1.5        & 0.4        & setosa    \\\\\n",
       "\t33 & 5.2        & 4.1        & 1.5        & 0.1        & setosa    \\\\\n",
       "\t34 & 5.5        & 4.2        & 1.4        & 0.2        & setosa    \\\\\n",
       "\t61 & 5.0        & 2.0        & 3.5        & 1.0        & versicolor\\\\\n",
       "\\end{tabular}\n"
      ],
      "text/markdown": [
       "\n",
       "| <!--/--> | Sepal.Length | Sepal.Width | Petal.Length | Petal.Width | Species |\n",
       "|---|---|---|---|---|---|\n",
       "| 16 | 5.7        | 4.4        | 1.5        | 0.4        | setosa     |\n",
       "| 33 | 5.2        | 4.1        | 1.5        | 0.1        | setosa     |\n",
       "| 34 | 5.5        | 4.2        | 1.4        | 0.2        | setosa     |\n",
       "| 61 | 5.0        | 2.0        | 3.5        | 1.0        | versicolor |\n",
       "\n"
      ],
      "text/plain": [
       "   Sepal.Length Sepal.Width Petal.Length Petal.Width Species   \n",
       "16 5.7          4.4         1.5          0.4         setosa    \n",
       "33 5.2          4.1         1.5          0.1         setosa    \n",
       "34 5.5          4.2         1.4          0.2         setosa    \n",
       "61 5.0          2.0         3.5          1.0         versicolor"
      ]
     },
     "metadata": {},
     "output_type": "display_data"
    }
   ],
   "source": [
    "# https://stackoverflow.com/questions/11134348/how-can-i-identify-the-labels-of-outliers-in-a-r-boxplot\n",
    "outliers = boxplot(iris$Sepal.Width, plot=FALSE)$out\n",
    "iris[iris$Sepal.Width %in% outliers,]"
   ]
  },
  {
   "cell_type": "code",
   "execution_count": 12,
   "metadata": {},
   "outputs": [
    {
     "data": {
      "image/png": "[encoded data removed]",
      "text/plain": [
       "Plot with title \"Petal Width\""
      ]
     },
     "metadata": {},
     "output_type": "display_data"
    }
   ],
   "source": [
    "par(mfrow=c(2,2))\n",
    "boxplot(iris$Sepal.Length~iris$Species,col=topo.colors(3), main=\"Sepal Length\", ylab=\"in cm\")\n",
    "boxplot(iris$Sepal.Width~iris$Species,col=topo.colors(3) , main=\"Sepal Width\" , ylab=\"in cm\" )\n",
    "boxplot(iris$Petal.Length~iris$Species,col=heat.colors(3), main=\"Petal Length\", ylab=\"in cm\")\n",
    "boxplot(iris$Petal.Width~iris$Species,col=heat.colors(3), main=\"Petal Width\", ylab=\"in cm\")"
   ]
  },
  {
   "cell_type": "code",
   "execution_count": 65,
   "metadata": {},
   "outputs": [
    {
     "data": {
      "text/html": [
       "<ol class=list-inline>\n",
       "\t<li>4.9</li>\n",
       "\t<li>7.9</li>\n",
       "</ol>\n"
      ],
      "text/latex": [
       "\\begin{enumerate*}\n",
       "\\item 4.9\n",
       "\\item 7.9\n",
       "\\end{enumerate*}\n"
      ],
      "text/markdown": [
       "1. 4.9\n",
       "2. 7.9\n",
       "\n",
       "\n"
      ],
      "text/plain": [
       "[1] 4.9 7.9"
      ]
     },
     "metadata": {},
     "output_type": "display_data"
    }
   ],
   "source": [
    "outliers = boxplot(iris$Sepal.Length~iris$Species, plot=FALSE)$out\n",
    "outliers"
   ]
  },
  {
   "cell_type": "code",
   "execution_count": 13,
   "metadata": {},
   "outputs": [
    {
     "data": {
      "image/png": "[encoded data removed]",
      "text/plain": [
       "Plot with title \"Histogram of iris$Petal.Width\""
      ]
     },
     "metadata": {},
     "output_type": "display_data"
    }
   ],
   "source": [
    "## https://rpubs.com/jayavarshinii/Knn-iris\n",
    "par(mfrow=c(2,2))\n",
    "hist(iris$Sepal.Length, col=\"blue\", breaks=20,freq=FALSE )\n",
    "lines(density(iris$Sepal.Length), col=\"red\")\n",
    "\n",
    "hist(iris$Sepal.Width, col=\"red\", breaks=20,,freq=FALSE)\n",
    "lines(density(iris$Sepal.Width), col=\"blue\")\n",
    "\n",
    "hist(iris$Petal.Length, col=\"green\", breaks=20,freq=FALSE)\n",
    "lines(density(iris$Petal.Length), col=\"red\")\n",
    "\n",
    "hist(iris$Petal.Width, col=\"yellow\", breaks=20,freq=FALSE)\n",
    "lines(density(iris$Petal.Width), col=\"blue\")"
   ]
  },
  {
   "cell_type": "code",
   "execution_count": 14,
   "metadata": {},
   "outputs": [
    {
     "data": {
      "image/png": "[encoded data removed]",
      "text/plain": [
       "Plot with title \"Normal Q-Q plot for Petal Width\""
      ]
     },
     "metadata": {},
     "output_type": "display_data"
    }
   ],
   "source": [
    "# Quantile – Quantile plot in R to test the normality of a data\n",
    "# Sepal length and Sepal width are most close along the 1:1 line.\n",
    "par(mfrow=c(2,2))\n",
    "qqnorm(iris$Sepal.Length,main=\"Normal Q-Q plot for Septal Length\")\n",
    "qqline(iris$Sepal.Length)\n",
    "qqnorm(iris$Sepal.Width,main=\"Normal Q-Q plot for Septal Width\")\n",
    "qqline(iris$Sepal.Width)\n",
    "qqnorm(iris$Petal.Length, main=\"Normal Q-Q plot for Petal Length\")\n",
    "qqline(iris$Petal.Length)\n",
    "qqnorm(iris$Petal.Width,main=\"Normal Q-Q plot for Petal Width\")\n",
    "qqline(iris$Petal.Width)"
   ]
  },
  {
   "cell_type": "code",
   "execution_count": 44,
   "metadata": {},
   "outputs": [
    {
     "data": {
      "image/png": "[encoded data removed]",
      "text/plain": [
       "plot without title"
      ]
     },
     "metadata": {},
     "output_type": "display_data"
    }
   ],
   "source": [
    "## https://stats.idre.ucla.edu/r/codefragments/layout/\n",
    "## define a (nominally) colour blind safe pallette\n",
    "pal <- rgb(c(27, 217, 117), c(158, 95, 112), c(119, 2, 179), maxColorValue = 255)\n",
    "## scatter plot matrix of continuous variables, coloured by species\n",
    "plot(iris[, -5], col = pal[iris[, 5]],lower.panel=NULL)\n"
   ]
  },
  {
   "cell_type": "code",
   "execution_count": 16,
   "metadata": {},
   "outputs": [
    {
     "data": {
      "image/png": "[encoded data removed]",
      "text/plain": [
       "plot without title"
      ]
     },
     "metadata": {},
     "output_type": "display_data"
    }
   ],
   "source": [
    "## http://www.sthda.com/english/wiki/scatter-plot-matrices-r-base-graphs\n",
    "##library(psych)\n",
    "pairs.panels(iris[,-5], \n",
    "             method = \"pearson\", # correlation method\n",
    "             hist.col = \"#00AFBB\",\n",
    "             density = TRUE,  # show density plots\n",
    "             ellipses = TRUE # show correlation ellipses\n",
    "             )"
   ]
  },
  {
   "cell_type": "code",
   "execution_count": 17,
   "metadata": {},
   "outputs": [
    {
     "data": {
      "text/html": [
       "<dl class=dl-horizontal>\n",
       "\t<dt>setosa</dt>\n",
       "\t\t<dd>'violet'</dd>\n",
       "\t<dt>versicolor</dt>\n",
       "\t\t<dd>'purple'</dd>\n",
       "\t<dt>virginica</dt>\n",
       "\t\t<dd>'blue'</dd>\n",
       "</dl>\n"
      ],
      "text/latex": [
       "\\begin{description*}\n",
       "\\item[setosa] 'violet'\n",
       "\\item[versicolor] 'purple'\n",
       "\\item[virginica] 'blue'\n",
       "\\end{description*}\n"
      ],
      "text/markdown": [
       "setosa\n",
       ":   'violet'versicolor\n",
       ":   'purple'virginica\n",
       ":   'blue'\n",
       "\n"
      ],
      "text/plain": [
       "    setosa versicolor  virginica \n",
       "  \"violet\"   \"purple\"     \"blue\" "
      ]
     },
     "metadata": {},
     "output_type": "display_data"
    }
   ],
   "source": [
    "## http://naes.unr.edu/shoemaker/teaching/R-Bootcamp/module1_3.html\n",
    "\n",
    "plot.colors <- c(\"violet\", \"purple\", \"blue\")   # define the colors for representing species ID\n",
    "names(plot.colors) <- levels(iris$Species)   # the \"levels()\" function returns all unique labels for any \"factor\" variable    \n",
    "plot.colors"
   ]
  },
  {
   "cell_type": "code",
   "execution_count": 18,
   "metadata": {},
   "outputs": [
    {
     "data": {
      "image/png": "[encoded data removed]",
      "text/plain": [
       "Plot with title \"Iris sepal length vs. petal length\""
      ]
     },
     "metadata": {},
     "output_type": "display_data"
    }
   ],
   "source": [
    "## http://naes.unr.edu/shoemaker/teaching/R-Bootcamp/module1_3.html\n",
    "\n",
    "color.vector <- rep(x=plot.colors, each=50)\n",
    "layout(matrix(1:3, nrow=1, ncol=3))\n",
    "# Plot\n",
    "plot(x=iris$Petal.Length, y=iris$Sepal.Length, pch=19, col=color.vector, \n",
    "     main=\"Iris sepal length vs. petal length\", xlab=\"Petal length\", \n",
    "     ylab=\"Sepal length\", las=1)\n",
    "\n",
    "# First legend\n",
    "legend(\"topleft\", pch=19, col=plot.colors, legend=unique(iris$Species))\n",
    "\n",
    "# Second plot\n",
    "plot(x=iris$Petal.Length, y=iris$Sepal.Length, pch=19, col=color.vector,\n",
    "     main=\"Iris sepal length vs. petal length\", \n",
    "     xlab=\"Petal length\", ylab=\"Sepal length\", las=1)\n",
    "\n",
    "# Second legend\n",
    "# The bty=\"n\" argument suppresses the border around the legend. (A personal preference)\n",
    "legend(\"topleft\", pch=19, col=plot.colors, \n",
    "       legend=c(\"I. setosa\", \"I. versicolor\", \"I. virginica\"), bty=\"n\")\n",
    "\n",
    "\n",
    "# Plot Three\n",
    "plot(x=iris$Petal.Length, y=iris$Sepal.Length, pch=19, col=color.vector, \n",
    "     main=\"Iris sepal length vs. petal length\", \n",
    "     xlab=\"Petal length\", ylab=\"Sepal length\", las=1)\n",
    "\n",
    "#Legend tree with Italics\n",
    "legend(\"topleft\", pch=19, col=plot.colors, \n",
    "       legend=c(\"I. setosa\", \"I. versicolor\", \"I. virginica\"), \n",
    "       bty=\"n\", text.font=3)"
   ]
  },
  {
   "cell_type": "code",
   "execution_count": 19,
   "metadata": {},
   "outputs": [
    {
     "data": {
      "image/png": "[encoded data removed]",
      "text/plain": [
       "Plot with title \"\""
      ]
     },
     "metadata": {},
     "output_type": "display_data"
    }
   ],
   "source": [
    "## https://stackoverflow.com/questions/42758483/how-can-i-make-this-histogram-of-a-dataset-variable-overplayed-with-its-normal\n",
    "\n",
    "species_list <- split(iris, iris$Species) # split data.frame into lists by Species\n",
    "\n",
    "par(mfrow = c(1,length(species_list))) # set the grid of the plot to be 1 row, 3 columns \n",
    "for(i in 1:length(species_list)){ # using length(species_list) for the # of species\n",
    "  # subsetting lists with double brackets `[[`\n",
    "  hist(species_list[[i]]$Sepal.Width, probability = T, \n",
    "       main = \"\", xlab = \"Sepal Width (cm)\", ylab = \"Probability\", # `main` is empty\n",
    "       col = c(\"cyan\",\"green3\",\"yellow\")[i]) # picks a new color each time (here out of 3)\n",
    "  # my favorite function for plot titles\n",
    "  mtext(toupper(names(species_list)[i]), # upper case species name for title\n",
    "        side = 3, # 1 is bottom, 2 is left, 3 is top, 4 is right\n",
    "        line = 0, # do not shift up or down\n",
    "        font = 2) # 2 is bold\n",
    "  # Simpler than building from scratch use the built in function:\n",
    "  curve(dnorm(x, mean = mean(species_list[[i]]$Sepal.Width), \n",
    "                 sd = sd(species_list[[i]]$Sepal.Width)), \n",
    "                 yaxt = \"n\", add = TRUE, col = \"darkblue\", lwd = 2)\n",
    "}\n",
    "# At the end post a new title\n",
    "mtext(\"Histograms of Sepal Width by Species Overlayed with a Normal Distribution\", \n",
    "      outer = TRUE, # this puts it outside of the 3 plots\n",
    "      side = 3, line = -1, # shift it down so we can see it\n",
    "      font = 2)\n",
    "par(mfrow = c(1,1)) # set the plot parameters back to a single plot when finished"
   ]
  },
  {
   "cell_type": "code",
   "execution_count": 20,
   "metadata": {},
   "outputs": [
    {
     "name": "stdout",
     "output_type": "stream",
     "text": [
      "[1] \"covariance between variables\"\n"
     ]
    },
    {
     "data": {
      "text/html": [
       "<table>\n",
       "<thead><tr><th></th><th scope=col>Sepal.Length</th><th scope=col>Sepal.Width</th><th scope=col>Petal.Length</th><th scope=col>Petal.Width</th></tr></thead>\n",
       "<tbody>\n",
       "\t<tr><th scope=row>Sepal.Length</th><td> 0.69031380</td><td>-0.04282605</td><td> 1.2833212 </td><td> 0.5199655 </td></tr>\n",
       "\t<tr><th scope=row>Sepal.Width</th><td>-0.04282605</td><td> 0.19039452</td><td>-0.3286219 </td><td>-0.1207582 </td></tr>\n",
       "\t<tr><th scope=row>Petal.Length</th><td> 1.28332124</td><td>-0.32862189</td><td> 3.1250834 </td><td> 1.2979675 </td></tr>\n",
       "\t<tr><th scope=row>Petal.Width</th><td> 0.51996554</td><td>-0.12075821</td><td> 1.2979675 </td><td> 0.5815926 </td></tr>\n",
       "</tbody>\n",
       "</table>\n"
      ],
      "text/latex": [
       "\\begin{tabular}{r|llll}\n",
       "  & Sepal.Length & Sepal.Width & Petal.Length & Petal.Width\\\\\n",
       "\\hline\n",
       "\tSepal.Length &  0.69031380 & -0.04282605 &  1.2833212  &  0.5199655 \\\\\n",
       "\tSepal.Width & -0.04282605 &  0.19039452 & -0.3286219  & -0.1207582 \\\\\n",
       "\tPetal.Length &  1.28332124 & -0.32862189 &  3.1250834  &  1.2979675 \\\\\n",
       "\tPetal.Width &  0.51996554 & -0.12075821 &  1.2979675  &  0.5815926 \\\\\n",
       "\\end{tabular}\n"
      ],
      "text/markdown": [
       "\n",
       "| <!--/--> | Sepal.Length | Sepal.Width | Petal.Length | Petal.Width |\n",
       "|---|---|---|---|---|\n",
       "| Sepal.Length |  0.69031380 | -0.04282605 |  1.2833212  |  0.5199655  |\n",
       "| Sepal.Width | -0.04282605 |  0.19039452 | -0.3286219  | -0.1207582  |\n",
       "| Petal.Length |  1.28332124 | -0.32862189 |  3.1250834  |  1.2979675  |\n",
       "| Petal.Width |  0.51996554 | -0.12075821 |  1.2979675  |  0.5815926  |\n",
       "\n"
      ],
      "text/plain": [
       "             Sepal.Length Sepal.Width Petal.Length Petal.Width\n",
       "Sepal.Length  0.69031380  -0.04282605  1.2833212    0.5199655 \n",
       "Sepal.Width  -0.04282605   0.19039452 -0.3286219   -0.1207582 \n",
       "Petal.Length  1.28332124  -0.32862189  3.1250834    1.2979675 \n",
       "Petal.Width   0.51996554  -0.12075821  1.2979675    0.5815926 "
      ]
     },
     "metadata": {},
     "output_type": "display_data"
    }
   ],
   "source": [
    "## https://www.kaggle.com/learnerr/analysis-of-iris-data-in-r\n",
    "## Explore multiple data\n",
    "# Check the covariance and correlation between variables\n",
    "## “Covariance” indicates the direction of the linear relationship between variables. \n",
    "## “Correlation” on the other hand measures both the strength and direction of the linear relationship between two variables. \n",
    "## Correlation is a function of the covariance.\n",
    "print(\"covariance between variables\")\n",
    "cov(iris[, 1:4])"
   ]
  },
  {
   "cell_type": "code",
   "execution_count": 21,
   "metadata": {
    "scrolled": true
   },
   "outputs": [
    {
     "name": "stdout",
     "output_type": "stream",
     "text": [
      "[1] \"correlation between variables\"\n"
     ]
    },
    {
     "data": {
      "text/html": [
       "<table>\n",
       "<thead><tr><th></th><th scope=col>Sepal.Length</th><th scope=col>Sepal.Width</th><th scope=col>Petal.Length</th><th scope=col>Petal.Width</th></tr></thead>\n",
       "<tbody>\n",
       "\t<tr><th scope=row>Sepal.Length</th><td> 1.0000000</td><td>-0.1181293</td><td> 0.8737381</td><td> 0.8206195</td></tr>\n",
       "\t<tr><th scope=row>Sepal.Width</th><td>-0.1181293</td><td> 1.0000000</td><td>-0.4260283</td><td>-0.3628942</td></tr>\n",
       "\t<tr><th scope=row>Petal.Length</th><td> 0.8737381</td><td>-0.4260283</td><td> 1.0000000</td><td> 0.9627723</td></tr>\n",
       "\t<tr><th scope=row>Petal.Width</th><td> 0.8206195</td><td>-0.3628942</td><td> 0.9627723</td><td> 1.0000000</td></tr>\n",
       "</tbody>\n",
       "</table>\n"
      ],
      "text/latex": [
       "\\begin{tabular}{r|llll}\n",
       "  & Sepal.Length & Sepal.Width & Petal.Length & Petal.Width\\\\\n",
       "\\hline\n",
       "\tSepal.Length &  1.0000000 & -0.1181293 &  0.8737381 &  0.8206195\\\\\n",
       "\tSepal.Width & -0.1181293 &  1.0000000 & -0.4260283 & -0.3628942\\\\\n",
       "\tPetal.Length &  0.8737381 & -0.4260283 &  1.0000000 &  0.9627723\\\\\n",
       "\tPetal.Width &  0.8206195 & -0.3628942 &  0.9627723 &  1.0000000\\\\\n",
       "\\end{tabular}\n"
      ],
      "text/markdown": [
       "\n",
       "| <!--/--> | Sepal.Length | Sepal.Width | Petal.Length | Petal.Width |\n",
       "|---|---|---|---|---|\n",
       "| Sepal.Length |  1.0000000 | -0.1181293 |  0.8737381 |  0.8206195 |\n",
       "| Sepal.Width | -0.1181293 |  1.0000000 | -0.4260283 | -0.3628942 |\n",
       "| Petal.Length |  0.8737381 | -0.4260283 |  1.0000000 |  0.9627723 |\n",
       "| Petal.Width |  0.8206195 | -0.3628942 |  0.9627723 |  1.0000000 |\n",
       "\n"
      ],
      "text/plain": [
       "             Sepal.Length Sepal.Width Petal.Length Petal.Width\n",
       "Sepal.Length  1.0000000   -0.1181293   0.8737381    0.8206195 \n",
       "Sepal.Width  -0.1181293    1.0000000  -0.4260283   -0.3628942 \n",
       "Petal.Length  0.8737381   -0.4260283   1.0000000    0.9627723 \n",
       "Petal.Width   0.8206195   -0.3628942   0.9627723    1.0000000 "
      ]
     },
     "metadata": {},
     "output_type": "display_data"
    }
   ],
   "source": [
    "## https://www.kaggle.com/learnerr/analysis-of-iris-data-in-r\n",
    "# correlation is positive when the values increases together\n",
    "# correlation in negative when the values decreses together\n",
    "## The values of the correlation coefficient can range from -1 to +1. \n",
    "## The closer it is to +1 or -1, the more closely are the two variables are related. \n",
    "print(\"correlation between variables\")\n",
    "cor(iris[, 1:4])"
   ]
  },
  {
   "cell_type": "markdown",
   "metadata": {},
   "source": [
    "The previous assertion that Petal.Length and Petal.Width are highly positively cor-related  is  misleading.   When  looking  at  individual  species,  it  transpires  that  the within-species correlation between between Petal.Length and Petal.Width is muchweaker.   The  correlation  is  strongest  for  Versicolor  (0.79),  being  much  weaker  for Setosa (0.33) and Virginica (0.32).  The reason for the higher positive correlationwhen  combining  the  three  species  (0.96)  is  due  to  systematic  differences  in  thePetal.Length  and  Petal.Width  between  the  species.   Indeed,  it  may  be  true  that species  with  a  larger  Petal.Length  would  also  tend  to  have  a  larger  Petal.Width(although note that we could not draw such conclusions without testing hypothesesproperly)"
   ]
  },
  {
   "cell_type": "code",
   "execution_count": 22,
   "metadata": {},
   "outputs": [
    {
     "name": "stdout",
     "output_type": "stream",
     "text": [
      "[1] \"setosa\"\n",
      "             Sepal.Length Sepal.Width Petal.Length Petal.Width\n",
      "Sepal.Length    1.0000000   0.7425467    0.2671758   0.2780984\n",
      "Sepal.Width     0.7425467   1.0000000    0.1777000   0.2327520\n",
      "Petal.Length    0.2671758   0.1777000    1.0000000   0.3316300\n",
      "Petal.Width     0.2780984   0.2327520    0.3316300   1.0000000\n",
      "[1] \"versicolor\"\n",
      "             Sepal.Length Sepal.Width Petal.Length Petal.Width\n",
      "Sepal.Length    1.0000000   0.5259107    0.7540490   0.5464611\n",
      "Sepal.Width     0.5259107   1.0000000    0.5605221   0.6639987\n",
      "Petal.Length    0.7540490   0.5605221    1.0000000   0.7866681\n",
      "Petal.Width     0.5464611   0.6639987    0.7866681   1.0000000\n",
      "[1] \"virginica\"\n",
      "             Sepal.Length Sepal.Width Petal.Length Petal.Width\n",
      "Sepal.Length    1.0000000   0.4457975    0.8629507   0.2742820\n",
      "Sepal.Width     0.4457975   1.0000000    0.3922417   0.5348105\n",
      "Petal.Length    0.8629507   0.3922417    1.0000000   0.3171980\n",
      "Petal.Width     0.2742820   0.5348105    0.3171980   1.0000000\n"
     ]
    }
   ],
   "source": [
    "for(i in 1:length(levels(iris$Species)->x)){\n",
    "    print(x[i])\n",
    "    print(cor(iris[iris$Species==x[i],1:4]))\n",
    "    }"
   ]
  },
  {
   "cell_type": "markdown",
   "metadata": {},
   "source": [
    "With 95% confidence, what can we say about the difference in the mean petal lengths of versicolor and virginica?"
   ]
  },
  {
   "cell_type": "code",
   "execution_count": 23,
   "metadata": {},
   "outputs": [
    {
     "data": {
      "text/plain": [
       "\n",
       "\tShapiro-Wilk normality test\n",
       "\n",
       "data:  virginica$Petal.Length\n",
       "W = 0.96553, p-value = 0.1597\n"
      ]
     },
     "metadata": {},
     "output_type": "display_data"
    }
   ],
   "source": [
    "virginica <- iris[iris$Species == \"virginica\", ]\n",
    "versicolor <- iris[iris$Species == \"versicolor\", ]\n",
    "shapiro.test(virginica$Petal.Length)"
   ]
  },
  {
   "cell_type": "code",
   "execution_count": 24,
   "metadata": {},
   "outputs": [
    {
     "data": {
      "text/plain": [
       "\n",
       "\tShapiro-Wilk normality test\n",
       "\n",
       "data:  versicolor$Petal.Length\n",
       "W = 0.966, p-value = 0.1585\n"
      ]
     },
     "metadata": {},
     "output_type": "display_data"
    }
   ],
   "source": [
    "shapiro.test(versicolor$Petal.Length)"
   ]
  },
  {
   "cell_type": "code",
   "execution_count": 25,
   "metadata": {},
   "outputs": [
    {
     "name": "stderr",
     "output_type": "stream",
     "text": [
      "Loading required package: car\n",
      "Warning message:\n",
      "\"package 'car' was built under R version 3.5.3\"Loading required package: carData\n",
      "Warning message:\n",
      "\"package 'carData' was built under R version 3.5.2\"\n",
      "Attaching package: 'car'\n",
      "\n",
      "The following object is masked from 'package:psych':\n",
      "\n",
      "    logit\n",
      "\n"
     ]
    },
    {
     "data": {
      "text/html": [
       "<table>\n",
       "<thead><tr><th></th><th scope=col>Df</th><th scope=col>F value</th><th scope=col>Pr(&gt;F)</th></tr></thead>\n",
       "<tbody>\n",
       "\t<tr><th scope=row>group</th><td> 1       </td><td>0.9944598</td><td>0.321136 </td></tr>\n",
       "\t<tr><th scope=row> </th><td>97       </td><td>       NA</td><td>      NA </td></tr>\n",
       "</tbody>\n",
       "</table>\n"
      ],
      "text/latex": [
       "\\begin{tabular}{r|lll}\n",
       "  & Df & F value & Pr(>F)\\\\\n",
       "\\hline\n",
       "\tgroup &  1        & 0.9944598 & 0.321136 \\\\\n",
       "\t  & 97        &        NA &       NA \\\\\n",
       "\\end{tabular}\n"
      ],
      "text/markdown": [
       "\n",
       "| <!--/--> | Df | F value | Pr(>F) |\n",
       "|---|---|---|---|\n",
       "| group |  1        | 0.9944598 | 0.321136  |\n",
       "|   | 97        |        NA |       NA  |\n",
       "\n"
      ],
      "text/plain": [
       "      Df F value   Pr(>F)  \n",
       "group  1 0.9944598 0.321136\n",
       "      97        NA       NA"
      ]
     },
     "metadata": {},
     "output_type": "display_data"
    }
   ],
   "source": [
    "require(car)  \n",
    "df<-rbind(virginica,versicolor)   # or df <- subset(iris, iris$Species == \"virginica\" | iris$Species == \"versicolor\") \n",
    "leveneTest(Petal.Length ~ Species , data=df)   ## check Homogeneity of variances"
   ]
  },
  {
   "cell_type": "code",
   "execution_count": 26,
   "metadata": {},
   "outputs": [
    {
     "data": {
      "text/plain": [
       "\n",
       "\tWelch Two Sample t-test\n",
       "\n",
       "data:  virginica$Petal.Length and versicolor$Petal.Length\n",
       "t = 12.595, df = 93.864, p-value < 2.2e-16\n",
       "alternative hypothesis: true difference in means is not equal to 0\n",
       "95 percent confidence interval:\n",
       " 1.096093 1.506356\n",
       "sample estimates:\n",
       "mean of x mean of y \n",
       " 5.561224  4.260000 \n"
      ]
     },
     "metadata": {},
     "output_type": "display_data"
    }
   ],
   "source": [
    "virginica.v.versicolor <- t.test(x = virginica$Petal.Length, y = versicolor$Petal.Length)\n",
    "virginica.v.versicolor"
   ]
  },
  {
   "cell_type": "markdown",
   "metadata": {},
   "source": [
    "The results include:\n",
    "\n",
    "    Test statistic, degrees of freedom, and p-value\n",
    "    The confidence interval for the difference in means between the two data sets\n",
    "    With 95% confidence we can say that the difference between the mean petal lengths of virginica and versicolor lie between (1.096093, 1.506356) in nature.\n",
    "    The means of each data set\n",
    "\n",
    "So we reject the hypothesis that these species have the same petal lengths, in favour of the alternate hypothesis that the means are indeed different in nature."
   ]
  },
  {
   "cell_type": "markdown",
   "metadata": {},
   "source": [
    "https://jcoliver.github.io/learn-r/002-intro-stats.html#solution-to-challenge-2\n",
    "\n",
    "Use ANOVA to test for differences in sepal width among the three species. What is the value of the F-statistic?"
   ]
  },
  {
   "cell_type": "code",
   "execution_count": 27,
   "metadata": {},
   "outputs": [
    {
     "data": {
      "text/plain": [
       "             Df Sum Sq Mean Sq F value Pr(>F)    \n",
       "Species       2  11.29   5.646   48.82 <2e-16 ***\n",
       "Residuals   146  16.89   0.116                   \n",
       "---\n",
       "Signif. codes:  0 '***' 0.001 '**' 0.01 '*' 0.05 '.' 0.1 ' ' 1"
      ]
     },
     "metadata": {},
     "output_type": "display_data"
    }
   ],
   "source": [
    "sepal.width.aov <- aov(formula = Sepal.Width ~ Species, data = iris)\n",
    "summary(object = sepal.width.aov)"
   ]
  },
  {
   "cell_type": "markdown",
   "metadata": {},
   "source": [
    "The F-statistic = 48.82, and the p-value is quite small, so there are significant sepal width differences among species."
   ]
  },
  {
   "cell_type": "code",
   "execution_count": 28,
   "metadata": {},
   "outputs": [
    {
     "data": {
      "text/plain": [
       "  Tukey multiple comparisons of means\n",
       "    95% family-wise confidence level\n",
       "\n",
       "Fit: aov(formula = Sepal.Width ~ Species, data = iris)\n",
       "\n",
       "$Species\n",
       "                           diff         lwr        upr     p adj\n",
       "versicolor-setosa    -0.6580000 -0.81905158 -0.4969484 0.0000000\n",
       "virginica-setosa     -0.4484082 -0.61027935 -0.2865370 0.0000000\n",
       "virginica-versicolor  0.2095918  0.04772065  0.3714630 0.0072542\n"
      ]
     },
     "metadata": {},
     "output_type": "display_data"
    }
   ],
   "source": [
    "# Post-hoc Tests\n",
    "# Tukey's Honest Significant Difference Test\n",
    "TukeyHSD(sepal.width.aov)"
   ]
  },
  {
   "cell_type": "markdown",
   "metadata": {},
   "source": [
    "Using an alpha of 0.05, we can see that the p adj value is less than our alpha in all three pairwise comparisons meaning there is a significant difference between all three species' means."
   ]
  },
  {
   "cell_type": "markdown",
   "metadata": {},
   "source": [
    "\n",
    "Pairwise T-Test http://jamesmarquezportfolio.com/one_way_anova_with_post_hocs_in_r.html\n",
    "\n",
    "If you prefer to do t-tests, you can use the following method to perform pairwise t-tests on all your factor levels. The pairwise.t.test() function allows you to choose between eight p-value adjustments to help counteract the problem of multiple comparisons: holm, hochberg, hommel, bonferroni, BH, BY, fdr, and none. To reduce the chance of incorrectly rejecting our null hypothesis (Type I error) we'll use the Bonferroni correction method when performing our multiple comparisons.\n"
   ]
  },
  {
   "cell_type": "code",
   "execution_count": 29,
   "metadata": {},
   "outputs": [
    {
     "data": {
      "text/plain": [
       "\n",
       "\tPairwise comparisons using t tests with pooled SD \n",
       "\n",
       "data:  iris$Sepal.Width and iris$Species \n",
       "\n",
       "           setosa  versicolor\n",
       "versicolor < 2e-16 -         \n",
       "virginica  2.6e-09 0.0078    \n",
       "\n",
       "P value adjustment method: bonferroni "
      ]
     },
     "metadata": {},
     "output_type": "display_data"
    }
   ],
   "source": [
    "pairwise.t.test(iris$Sepal.Width, iris$Species, \n",
    "                p.adj=\"bonferroni\", paired=FALSE)"
   ]
  },
  {
   "cell_type": "markdown",
   "metadata": {},
   "source": [
    "Our t-test comparisons show that all three species' means are significantly different because all p-values are less than our 0.05 alpha."
   ]
  },
  {
   "cell_type": "markdown",
   "metadata": {},
   "source": [
    "## Question: We want to know if there is any significant difference, in sepal and petal length, between the different species."
   ]
  },
  {
   "cell_type": "markdown",
   "metadata": {},
   "source": [
    "Assumptions of MANOVA (http://www.sthda.com/english/wiki/manova-test-in-r-multivariate-analysis-of-variance)\n",
    "\n",
    "MANOVA can be used in certain conditions:\n",
    "\n",
    "    The dependent variables should be normally distribute within groups. The R function mshapiro.test( )[in the mvnormtest package] can be used to perform the Shapiro-Wilk test for multivariate normality. This is useful in the case of MANOVA, which assumes multivariate normality.\n",
    "\n",
    "    Homogeneity of variances across the range of predictors.\n",
    "\n",
    "    Linearity between all pairs of dependent variables, all pairs of covariates, and all dependent variable-covariate pairs in each cell\n",
    "\n"
   ]
  },
  {
   "cell_type": "code",
   "execution_count": 30,
   "metadata": {},
   "outputs": [
    {
     "data": {
      "text/plain": [
       "           Df Pillai approx F num Df den Df    Pr(>F)    \n",
       "Species     2  0.992   71.841      4    292 < 2.2e-16 ***\n",
       "Residuals 146                                            \n",
       "---\n",
       "Signif. codes:  0 '***' 0.001 '**' 0.01 '*' 0.05 '.' 0.1 ' ' 1"
      ]
     },
     "metadata": {},
     "output_type": "display_data"
    }
   ],
   "source": [
    "sepl <- iris$Sepal.Length\n",
    "petl <- iris$Petal.Length\n",
    "# MANOVA test\n",
    "res.man <- manova(cbind(Sepal.Length, Petal.Length) ~ Species, data = iris)\n",
    "summary(res.man)"
   ]
  },
  {
   "cell_type": "code",
   "execution_count": 31,
   "metadata": {},
   "outputs": [
    {
     "data": {
      "text/plain": [
       " Response Sepal.Length :\n",
       "             Df Sum Sq Mean Sq F value    Pr(>F)    \n",
       "Species       2 63.844  31.922  121.61 < 2.2e-16 ***\n",
       "Residuals   146 38.323   0.262                      \n",
       "---\n",
       "Signif. codes:  0 '***' 0.001 '**' 0.01 '*' 0.05 '.' 0.1 ' ' 1\n",
       "\n",
       " Response Petal.Length :\n",
       "             Df Sum Sq Mean Sq F value    Pr(>F)    \n",
       "Species       2 435.50 217.749  1176.8 < 2.2e-16 ***\n",
       "Residuals   146  27.01   0.185                      \n",
       "---\n",
       "Signif. codes:  0 '***' 0.001 '**' 0.01 '*' 0.05 '.' 0.1 ' ' 1\n"
      ]
     },
     "metadata": {},
     "output_type": "display_data"
    }
   ],
   "source": [
    "# Look to see which differ\n",
    "summary.aov(res.man)"
   ]
  },
  {
   "cell_type": "markdown",
   "metadata": {},
   "source": [
    "From the output above, it can be seen that the two variables are highly significantly different among Species."
   ]
  },
  {
   "cell_type": "markdown",
   "metadata": {},
   "source": [
    "Notice that in the following code we apply a log transformation to the continuous variables as suggested by [Venables, W. N., Brian D. R. Modern applied statistics with S-PLUS. Springer-verlag. (Section 11.1)] \n",
    "and set center and scale. equal to TRUE in the call to prcomp to standardize the variables prior to the application of PCA.\n",
    "Since skewness and the magnitude of the variables influence the resulting PCs, it is good practice to apply skewness transformation, center and scale the variables prior to the application of PCA. In the example above, we applied a log transformation to the variables but we could have been more general and applied a Box and Cox transformation [Box, G. and Cox, D. (1964). An analysis of transformations. Journal of the Royal Statistical Society. Series B (Methodological) 211-252]."
   ]
  },
  {
   "cell_type": "code",
   "execution_count": 32,
   "metadata": {},
   "outputs": [
    {
     "name": "stdout",
     "output_type": "stream",
     "text": [
      "Standard deviations (1, .., p=4):\n",
      "[1] 1.7125418 0.9525251 0.3637980 0.1659741\n",
      "\n",
      "Rotation (n x k) = (4 x 4):\n",
      "                    PC1         PC2        PC3         PC4\n",
      "Sepal.Length  0.5046733 -0.45194698  0.7098185  0.19288984\n",
      "Sepal.Width  -0.3010219 -0.89066999 -0.3282272 -0.09143112\n",
      "Petal.Length  0.5767684 -0.03388546 -0.2179017 -0.78658048\n",
      "Petal.Width   0.5674759 -0.03609246 -0.5839036  0.57941782\n"
     ]
    }
   ],
   "source": [
    "## https://tgmstat.wordpress.com/2013/11/28/computing-and-visualizing-pca-in-r/#ref2\n",
    "# log transform \n",
    "log.ir <- log(iris[, 1:4])\n",
    "ir.species <- iris[, 5]\n",
    " \n",
    "# apply PCA - scale. = TRUE is highly \n",
    "# advisable, but default is FALSE. \n",
    "ir.pca <- prcomp(log.ir,\n",
    "                 center = TRUE,\n",
    "                 scale. = TRUE) \n",
    "# print method\n",
    "# In this simple case with only 4 PCs this is not a hard task and we can see that the first two PCs explain most of the variability in the data.\n",
    "print(ir.pca)"
   ]
  },
  {
   "cell_type": "markdown",
   "metadata": {},
   "source": [
    "### ALSO can be standardise the data as below:"
   ]
  },
  {
   "cell_type": "code",
   "execution_count": 48,
   "metadata": {},
   "outputs": [
    {
     "data": {
      "text/html": [
       "<table>\n",
       "<thead><tr><th scope=col>Sepal.Length</th><th scope=col>Sepal.Width</th><th scope=col>Petal.Length</th><th scope=col>Petal.Width</th></tr></thead>\n",
       "<tbody>\n",
       "\t<tr><td>-0.8950148 </td><td> 1.00899810</td><td>-1.328774  </td><td>-1.304225  </td></tr>\n",
       "\t<tr><td>-1.1357318 </td><td>-0.13689151</td><td>-1.328774  </td><td>-1.304225  </td></tr>\n",
       "\t<tr><td>-1.3764487 </td><td> 0.32146433</td><td>-1.385341  </td><td>-1.304225  </td></tr>\n",
       "\t<tr><td>-1.4968072 </td><td> 0.09228641</td><td>-1.272206  </td><td>-1.304225  </td></tr>\n",
       "\t<tr><td>-1.0153733 </td><td> 1.23817602</td><td>-1.328774  </td><td>-1.304225  </td></tr>\n",
       "\t<tr><td>-0.5339393 </td><td> 1.92570978</td><td>-1.159070  </td><td>-1.041972  </td></tr>\n",
       "</tbody>\n",
       "</table>\n"
      ],
      "text/latex": [
       "\\begin{tabular}{r|llll}\n",
       " Sepal.Length & Sepal.Width & Petal.Length & Petal.Width\\\\\n",
       "\\hline\n",
       "\t -0.8950148  &  1.00899810 & -1.328774   & -1.304225  \\\\\n",
       "\t -1.1357318  & -0.13689151 & -1.328774   & -1.304225  \\\\\n",
       "\t -1.3764487  &  0.32146433 & -1.385341   & -1.304225  \\\\\n",
       "\t -1.4968072  &  0.09228641 & -1.272206   & -1.304225  \\\\\n",
       "\t -1.0153733  &  1.23817602 & -1.328774   & -1.304225  \\\\\n",
       "\t -0.5339393  &  1.92570978 & -1.159070   & -1.041972  \\\\\n",
       "\\end{tabular}\n"
      ],
      "text/markdown": [
       "\n",
       "| Sepal.Length | Sepal.Width | Petal.Length | Petal.Width |\n",
       "|---|---|---|---|\n",
       "| -0.8950148  |  1.00899810 | -1.328774   | -1.304225   |\n",
       "| -1.1357318  | -0.13689151 | -1.328774   | -1.304225   |\n",
       "| -1.3764487  |  0.32146433 | -1.385341   | -1.304225   |\n",
       "| -1.4968072  |  0.09228641 | -1.272206   | -1.304225   |\n",
       "| -1.0153733  |  1.23817602 | -1.328774   | -1.304225   |\n",
       "| -0.5339393  |  1.92570978 | -1.159070   | -1.041972   |\n",
       "\n"
      ],
      "text/plain": [
       "  Sepal.Length Sepal.Width Petal.Length Petal.Width\n",
       "1 -0.8950148    1.00899810 -1.328774    -1.304225  \n",
       "2 -1.1357318   -0.13689151 -1.328774    -1.304225  \n",
       "3 -1.3764487    0.32146433 -1.385341    -1.304225  \n",
       "4 -1.4968072    0.09228641 -1.272206    -1.304225  \n",
       "5 -1.0153733    1.23817602 -1.328774    -1.304225  \n",
       "6 -0.5339393    1.92570978 -1.159070    -1.041972  "
      ]
     },
     "metadata": {},
     "output_type": "display_data"
    }
   ],
   "source": [
    "# It is important to standardise the data first (mean = 0 and standard deviation = 1) as otherwise, the magnitude of a variable could have an influence.\n",
    "iris_standardised <- scale(iris[,1:4])\n",
    "head(iris_standardised)"
   ]
  },
  {
   "cell_type": "code",
   "execution_count": 49,
   "metadata": {},
   "outputs": [
    {
     "data": {
      "text/plain": [
       "Importance of components:\n",
       "                          PC1    PC2     PC3    PC4\n",
       "Standard deviation     1.7087 0.9562 0.38111 0.1442\n",
       "Proportion of Variance 0.7299 0.2286 0.03631 0.0052\n",
       "Cumulative Proportion  0.7299 0.9585 0.99480 1.0000"
      ]
     },
     "metadata": {},
     "output_type": "display_data"
    }
   ],
   "source": [
    "#Next perform the principle component analysis on these standardised data and display a summary:\n",
    "\n",
    "pca_iris <- prcomp(iris_standardised)\n",
    "summary(pca_iris)"
   ]
  },
  {
   "cell_type": "markdown",
   "metadata": {},
   "source": [
    "The summary shows that the first principle component explains 73% of the variance, the second 96% and the third 99%. All variance is explained by all four components. "
   ]
  },
  {
   "cell_type": "code",
   "execution_count": 50,
   "metadata": {},
   "outputs": [
    {
     "data": {
      "text/html": [
       "4"
      ],
      "text/latex": [
       "4"
      ],
      "text/markdown": [
       "4"
      ],
      "text/plain": [
       "[1] 4"
      ]
     },
     "metadata": {},
     "output_type": "display_data"
    }
   ],
   "source": [
    "# all variance should add up to the number of variables\n",
    "sum(pca_iris$sdev^2) "
   ]
  },
  {
   "cell_type": "code",
   "execution_count": 33,
   "metadata": {},
   "outputs": [
    {
     "name": "stderr",
     "output_type": "stream",
     "text": [
      "Installing package into 'C:/Users/Unknown/Documents/R/win-library/3.5'\n",
      "(as 'lib' is unspecified)\n",
      "Warning message:\n",
      "\"package 'stats' is not available (for R version 3.5.1)\"Warning message:\n",
      "\"package 'stats' is a base package, and should not be updated\""
     ]
    }
   ],
   "source": [
    "install.packages(\"stats\")"
   ]
  },
  {
   "cell_type": "code",
   "execution_count": 34,
   "metadata": {},
   "outputs": [
    {
     "data": {
      "text/plain": [
       "Importance of components:\n",
       "                          PC1    PC2     PC3     PC4\n",
       "Standard deviation     1.7125 0.9525 0.36380 0.16597\n",
       "Proportion of Variance 0.7332 0.2268 0.03309 0.00689\n",
       "Cumulative Proportion  0.7332 0.9600 0.99311 1.00000"
      ]
     },
     "metadata": {},
     "output_type": "display_data"
    }
   ],
   "source": [
    "summary(ir.pca)"
   ]
  },
  {
   "cell_type": "markdown",
   "metadata": {},
   "source": [
    "## Biplot"
   ]
  },
  {
   "cell_type": "code",
   "execution_count": 35,
   "metadata": {},
   "outputs": [
    {
     "name": "stdout",
     "output_type": "stream",
     "text": [
      "[1] \"We can now see clearly that Petal.Length, Petal.Width, and Sepal.Length all contribute to PC1, and Sepal.Width dominates PC2.\"\n"
     ]
    },
    {
     "data": {
      "image/png": "[encoded data removed]",
      "text/plain": [
       "plot without title"
      ]
     },
     "metadata": {},
     "output_type": "display_data"
    }
   ],
   "source": [
    "## https://wilkelab.org/classes/SDS348/2016_spring/worksheets/class9.html\n",
    "print(\"We can now see clearly that Petal.Length, Petal.Width, and Sepal.Length all contribute to PC1, and Sepal.Width dominates PC2.\")\n",
    "biplot(ir.pca)  "
   ]
  },
  {
   "cell_type": "markdown",
   "metadata": {},
   "source": [
    "## Scree Plot"
   ]
  },
  {
   "cell_type": "code",
   "execution_count": 36,
   "metadata": {},
   "outputs": [
    {
     "data": {
      "image/png": "[encoded data removed]",
      "text/plain": [
       "Plot with title \"ir.pca\""
      ]
     },
     "metadata": {},
     "output_type": "display_data"
    }
   ],
   "source": [
    "# http://dataaspirant.com/2017/09/01/perform-principal-component-analysis-r/\n",
    "screeplot(ir.pca, type=\"lines\")"
   ]
  },
  {
   "cell_type": "markdown",
   "metadata": {},
   "source": [
    "http://pcool.dyndns.org:8080/statsbook/?page_id=2124 <br>\n",
    "The elbow of the plot is at 3 principle components, so it is reasonable to maintain 2 principle components. Furthermore, according to Kaiser’s criterium, the variance of the last component on the standardised data should be less than 1; so again it is reasonable to use 2 principle components. Finally, to explain at least 80% of the variance, again 2 components are required."
   ]
  },
  {
   "cell_type": "code",
   "execution_count": 45,
   "metadata": {},
   "outputs": [
    {
     "name": "stderr",
     "output_type": "stream",
     "text": [
      "Warning message:\n",
      "\"package 'ggplot2' was built under R version 3.5.3\"\n",
      "Attaching package: 'ggplot2'\n",
      "\n",
      "The following objects are masked from 'package:psych':\n",
      "\n",
      "    %+%, alpha\n",
      "\n"
     ]
    }
   ],
   "source": [
    "library(ggplot2)"
   ]
  },
  {
   "cell_type": "code",
   "execution_count": 47,
   "metadata": {},
   "outputs": [
    {
     "data": {
      "image/png": "[encoded data removed]",
      "text/plain": [
       "plot without title"
      ]
     },
     "metadata": {},
     "output_type": "display_data"
    }
   ],
   "source": [
    "iris_pca_df <- data.frame(first = ir.pca$x[,1], second = ir.pca$x[,2], species = iris$Species)\n",
    "\n",
    "ggplot(iris_pca_df, aes(x = first, y = second, colour = species)) +\n",
    "geom_point() +\n",
    "theme_bw() +\n",
    "ggtitle(\"Principle Component Analysis\") +\n",
    "scale_x_continuous(\"First Principle Component\") + scale_y_continuous(\"“Second Principle Component\")"
   ]
  },
  {
   "cell_type": "markdown",
   "metadata": {},
   "source": [
    "As can be seen the first principle component is good in separating Setosa species from the other two and to a lesser extend in separating Versicolar and Virginica species. The second principle component helps to separate Versicolar and Virginica species."
   ]
  }
 ],
 "metadata": {
  "kernelspec": {
   "display_name": "R",
   "language": "R",
   "name": "ir"
  },
  "language_info": {
   "codemirror_mode": "r",
   "file_extension": ".r",
   "mimetype": "text/x-r-source",
   "name": "R",
   "pygments_lexer": "r",
   "version": "3.5.1"
  }
 },
 "nbformat": 4,
 "nbformat_minor": 2
}
