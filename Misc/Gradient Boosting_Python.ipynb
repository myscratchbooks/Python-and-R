{
 "cells": [
  {
   "cell_type": "markdown",
   "metadata": {},
   "source": [
    "# Gradient Boosting Regression Trees (GBRT)\n",
    "## In gradient boosting, each predictor corrects its predecessor’s error.\n",
    "\n"
   ]
  },
  {
   "cell_type": "markdown",
   "metadata": {},
   "source": [
    "### Random Forest vs Gradient Boosting \n",
    "\n",
    "#### https://www.datasciencecentral.com/profiles/blogs/decision-tree-vs-random-forest-vs-boosted-trees-explained\n",
    "\n",
    "#### Like random forests, gradient boosting is a set of decision trees. The two main differences are:\n",
    "\n",
    "#### 1.    How trees are built: random forests builds each tree independently while gradient boosting builds one tree at a time. This additive model (ensemble) works in a forward stage-wise manner, introducing a weak learner to improve the shortcomings of existing weak learners. \n",
    "\n",
    "#### 2.    Combining results: random forests combine results at the end of the process (by averaging or \"majority rules\") while gradient boosting combines results along the way.\n",
    "\n",
    "If you carefully tune parameters, gradient boosting can result in better performance than random forests. However, gradient boosting may not be a good choice if you have a lot of noise, as it can result in overfitting. They also tend to be harder to tune than random forests.\n",
    "\n",
    "Random forests and gradient boosting each excel in different areas. Random forests perform well for multi-class object detection and bioinformatics, which tends to have a lot of statistical noise. Gradient Boosting performs well when you have unbalanced data such as in real time risk assessment.\n",
    "\n",
    "#### The below diagram explains how gradient boosted trees are trained for regression problems."
   ]
  },
  {
   "cell_type": "code",
   "execution_count": 32,
   "metadata": {},
   "outputs": [
    {
     "data": {
      "text/html": [
       "<img src=\"https://media.geeksforgeeks.org/wp-content/uploads/20200721214745/gradientboosting.PNG\"/>"
      ],
      "text/plain": [
       "<IPython.core.display.Image object>"
      ]
     },
     "execution_count": 32,
     "metadata": {},
     "output_type": "execute_result"
    }
   ],
   "source": [
    "#### In gradient boosting, each predictor corrects its predecessor’s error.\n",
    "from IPython.display import Image\n",
    "from IPython.core.display import HTML \n",
    "Image(url= \"https://media.geeksforgeeks.org/wp-content/uploads/20200721214745/gradientboosting.PNG\")\n",
    "# https://www.geeksforgeeks.org/ml-gradient-boosting/"
   ]
  },
  {
   "cell_type": "code",
   "execution_count": 1,
   "metadata": {},
   "outputs": [],
   "source": [
    "# import library\n",
    "import numpy as np\n",
    "import pandas as pd\n",
    "from sklearn.model_selection import train_test_split\n",
    "from sklearn.metrics import mean_squared_error\n",
    "from sklearn.metrics import mean_absolute_error\n",
    "from sklearn.ensemble import GradientBoostingRegressor\n",
    "%matplotlib inline"
   ]
  },
  {
   "cell_type": "code",
   "execution_count": 2,
   "metadata": {
    "scrolled": true
   },
   "outputs": [
    {
     "data": {
      "text/html": [
       "<div>\n",
       "<style scoped>\n",
       "    .dataframe tbody tr th:only-of-type {\n",
       "        vertical-align: middle;\n",
       "    }\n",
       "\n",
       "    .dataframe tbody tr th {\n",
       "        vertical-align: top;\n",
       "    }\n",
       "\n",
       "    .dataframe thead th {\n",
       "        text-align: right;\n",
       "    }\n",
       "</style>\n",
       "<table border=\"1\" class=\"dataframe\">\n",
       "  <thead>\n",
       "    <tr style=\"text-align: right;\">\n",
       "      <th></th>\n",
       "      <th>year_built</th>\n",
       "      <th>stories</th>\n",
       "      <th>num_bedrooms</th>\n",
       "      <th>full_bathrooms</th>\n",
       "      <th>half_bathrooms</th>\n",
       "      <th>livable_sqft</th>\n",
       "      <th>total_sqft</th>\n",
       "      <th>garage_type</th>\n",
       "      <th>garage_sqft</th>\n",
       "      <th>carport_sqft</th>\n",
       "      <th>has_fireplace</th>\n",
       "      <th>has_pool</th>\n",
       "      <th>has_central_heating</th>\n",
       "      <th>has_central_cooling</th>\n",
       "      <th>house_number</th>\n",
       "      <th>street_name</th>\n",
       "      <th>unit_number</th>\n",
       "      <th>city</th>\n",
       "      <th>zip_code</th>\n",
       "      <th>sale_price</th>\n",
       "    </tr>\n",
       "  </thead>\n",
       "  <tbody>\n",
       "    <tr>\n",
       "      <th>0</th>\n",
       "      <td>1978</td>\n",
       "      <td>1</td>\n",
       "      <td>4</td>\n",
       "      <td>1</td>\n",
       "      <td>1</td>\n",
       "      <td>1689</td>\n",
       "      <td>1859</td>\n",
       "      <td>attached</td>\n",
       "      <td>508</td>\n",
       "      <td>0</td>\n",
       "      <td>True</td>\n",
       "      <td>False</td>\n",
       "      <td>True</td>\n",
       "      <td>True</td>\n",
       "      <td>42670</td>\n",
       "      <td>Lopez Crossing</td>\n",
       "      <td>NaN</td>\n",
       "      <td>Hallfort</td>\n",
       "      <td>10907</td>\n",
       "      <td>270897.0</td>\n",
       "    </tr>\n",
       "    <tr>\n",
       "      <th>1</th>\n",
       "      <td>1958</td>\n",
       "      <td>1</td>\n",
       "      <td>3</td>\n",
       "      <td>1</td>\n",
       "      <td>1</td>\n",
       "      <td>1984</td>\n",
       "      <td>2002</td>\n",
       "      <td>attached</td>\n",
       "      <td>462</td>\n",
       "      <td>0</td>\n",
       "      <td>True</td>\n",
       "      <td>False</td>\n",
       "      <td>True</td>\n",
       "      <td>True</td>\n",
       "      <td>5194</td>\n",
       "      <td>Gardner Park</td>\n",
       "      <td>NaN</td>\n",
       "      <td>Hallfort</td>\n",
       "      <td>10907</td>\n",
       "      <td>302404.0</td>\n",
       "    </tr>\n",
       "    <tr>\n",
       "      <th>2</th>\n",
       "      <td>2002</td>\n",
       "      <td>1</td>\n",
       "      <td>3</td>\n",
       "      <td>2</td>\n",
       "      <td>0</td>\n",
       "      <td>1581</td>\n",
       "      <td>1578</td>\n",
       "      <td>none</td>\n",
       "      <td>0</td>\n",
       "      <td>625</td>\n",
       "      <td>False</td>\n",
       "      <td>False</td>\n",
       "      <td>True</td>\n",
       "      <td>True</td>\n",
       "      <td>4366</td>\n",
       "      <td>Harding Islands</td>\n",
       "      <td>NaN</td>\n",
       "      <td>Lake Christinaport</td>\n",
       "      <td>11203</td>\n",
       "      <td>2519996.0</td>\n",
       "    </tr>\n",
       "    <tr>\n",
       "      <th>3</th>\n",
       "      <td>2004</td>\n",
       "      <td>1</td>\n",
       "      <td>4</td>\n",
       "      <td>2</td>\n",
       "      <td>0</td>\n",
       "      <td>1829</td>\n",
       "      <td>2277</td>\n",
       "      <td>attached</td>\n",
       "      <td>479</td>\n",
       "      <td>0</td>\n",
       "      <td>True</td>\n",
       "      <td>False</td>\n",
       "      <td>True</td>\n",
       "      <td>True</td>\n",
       "      <td>3302</td>\n",
       "      <td>Michelle Highway</td>\n",
       "      <td>NaN</td>\n",
       "      <td>Lake Christinaport</td>\n",
       "      <td>11203</td>\n",
       "      <td>197193.0</td>\n",
       "    </tr>\n",
       "    <tr>\n",
       "      <th>4</th>\n",
       "      <td>2006</td>\n",
       "      <td>1</td>\n",
       "      <td>4</td>\n",
       "      <td>2</td>\n",
       "      <td>0</td>\n",
       "      <td>1580</td>\n",
       "      <td>1749</td>\n",
       "      <td>attached</td>\n",
       "      <td>430</td>\n",
       "      <td>0</td>\n",
       "      <td>True</td>\n",
       "      <td>False</td>\n",
       "      <td>True</td>\n",
       "      <td>True</td>\n",
       "      <td>582</td>\n",
       "      <td>Jacob Cape</td>\n",
       "      <td>NaN</td>\n",
       "      <td>Lake Christinaport</td>\n",
       "      <td>11203</td>\n",
       "      <td>207897.0</td>\n",
       "    </tr>\n",
       "  </tbody>\n",
       "</table>\n",
       "</div>"
      ],
      "text/plain": [
       "   year_built  stories  num_bedrooms  full_bathrooms  half_bathrooms  \\\n",
       "0        1978        1             4               1               1   \n",
       "1        1958        1             3               1               1   \n",
       "2        2002        1             3               2               0   \n",
       "3        2004        1             4               2               0   \n",
       "4        2006        1             4               2               0   \n",
       "\n",
       "   livable_sqft  total_sqft garage_type  garage_sqft  carport_sqft  \\\n",
       "0          1689        1859    attached          508             0   \n",
       "1          1984        2002    attached          462             0   \n",
       "2          1581        1578        none            0           625   \n",
       "3          1829        2277    attached          479             0   \n",
       "4          1580        1749    attached          430             0   \n",
       "\n",
       "   has_fireplace  has_pool  has_central_heating  has_central_cooling  \\\n",
       "0           True     False                 True                 True   \n",
       "1           True     False                 True                 True   \n",
       "2          False     False                 True                 True   \n",
       "3           True     False                 True                 True   \n",
       "4           True     False                 True                 True   \n",
       "\n",
       "   house_number       street_name  unit_number                city  zip_code  \\\n",
       "0         42670    Lopez Crossing          NaN            Hallfort     10907   \n",
       "1          5194      Gardner Park          NaN            Hallfort     10907   \n",
       "2          4366   Harding Islands          NaN  Lake Christinaport     11203   \n",
       "3          3302  Michelle Highway          NaN  Lake Christinaport     11203   \n",
       "4           582        Jacob Cape          NaN  Lake Christinaport     11203   \n",
       "\n",
       "   sale_price  \n",
       "0    270897.0  \n",
       "1    302404.0  \n",
       "2   2519996.0  \n",
       "3    197193.0  \n",
       "4    207897.0  "
      ]
     },
     "execution_count": 2,
     "metadata": {},
     "output_type": "execute_result"
    }
   ],
   "source": [
    "# data set from https://github.com/pavankat/flask-ml/raw/master/ml_house_data_set.csv\n",
    "\n",
    "url = \"https://github.com/pavankat/flask-ml/raw/master/ml_house_data_set.csv\"\n",
    "\n",
    "data = pd.read_csv(url)\n",
    "data.head()"
   ]
  },
  {
   "cell_type": "code",
   "execution_count": 3,
   "metadata": {
    "scrolled": true
   },
   "outputs": [
    {
     "name": "stdout",
     "output_type": "stream",
     "text": [
      "<class 'pandas.core.frame.DataFrame'>\n",
      "RangeIndex: 42703 entries, 0 to 42702\n",
      "Data columns (total 20 columns):\n",
      "year_built             42703 non-null int64\n",
      "stories                42703 non-null int64\n",
      "num_bedrooms           42703 non-null int64\n",
      "full_bathrooms         42703 non-null int64\n",
      "half_bathrooms         42703 non-null int64\n",
      "livable_sqft           42703 non-null int64\n",
      "total_sqft             42703 non-null int64\n",
      "garage_type            42703 non-null object\n",
      "garage_sqft            42703 non-null int64\n",
      "carport_sqft           42703 non-null int64\n",
      "has_fireplace          42703 non-null bool\n",
      "has_pool               42703 non-null bool\n",
      "has_central_heating    42703 non-null bool\n",
      "has_central_cooling    42703 non-null bool\n",
      "house_number           42703 non-null int64\n",
      "street_name            42703 non-null object\n",
      "unit_number            3088 non-null float64\n",
      "city                   42703 non-null object\n",
      "zip_code               42703 non-null int64\n",
      "sale_price             42703 non-null float64\n",
      "dtypes: bool(4), float64(2), int64(11), object(3)\n",
      "memory usage: 5.4+ MB\n"
     ]
    }
   ],
   "source": [
    "# Information about the dataframe\n",
    "data.info()"
   ]
  },
  {
   "cell_type": "code",
   "execution_count": 4,
   "metadata": {},
   "outputs": [],
   "source": [
    "# Remove the fields from the data set that we don't want to include in our model\n",
    "del data['house_number']\n",
    "del data['street_name']\n",
    "del data['unit_number']\n",
    "del data['zip_code']"
   ]
  },
  {
   "cell_type": "code",
   "execution_count": 5,
   "metadata": {},
   "outputs": [],
   "source": [
    "# Replace categorical data with one-hot encoded data\n",
    "features_df =pd.get_dummies(data, columns=['garage_type','city'])"
   ]
  },
  {
   "cell_type": "code",
   "execution_count": 6,
   "metadata": {},
   "outputs": [],
   "source": [
    "# remove the sale prce from feature data\n",
    "del features_df['sale_price']"
   ]
  },
  {
   "cell_type": "code",
   "execution_count": 7,
   "metadata": {},
   "outputs": [
    {
     "name": "stdout",
     "output_type": "stream",
     "text": [
      "<class 'pandas.core.frame.DataFrame'>\n",
      "RangeIndex: 42703 entries, 0 to 42702\n",
      "Data columns (total 63 columns):\n",
      "year_built                   42703 non-null int64\n",
      "stories                      42703 non-null int64\n",
      "num_bedrooms                 42703 non-null int64\n",
      "full_bathrooms               42703 non-null int64\n",
      "half_bathrooms               42703 non-null int64\n",
      "livable_sqft                 42703 non-null int64\n",
      "total_sqft                   42703 non-null int64\n",
      "garage_sqft                  42703 non-null int64\n",
      "carport_sqft                 42703 non-null int64\n",
      "has_fireplace                42703 non-null bool\n",
      "has_pool                     42703 non-null bool\n",
      "has_central_heating          42703 non-null bool\n",
      "has_central_cooling          42703 non-null bool\n",
      "garage_type_attached         42703 non-null uint8\n",
      "garage_type_detached         42703 non-null uint8\n",
      "garage_type_none             42703 non-null uint8\n",
      "city_Amystad                 42703 non-null uint8\n",
      "city_Brownport               42703 non-null uint8\n",
      "city_Chadstad                42703 non-null uint8\n",
      "city_Clarkberg               42703 non-null uint8\n",
      "city_Coletown                42703 non-null uint8\n",
      "city_Davidfort               42703 non-null uint8\n",
      "city_Davidtown               42703 non-null uint8\n",
      "city_East Amychester         42703 non-null uint8\n",
      "city_East Janiceville        42703 non-null uint8\n",
      "city_East Justin             42703 non-null uint8\n",
      "city_East Lucas              42703 non-null uint8\n",
      "city_Fosterberg              42703 non-null uint8\n",
      "city_Hallfort                42703 non-null uint8\n",
      "city_Jeffreyhaven            42703 non-null uint8\n",
      "city_Jenniferberg            42703 non-null uint8\n",
      "city_Joshuafurt              42703 non-null uint8\n",
      "city_Julieberg               42703 non-null uint8\n",
      "city_Justinport              42703 non-null uint8\n",
      "city_Lake Carolyn            42703 non-null uint8\n",
      "city_Lake Christinaport      42703 non-null uint8\n",
      "city_Lake Dariusborough      42703 non-null uint8\n",
      "city_Lake Jack               42703 non-null uint8\n",
      "city_Lake Jennifer           42703 non-null uint8\n",
      "city_Leahview                42703 non-null uint8\n",
      "city_Lewishaven              42703 non-null uint8\n",
      "city_Martinezfort            42703 non-null uint8\n",
      "city_Morrisport              42703 non-null uint8\n",
      "city_New Michele             42703 non-null uint8\n",
      "city_New Robinton            42703 non-null uint8\n",
      "city_North Erinville         42703 non-null uint8\n",
      "city_Port Adamtown           42703 non-null uint8\n",
      "city_Port Andrealand         42703 non-null uint8\n",
      "city_Port Daniel             42703 non-null uint8\n",
      "city_Port Jonathanborough    42703 non-null uint8\n",
      "city_Richardport             42703 non-null uint8\n",
      "city_Rickytown               42703 non-null uint8\n",
      "city_Scottberg               42703 non-null uint8\n",
      "city_South Anthony           42703 non-null uint8\n",
      "city_South Stevenfurt        42703 non-null uint8\n",
      "city_Toddshire               42703 non-null uint8\n",
      "city_Wendybury               42703 non-null uint8\n",
      "city_West Ann                42703 non-null uint8\n",
      "city_West Brittanyview       42703 non-null uint8\n",
      "city_West Gerald             42703 non-null uint8\n",
      "city_West Gregoryview        42703 non-null uint8\n",
      "city_West Lydia              42703 non-null uint8\n",
      "city_West Terrence           42703 non-null uint8\n",
      "dtypes: bool(4), int64(9), uint8(50)\n",
      "memory usage: 5.1 MB\n"
     ]
    }
   ],
   "source": [
    "features_df.info()"
   ]
  },
  {
   "cell_type": "code",
   "execution_count": 9,
   "metadata": {},
   "outputs": [],
   "source": [
    "# Create a Pandas Excel writer using XlsxWriter as the engine.\n",
    "#writer = pd.ExcelWriter('./Desktop/house.xlsx', engine='xlsxwriter')\n",
    "\n",
    "# Convert the dataframe to an XlsxWriter Excel object.\n",
    "#features_df.to_excel(writer, sheet_name='Sheet1')\n",
    "# Close the Pandas Excel writer and output the Excel file.\n",
    "#writer.save()"
   ]
  },
  {
   "cell_type": "code",
   "execution_count": 10,
   "metadata": {},
   "outputs": [],
   "source": [
    "# split into train test sets\n",
    "\n",
    "y = data['sale_price']  # predict value\n",
    "X = features_df                # features\n",
    "\n",
    "# Normally the data split between test-train is 20%-80%.\n",
    "X_train, X_test, y_train, y_test = train_test_split(X, y, test_size=0.2)"
   ]
  },
  {
   "cell_type": "code",
   "execution_count": 21,
   "metadata": {},
   "outputs": [
    {
     "name": "stdout",
     "output_type": "stream",
     "text": [
      "(34163, 63) (8541, 63)\n"
     ]
    }
   ],
   "source": [
    "print (X_train.shape, X_test.shape)"
   ]
  },
  {
   "cell_type": "code",
   "execution_count": 11,
   "metadata": {},
   "outputs": [
    {
     "data": {
      "text/plain": [
       "['trained_house_classifier_model.pkl']"
      ]
     },
     "execution_count": 11,
     "metadata": {},
     "output_type": "execute_result"
    }
   ],
   "source": [
    "# Fit regression model\n",
    "\n",
    "regressor = GradientBoostingRegressor(\n",
    "    n_estimators=1000,    # how many decision trees to build\n",
    "    learning_rate=0.1,    # how much each additional decision tree influences the overall prediction\n",
    "                          # lower rate usually lead to higher accuracy\n",
    "    max_depth=6,           # how many layers deep each individual decision tree can be\n",
    "    min_samples_leaf=9,    # how many times a value must appear in our traning set for a decision tree to make a decision based on ot\n",
    "                            # 9 house must exhibit the same characteristic before we consider it meaningful enough to build decision tree around it\n",
    "                           # This helpsprevent single outliers frominfluencing the model too much\n",
    "    max_features=0.1,      # the precentage of features in ourmodel that we randomly choose to consider each time we create a branch in our decision tree\n",
    "    loss='huber'           # loss controls how scikit-learn calculates the model's error rate or cost as it learns\n",
    "                            # huber function does good job while not being too influenced by outliers in the data set\n",
    ")\n",
    "\n",
    "regressor.fit(X_train, y_train)\n",
    "\n",
    "# Save the trained model to file so we can use it in other programs\n",
    "# Joblib is the replacement of pickle as it is more efficent on objects that carry large numpy arrays\n",
    "from sklearn.externals import joblib \n",
    "\n",
    "joblib.dump(regressor,'trained_house_classifier_model.pkl')\n",
    "\n",
    "# Load the model from the file \n",
    "#model_from_joblib = joblib.load('trained_house_classifier_model.pkl')  \n",
    "  \n",
    "# Use the loaded model to make predictions \n",
    "#model_from_joblib.predict(X_test) \n",
    "\n",
    "#----------------------------------------------------------------------------------------\n",
    "# Option2\n",
    "# import pickle \n",
    "  \n",
    "# Save the trained model as a pickle string. \n",
    "#trained_house_classifier_model_model = pickle.dumps(regressor) \n",
    "\n",
    "# Load the pickled model \n",
    "#model_from_pickle = pickle.loads(trained_house_classifier_model_model) \n",
    "  \n",
    "# Use the loaded pickled model to make predictions \n",
    "#model_from_pickle.predict(X_test) "
   ]
  },
  {
   "cell_type": "code",
   "execution_count": 12,
   "metadata": {
    "scrolled": true
   },
   "outputs": [
    {
     "name": "stdout",
     "output_type": "stream",
     "text": [
      "Training Set Mean Absolute Error: 48877.5426\n"
     ]
    }
   ],
   "source": [
    "# Find the error rate on the training set\n",
    "mse = mean_absolute_error(y_train, regressor.predict(X_train))\n",
    "print(\"Training Set Mean Absolute Error: %.4f\" % mse)"
   ]
  },
  {
   "cell_type": "code",
   "execution_count": 13,
   "metadata": {},
   "outputs": [
    {
     "name": "stdout",
     "output_type": "stream",
     "text": [
      "Test Set Mean Absolute Error: 57290.5766\n"
     ]
    }
   ],
   "source": [
    "# Find the error rate on the test set\n",
    "mse = mean_absolute_error(y_test, regressor.predict(X_test))\n",
    "print(\"Test Set Mean Absolute Error: %.4f\" % mse)"
   ]
  },
  {
   "cell_type": "code",
   "execution_count": 24,
   "metadata": {},
   "outputs": [
    {
     "name": "stdout",
     "output_type": "stream",
     "text": [
      "Feature Importances\n",
      "[4.37250437e-02 2.29280001e-02 4.62682796e-02 2.70170308e-02\n",
      " 6.99401503e-03 1.07855476e-01 2.50091420e-01 7.39099102e-02\n",
      " 5.09249013e-02 2.06480504e-02 5.72504968e-02 1.71783920e-03\n",
      " 9.77700242e-03 1.28525298e-02 1.09722536e-03 5.08816432e-02\n",
      " 4.09386737e-04 2.73989247e-04 9.50285706e-03 7.26165303e-04\n",
      " 4.09588783e-02 1.53168941e-03 2.02028947e-05 2.30262029e-03\n",
      " 3.28123931e-04 9.24333141e-05 3.95551293e-03 1.57530902e-04\n",
      " 8.69128697e-03 3.98594130e-02 2.53217176e-03 3.57464894e-04\n",
      " 0.00000000e+00 5.77350139e-03 2.85554128e-03 1.62191730e-02\n",
      " 3.84607221e-03 1.63472539e-02 6.35393679e-05 2.10555920e-04\n",
      " 2.39439633e-03 0.00000000e+00 2.71990629e-03 0.00000000e+00\n",
      " 0.00000000e+00 2.09324291e-03 3.38579539e-04 1.52209852e-02\n",
      " 4.83912004e-04 1.01953774e-03 2.81922710e-03 3.24685252e-05\n",
      " 1.34653256e-02 4.73125962e-03 7.80477314e-05 3.05537850e-04\n",
      " 4.67672581e-04 5.53783066e-03 1.05070549e-04 1.95799929e-03\n",
      " 3.35635194e-03 1.84364197e-03 7.47778381e-05]\n",
      "R-squared for Train: 0.74\n",
      "R-squared for Test: 0.86\n"
     ]
    }
   ],
   "source": [
    "# Let's get some stats. \n",
    "# One of the benefits of growing trees is that we can understand how important each of the features are \n",
    "# https://shankarmsy.github.io/stories/gbrt-sklearn.html\n",
    "print (\"Feature Importances\")\n",
    "print (regressor.feature_importances_ )\n",
    "print #Let's print the R-squared value for train/test. This explains how much of the variance in the data our model is #able to decipher. \n",
    "print (\"R-squared for Train: %.2f\" %regressor.score(X_train, y_train) )\n",
    "print  (\"R-squared for Test: %.2f\" %regressor.score(X_test, y_test) )"
   ]
  },
  {
   "cell_type": "code",
   "execution_count": 39,
   "metadata": {},
   "outputs": [
    {
     "name": "stdout",
     "output_type": "stream",
     "text": [
      "\n",
      "0.7580590321970053\n",
      "\n",
      "0.14066331802180246\n"
     ]
    },
    {
     "data": {
      "text/plain": [
       "<matplotlib.axes._subplots.AxesSubplot at 0x2679b17c898>"
      ]
     },
     "execution_count": 39,
     "metadata": {},
     "output_type": "execute_result"
    },
    {
     "data": {
      "image/png": "[encoded data removed]",
      "text/plain": [
       "<Figure size 720x720 with 1 Axes>"
      ]
     },
     "metadata": {
      "needs_background": "light"
     },
     "output_type": "display_data"
    }
   ],
   "source": [
    "# https://www.dezyre.com/recipes/use-gradientboosting-classifier-and-regressor-in-python\n",
    "from sklearn import metrics\n",
    "import matplotlib.pyplot as plt\n",
    "import seaborn as sns\n",
    "\n",
    "\n",
    " # making predictions\n",
    "expected_y  = y_test\n",
    "predicted_y = regressor.predict(X_test)\n",
    "# summarize the fit of the model\n",
    "print(); print(metrics.r2_score(expected_y, predicted_y))\n",
    "print(); print(metrics.mean_squared_log_error(expected_y, predicted_y))\n",
    "# plot regression\n",
    "plt.figure(figsize=(10,10))\n",
    "sns.regplot(expected_y, predicted_y, fit_reg=True, scatter_kws={\"s\": 100})"
   ]
  },
  {
   "cell_type": "code",
   "execution_count": 48,
   "metadata": {},
   "outputs": [
    {
     "name": "stdout",
     "output_type": "stream",
     "text": [
      "city_New Robinton - 0.00%\n",
      "city_New Michele - 0.00%\n",
      "city_Martinezfort - 0.00%\n",
      "city_Julieberg - 0.00%\n",
      "city_Davidtown - 0.00%\n",
      "city_Rickytown - 0.00%\n",
      "city_Lake Jennifer - 0.01%\n",
      "city_West Terrence - 0.01%\n",
      "city_West Brittanyview - 0.01%\n",
      "city_South Stevenfurt - 0.01%\n",
      "city_Fosterberg - 0.01%\n",
      "city_East Justin - 0.01%\n",
      "city_Leahview - 0.02%\n",
      "city_Joshuafurt - 0.03%\n",
      "city_Brownport - 0.03%\n",
      "city_Toddshire - 0.03%\n",
      "city_Amystad - 0.04%\n",
      "city_Wendybury - 0.04%\n",
      "city_Port Adamtown - 0.04%\n",
      "city_East Janiceville - 0.04%\n",
      "city_Port Daniel - 0.05%\n",
      "city_Clarkberg - 0.08%\n",
      "city_Port Jonathanborough - 0.11%\n",
      "garage_type_detached - 0.12%\n",
      "city_Davidfort - 0.12%\n",
      "city_West Lydia - 0.15%\n",
      "has_central_cooling - 0.16%\n",
      "has_central_heating - 0.16%\n",
      "city_Jenniferberg - 0.18%\n",
      "city_West Gerald - 0.19%\n",
      "city_East Amychester - 0.20%\n",
      "city_North Erinville - 0.21%\n",
      "city_Lewishaven - 0.24%\n",
      "city_Morrisport - 0.26%\n",
      "city_West Gregoryview - 0.33%\n",
      "city_East Lucas - 0.35%\n",
      "city_Richardport - 0.35%\n",
      "city_Lake Carolyn - 0.38%\n",
      "city_Lake Dariusborough - 0.40%\n",
      "city_South Anthony - 0.41%\n",
      "city_West Ann - 0.46%\n",
      "city_Justinport - 0.56%\n",
      "city_Hallfort - 0.64%\n",
      "half_bathrooms - 0.96%\n",
      "city_Chadstad - 1.13%\n",
      "stories - 1.30%\n",
      "city_Scottberg - 1.31%\n",
      "city_Lake Jack - 1.55%\n",
      "num_bedrooms - 1.56%\n",
      "city_Lake Christinaport - 1.63%\n",
      "city_Port Andrealand - 1.75%\n",
      "carport_sqft - 2.27%\n",
      "has_fireplace - 2.93%\n",
      "garage_type_attached - 3.21%\n",
      "city_Jeffreyhaven - 3.45%\n",
      "year_built - 3.72%\n",
      "city_Coletown - 4.25%\n",
      "has_pool - 4.64%\n",
      "full_bathrooms - 6.30%\n",
      "garage_sqft - 7.80%\n",
      "garage_type_none - 8.93%\n",
      "livable_sqft - 10.52%\n",
      "total_sqft - 24.31%\n"
     ]
    }
   ],
   "source": [
    "# Load the model from the file \n",
    "model_from_joblib = joblib.load('trained_house_classifier_model.pkl')  \n",
    "# These are the feature labels from our data set\n",
    "feature_labels = np.array(['year_built', 'stories', 'num_bedrooms', 'full_bathrooms', 'half_bathrooms', 'livable_sqft', 'total_sqft', 'garage_sqft', 'carport_sqft', 'has_fireplace', 'has_pool', 'has_central_heating', 'has_central_cooling', 'garage_type_attached', 'garage_type_detached', 'garage_type_none', 'city_Amystad', 'city_Brownport', 'city_Chadstad', 'city_Clarkberg', 'city_Coletown', 'city_Davidfort', 'city_Davidtown', 'city_East Amychester', 'city_East Janiceville', 'city_East Justin', 'city_East Lucas', 'city_Fosterberg', 'city_Hallfort', 'city_Jeffreyhaven', 'city_Jenniferberg', 'city_Joshuafurt', 'city_Julieberg', 'city_Justinport', 'city_Lake Carolyn', 'city_Lake Christinaport', 'city_Lake Dariusborough', 'city_Lake Jack', 'city_Lake Jennifer', 'city_Leahview', 'city_Lewishaven', 'city_Martinezfort', 'city_Morrisport', 'city_New Michele', 'city_New Robinton', 'city_North Erinville', 'city_Port Adamtown', 'city_Port Andrealand', 'city_Port Daniel', 'city_Port Jonathanborough', 'city_Richardport', 'city_Rickytown', 'city_Scottberg', 'city_South Anthony', 'city_South Stevenfurt', 'city_Toddshire', 'city_Wendybury', 'city_West Ann', 'city_West Brittanyview', 'city_West Gerald', 'city_West Gregoryview', 'city_West Lydia', 'city_West Terrence'])\n",
    "\n",
    "# Create a numpy array based on the model's feature importances\n",
    "importance = model_from_joblib.feature_importances_\n",
    "\n",
    "# Sort the feature labels based on the feature importancerankingsfrom the model\n",
    "feature_indexes_by_importance = importance.argsort()\n",
    "\n",
    "# Print each feature label, from most important to least important\n",
    "for index in feature_indexes_by_importance:\n",
    "    print(\"{} - {:.2f}%\".format(feature_labels[index], (importance[index] * 100.0)))"
   ]
  },
  {
   "cell_type": "code",
   "execution_count": 50,
   "metadata": {},
   "outputs": [
    {
     "name": "stdout",
     "output_type": "stream",
     "text": [
      "This house has an estimated value of $565,645.02\n"
     ]
    }
   ],
   "source": [
    "# to provide the features in the exact same arrangement as in training set\n",
    "house_to_value =[ \n",
    "    # House features\n",
    "    2006,   # year_built\n",
    "    1,      # stories\n",
    "    4,      # num_bedrooms\n",
    "    3,      # full_bathrooms\n",
    "    0,      # half_bathrooms \n",
    "    2200,   # livable_sqft\n",
    "    2350,   # total_sqft\n",
    "    0,      # garage_sqft\n",
    "    0,      # carport_sqft\n",
    "    True,   # has_fireplace\n",
    "    False,  # has_pool\n",
    "    True,   # has_central_heating\n",
    "    True,   # has_central_cooling\n",
    "    \n",
    "    # Garage type: Choose only one\n",
    "    0,      # attached\n",
    "    0,      # detached\n",
    "    1,      # none\n",
    "    \n",
    "    # City: Choose only one\n",
    "    0,      # Amystad\n",
    "    1,      # Brownport\n",
    "    0,      # Chadstad\n",
    "    0,      # Clarkberg\n",
    "    0,      # Coletown\n",
    "    0,      # Davidfort\n",
    "    0,      # Davidtown\n",
    "    0,      # East Amychester\n",
    "    0,      # East Janiceville\n",
    "    0,      # East Justin\n",
    "    0,      # East Lucas\n",
    "    0,      # Fosterberg\n",
    "    0,      # Hallfort\n",
    "    0,      # Jeffreyhaven\n",
    "    0,      # Jenniferberg\n",
    "    0,      # Joshuafurt\n",
    "    0,      # Julieberg\n",
    "    0,      # Justinport\n",
    "    0,      # Lake Carolyn\n",
    "    0,      # Lake Christinaport\n",
    "    0,      # Lake Dariusborough\n",
    "    0,      # Lake Jack\n",
    "    0,      # Lake Jennifer\n",
    "    0,      # Leahview\n",
    "    0,      # Lewishaven\n",
    "    0,      # Martinezfort\n",
    "    0,      # Morrisport\n",
    "    0,      # New Michele\n",
    "    0,      # New Robinton\n",
    "    0,      # North Erinville\n",
    "    0,      # Port Adamtown\n",
    "    0,      # Port Andrealand\n",
    "    0,      # Port Daniel\n",
    "    0,      # Port Jonathanborough\n",
    "    0,      # Richardport\n",
    "    0,      # Rickytown\n",
    "    0,      # Scottberg\n",
    "    0,      # South Anthony\n",
    "    0,      # South Stevenfurt\n",
    "    0,      # Toddshire\n",
    "    0,      # Wendybury\n",
    "    0,      # West Ann\n",
    "    0,      # West Brittanyview\n",
    "    0,      # West Gerald\n",
    "    0,      # West Gregoryview\n",
    "    0,      # West Lydia\n",
    "    0       # West Terrence\n",
    "    ]\n",
    "# To look at a single house\n",
    "homes_to_value=[house_to_value]\n",
    "\n",
    "# Run the model and make a prediction for each house in the homes_to_value array\n",
    "predicted_home_values = model_from_joblib.predict(homes_to_value)\n",
    "\n",
    "# look at hethe first prediction return\n",
    "predicted_value = predicted_home_values[0]\n",
    "print(\"This house has an estimated value of ${:,.2f}\".format(predicted_value))"
   ]
  },
  {
   "cell_type": "markdown",
   "metadata": {},
   "source": [
    "### Grid Search - to obtain Optimal Hyperpararmeter Values"
   ]
  },
  {
   "cell_type": "code",
   "execution_count": 33,
   "metadata": {},
   "outputs": [
    {
     "name": "stdout",
     "output_type": "stream",
     "text": [
      "(4000, 63) (1000, 63)\n"
     ]
    }
   ],
   "source": [
    "# split into train test sets\n",
    "# using 5000 rows to lower the processing time. But still I need more than 8hrs\n",
    "y = data['sale_price'][0:5000]  # predict value\n",
    "X = features_df[0:5000]                # features\n",
    "\n",
    "# Normally the data split between test-train is 20%-80%.\n",
    "X_train, X_test, y_train, y_test = train_test_split(X, y, test_size=0.2)\n",
    "print (X_train.shape, X_test.shape)"
   ]
  },
  {
   "cell_type": "code",
   "execution_count": 31,
   "metadata": {},
   "outputs": [
    {
     "name": "stdout",
     "output_type": "stream",
     "text": [
      "{'learning_rate': 0.01, 'loss': 'huber', 'max_depth': 6, 'max_features': 0.1, 'min_samples_leaf': 9, 'n_estimators': 3000}\n",
      "Training Set Mean Absolute Error: 47583.6544\n",
      "Test Set Mean Absolute Error: 59545.3971\n"
     ]
    }
   ],
   "source": [
    "\n",
    "from sklearn.model_selection import GridSearchCV\n",
    "# Create the model\n",
    "model = GradientBoostingRegressor()\n",
    "\n",
    "# Parameters we want to try\n",
    "param_grid ={       \n",
    "    'n_estimators': [500, 1000, 3000],\n",
    "    'max_depth' : [4, 6],\n",
    "    'min_samples_leaf': [3, 5, 9, 17],\n",
    "    'learning_rate' : [0.1, 0.05, 0.02, 0.01],\n",
    "    'max_features': [1.0, 0.3, 0.1],\n",
    "    'loss': ['ls','lad','huber']\n",
    "}\n",
    "\n",
    "# Define the grid search we want to run, Run it with four cpus in parallel ( n_jobs)\n",
    "gs_cv = GridSearchCV(model, param_grid, n_jobs=4, cv=5)  # cv :five-fold cross-validation\n",
    "                                                   \n",
    "\n",
    "# Run the grid search - on only the training data\n",
    "gs_cv.fit(X_train, y_train)\n",
    "\n",
    "# Print the parameters that ave us the best result\n",
    "print(gs_cv.best_params_)\n",
    "\n",
    "# Find the error rate on the training set\n",
    "mse = mean_absolute_error(y_train, gs_cv.predict(X_train))\n",
    "print(\"Training Set Mean Absolute Error: %.4f\" % mse)\n",
    "\n",
    "# Find the error rate on the test set\n",
    "mse = mean_absolute_error(y_test, gs_cv.predict(X_test))\n",
    "print(\"Test Set Mean Absolute Error: %.4f\" % mse)"
   ]
  },
  {
   "cell_type": "code",
   "execution_count": null,
   "metadata": {},
   "outputs": [],
   "source": []
  }
 ],
 "metadata": {
  "kernelspec": {
   "display_name": "Python 3",
   "language": "python",
   "name": "python3"
  },
  "language_info": {
   "codemirror_mode": {
    "name": "ipython",
    "version": 3
   },
   "file_extension": ".py",
   "mimetype": "text/x-python",
   "name": "python",
   "nbconvert_exporter": "python",
   "pygments_lexer": "ipython3",
   "version": "3.7.3"
  }
 },
 "nbformat": 4,
 "nbformat_minor": 2
}
