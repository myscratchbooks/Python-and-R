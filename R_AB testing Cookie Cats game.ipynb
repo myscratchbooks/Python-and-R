{
 "cells": [
  {
   "cell_type": "markdown",
   "id": "55757764-5767-4bf6-b009-8e7d9442b7ef",
   "metadata": {},
   "source": [
    "# A/B Testing on Mobile Games Cookie Cats"
   ]
  },
  {
   "cell_type": "markdown",
   "id": "de1b2fe5-6249-461f-90e4-ae885438815b",
   "metadata": {},
   "source": [
    "### Load the data, remove duplicate rows, and check the overall structure.\n",
    "\n",
    "#### data from https://www.kaggle.com/datasets/mursideyarkin/mobile-games-ab-testing-cookie-cats"
   ]
  },
  {
   "cell_type": "code",
   "execution_count": 1,
   "id": "927ce56a-fd7d-4fe3-8d71-423bf3595ec9",
   "metadata": {},
   "outputs": [
    {
     "data": {
      "text/html": [
       "'R version 4.3.2 (2023-10-31 ucrt)'"
      ],
      "text/latex": [
       "'R version 4.3.2 (2023-10-31 ucrt)'"
      ],
      "text/markdown": [
       "'R version 4.3.2 (2023-10-31 ucrt)'"
      ],
      "text/plain": [
       "[1] \"R version 4.3.2 (2023-10-31 ucrt)\""
      ]
     },
     "metadata": {},
     "output_type": "display_data"
    }
   ],
   "source": [
    "# Current R version\n",
    "R.Version()$version.string"
   ]
  },
  {
   "cell_type": "code",
   "execution_count": 2,
   "id": "44a8ebed-d301-43f0-9114-55e912e61c68",
   "metadata": {},
   "outputs": [
    {
     "name": "stderr",
     "output_type": "stream",
     "text": [
      "Loading required package: tidyverse\n",
      "\n",
      "── \u001b[1mAttaching core tidyverse packages\u001b[22m ──────────────────────────────────────────────────────────────── tidyverse 2.0.0 ──\n",
      "\u001b[32m✔\u001b[39m \u001b[34mdplyr    \u001b[39m 1.1.4     \u001b[32m✔\u001b[39m \u001b[34mreadr    \u001b[39m 2.1.4\n",
      "\u001b[32m✔\u001b[39m \u001b[34mforcats  \u001b[39m 1.0.0     \u001b[32m✔\u001b[39m \u001b[34mstringr  \u001b[39m 1.5.1\n",
      "\u001b[32m✔\u001b[39m \u001b[34mggplot2  \u001b[39m 3.4.4     \u001b[32m✔\u001b[39m \u001b[34mtibble   \u001b[39m 3.2.1\n",
      "\u001b[32m✔\u001b[39m \u001b[34mlubridate\u001b[39m 1.9.3     \u001b[32m✔\u001b[39m \u001b[34mtidyr    \u001b[39m 1.3.0\n",
      "\u001b[32m✔\u001b[39m \u001b[34mpurrr    \u001b[39m 1.0.2     \n",
      "── \u001b[1mConflicts\u001b[22m ────────────────────────────────────────────────────────────────────────────────── tidyverse_conflicts() ──\n",
      "\u001b[31m✖\u001b[39m \u001b[34mdplyr\u001b[39m::\u001b[32mfilter()\u001b[39m masks \u001b[34mstats\u001b[39m::filter()\n",
      "\u001b[31m✖\u001b[39m \u001b[34mdplyr\u001b[39m::\u001b[32mlag()\u001b[39m    masks \u001b[34mstats\u001b[39m::lag()\n",
      "\u001b[36mℹ\u001b[39m Use the conflicted package (\u001b[3m\u001b[34m<http://conflicted.r-lib.org/>\u001b[39m\u001b[23m) to force all conflicts to become errors\n",
      "Loading required package: caret\n",
      "\n",
      "Loading required package: lattice\n",
      "\n",
      "\n",
      "Attaching package: 'caret'\n",
      "\n",
      "\n",
      "The following object is masked from 'package:purrr':\n",
      "\n",
      "    lift\n",
      "\n",
      "\n"
     ]
    }
   ],
   "source": [
    "# load libraries\n",
    "\n",
    "if (!require(tidyverse)) install.packages('tidyverse', dependencies=TRUE)   # data manipulation\n",
    "suppressWarnings(suppressMessages(library(tidyverse) ))\n",
    "\n",
    "if (!require(ggplot2)) install.packages('ggplot2', dependencies=TRUE) #  data visualization\n",
    "suppressWarnings(suppressMessages(library(ggplot2)))\n",
    "\n",
    "if (!require(caret)) install.packages('caret', dependencies=TRUE) \n",
    "suppressWarnings(suppressMessages(library(caret)))"
   ]
  },
  {
   "cell_type": "code",
   "execution_count": 3,
   "id": "3a93317c-419f-488c-8d20-f2b7959facfe",
   "metadata": {},
   "outputs": [
    {
     "name": "stdout",
     "output_type": "stream",
     "text": [
      "'data.frame':\t90189 obs. of  5 variables:\n",
      " $ userid        : int  116 337 377 483 488 540 1066 1444 1574 1587 ...\n",
      " $ version       : chr  \"gate_30\" \"gate_30\" \"gate_40\" \"gate_40\" ...\n",
      " $ sum_gamerounds: int  3 38 165 1 179 187 0 2 108 153 ...\n",
      " $ retention_1   : logi  FALSE TRUE TRUE FALSE TRUE TRUE ...\n",
      " $ retention_7   : logi  FALSE FALSE FALSE FALSE TRUE TRUE ...\n"
     ]
    }
   ],
   "source": [
    "ab_df <- read.csv(\"cookie_cats.csv\")\n",
    "\n",
    "ab_df <- unique(ab_df)\n",
    "\n",
    "str(ab_df)"
   ]
  },
  {
   "cell_type": "markdown",
   "id": "67f5e61e-70b5-4792-bb04-5fdd482df56c",
   "metadata": {},
   "source": [
    "    userid: Unique ID of the game player\n",
    "    \n",
    "    version: Whether the game player is in gate_30 (control group) or gate_40\n",
    "    \n",
    "    sum_gamerounds: The number of times a game player has played the game in the two weeks since installing it.\n",
    "    \n",
    "    retention_1: Whether the game player logged back in one day after installing the game.\n",
    "    \n",
    "    retention_7: Whether the game player logged back in a week after installing the game."
   ]
  },
  {
   "cell_type": "code",
   "execution_count": 4,
   "id": "7f21d8ae-8067-4b27-91d7-06bddcfeaa0a",
   "metadata": {},
   "outputs": [
    {
     "data": {
      "text/plain": [
       "     userid          version          sum_gamerounds     retention_1    \n",
       " Min.   :    116   Length:90189       Min.   :    0.00   Mode :logical  \n",
       " 1st Qu.:2512230   Class :character   1st Qu.:    5.00   FALSE:50036    \n",
       " Median :4995815   Mode  :character   Median :   16.00   TRUE :40153    \n",
       " Mean   :4998412                      Mean   :   51.87                  \n",
       " 3rd Qu.:7496452                      3rd Qu.:   51.00                  \n",
       " Max.   :9999861                      Max.   :49854.00                  \n",
       " retention_7    \n",
       " Mode :logical  \n",
       " FALSE:73408    \n",
       " TRUE :16781    \n",
       "                \n",
       "                \n",
       "                "
      ]
     },
     "metadata": {},
     "output_type": "display_data"
    }
   ],
   "source": [
    "ab_df %>% summary()"
   ]
  },
  {
   "cell_type": "markdown",
   "id": "1a257f58-69a6-4165-832a-0c79c7f955a9",
   "metadata": {},
   "source": [
    "### Transform the data variables to each type and perform a simple EDA."
   ]
  },
  {
   "cell_type": "code",
   "execution_count": 5,
   "id": "67fe26ba-998b-4246-92c9-6c55cc57943d",
   "metadata": {},
   "outputs": [],
   "source": [
    "ab_df$version <- factor(ab_df$version)\n",
    "\n",
    "ab_df$retention_1 <- factor(ab_df$retention_1)\n",
    "\n",
    "ab_df$retention_7 <- factor(ab_df$retention_7)"
   ]
  },
  {
   "cell_type": "code",
   "execution_count": 6,
   "id": "a92b35e5-1219-4442-a6c0-b6dce2c3ef34",
   "metadata": {},
   "outputs": [
    {
     "name": "stdout",
     "output_type": "stream",
     "text": [
      "'data.frame':\t90189 obs. of  5 variables:\n",
      " $ userid        : int  116 337 377 483 488 540 1066 1444 1574 1587 ...\n",
      " $ version       : Factor w/ 2 levels \"gate_30\",\"gate_40\": 1 1 2 2 2 2 1 2 2 2 ...\n",
      " $ sum_gamerounds: int  3 38 165 1 179 187 0 2 108 153 ...\n",
      " $ retention_1   : Factor w/ 2 levels \"FALSE\",\"TRUE\": 1 2 2 1 2 2 1 1 2 2 ...\n",
      " $ retention_7   : Factor w/ 2 levels \"FALSE\",\"TRUE\": 1 1 1 1 2 2 1 1 2 1 ...\n"
     ]
    }
   ],
   "source": [
    "str(ab_df)"
   ]
  },
  {
   "cell_type": "code",
   "execution_count": 7,
   "id": "1755c897-0b9d-40c2-a19f-5ce30338ac59",
   "metadata": {},
   "outputs": [
    {
     "data": {
      "text/html": [
       "<table class=\"dataframe\">\n",
       "<caption>A tibble: 6 × 5</caption>\n",
       "<thead>\n",
       "\t<tr><th scope=col>userid</th><th scope=col>version</th><th scope=col>sum_gamerounds</th><th scope=col>retention_1</th><th scope=col>retention_7</th></tr>\n",
       "\t<tr><th scope=col>&lt;int&gt;</th><th scope=col>&lt;fct&gt;</th><th scope=col>&lt;int&gt;</th><th scope=col>&lt;fct&gt;</th><th scope=col>&lt;fct&gt;</th></tr>\n",
       "</thead>\n",
       "<tbody>\n",
       "\t<tr><td>116</td><td>gate_30</td><td>  3</td><td>FALSE</td><td>FALSE</td></tr>\n",
       "\t<tr><td>337</td><td>gate_30</td><td> 38</td><td>TRUE </td><td>FALSE</td></tr>\n",
       "\t<tr><td>377</td><td>gate_40</td><td>165</td><td>TRUE </td><td>FALSE</td></tr>\n",
       "\t<tr><td>483</td><td>gate_40</td><td>  1</td><td>FALSE</td><td>FALSE</td></tr>\n",
       "\t<tr><td>488</td><td>gate_40</td><td>179</td><td>TRUE </td><td>TRUE </td></tr>\n",
       "\t<tr><td>540</td><td>gate_40</td><td>187</td><td>TRUE </td><td>TRUE </td></tr>\n",
       "</tbody>\n",
       "</table>\n"
      ],
      "text/latex": [
       "A tibble: 6 × 5\n",
       "\\begin{tabular}{lllll}\n",
       " userid & version & sum\\_gamerounds & retention\\_1 & retention\\_7\\\\\n",
       " <int> & <fct> & <int> & <fct> & <fct>\\\\\n",
       "\\hline\n",
       "\t 116 & gate\\_30 &   3 & FALSE & FALSE\\\\\n",
       "\t 337 & gate\\_30 &  38 & TRUE  & FALSE\\\\\n",
       "\t 377 & gate\\_40 & 165 & TRUE  & FALSE\\\\\n",
       "\t 483 & gate\\_40 &   1 & FALSE & FALSE\\\\\n",
       "\t 488 & gate\\_40 & 179 & TRUE  & TRUE \\\\\n",
       "\t 540 & gate\\_40 & 187 & TRUE  & TRUE \\\\\n",
       "\\end{tabular}\n"
      ],
      "text/markdown": [
       "\n",
       "A tibble: 6 × 5\n",
       "\n",
       "| userid &lt;int&gt; | version &lt;fct&gt; | sum_gamerounds &lt;int&gt; | retention_1 &lt;fct&gt; | retention_7 &lt;fct&gt; |\n",
       "|---|---|---|---|---|\n",
       "| 116 | gate_30 |   3 | FALSE | FALSE |\n",
       "| 337 | gate_30 |  38 | TRUE  | FALSE |\n",
       "| 377 | gate_40 | 165 | TRUE  | FALSE |\n",
       "| 483 | gate_40 |   1 | FALSE | FALSE |\n",
       "| 488 | gate_40 | 179 | TRUE  | TRUE  |\n",
       "| 540 | gate_40 | 187 | TRUE  | TRUE  |\n",
       "\n"
      ],
      "text/plain": [
       "  userid version sum_gamerounds retention_1 retention_7\n",
       "1 116    gate_30   3            FALSE       FALSE      \n",
       "2 337    gate_30  38            TRUE        FALSE      \n",
       "3 377    gate_40 165            TRUE        FALSE      \n",
       "4 483    gate_40   1            FALSE       FALSE      \n",
       "5 488    gate_40 179            TRUE        TRUE       \n",
       "6 540    gate_40 187            TRUE        TRUE       "
      ]
     },
     "metadata": {},
     "output_type": "display_data"
    }
   ],
   "source": [
    "ab_df %>% \n",
    "    as_tibble() %>%\n",
    "    head() # See top 6 rows "
   ]
  },
  {
   "cell_type": "code",
   "execution_count": 8,
   "id": "7d6c6c71-70bc-4bba-ac3e-94a1d7a270bb",
   "metadata": {},
   "outputs": [
    {
     "data": {
      "text/html": [
       "<style>\n",
       ".dl-inline {width: auto; margin:0; padding: 0}\n",
       ".dl-inline>dt, .dl-inline>dd {float: none; width: auto; display: inline-block}\n",
       ".dl-inline>dt::after {content: \":\\0020\"; padding-right: .5ex}\n",
       ".dl-inline>dt:not(:first-of-type) {padding-left: .5ex}\n",
       "</style><dl class=dl-inline><dt>userid</dt><dd>0</dd><dt>version</dt><dd>0</dd><dt>sum_gamerounds</dt><dd>0</dd><dt>retention_1</dt><dd>0</dd><dt>retention_7</dt><dd>0</dd></dl>\n"
      ],
      "text/latex": [
       "\\begin{description*}\n",
       "\\item[userid] 0\n",
       "\\item[version] 0\n",
       "\\item[sum\\textbackslash{}\\_gamerounds] 0\n",
       "\\item[retention\\textbackslash{}\\_1] 0\n",
       "\\item[retention\\textbackslash{}\\_7] 0\n",
       "\\end{description*}\n"
      ],
      "text/markdown": [
       "userid\n",
       ":   0version\n",
       ":   0sum_gamerounds\n",
       ":   0retention_1\n",
       ":   0retention_7\n",
       ":   0\n",
       "\n"
      ],
      "text/plain": [
       "        userid        version sum_gamerounds    retention_1    retention_7 \n",
       "             0              0              0              0              0 "
      ]
     },
     "metadata": {},
     "output_type": "display_data"
    }
   ],
   "source": [
    "# Check for any NA values in the entire dataset\n",
    "na_summary <- sapply(ab_df, function(x) sum(is.na(x)))\n",
    "\n",
    "# Display columns with NA values and their counts\n",
    "na_summary"
   ]
  },
  {
   "cell_type": "code",
   "execution_count": 9,
   "id": "5ea1677d-0d66-4575-b4c5-6a8fa9334ee0",
   "metadata": {},
   "outputs": [
    {
     "name": "stderr",
     "output_type": "stream",
     "text": [
      "Loading required package: repr\n",
      "\n"
     ]
    }
   ],
   "source": [
    "if (!require(repr)) install.packages('repr', dependencies=TRUE) \n",
    "suppressWarnings(suppressMessages(library(repr)))"
   ]
  },
  {
   "cell_type": "code",
   "execution_count": 10,
   "id": "6aa4475f-3fb0-47c1-99a3-239cf760a3d7",
   "metadata": {},
   "outputs": [],
   "source": [
    "options(repr.plot.width=12, repr.plot.height=8)\n",
    "\n",
    "My_Theme = theme(\n",
    "  axis.title.x = element_text(size = 16),\n",
    "  axis.text.x = element_text(size = 14),\n",
    "  axis.title.y = element_text(size = 16),\n",
    "  axis.text.y = element_text(size = 14),\n",
    "  legend.title=element_text(size=16),\n",
    "  legend.text=element_text(size=14))"
   ]
  },
  {
   "cell_type": "code",
   "execution_count": 11,
   "id": "b540e1ef-4e1d-41c8-82bb-0b2f152b211b",
   "metadata": {},
   "outputs": [
    {
     "data": {
      "image/png": "[encoded data removed]",
      "text/plain": [
       "plot without title"
      ]
     },
     "metadata": {
      "image/png": {
       "height": 480,
       "width": 720
      }
     },
     "output_type": "display_data"
    }
   ],
   "source": [
    "ab_df %>% \n",
    "    group_by(version) %>% \n",
    "    count() %>% \n",
    "    ggplot(aes(x=version, y=n, fill = version)) + geom_bar(stat = \"identity\") + geom_text(aes(label = n), size = 10) + My_Theme"
   ]
  },
  {
   "cell_type": "markdown",
   "id": "0e4e2a84-4db8-4e4e-8011-9b93eeea1fca",
   "metadata": {},
   "source": [
    "#### gate_40 group is slightly more than the number of game players belonging to the gate_30 group."
   ]
  },
  {
   "cell_type": "code",
   "execution_count": 50,
   "id": "29019d96-797d-46d2-aff7-4ce3584151c5",
   "metadata": {},
   "outputs": [
    {
     "name": "stderr",
     "output_type": "stream",
     "text": [
      "Warning message:\n",
      "\"\u001b[1m\u001b[22mRemoved 3994 rows containing non-finite values (`stat_boxplot()`).\"\n",
      "Warning message:\n",
      "\"\u001b[1m\u001b[22mRemoved 3994 rows containing non-finite values (`stat_boxplot()`).\"\n"
     ]
    },
    {
     "data": {
      "image/png": "[encoded data removed]",
      "text/plain": [
       "plot without title"
      ]
     },
     "metadata": {
      "image/png": {
       "height": 480,
       "width": 720
      }
     },
     "output_type": "display_data"
    }
   ],
   "source": [
    "ab_df %>% ggplot( aes(x = version, y = log(sum_gamerounds), fill = version)) + \n",
    "  stat_boxplot(geom = \"errorbar\",\n",
    "               width = 0.25) + \n",
    "  geom_boxplot() + My_Theme"
   ]
  },
  {
   "cell_type": "code",
   "execution_count": 13,
   "id": "d9572528-5be9-419a-a44c-aec8520ec4e7",
   "metadata": {},
   "outputs": [
    {
     "data": {
      "text/html": [
       "3994"
      ],
      "text/latex": [
       "3994"
      ],
      "text/markdown": [
       "3994"
      ],
      "text/plain": [
       "[1] 3994"
      ]
     },
     "metadata": {},
     "output_type": "display_data"
    }
   ],
   "source": [
    "# Filter the data frame where sum_gamerounds is 0 and count the number of userid\n",
    "userid_count <- ab_df %>%\n",
    "  filter(sum_gamerounds == 0) %>%\n",
    "  summarise(count = n())\n",
    "\n",
    "# Display the count\n",
    "userid_count$count"
   ]
  },
  {
   "cell_type": "markdown",
   "id": "bf4a39c2-e6fd-4246-9191-6fec649a6535",
   "metadata": {},
   "source": [
    "#### There are 3994 players never played the game, just installed it. Is it too much?\n",
    "\n",
    "#### one extreme outlier at sum_gamerounds = 49854"
   ]
  },
  {
   "cell_type": "code",
   "execution_count": 14,
   "id": "1efe592c-006d-49c6-9d48-3379e4c2ba63",
   "metadata": {},
   "outputs": [],
   "source": [
    "# Remove rows where sum_gamerounds is 0 or 49854\n",
    "df_filtered <- ab_df %>%\n",
    "  filter(!(sum_gamerounds %in% c(0, 49854)))"
   ]
  },
  {
   "cell_type": "code",
   "execution_count": 15,
   "id": "b51beb0a-5f55-4809-8fd1-03a679230dbe",
   "metadata": {},
   "outputs": [
    {
     "data": {
      "text/plain": [
       "     userid           version      sum_gamerounds   retention_1   retention_7  \n",
       " Min.   :    116   gate_30:42762   Min.   :   1.0   FALSE:46128   FALSE:69443  \n",
       " 1st Qu.:2513062   gate_40:43432   1st Qu.:   6.0   TRUE :40066   TRUE :16751  \n",
       " Median :4995739                   Median :  18.0                              \n",
       " Mean   :4997568                   Mean   :  53.7                              \n",
       " 3rd Qu.:7495053                   3rd Qu.:  54.0                              \n",
       " Max.   :9999861                   Max.   :2961.0                              "
      ]
     },
     "metadata": {},
     "output_type": "display_data"
    }
   ],
   "source": [
    "df_filtered %>% summary()"
   ]
  },
  {
   "cell_type": "code",
   "execution_count": 16,
   "id": "014dfeee-4687-4c02-969c-99e3cd9d37b8",
   "metadata": {},
   "outputs": [],
   "source": [
    "df_retention_ab <- df_filtered %>%\n",
    "  group_by(version) %>%\n",
    "  summarise(\n",
    "    user_count = n(),\n",
    "    retention_1 = mean(as.numeric(as.logical(retention_1)), na.rm = TRUE),\n",
    "    retention_7 = mean(as.numeric(as.logical(retention_7)), na.rm = TRUE),\n",
    "    sum_gamerounds = sum(sum_gamerounds, na.rm = TRUE)\n",
    "  )"
   ]
  },
  {
   "cell_type": "code",
   "execution_count": 17,
   "id": "980e94a2-1235-4ffb-8798-89616fa35cdd",
   "metadata": {},
   "outputs": [
    {
     "data": {
      "text/html": [
       "<table class=\"dataframe\">\n",
       "<caption>A tibble: 2 × 5</caption>\n",
       "<thead>\n",
       "\t<tr><th scope=col>version</th><th scope=col>user_count</th><th scope=col>retention_1</th><th scope=col>retention_7</th><th scope=col>sum_gamerounds</th></tr>\n",
       "\t<tr><th scope=col>&lt;fct&gt;</th><th scope=col>&lt;int&gt;</th><th scope=col>&lt;dbl&gt;</th><th scope=col>&lt;dbl&gt;</th><th scope=col>&lt;int&gt;</th></tr>\n",
       "</thead>\n",
       "<tbody>\n",
       "\t<tr><td>gate_30</td><td>42762</td><td>0.4675413</td><td>0.1984238</td><td>2294941</td></tr>\n",
       "\t<tr><td>gate_40</td><td>43432</td><td>0.4621707</td><td>0.1903205</td><td>2333530</td></tr>\n",
       "</tbody>\n",
       "</table>\n"
      ],
      "text/latex": [
       "A tibble: 2 × 5\n",
       "\\begin{tabular}{lllll}\n",
       " version & user\\_count & retention\\_1 & retention\\_7 & sum\\_gamerounds\\\\\n",
       " <fct> & <int> & <dbl> & <dbl> & <int>\\\\\n",
       "\\hline\n",
       "\t gate\\_30 & 42762 & 0.4675413 & 0.1984238 & 2294941\\\\\n",
       "\t gate\\_40 & 43432 & 0.4621707 & 0.1903205 & 2333530\\\\\n",
       "\\end{tabular}\n"
      ],
      "text/markdown": [
       "\n",
       "A tibble: 2 × 5\n",
       "\n",
       "| version &lt;fct&gt; | user_count &lt;int&gt; | retention_1 &lt;dbl&gt; | retention_7 &lt;dbl&gt; | sum_gamerounds &lt;int&gt; |\n",
       "|---|---|---|---|---|\n",
       "| gate_30 | 42762 | 0.4675413 | 0.1984238 | 2294941 |\n",
       "| gate_40 | 43432 | 0.4621707 | 0.1903205 | 2333530 |\n",
       "\n"
      ],
      "text/plain": [
       "  version user_count retention_1 retention_7 sum_gamerounds\n",
       "1 gate_30 42762      0.4675413   0.1984238   2294941       \n",
       "2 gate_40 43432      0.4621707   0.1903205   2333530       "
      ]
     },
     "metadata": {},
     "output_type": "display_data"
    }
   ],
   "source": [
    "df_retention_ab"
   ]
  },
  {
   "cell_type": "code",
   "execution_count": 51,
   "id": "f01286b8-418d-4c9e-9131-b7439408ad83",
   "metadata": {},
   "outputs": [
    {
     "data": {
      "image/png": "[encoded data removed]",
      "text/plain": [
       "plot without title"
      ]
     },
     "metadata": {
      "image/png": {
       "height": 480,
       "width": 720
      }
     },
     "output_type": "display_data"
    }
   ],
   "source": [
    "df_filtered %>% ggplot( aes(x = version, y = log(sum_gamerounds), fill = version)) + \n",
    "  stat_boxplot(geom = \"errorbar\",\n",
    "               width = 0.25) + \n",
    "  geom_boxplot() + My_Theme"
   ]
  },
  {
   "cell_type": "code",
   "execution_count": 19,
   "id": "a051732c-48b5-4203-ad50-0273cc7f7bf9",
   "metadata": {},
   "outputs": [
    {
     "data": {
      "image/png": "[encoded data removed]",
      "text/plain": [
       "plot without title"
      ]
     },
     "metadata": {
      "image/png": {
       "height": 480,
       "width": 720
      }
     },
     "output_type": "display_data"
    }
   ],
   "source": [
    "df_filtered %>% ggplot(aes(x=log(sum_gamerounds), fill = version)) + geom_histogram(col='black', bins=30) + My_Theme  "
   ]
  },
  {
   "cell_type": "markdown",
   "id": "b8f755a6-6811-422f-b833-bc65c926b7a4",
   "metadata": {},
   "source": [
    "#### If you look at the histogram of the number of times the game was played over a two-week period after installing the game, you'll notice that it's very skewed to the left.\n",
    "\n",
    "#### NOTE: If the data is not normally distributed, it is desirable to normalize the data through logarithmic transformation and outlier processing, but we will omit this in this exercise."
   ]
  },
  {
   "cell_type": "markdown",
   "id": "ae57621b-037b-427b-b876-0b0156b8d82c",
   "metadata": {},
   "source": [
    "    This distribution doesn't look like normal one.\n",
    "    For additional practice let's check it using statistical test (Kolmogorov-Smirnov or Shapiro).\n",
    "\n",
    "    When to Use Each Test:\n",
    "    Small Sample Sizes: Use the Shapiro-Wilk test. Preferred for smaller sample sizes (n ≤ 50).\n",
    "    Large Sample Sizes: Use the Kolmogorov-Smirnov test.\n",
    "    Comparing Two Samples: Use the two-sample K-S test."
   ]
  },
  {
   "cell_type": "code",
   "execution_count": 20,
   "id": "d96ed3b3-88b1-45d0-a7fe-5f32d8707fa4",
   "metadata": {},
   "outputs": [
    {
     "name": "stderr",
     "output_type": "stream",
     "text": [
      "Warning message in ks.test.default(df_filtered$sum_gamerounds, \"pnorm\", mean = mean(df_filtered$sum_gamerounds), :\n",
      "\"ties should not be present for the Kolmogorov-Smirnov test\"\n"
     ]
    },
    {
     "name": "stdout",
     "output_type": "stream",
     "text": [
      "\n",
      "\tAsymptotic one-sample Kolmogorov-Smirnov test\n",
      "\n",
      "data:  df_filtered$sum_gamerounds\n",
      "D = 0.3069, p-value < 2.2e-16\n",
      "alternative hypothesis: two-sided\n",
      "\n"
     ]
    }
   ],
   "source": [
    "# Perform the one-sample K-S test\n",
    "ks_test_result <- ks.test(df_filtered$sum_gamerounds, \"pnorm\", mean = mean(df_filtered$sum_gamerounds), sd = sd(df_filtered$sum_gamerounds))\n",
    "\n",
    "# Display the test result\n",
    "print(ks_test_result)"
   ]
  },
  {
   "cell_type": "markdown",
   "id": "23f11495-6f3d-414f-94bd-9213140f6213",
   "metadata": {},
   "source": [
    "### P-value is too low, distribution isn't normal."
   ]
  },
  {
   "cell_type": "code",
   "execution_count": 21,
   "id": "4adb9a7a-662b-45b6-b6aa-6ea8da0bddb9",
   "metadata": {},
   "outputs": [
    {
     "name": "stderr",
     "output_type": "stream",
     "text": [
      "Loading required package: gridExtra\n",
      "\n",
      "\n",
      "Attaching package: 'gridExtra'\n",
      "\n",
      "\n",
      "The following object is masked from 'package:dplyr':\n",
      "\n",
      "    combine\n",
      "\n",
      "\n"
     ]
    }
   ],
   "source": [
    "if (!require(gridExtra)) install.packages('gridExtra', dependencies=TRUE) \n",
    "suppressWarnings(suppressMessages(library(gridExtra)))"
   ]
  },
  {
   "cell_type": "code",
   "execution_count": 22,
   "id": "ed07226d-1bc8-45ba-b6a5-141d820b2b96",
   "metadata": {},
   "outputs": [
    {
     "data": {
      "image/png": "[encoded data removed]",
      "text/plain": [
       "plot without title"
      ]
     },
     "metadata": {
      "image/png": {
       "height": 480,
       "width": 720
      }
     },
     "output_type": "display_data"
    }
   ],
   "source": [
    "g1 <- df_filtered %>% \n",
    "group_by(version, retention_1) %>% \n",
    "count() %>% \n",
    "ggplot(aes(x=version, y=n, fill=retention_1)) + geom_bar(stat = \"identity\", position = \"dodge\") + geom_text(aes(label = n), size = 10) + My_Theme\n",
    "\n",
    "g2 <- df_filtered %>% \n",
    "group_by(version,retention_7) %>% \n",
    "count() %>% \n",
    "ggplot(aes(x=version, y=n, fill=retention_7)) + geom_bar(stat = \"identity\", position = \"dodge\") + geom_text(aes(label = n), size = 10) + My_Theme\n",
    "\n",
    "grid.arrange(g1, g2, ncol = 2)"
   ]
  },
  {
   "cell_type": "markdown",
   "id": "471306bf-3a9a-4ca2-9c95-67d7458322a3",
   "metadata": {},
   "source": [
    "    After completing this simple EDA, I think we can apply A/B testing from three perspectives.\n",
    "    \n",
    "    Since gate_30 can be interpreted as the old version and gate_40 as the new version with some modifications, we are interested in whether various indicators in gate_40 are improved compared to gate_30.\n",
    "    \n",
    "    Players in gate_40 will play more games on average over a two-week period than players in gate_30.\n",
    "    \n",
    "    Players corresponding to gate_40 will have a higher rate of re-login a day later than players corresponding to gate_30.\n",
    "    \n",
    "    Players who fall into gate_40 will have a higher chance of returning a week later than players who fall into gate_30."
   ]
  },
  {
   "cell_type": "markdown",
   "id": "3bd2af86-53e0-40c5-bcd0-f3f9df59ca2e",
   "metadata": {},
   "source": [
    "# A/B test hypothesis setting"
   ]
  },
  {
   "cell_type": "markdown",
   "id": "f5c2a736-0f81-4e86-9f05-d550ef657d02",
   "metadata": {},
   "source": [
    "    1. Regarding sum_gamerounds\n",
    "    \n",
    "    - Players corresponding to gate_40 will play more games on average over a two-week period than players corresponding to gate_30 .\n",
    "    \n",
    "     \n",
    "    \n",
    "    2. Retention_1 related\n",
    "    \n",
    "    - Players corresponding to gate_40 will have a higher rate of reconnecting after a day than players corresponding to gate_30 .\n",
    "    \n",
    "     \n",
    "    \n",
    "    3. Retention_7 related\n",
    "    \n",
    "    - Players corresponding to gate_40 will have a higher  rate of re-login after a week than players corresponding to gate_30 ."
   ]
  },
  {
   "cell_type": "markdown",
   "id": "3cd14c52-3274-4bc5-acb5-3e7c7982a3ab",
   "metadata": {},
   "source": [
    "### Metric Definition \n",
    "    Hypothesis 1) Average number of game plays over 2 weeks\n",
    "    \n",
    "    Hypothesis 2) Rate of returning to the game after 1 day\n",
    "    \n",
    "    Hypothesis 3) Rate of returning to the game after 7 days\n",
    "\n",
    "### Experimental design\n",
    "    -Control group: gate_30\n",
    "    \n",
    "    -Experimental group: gate_40"
   ]
  },
  {
   "cell_type": "markdown",
   "id": "ed27e56e-f3f0-4779-85d7-ccc0c35b6893",
   "metadata": {},
   "source": [
    "## 1. Players corresponding to gate_40 will play more games on average over a two-week period than players corresponding to gate_30."
   ]
  },
  {
   "cell_type": "code",
   "execution_count": 23,
   "id": "e60046fa-4557-4227-b794-5cb16c8df2df",
   "metadata": {},
   "outputs": [
    {
     "name": "stderr",
     "output_type": "stream",
     "text": [
      "Loading required package: gplots\n",
      "\n",
      "\n",
      "Attaching package: 'gplots'\n",
      "\n",
      "\n",
      "The following object is masked from 'package:stats':\n",
      "\n",
      "    lowess\n",
      "\n",
      "\n"
     ]
    },
    {
     "data": {
      "image/png": "[encoded data removed]",
      "text/plain": [
       "plot without title"
      ]
     },
     "metadata": {
      "image/png": {
       "height": 480,
       "width": 720
      }
     },
     "output_type": "display_data"
    }
   ],
   "source": [
    "if (!require(gplots)) install.packages('gplots', dependencies=TRUE) \n",
    "suppressWarnings(suppressMessages(library(gplots)))\n",
    "\n",
    "plotmeans(sum_gamerounds ~ version, df_filtered, mean.labels = T)"
   ]
  },
  {
   "cell_type": "markdown",
   "id": "fa028e58-8e41-4d7d-950b-082a60b95e30",
   "metadata": {},
   "source": [
    "#### Since the target variable is a continuous variable and sample size of each group is large (>1000). we assume that the normality assumption by CLT is satisfied.) , let's check whether the variance of each group is the same."
   ]
  },
  {
   "cell_type": "markdown",
   "id": "b2e4cbe1-8bbd-4c76-8a0e-86a075488dc8",
   "metadata": {},
   "source": [
    "#### If variance of each group is the same, we use Student's t-test; othwewise use Welch's Two Sample t-test"
   ]
  },
  {
   "cell_type": "markdown",
   "id": "bfa2acb6-9ab8-4dba-ac21-28f127c37f15",
   "metadata": {},
   "source": [
    "![image.png](https://miro.medium.com/v2/resize:fit:4800/format:webp/1*Vzkwzrs4DOmBBa1LymW-PQ.png)\n",
    "\n",
    "from https://towardsdatascience.com/a-b-testing-a-complete-guide-to-statistical-testing-e3f1db140499"
   ]
  },
  {
   "cell_type": "code",
   "execution_count": 24,
   "id": "4d18f950-57fd-4fe4-9d55-57d0258eca9a",
   "metadata": {},
   "outputs": [
    {
     "data": {
      "text/plain": [
       "\n",
       "\tF test to compare two variances\n",
       "\n",
       "data:  sum_gamerounds by version\n",
       "F = 0.97449, num df = 42761, denom df = 43431, p-value = 0.00731\n",
       "alternative hypothesis: true ratio of variances is not equal to 1\n",
       "95 percent confidence interval:\n",
       " 0.9562580 0.9930633\n",
       "sample estimates:\n",
       "ratio of variances \n",
       "         0.9744862 \n"
      ]
     },
     "metadata": {},
     "output_type": "display_data"
    }
   ],
   "source": [
    "var.test(sum_gamerounds ~ version, df_filtered)"
   ]
  },
  {
   "cell_type": "markdown",
   "id": "49fba18e-f474-4a71-92f2-10ab43e20240",
   "metadata": {},
   "source": [
    "#### Since the p-value of the equal variance test result is less than 0.05, it can be interpreted that the variances of the two groups are not equal."
   ]
  },
  {
   "cell_type": "code",
   "execution_count": 25,
   "id": "2bd6c883-1680-47c5-ba4c-eb444125fc1a",
   "metadata": {},
   "outputs": [
    {
     "data": {
      "text/plain": [
       "\n",
       "\tWelch Two Sample t-test\n",
       "\n",
       "data:  sum_gamerounds by version\n",
       "t = -0.085181, df = 86191, p-value = 0.4661\n",
       "alternative hypothesis: true difference in means between group gate_30 and group gate_40 is less than 0\n",
       "95 percent confidence interval:\n",
       "     -Inf 1.109449\n",
       "sample estimates:\n",
       "mean in group gate_30 mean in group gate_40 \n",
       "             53.66777              53.72836 \n"
      ]
     },
     "metadata": {},
     "output_type": "display_data"
    }
   ],
   "source": [
    "t.test(sum_gamerounds ~ version, df_filtered, var.equal = FALSE, alter = \"less\")"
   ]
  },
  {
   "cell_type": "markdown",
   "id": "3af4ba44-f043-4871-9bb0-8a8ee6626fa1",
   "metadata": {},
   "source": [
    "#### Since the p-value of the test result is 0.4661, which is much larger than 0.05, the null hypothesis is accepted.\n",
    "\n",
    "#### In other words, the average number of games played over two weeks by players corresponding to gate_40 cannot be said to be statistically higher than that of gate_30."
   ]
  },
  {
   "cell_type": "markdown",
   "id": "d1b489bb-93c9-4e62-9828-a2c3a3f0d68b",
   "metadata": {},
   "source": [
    "#### Perform Mann-Whitney U Test"
   ]
  },
  {
   "cell_type": "code",
   "execution_count": 29,
   "id": "f98c0027-bac6-44bb-bee4-ae4e7210d513",
   "metadata": {},
   "outputs": [
    {
     "data": {
      "text/plain": [
       "\n",
       "\tWilcoxon rank sum test with continuity correction\n",
       "\n",
       "data:  group1 and group2\n",
       "W = 934332123, p-value = 0.1177\n",
       "alternative hypothesis: true location shift is not equal to 0\n"
      ]
     },
     "metadata": {},
     "output_type": "display_data"
    }
   ],
   "source": [
    "# Grouping the data by the relevant variable (e.g., 'group')\n",
    "group1 <- df_filtered %>% filter(version == \"gate_30\") %>% pull(sum_gamerounds)\n",
    "group2 <- df_filtered %>% filter(version == \"gate_40\") %>% pull(sum_gamerounds)\n",
    "\n",
    "# Perform Mann-Whitney U Test\n",
    "wilcox.test(group1, group2)"
   ]
  },
  {
   "cell_type": "markdown",
   "id": "24617d2e-ba12-4244-a9c9-bbdc686f7ed8",
   "metadata": {},
   "source": [
    "#### Since the p-value is greater than 0.05. Same conclusion as above"
   ]
  },
  {
   "cell_type": "markdown",
   "id": "59ab3f05-328a-406c-9a87-5304e2d9a506",
   "metadata": {},
   "source": [
    "## 2. Players corresponding to gate_40 will have a higher rate of reconnecting after one day than players corresponding to gate_30.\n",
    "#### In this hypothesis test, the target variable is a binary categorical variable consisting of False or True.\n",
    "#### Therefore, we will use the prop.test() function to test the difference in population proportions between the two groups."
   ]
  },
  {
   "cell_type": "code",
   "execution_count": 30,
   "id": "43b3c075-39f6-49f4-9f59-a2ab34eb5734",
   "metadata": {},
   "outputs": [
    {
     "data": {
      "text/html": [
       "<table class=\"dataframe\">\n",
       "<caption>A table: 2 × 3 of type dbl</caption>\n",
       "<thead>\n",
       "\t<tr><th></th><th scope=col>FALSE</th><th scope=col>TRUE</th><th scope=col>Sum</th></tr>\n",
       "</thead>\n",
       "<tbody>\n",
       "\t<tr><th scope=row>gate_30</th><td>22769</td><td>19993</td><td>42762</td></tr>\n",
       "\t<tr><th scope=row>gate_40</th><td>23359</td><td>20073</td><td>43432</td></tr>\n",
       "</tbody>\n",
       "</table>\n"
      ],
      "text/latex": [
       "A table: 2 × 3 of type dbl\n",
       "\\begin{tabular}{r|lll}\n",
       "  & FALSE & TRUE & Sum\\\\\n",
       "\\hline\n",
       "\tgate\\_30 & 22769 & 19993 & 42762\\\\\n",
       "\tgate\\_40 & 23359 & 20073 & 43432\\\\\n",
       "\\end{tabular}\n"
      ],
      "text/markdown": [
       "\n",
       "A table: 2 × 3 of type dbl\n",
       "\n",
       "| <!--/--> | FALSE | TRUE | Sum |\n",
       "|---|---|---|---|\n",
       "| gate_30 | 22769 | 19993 | 42762 |\n",
       "| gate_40 | 23359 | 20073 | 43432 |\n",
       "\n"
      ],
      "text/plain": [
       "         \n",
       "          FALSE TRUE  Sum  \n",
       "  gate_30 22769 19993 42762\n",
       "  gate_40 23359 20073 43432"
      ]
     },
     "metadata": {},
     "output_type": "display_data"
    }
   ],
   "source": [
    "#  create a table consisting of the version and retention_1 variables.\n",
    "table_1 <- addmargins(table(df_filtered$version, df_filtered$retention_1), margin=2)\n",
    "table_1"
   ]
  },
  {
   "cell_type": "code",
   "execution_count": 39,
   "id": "07889467-6219-46c5-9ed1-fbf49bf280cb",
   "metadata": {},
   "outputs": [
    {
     "data": {
      "text/plain": [
       "\n",
       "\t2-sample test for equality of proportions with continuity correction\n",
       "\n",
       "data:  c(table_1[1, 2], table_1[2, 2]) out of c(table_1[1, 3], table_1[2, 3])\n",
       "X-squared = 2.4767, df = 1, p-value = 0.05777\n",
       "alternative hypothesis: greater\n",
       "95 percent confidence interval:\n",
       " -0.0002415159  1.0000000000\n",
       "sample estimates:\n",
       "   prop 1    prop 2 \n",
       "0.4675413 0.4621707 \n"
      ]
     },
     "metadata": {},
     "output_type": "display_data"
    }
   ],
   "source": [
    "prop.test(x=c(table_1[1,2], table_1[2,2]), n=c(table_1[1,3], table_1[2,3]), alter = \"greater\")"
   ]
  },
  {
   "cell_type": "markdown",
   "id": "1a3ee469-bf85-472b-a242-ca9effa4b6d7",
   "metadata": {},
   "source": [
    "#### Since the p-value of the test result is 0.0577, which is much larger than 0.05, the null hypothesis is accepted.\n",
    "\n",
    "#### In other words, it cannot be said that the rate at which players corresponding to gate_40 reconnect after one day is statistically higher than that of players corresponding to gate_30."
   ]
  },
  {
   "cell_type": "markdown",
   "id": "71b6e0d2-ccf2-44cf-a51a-9a4ff91ccb18",
   "metadata": {},
   "source": [
    "#### Perform a Chi-Square Test in R to compare retention rates between two groups for rentention_1\n",
    "\n",
    "#### •\tChi-Square Test: Used to test the independence of two categorical variables"
   ]
  },
  {
   "cell_type": "code",
   "execution_count": 41,
   "id": "3026eddb-9161-4f32-bb2c-40872e8f909b",
   "metadata": {},
   "outputs": [
    {
     "data": {
      "text/plain": [
       "\n",
       "\tPearson's Chi-squared test\n",
       "\n",
       "data:  table_1\n",
       "X-squared = 2.4983, df = 2, p-value = 0.2868\n"
      ]
     },
     "metadata": {},
     "output_type": "display_data"
    }
   ],
   "source": [
    "# Perform Chi-Square Test\n",
    "chisq.test(table_1)"
   ]
  },
  {
   "cell_type": "markdown",
   "id": "bf52248a-f2d7-4503-953a-2e2c200d35a9",
   "metadata": {},
   "source": [
    "#### Since the p-value of the test result is 0.2868, we accept (do not reject) null hypothesis"
   ]
  },
  {
   "cell_type": "markdown",
   "id": "07ec0d55-403f-4476-b6dd-42733b3611a7",
   "metadata": {},
   "source": [
    "## 3. Players corresponding to gate_40 will have a higher rate of re-login after a week than players corresponding to gate_30.\n",
    "\n",
    "#### Likewise, since we are interested in the proportion of TRUE (the number of players who logged back in after a week) in each group"
   ]
  },
  {
   "cell_type": "code",
   "execution_count": 42,
   "id": "b3e8a4c7-8347-4d96-8cb9-14251c611c29",
   "metadata": {},
   "outputs": [
    {
     "data": {
      "text/html": [
       "<table class=\"dataframe\">\n",
       "<caption>A table: 2 × 3 of type dbl</caption>\n",
       "<thead>\n",
       "\t<tr><th></th><th scope=col>FALSE</th><th scope=col>TRUE</th><th scope=col>Sum</th></tr>\n",
       "</thead>\n",
       "<tbody>\n",
       "\t<tr><th scope=row>gate_30</th><td>34277</td><td>8485</td><td>42762</td></tr>\n",
       "\t<tr><th scope=row>gate_40</th><td>35166</td><td>8266</td><td>43432</td></tr>\n",
       "</tbody>\n",
       "</table>\n"
      ],
      "text/latex": [
       "A table: 2 × 3 of type dbl\n",
       "\\begin{tabular}{r|lll}\n",
       "  & FALSE & TRUE & Sum\\\\\n",
       "\\hline\n",
       "\tgate\\_30 & 34277 & 8485 & 42762\\\\\n",
       "\tgate\\_40 & 35166 & 8266 & 43432\\\\\n",
       "\\end{tabular}\n"
      ],
      "text/markdown": [
       "\n",
       "A table: 2 × 3 of type dbl\n",
       "\n",
       "| <!--/--> | FALSE | TRUE | Sum |\n",
       "|---|---|---|---|\n",
       "| gate_30 | 34277 | 8485 | 42762 |\n",
       "| gate_40 | 35166 | 8266 | 43432 |\n",
       "\n"
      ],
      "text/plain": [
       "         \n",
       "          FALSE TRUE Sum  \n",
       "  gate_30 34277 8485 42762\n",
       "  gate_40 35166 8266 43432"
      ]
     },
     "metadata": {},
     "output_type": "display_data"
    }
   ],
   "source": [
    "#  create a table consisting of the version and retention_1 variables.\n",
    "table_2 <- addmargins(table(df_filtered$version, df_filtered$retention_7), margin=2)\n",
    "table_2"
   ]
  },
  {
   "cell_type": "code",
   "execution_count": 43,
   "id": "4c2a9614-c78d-41ae-a2b5-7ee9d7c5153c",
   "metadata": {},
   "outputs": [
    {
     "data": {
      "text/plain": [
       "\n",
       "\t2-sample test for equality of proportions with continuity correction\n",
       "\n",
       "data:  c(table_2[1, 2], table_2[2, 2]) out of c(table_2[1, 3], table_2[2, 3])\n",
       "X-squared = 8.9849, df = 1, p-value = 0.001361\n",
       "alternative hypothesis: greater\n",
       "95 percent confidence interval:\n",
       " 0.00364588 1.00000000\n",
       "sample estimates:\n",
       "   prop 1    prop 2 \n",
       "0.1984238 0.1903205 \n"
      ]
     },
     "metadata": {},
     "output_type": "display_data"
    }
   ],
   "source": [
    "prop.test(x=c(table_2[1,2], table_2[2,2]), n=c(table_2[1,3], table_2[2,3]), alter = \"greater\")"
   ]
  },
  {
   "cell_type": "markdown",
   "id": "bb409988-d898-4596-b533-b1f6faa8faf5",
   "metadata": {},
   "source": [
    "#### The p-value of the test result is 0.001361, which islower than 0.05, so we reject the null hypothesis.\n",
    "\n",
    "#### In other words, it can be said that the rate at which players corresponding to gate_40 reconnect after a week is statistically higher than that of players corresponding to gate_30."
   ]
  },
  {
   "cell_type": "code",
   "execution_count": 44,
   "id": "d4202820-4ef3-4ee0-a2d3-2af4747c4d9a",
   "metadata": {},
   "outputs": [
    {
     "data": {
      "text/plain": [
       "\n",
       "\tPearson's Chi-squared test\n",
       "\n",
       "data:  table_2\n",
       "X-squared = 9.0366, df = 2, p-value = 0.01091\n"
      ]
     },
     "metadata": {},
     "output_type": "display_data"
    }
   ],
   "source": [
    "# Perform Chi-Square Test\n",
    "chisq.test(table_2)"
   ]
  },
  {
   "cell_type": "markdown",
   "id": "0c249d54-0591-49cf-beca-300a5ea14676",
   "metadata": {},
   "source": [
    "#### Chi-squared test result p-value < 0.05. We may reject the null hypothesis!"
   ]
  },
  {
   "cell_type": "markdown",
   "id": "74156bb2-4bf1-4b45-9359-55ffddfebc4e",
   "metadata": {},
   "source": [
    "###  Bootstrapping in A/B testing is a statistical technique used to estimate the sampling distribution of a statistic by resampling with replacement from the observed data. This method allows you to calculate standard errors, construct confidence intervals, and perform hypothesis testing without relying on strong parametric assumptions."
   ]
  },
  {
   "cell_type": "code",
   "execution_count": 52,
   "id": "c19263b3-9404-4d09-b5d0-8467abdb70ab",
   "metadata": {},
   "outputs": [],
   "source": [
    "# Load necessary library\n",
    "if (!require(boot)) install.packages('boot', dependencies=TRUE) \n",
    "suppressWarnings(suppressMessages(library(boot)))"
   ]
  },
  {
   "cell_type": "code",
   "execution_count": 46,
   "id": "ca970e10-45f7-4b5e-8fd6-8d9f51b158a5",
   "metadata": {},
   "outputs": [],
   "source": [
    "# Define the statistic function for bootstrapping\n",
    "ab_stat <- function(data, indices, group_col, metric_col) {\n",
    "  # Resample the data based on the provided indices\n",
    "  d <- data[indices, ]\n",
    "  \n",
    "  # Calculate the mean metric for each group\n",
    "  means <- tapply(as.numeric(as.logical(d[[metric_col]])), d[[group_col]], mean, na.rm = TRUE)\n",
    "  \n",
    "  # Return the difference in means between the groups\n",
    "  return(diff(means))\n",
    "}"
   ]
  },
  {
   "cell_type": "code",
   "execution_count": 47,
   "id": "5c6d96cc-79f7-41cb-971a-f22136d24b5d",
   "metadata": {},
   "outputs": [],
   "source": [
    "# For 1-day retention\n",
    "set.seed(42)\n",
    "boot_1 <- boot(data = df_filtered, statistic = ab_stat, R = 1000, group_col = \"version\", metric_col = \"retention_1\")\n",
    "\n",
    "# For 7-day retention\n",
    "set.seed(42)\n",
    "boot_7 <- boot(data = df_filtered, statistic = ab_stat, R = 1000, group_col = \"version\", metric_col = \"retention_7\")"
   ]
  },
  {
   "cell_type": "code",
   "execution_count": 48,
   "id": "59b62a52-bc7f-4081-8998-7dcacd147903",
   "metadata": {},
   "outputs": [
    {
     "data": {
      "text/plain": [
       "BOOTSTRAP CONFIDENCE INTERVAL CALCULATIONS\n",
       "Based on 1000 bootstrap replicates\n",
       "\n",
       "CALL : \n",
       "boot.ci(boot.out = boot_1, type = \"perc\")\n",
       "\n",
       "Intervals : \n",
       "Level     Percentile     \n",
       "95%   (-0.0127,  0.0008 )  \n",
       "Calculations and Intervals on Original Scale"
      ]
     },
     "metadata": {},
     "output_type": "display_data"
    },
    {
     "name": "stdout",
     "output_type": "stream",
     "text": [
      "[1] \"--------------------------------------------\\n\"\n"
     ]
    },
    {
     "data": {
      "text/plain": [
       "BOOTSTRAP CONFIDENCE INTERVAL CALCULATIONS\n",
       "Based on 1000 bootstrap replicates\n",
       "\n",
       "CALL : \n",
       "boot.ci(boot.out = boot_7, type = \"perc\")\n",
       "\n",
       "Intervals : \n",
       "Level     Percentile     \n",
       "95%   (-0.0132, -0.0029 )  \n",
       "Calculations and Intervals on Original Scale"
      ]
     },
     "metadata": {},
     "output_type": "display_data"
    }
   ],
   "source": [
    "# Calculate 95% confidence intervals for 1-day retention\n",
    "ci_95_1 <- boot.ci(boot_1, type = \"perc\")\n",
    "ci_95_1\n",
    "print(\"--------------------------------------------\\n\")\n",
    "# Calculate 95% confidence intervals for 7-day retention\n",
    "ci_95_7 <- boot.ci(boot_7, type = \"perc\")\n",
    "ci_95_7"
   ]
  },
  {
   "cell_type": "code",
   "execution_count": 49,
   "id": "c974d37f-0a94-4491-a56e-69ef72774f70",
   "metadata": {},
   "outputs": [
    {
     "data": {
      "image/png": "[encoded data removed]",
      "text/plain": [
       "plot without title"
      ]
     },
     "metadata": {
      "image/png": {
       "height": 480,
       "width": 720
      }
     },
     "output_type": "display_data"
    },
    {
     "data": {
      "image/png": "[encoded data removed]",
      "text/plain": [
       "plot without title"
      ]
     },
     "metadata": {
      "image/png": {
       "height": 480,
       "width": 720
      }
     },
     "output_type": "display_data"
    }
   ],
   "source": [
    "# Plot for 1-day retention\n",
    "ggplot(data.frame(boot_1$t), aes(x = boot_1$t)) +\n",
    "  geom_histogram(binwidth = 0.001, fill = \"blue\", alpha = 0.7) +\n",
    "  geom_vline(xintercept = ci_95_1$perc[4], color = \"red\", linetype = \"dashed\") +  # lower bound\n",
    "  geom_vline(xintercept = ci_95_1$perc[5], color = \"red\", linetype = \"dashed\") +  # upper bound\n",
    "  ggtitle(\"Bootstrapped Distribution of 1-Day Retention Difference\") +\n",
    "  xlab(\"Difference in 1-Day Retention\") +\n",
    "  ylab(\"Frequency\") + My_Theme\n",
    "\n",
    "# Plot for 7-day retention\n",
    "ggplot(data.frame(boot_7$t), aes(x = boot_7$t)) +\n",
    "  geom_histogram(binwidth = 0.001, fill = \"blue\", alpha = 0.7) +\n",
    "  geom_vline(xintercept = ci_95_7$perc[4], color = \"red\", linetype = \"dashed\") +  # lower bound\n",
    "  geom_vline(xintercept = ci_95_7$perc[5], color = \"red\", linetype = \"dashed\") +  # upper bound\n",
    "  ggtitle(\"Bootstrapped Distribution of 7-Day Retention Difference\") +\n",
    "  xlab(\"Difference in 7-Day Retention\") +\n",
    "  ylab(\"Frequency\") + My_Theme"
   ]
  },
  {
   "cell_type": "markdown",
   "id": "bd760234-d8dc-4878-aaa4-5d33519971bf",
   "metadata": {},
   "source": [
    "###    The interval includes 0  in 1-day retention, which means there's a possibility that there is no difference between groups A and B. The data does not provide strong enough evidence to suggest that one version is better than the other in terms of 1-day retention.\n",
    "\n",
    "### The interval not includes 0  in 7-day retention, which means there's a possibility that there is difference between groups A and B."
   ]
  },
  {
   "cell_type": "code",
   "execution_count": null,
   "id": "9ec2584b-2db7-4195-9355-13fffe7d9393",
   "metadata": {},
   "outputs": [],
   "source": []
  },
  {
   "cell_type": "markdown",
   "id": "253a918e-65e4-4616-a4fd-7274d402f663",
   "metadata": {},
   "source": [
    "# Conclusion\n",
    "\n",
    "## To summarize the final results of the A/B test, the average number of game plays over two weeks, the rate of reconnection after one day, and the rate of reconnection after one week for the gate_40 version were not statistically higher than those for the gate_30 version.\n",
    "\n",
    "## This means that the revised version did not have a significant impact on improving various indicators, so it is reasonable to maintain the existing version gate_30 (control group) or plan other revisions instead of the revisions used in version gate_40."
   ]
  },
  {
   "cell_type": "markdown",
   "id": "76fd8ae7-bb66-47c0-a6c3-564da625b3d6",
   "metadata": {},
   "source": [
    "# Reference\n",
    "\n",
    "    https://velog.io/@giyu11/AB-test-with-Cookie-Cats-dataset\n",
    "    https://www.kaggle.com/code/nitishsahay/mobile-games-a-b-testing-with-cookie-cats-using-r\n",
    "    https://www.statmethods.net/stats/frequencies.html\n",
    "    https://www.flutterbys.com.au/stats/course.html\n",
    "    https://bookdown.org/eariascastro/principles_of_statistical_analysis/"
   ]
  },
  {
   "cell_type": "code",
   "execution_count": null,
   "id": "a79bab36-913a-413d-ac64-cfd4ebae3b28",
   "metadata": {},
   "outputs": [],
   "source": []
  },
  {
   "cell_type": "code",
   "execution_count": null,
   "id": "c3b6209d-c9c1-4596-85f9-5a0929ed643a",
   "metadata": {},
   "outputs": [],
   "source": []
  }
 ],
 "metadata": {
  "kernelspec": {
   "display_name": "R",
   "language": "R",
   "name": "ir"
  },
  "language_info": {
   "codemirror_mode": "r",
   "file_extension": ".r",
   "mimetype": "text/x-r-source",
   "name": "R",
   "pygments_lexer": "r",
   "version": "4.3.2"
  }
 },
 "nbformat": 4,
 "nbformat_minor": 5
}
