{
 "cells": [
  {
   "cell_type": "markdown",
   "id": "29c8cfa8",
   "metadata": {},
   "source": [
    "# Predict Stock Fund Price Using Tensoflow LSTM (Long-Short-Term-Memory)"
   ]
  },
  {
   "cell_type": "code",
   "execution_count": 33,
   "id": "07288eca",
   "metadata": {},
   "outputs": [],
   "source": [
    "import sys\n",
    "import warnings\n",
    "\n",
    "if not sys.warnoptions:\n",
    "    warnings.simplefilter('ignore')"
   ]
  },
  {
   "cell_type": "code",
   "execution_count": 34,
   "id": "19acabef",
   "metadata": {
    "scrolled": true
   },
   "outputs": [],
   "source": [
    "#Data Manipulation and Treatment\n",
    "import numpy as np\n",
    "import pandas as pd\n",
    "import math\n",
    "import itertools\n",
    "from datetime import date, datetime, timedelta\n",
    "from timeit import default_timer as timer\n",
    "\n",
    "\n",
    "#Plotting and Visualizations\n",
    "import matplotlib.pyplot as plt\n",
    "%matplotlib inline\n",
    "import seaborn as sns\n",
    "\n",
    "from sklearn.preprocessing import MinMaxScaler, StandardScaler, RobustScaler\n",
    "from sklearn.metrics import mean_squared_error, mean_absolute_percentage_error, root_mean_squared_error, mean_absolute_error, r2_score\n",
    "\n",
    "#!pip install tensorflow --quiet\n",
    "import tensorflow as tf\n",
    "import keras\n",
    "\n",
    "# !pip install keras --quiet\n",
    "from tensorflow.keras.models import Sequential\n",
    "from tensorflow.keras.layers import LSTM, Dropout, Dense"
   ]
  },
  {
   "cell_type": "code",
   "execution_count": 35,
   "id": "abc8733c",
   "metadata": {
    "scrolled": true
   },
   "outputs": [
    {
     "name": "stdout",
     "output_type": "stream",
     "text": [
      "Python version: 3.10.13\n",
      "TensorFlow version: 2.15.0\n",
      "Kersa version: 2.15.0\n"
     ]
    }
   ],
   "source": [
    "import platform\n",
    "print(f\"Python version: {platform.python_version()}\")\n",
    "print(f\"TensorFlow version: {tf.__version__}\")\n",
    "print(f\"Kersa version: {keras.__version__}\")"
   ]
  },
  {
   "cell_type": "code",
   "execution_count": 36,
   "id": "31b46888",
   "metadata": {},
   "outputs": [
    {
     "name": "stdout",
     "output_type": "stream",
     "text": [
      "GPU device NOT found\n"
     ]
    }
   ],
   "source": [
    "# Check GPU\n",
    "device_name = tf.test.gpu_device_name()\n",
    "if device_name != '/device:GPU:0':\n",
    "  print('GPU device NOT found')\n",
    "else:\n",
    "  print('Found GPU at: {}'.format(device_name))"
   ]
  },
  {
   "cell_type": "code",
   "execution_count": 37,
   "id": "8caf4da1",
   "metadata": {},
   "outputs": [
    {
     "name": "stdout",
     "output_type": "stream",
     "text": [
      "Failed to detect a GPU.\n"
     ]
    }
   ],
   "source": [
    "gpus = tf.config.list_physical_devices(\"GPU\")\n",
    "if gpus:\n",
    "    for gpu in gpus:\n",
    "        print(\"Found a GPU with the name:\", gpu)\n",
    "else:\n",
    "    print(\"Failed to detect a GPU.\")"
   ]
  },
  {
   "cell_type": "code",
   "execution_count": 38,
   "id": "2283c5ef",
   "metadata": {},
   "outputs": [],
   "source": [
    "#!pip3 install torch torchvision torchaudio --quiet"
   ]
  },
  {
   "cell_type": "code",
   "execution_count": 39,
   "id": "92883d0e",
   "metadata": {},
   "outputs": [
    {
     "name": "stdout",
     "output_type": "stream",
     "text": [
      "PyTorch version: 2.2.1+cpu\n",
      "CUDA installed: False\n"
     ]
    }
   ],
   "source": [
    "import torch\n",
    "import torch.nn as nn\n",
    "print(f\"PyTorch version: {torch.__version__}\")\n",
    "print(f\"CUDA installed: {torch.cuda.is_available()}\")"
   ]
  },
  {
   "cell_type": "code",
   "execution_count": 40,
   "id": "67689e9e",
   "metadata": {},
   "outputs": [],
   "source": [
    "#!pip install yfinance  # Yahoo! Finance's API\n",
    "import yfinance as yf"
   ]
  },
  {
   "cell_type": "markdown",
   "id": "8841029d",
   "metadata": {},
   "source": [
    "### Load Data:"
   ]
  },
  {
   "cell_type": "code",
   "execution_count": 309,
   "id": "1a929169",
   "metadata": {},
   "outputs": [
    {
     "name": "stderr",
     "output_type": "stream",
     "text": [
      "[*********************100%%**********************]  1 of 1 completed\n"
     ]
    }
   ],
   "source": [
    "# Date must be in the fromat (\"%Y-%m-%d\") That is, year-month-day\n",
    "start_date = '2003-1-1' #1 Jan 2003\n",
    "end_date = '2024-1-1'           #2  # date.today()     current date\n",
    "# \"start_date\" must be an older date than the \"end_date\"\n",
    "\n",
    "ticker = \"PREIX\"   # T. Rowe Price Equity Index 500 Fund\n",
    "\n",
    "stock = yf.download(tickers = ticker,\n",
    "                  start = start_date,\n",
    "                  end = end_date)"
   ]
  },
  {
   "cell_type": "markdown",
   "id": "4fde3ee7",
   "metadata": {},
   "source": [
    "### Data Exploration"
   ]
  },
  {
   "cell_type": "code",
   "execution_count": 310,
   "id": "996af00e",
   "metadata": {},
   "outputs": [
    {
     "data": {
      "text/html": [
       "<div>\n",
       "<style scoped>\n",
       "    .dataframe tbody tr th:only-of-type {\n",
       "        vertical-align: middle;\n",
       "    }\n",
       "\n",
       "    .dataframe tbody tr th {\n",
       "        vertical-align: top;\n",
       "    }\n",
       "\n",
       "    .dataframe thead th {\n",
       "        text-align: right;\n",
       "    }\n",
       "</style>\n",
       "<table border=\"1\" class=\"dataframe\">\n",
       "  <thead>\n",
       "    <tr style=\"text-align: right;\">\n",
       "      <th></th>\n",
       "      <th>Open</th>\n",
       "      <th>High</th>\n",
       "      <th>Low</th>\n",
       "      <th>Close</th>\n",
       "      <th>Adj Close</th>\n",
       "      <th>Volume</th>\n",
       "    </tr>\n",
       "    <tr>\n",
       "      <th>Date</th>\n",
       "      <th></th>\n",
       "      <th></th>\n",
       "      <th></th>\n",
       "      <th></th>\n",
       "      <th></th>\n",
       "      <th></th>\n",
       "    </tr>\n",
       "  </thead>\n",
       "  <tbody>\n",
       "    <tr>\n",
       "      <th>2003-01-02</th>\n",
       "      <td>24.450001</td>\n",
       "      <td>24.450001</td>\n",
       "      <td>24.450001</td>\n",
       "      <td>24.450001</td>\n",
       "      <td>16.627834</td>\n",
       "      <td>0</td>\n",
       "    </tr>\n",
       "    <tr>\n",
       "      <th>2003-01-03</th>\n",
       "      <td>24.440001</td>\n",
       "      <td>24.440001</td>\n",
       "      <td>24.440001</td>\n",
       "      <td>24.440001</td>\n",
       "      <td>16.621033</td>\n",
       "      <td>0</td>\n",
       "    </tr>\n",
       "    <tr>\n",
       "      <th>2003-01-06</th>\n",
       "      <td>24.990000</td>\n",
       "      <td>24.990000</td>\n",
       "      <td>24.990000</td>\n",
       "      <td>24.990000</td>\n",
       "      <td>16.995071</td>\n",
       "      <td>0</td>\n",
       "    </tr>\n",
       "    <tr>\n",
       "      <th>2003-01-07</th>\n",
       "      <td>24.830000</td>\n",
       "      <td>24.830000</td>\n",
       "      <td>24.830000</td>\n",
       "      <td>24.830000</td>\n",
       "      <td>16.886267</td>\n",
       "      <td>0</td>\n",
       "    </tr>\n",
       "    <tr>\n",
       "      <th>2003-01-08</th>\n",
       "      <td>24.490000</td>\n",
       "      <td>24.490000</td>\n",
       "      <td>24.490000</td>\n",
       "      <td>24.490000</td>\n",
       "      <td>16.655033</td>\n",
       "      <td>0</td>\n",
       "    </tr>\n",
       "  </tbody>\n",
       "</table>\n",
       "</div>"
      ],
      "text/plain": [
       "                 Open       High        Low      Close  Adj Close  Volume\n",
       "Date                                                                     \n",
       "2003-01-02  24.450001  24.450001  24.450001  24.450001  16.627834       0\n",
       "2003-01-03  24.440001  24.440001  24.440001  24.440001  16.621033       0\n",
       "2003-01-06  24.990000  24.990000  24.990000  24.990000  16.995071       0\n",
       "2003-01-07  24.830000  24.830000  24.830000  24.830000  16.886267       0\n",
       "2003-01-08  24.490000  24.490000  24.490000  24.490000  16.655033       0"
      ]
     },
     "execution_count": 310,
     "metadata": {},
     "output_type": "execute_result"
    }
   ],
   "source": [
    "stock.head()"
   ]
  },
  {
   "cell_type": "code",
   "execution_count": 311,
   "id": "93f70c1b",
   "metadata": {},
   "outputs": [
    {
     "data": {
      "text/html": [
       "<div>\n",
       "<style scoped>\n",
       "    .dataframe tbody tr th:only-of-type {\n",
       "        vertical-align: middle;\n",
       "    }\n",
       "\n",
       "    .dataframe tbody tr th {\n",
       "        vertical-align: top;\n",
       "    }\n",
       "\n",
       "    .dataframe thead th {\n",
       "        text-align: right;\n",
       "    }\n",
       "</style>\n",
       "<table border=\"1\" class=\"dataframe\">\n",
       "  <thead>\n",
       "    <tr style=\"text-align: right;\">\n",
       "      <th></th>\n",
       "      <th>Open</th>\n",
       "      <th>High</th>\n",
       "      <th>Low</th>\n",
       "      <th>Close</th>\n",
       "      <th>Adj Close</th>\n",
       "      <th>Volume</th>\n",
       "    </tr>\n",
       "    <tr>\n",
       "      <th>Date</th>\n",
       "      <th></th>\n",
       "      <th></th>\n",
       "      <th></th>\n",
       "      <th></th>\n",
       "      <th></th>\n",
       "      <th></th>\n",
       "    </tr>\n",
       "  </thead>\n",
       "  <tbody>\n",
       "    <tr>\n",
       "      <th>2023-12-22</th>\n",
       "      <td>124.989998</td>\n",
       "      <td>124.989998</td>\n",
       "      <td>124.989998</td>\n",
       "      <td>124.989998</td>\n",
       "      <td>124.989998</td>\n",
       "      <td>0</td>\n",
       "    </tr>\n",
       "    <tr>\n",
       "      <th>2023-12-26</th>\n",
       "      <td>125.510002</td>\n",
       "      <td>125.510002</td>\n",
       "      <td>125.510002</td>\n",
       "      <td>125.510002</td>\n",
       "      <td>125.510002</td>\n",
       "      <td>0</td>\n",
       "    </tr>\n",
       "    <tr>\n",
       "      <th>2023-12-27</th>\n",
       "      <td>125.699997</td>\n",
       "      <td>125.699997</td>\n",
       "      <td>125.699997</td>\n",
       "      <td>125.699997</td>\n",
       "      <td>125.699997</td>\n",
       "      <td>0</td>\n",
       "    </tr>\n",
       "    <tr>\n",
       "      <th>2023-12-28</th>\n",
       "      <td>125.760002</td>\n",
       "      <td>125.760002</td>\n",
       "      <td>125.760002</td>\n",
       "      <td>125.760002</td>\n",
       "      <td>125.760002</td>\n",
       "      <td>0</td>\n",
       "    </tr>\n",
       "    <tr>\n",
       "      <th>2023-12-29</th>\n",
       "      <td>125.410004</td>\n",
       "      <td>125.410004</td>\n",
       "      <td>125.410004</td>\n",
       "      <td>125.410004</td>\n",
       "      <td>125.410004</td>\n",
       "      <td>0</td>\n",
       "    </tr>\n",
       "  </tbody>\n",
       "</table>\n",
       "</div>"
      ],
      "text/plain": [
       "                  Open        High         Low       Close   Adj Close  Volume\n",
       "Date                                                                          \n",
       "2023-12-22  124.989998  124.989998  124.989998  124.989998  124.989998       0\n",
       "2023-12-26  125.510002  125.510002  125.510002  125.510002  125.510002       0\n",
       "2023-12-27  125.699997  125.699997  125.699997  125.699997  125.699997       0\n",
       "2023-12-28  125.760002  125.760002  125.760002  125.760002  125.760002       0\n",
       "2023-12-29  125.410004  125.410004  125.410004  125.410004  125.410004       0"
      ]
     },
     "execution_count": 311,
     "metadata": {},
     "output_type": "execute_result"
    }
   ],
   "source": [
    "stock.tail()"
   ]
  },
  {
   "cell_type": "code",
   "execution_count": 312,
   "id": "3ccc9283",
   "metadata": {},
   "outputs": [
    {
     "name": "stdout",
     "output_type": "stream",
     "text": [
      "<class 'pandas.core.frame.DataFrame'>\n",
      "DatetimeIndex: 5285 entries, 2003-01-02 to 2023-12-29\n",
      "Data columns (total 6 columns):\n",
      " #   Column     Non-Null Count  Dtype  \n",
      "---  ------     --------------  -----  \n",
      " 0   Open       5285 non-null   float64\n",
      " 1   High       5285 non-null   float64\n",
      " 2   Low        5285 non-null   float64\n",
      " 3   Close      5285 non-null   float64\n",
      " 4   Adj Close  5285 non-null   float64\n",
      " 5   Volume     5285 non-null   int64  \n",
      "dtypes: float64(5), int64(1)\n",
      "memory usage: 289.0 KB\n"
     ]
    }
   ],
   "source": [
    "stock.info()"
   ]
  },
  {
   "cell_type": "code",
   "execution_count": 313,
   "id": "c53c90e4",
   "metadata": {},
   "outputs": [
    {
     "data": {
      "text/plain": [
       "DatetimeIndex(['2003-01-02', '2003-01-03', '2003-01-06', '2003-01-07',\n",
       "               '2003-01-08', '2003-01-09', '2003-01-10', '2003-01-13',\n",
       "               '2003-01-14', '2003-01-15',\n",
       "               ...\n",
       "               '2023-12-18', '2023-12-19', '2023-12-20', '2023-12-21',\n",
       "               '2023-12-22', '2023-12-25', '2023-12-26', '2023-12-27',\n",
       "               '2023-12-28', '2023-12-29'],\n",
       "              dtype='datetime64[ns]', name='Date', length=5477, freq='B')"
      ]
     },
     "execution_count": 313,
     "metadata": {},
     "output_type": "execute_result"
    }
   ],
   "source": [
    "stock.asfreq('B').index  # set index frequency to business daliy"
   ]
  },
  {
   "cell_type": "code",
   "execution_count": 314,
   "id": "155e7d77",
   "metadata": {},
   "outputs": [
    {
     "data": {
      "text/html": [
       "<div>\n",
       "<style scoped>\n",
       "    .dataframe tbody tr th:only-of-type {\n",
       "        vertical-align: middle;\n",
       "    }\n",
       "\n",
       "    .dataframe tbody tr th {\n",
       "        vertical-align: top;\n",
       "    }\n",
       "\n",
       "    .dataframe thead th {\n",
       "        text-align: right;\n",
       "    }\n",
       "</style>\n",
       "<table border=\"1\" class=\"dataframe\">\n",
       "  <thead>\n",
       "    <tr style=\"text-align: right;\">\n",
       "      <th></th>\n",
       "      <th>Open</th>\n",
       "      <th>High</th>\n",
       "      <th>Low</th>\n",
       "      <th>Close</th>\n",
       "      <th>Adj Close</th>\n",
       "      <th>Volume</th>\n",
       "    </tr>\n",
       "  </thead>\n",
       "  <tbody>\n",
       "    <tr>\n",
       "      <th>count</th>\n",
       "      <td>5285.000000</td>\n",
       "      <td>5285.000000</td>\n",
       "      <td>5285.000000</td>\n",
       "      <td>5285.000000</td>\n",
       "      <td>5285.000000</td>\n",
       "      <td>5285.0</td>\n",
       "    </tr>\n",
       "    <tr>\n",
       "      <th>mean</th>\n",
       "      <td>55.678874</td>\n",
       "      <td>55.678874</td>\n",
       "      <td>55.678874</td>\n",
       "      <td>55.678874</td>\n",
       "      <td>48.462129</td>\n",
       "      <td>0.0</td>\n",
       "    </tr>\n",
       "    <tr>\n",
       "      <th>std</th>\n",
       "      <td>28.554171</td>\n",
       "      <td>28.554171</td>\n",
       "      <td>28.554171</td>\n",
       "      <td>28.554171</td>\n",
       "      <td>30.399879</td>\n",
       "      <td>0.0</td>\n",
       "    </tr>\n",
       "    <tr>\n",
       "      <th>min</th>\n",
       "      <td>18.280001</td>\n",
       "      <td>18.280001</td>\n",
       "      <td>18.280001</td>\n",
       "      <td>18.280001</td>\n",
       "      <td>13.750332</td>\n",
       "      <td>0.0</td>\n",
       "    </tr>\n",
       "    <tr>\n",
       "      <th>25%</th>\n",
       "      <td>33.020000</td>\n",
       "      <td>33.020000</td>\n",
       "      <td>33.020000</td>\n",
       "      <td>33.020000</td>\n",
       "      <td>24.445610</td>\n",
       "      <td>0.0</td>\n",
       "    </tr>\n",
       "    <tr>\n",
       "      <th>50%</th>\n",
       "      <td>44.540001</td>\n",
       "      <td>44.540001</td>\n",
       "      <td>44.540001</td>\n",
       "      <td>44.540001</td>\n",
       "      <td>36.315392</td>\n",
       "      <td>0.0</td>\n",
       "    </tr>\n",
       "    <tr>\n",
       "      <th>75%</th>\n",
       "      <td>73.809998</td>\n",
       "      <td>73.809998</td>\n",
       "      <td>73.809998</td>\n",
       "      <td>73.809998</td>\n",
       "      <td>66.668495</td>\n",
       "      <td>0.0</td>\n",
       "    </tr>\n",
       "    <tr>\n",
       "      <th>max</th>\n",
       "      <td>126.099998</td>\n",
       "      <td>126.099998</td>\n",
       "      <td>126.099998</td>\n",
       "      <td>126.099998</td>\n",
       "      <td>125.760002</td>\n",
       "      <td>0.0</td>\n",
       "    </tr>\n",
       "  </tbody>\n",
       "</table>\n",
       "</div>"
      ],
      "text/plain": [
       "              Open         High          Low        Close    Adj Close  Volume\n",
       "count  5285.000000  5285.000000  5285.000000  5285.000000  5285.000000  5285.0\n",
       "mean     55.678874    55.678874    55.678874    55.678874    48.462129     0.0\n",
       "std      28.554171    28.554171    28.554171    28.554171    30.399879     0.0\n",
       "min      18.280001    18.280001    18.280001    18.280001    13.750332     0.0\n",
       "25%      33.020000    33.020000    33.020000    33.020000    24.445610     0.0\n",
       "50%      44.540001    44.540001    44.540001    44.540001    36.315392     0.0\n",
       "75%      73.809998    73.809998    73.809998    73.809998    66.668495     0.0\n",
       "max     126.099998   126.099998   126.099998   126.099998   125.760002     0.0"
      ]
     },
     "execution_count": 314,
     "metadata": {},
     "output_type": "execute_result"
    }
   ],
   "source": [
    "stock.describe()"
   ]
  },
  {
   "cell_type": "code",
   "execution_count": 315,
   "id": "6df4377b",
   "metadata": {},
   "outputs": [
    {
     "data": {
      "text/plain": [
       "Open         0\n",
       "High         0\n",
       "Low          0\n",
       "Close        0\n",
       "Adj Close    0\n",
       "Volume       0\n",
       "dtype: int64"
      ]
     },
     "execution_count": 315,
     "metadata": {},
     "output_type": "execute_result"
    }
   ],
   "source": [
    "stock.isnull().sum(axis=0) # check any NA"
   ]
  },
  {
   "cell_type": "markdown",
   "id": "c6e29ea7",
   "metadata": {},
   "source": [
    "### Data Visualization"
   ]
  },
  {
   "cell_type": "code",
   "execution_count": 316,
   "id": "caedb0ed",
   "metadata": {},
   "outputs": [
    {
     "data": {
      "text/plain": [
       "Text(0.5, 1.0, 'The Stock Close Price of PREIX')"
      ]
     },
     "execution_count": 316,
     "metadata": {},
     "output_type": "execute_result"
    },
    {
     "data": {
      "image/png": "[encoded data removed]",
      "text/plain": [
       "<Figure size 1400x500 with 1 Axes>"
      ]
     },
     "metadata": {},
     "output_type": "display_data"
    }
   ],
   "source": [
    "plt.figure(figsize=(14,5))\n",
    "sns.set_theme(style=\"ticks\")\n",
    "sns.lineplot(data=stock,x=\"Date\",y='Close',color='firebrick')\n",
    "sns.despine()\n",
    "plt.title(\"The Stock Close Price of \" + ticker,size='x-large',color='blue')"
   ]
  },
  {
   "cell_type": "markdown",
   "id": "3e3ce4f1",
   "metadata": {},
   "source": [
    "### Splitting Data into a Training set and a Test set"
   ]
  },
  {
   "cell_type": "code",
   "execution_count": 317,
   "id": "9fc6d161",
   "metadata": {},
   "outputs": [
    {
     "data": {
      "text/html": [
       "<div>\n",
       "<style scoped>\n",
       "    .dataframe tbody tr th:only-of-type {\n",
       "        vertical-align: middle;\n",
       "    }\n",
       "\n",
       "    .dataframe tbody tr th {\n",
       "        vertical-align: top;\n",
       "    }\n",
       "\n",
       "    .dataframe thead th {\n",
       "        text-align: right;\n",
       "    }\n",
       "</style>\n",
       "<table border=\"1\" class=\"dataframe\">\n",
       "  <thead>\n",
       "    <tr style=\"text-align: right;\">\n",
       "      <th></th>\n",
       "      <th>Close</th>\n",
       "    </tr>\n",
       "    <tr>\n",
       "      <th>Date</th>\n",
       "      <th></th>\n",
       "    </tr>\n",
       "  </thead>\n",
       "  <tbody>\n",
       "    <tr>\n",
       "      <th>2003-01-02</th>\n",
       "      <td>24.450001</td>\n",
       "    </tr>\n",
       "    <tr>\n",
       "      <th>2003-01-03</th>\n",
       "      <td>24.440001</td>\n",
       "    </tr>\n",
       "    <tr>\n",
       "      <th>2003-01-06</th>\n",
       "      <td>24.990000</td>\n",
       "    </tr>\n",
       "    <tr>\n",
       "      <th>2003-01-07</th>\n",
       "      <td>24.830000</td>\n",
       "    </tr>\n",
       "    <tr>\n",
       "      <th>2003-01-08</th>\n",
       "      <td>24.490000</td>\n",
       "    </tr>\n",
       "  </tbody>\n",
       "</table>\n",
       "</div>"
      ],
      "text/plain": [
       "                Close\n",
       "Date                 \n",
       "2003-01-02  24.450001\n",
       "2003-01-03  24.440001\n",
       "2003-01-06  24.990000\n",
       "2003-01-07  24.830000\n",
       "2003-01-08  24.490000"
      ]
     },
     "execution_count": 317,
     "metadata": {},
     "output_type": "execute_result"
    }
   ],
   "source": [
    "df = stock[['Close']]\n",
    "df.head()"
   ]
  },
  {
   "cell_type": "code",
   "execution_count": 318,
   "id": "239dd29a",
   "metadata": {},
   "outputs": [],
   "source": [
    "# we took 80% of data for training and the rest 20% for testing\n",
    "\n",
    "train_size = int(len(df['Close'])*0.8)\n",
    "test_size = train_size  - 50   # 50 (timestamps) entries for prediction"
   ]
  },
  {
   "cell_type": "code",
   "execution_count": 319,
   "id": "63643d5a",
   "metadata": {},
   "outputs": [],
   "source": [
    "df = df['Close'].values.reshape(-1,1)\n",
    "train_data, test_data = np.array(df[:train_size]), np.array(df[test_size:])"
   ]
  },
  {
   "cell_type": "code",
   "execution_count": 320,
   "id": "915d758a",
   "metadata": {},
   "outputs": [
    {
     "data": {
      "text/plain": [
       "(4228, 1)"
      ]
     },
     "execution_count": 320,
     "metadata": {},
     "output_type": "execute_result"
    }
   ],
   "source": [
    "train_data.shape"
   ]
  },
  {
   "cell_type": "code",
   "execution_count": 321,
   "id": "f2269deb",
   "metadata": {},
   "outputs": [
    {
     "data": {
      "text/plain": [
       "(1107, 1)"
      ]
     },
     "execution_count": 321,
     "metadata": {},
     "output_type": "execute_result"
    }
   ],
   "source": [
    "test_data.shape  # has 50 rows overlaped"
   ]
  },
  {
   "cell_type": "markdown",
   "id": "befb87d8",
   "metadata": {},
   "source": [
    "### Normalizing the Data"
   ]
  },
  {
   "cell_type": "code",
   "execution_count": 322,
   "id": "b24aee12",
   "metadata": {},
   "outputs": [],
   "source": [
    "# Scale the data \n",
    "\n",
    "# we use fit_transform() on training data but transform() on the test data\n",
    "# https://towardsdatascience.com/what-and-why-behind-fit-transform-vs-transform-in-scikit-learn-78f915cf96fe\n",
    "# https://www.analyticsvidhya.com/blog/2021/04/difference-between-fit-transform-fit_transform-methods-in-scikit-learn-with-python-code/\n",
    "\n",
    "scaler = MinMaxScaler(feature_range=(0,1))\n",
    "#train_set_scaled = scaler.fit_transform(np.array(train_data).reshape(-1,1))\n",
    "#test_set_scaled = scaler.transform(np.array(test_data).reshape(-1,1))\n",
    "\n",
    "train_set_scaled = scaler.fit_transform(train_data)\n",
    "test_set_scaled = scaler.transform(test_data)"
   ]
  },
  {
   "cell_type": "markdown",
   "id": "b87f29f8",
   "metadata": {},
   "source": [
    "### Incorporating Timesteps Into Data"
   ]
  },
  {
   "cell_type": "code",
   "execution_count": 323,
   "id": "433da5a3",
   "metadata": {},
   "outputs": [],
   "source": [
    "# Creating a dataset function with n timesteps\n",
    "\n",
    "def create_dataset(dataset, time_step):\n",
    "    dataX, dataY = [],[]   # dataX takes the values as its input , dataY takes the values as output.\n",
    "    for i in range(time_step, len(dataset)):\n",
    "                   dataX.append(dataset[i-time_step:i, 0])\n",
    "                   dataY.append(dataset[i,0])\n",
    "    return np.array(dataX), np.array(dataY)"
   ]
  },
  {
   "cell_type": "markdown",
   "id": "1d3032b8",
   "metadata": {},
   "source": [
    "#### use a time step of 50 days.\n",
    "#### first 50 close prices (0 to 50), 1st 50 price will be in X_train data\n",
    "#### Then predict the price of 51th day; and 51th price will be in y_train data"
   ]
  },
  {
   "cell_type": "code",
   "execution_count": 325,
   "id": "4291fbfd",
   "metadata": {},
   "outputs": [],
   "source": [
    "# calling the create dataset function to split the data into \n",
    "# input output datasets with time step 50\n",
    "timestep = 50\n",
    "# For each element in the training data, I take the previous 50 closing prices as the input (x_train), \n",
    "# and the next closing price as the output (y_train).\n",
    "X_train, y_train =  create_dataset(train_set_scaled,timestep)\n",
    "X_test, y_test =  create_dataset(test_set_scaled,timestep)"
   ]
  },
  {
   "cell_type": "code",
   "execution_count": 326,
   "id": "4bc2025b",
   "metadata": {
    "scrolled": true
   },
   "outputs": [
    {
     "name": "stdout",
     "output_type": "stream",
     "text": [
      "(4178, 50)\n",
      "(4178,)\n",
      "(1057, 50)\n",
      "(1057,)\n"
     ]
    }
   ],
   "source": [
    "# checking values\n",
    "print(X_train.shape)\n",
    "print(y_train.shape)\n",
    "#print(X_train)\n",
    "print(X_test.shape)\n",
    "print(y_test.shape)"
   ]
  },
  {
   "cell_type": "code",
   "execution_count": 327,
   "id": "0172f9f3",
   "metadata": {},
   "outputs": [],
   "source": [
    "# Reshape input data for LSTM, since LSTM takes 3 dimensional data as an input.\n",
    "X_train = np.reshape(X_train, (X_train.shape[0], X_train.shape[1], 1))\n",
    "X_test = np.reshape(X_test, (X_test.shape[0], X_test.shape[1], 1))"
   ]
  },
  {
   "cell_type": "code",
   "execution_count": 328,
   "id": "811f87e4",
   "metadata": {},
   "outputs": [
    {
     "name": "stdout",
     "output_type": "stream",
     "text": [
      "(4178, 50, 1)\n",
      "(1057, 50, 1)\n"
     ]
    }
   ],
   "source": [
    "# checking values\n",
    "print(X_train.shape)\n",
    "print(X_test.shape)"
   ]
  },
  {
   "cell_type": "markdown",
   "id": "c6204fb3",
   "metadata": {},
   "source": [
    "### Creating and fitting LSTM model\n",
    "#### 5 layers of LSTM with 1 as input layer, 2 as hidden layers, 1 additonal dense layer and 1 for output layer as Dense."
   ]
  },
  {
   "cell_type": "code",
   "execution_count": 330,
   "id": "6bbd187b",
   "metadata": {},
   "outputs": [],
   "source": [
    "# Define the model\n",
    "\n",
    "# Activation function to use. Default: hyperbolic tangent (tanh).\n",
    "\n",
    "# I choice units=512  : The number of units actually is the dimension of the hidden state (or the output).\n",
    "# https://tung2389.github.io/coding-note/unitslstm\n",
    "\n",
    "# A common practice is to use a dropout rate of 0.2 to 0.5 for the input and output layers,\n",
    "# and a lower rate of 0.1 to 0.2 for the recurrent layers.\n",
    "# https://www.linkedin.com/advice/3/how-do-you-scale-up-your-lstm-model\n",
    "\n",
    "model = tf.keras.Sequential([\n",
    "    LSTM(units = 512, return_sequences = True, input_shape = (X_train.shape[1], 1)),\n",
    "    Dropout(0.2),    #  aviod overfitting\n",
    "    LSTM(units = 256, return_sequences = True),\n",
    "    Dropout(0.2),\n",
    "    LSTM(units = 128),\n",
    "    Dropout(0.2),    \n",
    "    Dense(units=64, activation='relu'),  # Dense is used to make sure we have a fully connected neural network.\n",
    "    Dense(units = 1)   # output layer\n",
    "    ])\n"
   ]
  },
  {
   "cell_type": "code",
   "execution_count": 331,
   "id": "f0694b92",
   "metadata": {
    "scrolled": true
   },
   "outputs": [
    {
     "name": "stdout",
     "output_type": "stream",
     "text": [
      "Model: \"sequential_8\"\n",
      "_________________________________________________________________\n",
      " Layer (type)                Output Shape              Param #   \n",
      "=================================================================\n",
      " lstm_24 (LSTM)              (None, 50, 512)           1052672   \n",
      "                                                                 \n",
      " dropout_24 (Dropout)        (None, 50, 512)           0         \n",
      "                                                                 \n",
      " lstm_25 (LSTM)              (None, 50, 256)           787456    \n",
      "                                                                 \n",
      " dropout_25 (Dropout)        (None, 50, 256)           0         \n",
      "                                                                 \n",
      " lstm_26 (LSTM)              (None, 128)               197120    \n",
      "                                                                 \n",
      " dropout_26 (Dropout)        (None, 128)               0         \n",
      "                                                                 \n",
      " dense_15 (Dense)            (None, 64)                8256      \n",
      "                                                                 \n",
      " dense_16 (Dense)            (None, 1)                 65        \n",
      "                                                                 \n",
      "=================================================================\n",
      "Total params: 2045569 (7.80 MB)\n",
      "Trainable params: 2045569 (7.80 MB)\n",
      "Non-trainable params: 0 (0.00 Byte)\n",
      "_________________________________________________________________\n"
     ]
    }
   ],
   "source": [
    "# Summary of the model \n",
    "model.summary()"
   ]
  },
  {
   "cell_type": "code",
   "execution_count": 332,
   "id": "b87c34e3",
   "metadata": {},
   "outputs": [],
   "source": [
    "from tensorflow.python.util import deprecation\n",
    "deprecation._PRINT_DEPRECATION_WARNINGS = False"
   ]
  },
  {
   "cell_type": "code",
   "execution_count": 333,
   "id": "363e1dfa",
   "metadata": {},
   "outputs": [],
   "source": [
    "# Compile the model \n",
    "adamopt = tf.keras.optimizers.Adam()\n",
    "mae = tf.keras.metrics.MeanAbsoluteError()\n",
    "model.compile(optimizer=adamopt, loss = 'mean_squared_error', metrics=[mae] )  \n",
    "\n",
    "# Regression Metrics  https://machinelearningmastery.com/custom-metrics-deep-learning-keras-python/\n",
    "# metrics=['mse', 'mae', 'mape', 'cosine']"
   ]
  },
  {
   "cell_type": "markdown",
   "id": "c979f4a6",
   "metadata": {},
   "source": [
    "####  https://machinelearningmastery.com/difference-between-a-batch-and-an-epoch/\n",
    "\n",
    "    The batch size is a number of samples processed before the model is updated.\n",
    "\n",
    "    The number of epochs is the number of complete passes through the training dataset.\n",
    "\n",
    "    The size of a batch must be more than or equal to one and less than or equal to the number of samples in the training dataset. "
   ]
  },
  {
   "cell_type": "markdown",
   "id": "81aa493c",
   "metadata": {},
   "source": [
    "    Worked Example:\n",
    "    Finally, let’s make this concrete with a small example.\n",
    "\n",
    "    Assume you have a dataset with 200 samples (rows of data) and you choose a batch size of 5 and 1,000 epochs.\n",
    "\n",
    "    This means that the dataset will be divided into 40 batches, each with five samples. The model weights will be updated after each batch of five samples.\n",
    "\n",
    "    This also means that one epoch will involve 40 batches or 40 updates to the model.\n",
    "\n",
    "    With 1,000 epochs, the model will be exposed to or pass through the whole dataset 1,000 times. That is a total of 40,000 batches during the entire training process."
   ]
  },
  {
   "cell_type": "markdown",
   "id": "5875c5f5",
   "metadata": {},
   "source": [
    "    verbose=0 will show you nothing (silent)\n",
    "\n",
    "    verbose=1 will show you an animated progress bar like this: [==============================]\n",
    "\n",
    "    verbose=2 will just mention the number of epoch like this:   Epoch 1/100 ....\n"
   ]
  },
  {
   "cell_type": "code",
   "execution_count": 334,
   "id": "61c819f5",
   "metadata": {
    "scrolled": false
   },
   "outputs": [
    {
     "name": "stdout",
     "output_type": "stream",
     "text": [
      "Epoch 1/100\n",
      "131/131 [==============================] - 24s 150ms/step - loss: 0.0066 - mean_absolute_error: 0.0429\n",
      "Epoch 2/100\n",
      "131/131 [==============================] - 20s 154ms/step - loss: 0.0010 - mean_absolute_error: 0.0220\n",
      "Epoch 3/100\n",
      "131/131 [==============================] - 21s 161ms/step - loss: 8.7118e-04 - mean_absolute_error: 0.0208\n",
      "Epoch 4/100\n",
      "131/131 [==============================] - 21s 161ms/step - loss: 8.0705e-04 - mean_absolute_error: 0.0198\n",
      "Epoch 5/100\n",
      "131/131 [==============================] - 21s 158ms/step - loss: 8.1990e-04 - mean_absolute_error: 0.0199\n",
      "Epoch 6/100\n",
      "131/131 [==============================] - 21s 159ms/step - loss: 7.5255e-04 - mean_absolute_error: 0.0189\n",
      "Epoch 7/100\n",
      "131/131 [==============================] - 21s 157ms/step - loss: 5.4452e-04 - mean_absolute_error: 0.0161\n",
      "Epoch 8/100\n",
      "131/131 [==============================] - 21s 161ms/step - loss: 7.3616e-04 - mean_absolute_error: 0.0185\n",
      "Epoch 9/100\n",
      "131/131 [==============================] - 21s 159ms/step - loss: 5.9416e-04 - mean_absolute_error: 0.0167\n",
      "Epoch 10/100\n",
      "131/131 [==============================] - 21s 157ms/step - loss: 4.6901e-04 - mean_absolute_error: 0.0151\n",
      "Epoch 11/100\n",
      "131/131 [==============================] - 21s 160ms/step - loss: 4.7859e-04 - mean_absolute_error: 0.0150\n",
      "Epoch 12/100\n",
      "131/131 [==============================] - 21s 161ms/step - loss: 4.7612e-04 - mean_absolute_error: 0.0153\n",
      "Epoch 13/100\n",
      "131/131 [==============================] - 21s 159ms/step - loss: 5.0629e-04 - mean_absolute_error: 0.0159\n",
      "Epoch 14/100\n",
      "131/131 [==============================] - 21s 159ms/step - loss: 4.2193e-04 - mean_absolute_error: 0.0147\n",
      "Epoch 15/100\n",
      "131/131 [==============================] - 21s 157ms/step - loss: 4.1639e-04 - mean_absolute_error: 0.0146\n",
      "Epoch 16/100\n",
      "131/131 [==============================] - 21s 159ms/step - loss: 4.2140e-04 - mean_absolute_error: 0.0148\n",
      "Epoch 17/100\n",
      "131/131 [==============================] - 21s 161ms/step - loss: 4.3815e-04 - mean_absolute_error: 0.0151\n",
      "Epoch 18/100\n",
      "131/131 [==============================] - 21s 157ms/step - loss: 4.3512e-04 - mean_absolute_error: 0.0152\n",
      "Epoch 19/100\n",
      "131/131 [==============================] - 21s 160ms/step - loss: 4.1030e-04 - mean_absolute_error: 0.0147\n",
      "Epoch 20/100\n",
      "131/131 [==============================] - 21s 158ms/step - loss: 3.8359e-04 - mean_absolute_error: 0.0145\n",
      "Epoch 21/100\n",
      "131/131 [==============================] - 21s 158ms/step - loss: 4.5949e-04 - mean_absolute_error: 0.0158\n",
      "Epoch 22/100\n",
      "131/131 [==============================] - 21s 164ms/step - loss: 4.0964e-04 - mean_absolute_error: 0.0152\n",
      "Epoch 23/100\n",
      "131/131 [==============================] - 20s 156ms/step - loss: 3.4738e-04 - mean_absolute_error: 0.0138\n",
      "Epoch 24/100\n",
      "131/131 [==============================] - 21s 157ms/step - loss: 3.9051e-04 - mean_absolute_error: 0.0145\n",
      "Epoch 25/100\n",
      "131/131 [==============================] - 21s 158ms/step - loss: 4.9392e-04 - mean_absolute_error: 0.0166\n",
      "Epoch 26/100\n",
      "131/131 [==============================] - 21s 158ms/step - loss: 3.5819e-04 - mean_absolute_error: 0.0137\n",
      "Epoch 27/100\n",
      "131/131 [==============================] - 21s 158ms/step - loss: 4.0711e-04 - mean_absolute_error: 0.0150\n",
      "Epoch 28/100\n",
      "131/131 [==============================] - 20s 156ms/step - loss: 4.5640e-04 - mean_absolute_error: 0.0156\n",
      "Epoch 29/100\n",
      "131/131 [==============================] - 21s 159ms/step - loss: 3.7289e-04 - mean_absolute_error: 0.0142\n",
      "Epoch 30/100\n",
      "131/131 [==============================] - 21s 158ms/step - loss: 3.7130e-04 - mean_absolute_error: 0.0142\n",
      "Epoch 31/100\n",
      "131/131 [==============================] - 21s 159ms/step - loss: 3.5849e-04 - mean_absolute_error: 0.0139\n",
      "Epoch 32/100\n",
      "131/131 [==============================] - 21s 159ms/step - loss: 4.0032e-04 - mean_absolute_error: 0.0146\n",
      "Epoch 33/100\n",
      "131/131 [==============================] - 21s 159ms/step - loss: 4.1327e-04 - mean_absolute_error: 0.0148\n",
      "Epoch 34/100\n",
      "131/131 [==============================] - 20s 156ms/step - loss: 3.3051e-04 - mean_absolute_error: 0.0134\n",
      "Epoch 35/100\n",
      "131/131 [==============================] - 21s 161ms/step - loss: 4.0193e-04 - mean_absolute_error: 0.0149\n",
      "Epoch 36/100\n",
      "131/131 [==============================] - 20s 156ms/step - loss: 3.1548e-04 - mean_absolute_error: 0.0130\n",
      "Epoch 37/100\n",
      "131/131 [==============================] - 21s 158ms/step - loss: 3.7013e-04 - mean_absolute_error: 0.0143\n",
      "Epoch 38/100\n",
      "131/131 [==============================] - 21s 158ms/step - loss: 3.5682e-04 - mean_absolute_error: 0.0140\n",
      "Epoch 39/100\n",
      "131/131 [==============================] - 20s 156ms/step - loss: 3.1248e-04 - mean_absolute_error: 0.0132\n",
      "Epoch 40/100\n",
      "131/131 [==============================] - 21s 157ms/step - loss: 3.2577e-04 - mean_absolute_error: 0.0134\n",
      "Epoch 41/100\n",
      "131/131 [==============================] - 21s 158ms/step - loss: 3.2528e-04 - mean_absolute_error: 0.0133\n",
      "Epoch 42/100\n",
      "131/131 [==============================] - 21s 159ms/step - loss: 3.5855e-04 - mean_absolute_error: 0.0141\n",
      "Epoch 43/100\n",
      "131/131 [==============================] - 21s 158ms/step - loss: 3.5054e-04 - mean_absolute_error: 0.0142\n",
      "Epoch 44/100\n",
      "131/131 [==============================] - 20s 156ms/step - loss: 4.1994e-04 - mean_absolute_error: 0.0151\n",
      "Epoch 45/100\n",
      "131/131 [==============================] - 20s 154ms/step - loss: 3.0817e-04 - mean_absolute_error: 0.0132\n",
      "Epoch 46/100\n",
      "131/131 [==============================] - 20s 153ms/step - loss: 3.2064e-04 - mean_absolute_error: 0.0133\n",
      "Epoch 47/100\n",
      "131/131 [==============================] - 20s 151ms/step - loss: 2.9780e-04 - mean_absolute_error: 0.0130\n",
      "Epoch 48/100\n",
      "131/131 [==============================] - 20s 150ms/step - loss: 4.0985e-04 - mean_absolute_error: 0.0143\n",
      "Epoch 49/100\n",
      "131/131 [==============================] - 19s 148ms/step - loss: 3.5994e-04 - mean_absolute_error: 0.0141\n",
      "Epoch 50/100\n",
      "131/131 [==============================] - 20s 149ms/step - loss: 3.2302e-04 - mean_absolute_error: 0.0133\n",
      "Epoch 51/100\n",
      "131/131 [==============================] - 20s 149ms/step - loss: 3.5675e-04 - mean_absolute_error: 0.0141\n",
      "Epoch 52/100\n",
      "131/131 [==============================] - 19s 149ms/step - loss: 2.9739e-04 - mean_absolute_error: 0.0129\n",
      "Epoch 53/100\n",
      "131/131 [==============================] - 19s 149ms/step - loss: 4.0272e-04 - mean_absolute_error: 0.0149\n",
      "Epoch 54/100\n",
      "131/131 [==============================] - 20s 149ms/step - loss: 3.1083e-04 - mean_absolute_error: 0.0130\n",
      "Epoch 55/100\n",
      "131/131 [==============================] - 20s 151ms/step - loss: 2.7203e-04 - mean_absolute_error: 0.0125\n",
      "Epoch 56/100\n",
      "131/131 [==============================] - 20s 154ms/step - loss: 2.7889e-04 - mean_absolute_error: 0.0124\n",
      "Epoch 57/100\n",
      "131/131 [==============================] - 19s 148ms/step - loss: 2.8190e-04 - mean_absolute_error: 0.0125\n",
      "Epoch 58/100\n",
      "131/131 [==============================] - 19s 149ms/step - loss: 2.8816e-04 - mean_absolute_error: 0.0126\n",
      "Epoch 59/100\n",
      "131/131 [==============================] - 20s 149ms/step - loss: 3.2635e-04 - mean_absolute_error: 0.0136\n",
      "Epoch 60/100\n",
      "131/131 [==============================] - 20s 149ms/step - loss: 2.9303e-04 - mean_absolute_error: 0.0129\n",
      "Epoch 61/100\n",
      "131/131 [==============================] - 20s 151ms/step - loss: 2.8356e-04 - mean_absolute_error: 0.0127\n",
      "Epoch 62/100\n",
      "131/131 [==============================] - 20s 151ms/step - loss: 2.2215e-04 - mean_absolute_error: 0.0111\n",
      "Epoch 63/100\n",
      "131/131 [==============================] - 20s 153ms/step - loss: 2.7368e-04 - mean_absolute_error: 0.0120\n",
      "Epoch 64/100\n",
      "131/131 [==============================] - 20s 149ms/step - loss: 2.7615e-04 - mean_absolute_error: 0.0124\n",
      "Epoch 65/100\n",
      "131/131 [==============================] - 20s 150ms/step - loss: 2.6156e-04 - mean_absolute_error: 0.0122\n",
      "Epoch 66/100\n",
      "131/131 [==============================] - 20s 150ms/step - loss: 2.4827e-04 - mean_absolute_error: 0.0118\n",
      "Epoch 67/100\n",
      "131/131 [==============================] - 20s 151ms/step - loss: 2.7084e-04 - mean_absolute_error: 0.0122\n",
      "Epoch 68/100\n",
      "131/131 [==============================] - 20s 150ms/step - loss: 2.8004e-04 - mean_absolute_error: 0.0124\n",
      "Epoch 69/100\n"
     ]
    },
    {
     "name": "stdout",
     "output_type": "stream",
     "text": [
      "131/131 [==============================] - 19s 148ms/step - loss: 2.4354e-04 - mean_absolute_error: 0.0116\n",
      "Epoch 70/100\n",
      "131/131 [==============================] - 20s 151ms/step - loss: 2.7136e-04 - mean_absolute_error: 0.0123\n",
      "Epoch 71/100\n",
      "131/131 [==============================] - 19s 149ms/step - loss: 2.7242e-04 - mean_absolute_error: 0.0124\n",
      "Epoch 72/100\n",
      "131/131 [==============================] - 19s 148ms/step - loss: 2.7929e-04 - mean_absolute_error: 0.0126\n",
      "Epoch 73/100\n",
      "131/131 [==============================] - 20s 149ms/step - loss: 2.6230e-04 - mean_absolute_error: 0.0120\n",
      "Epoch 74/100\n",
      "131/131 [==============================] - 19s 148ms/step - loss: 2.7335e-04 - mean_absolute_error: 0.0124\n",
      "Epoch 75/100\n",
      "131/131 [==============================] - 20s 150ms/step - loss: 2.5738e-04 - mean_absolute_error: 0.0120\n",
      "Epoch 76/100\n",
      "131/131 [==============================] - 19s 148ms/step - loss: 2.6204e-04 - mean_absolute_error: 0.0121\n",
      "Epoch 77/100\n",
      "131/131 [==============================] - 20s 151ms/step - loss: 2.2014e-04 - mean_absolute_error: 0.0111\n",
      "Epoch 78/100\n",
      "131/131 [==============================] - 20s 150ms/step - loss: 2.3720e-04 - mean_absolute_error: 0.0115\n",
      "Epoch 79/100\n",
      "131/131 [==============================] - 19s 148ms/step - loss: 2.3242e-04 - mean_absolute_error: 0.0115\n",
      "Epoch 80/100\n",
      "131/131 [==============================] - 20s 150ms/step - loss: 2.4247e-04 - mean_absolute_error: 0.0117\n",
      "Epoch 81/100\n",
      "131/131 [==============================] - 20s 149ms/step - loss: 2.2279e-04 - mean_absolute_error: 0.0112\n",
      "Epoch 82/100\n",
      "131/131 [==============================] - 20s 149ms/step - loss: 2.0005e-04 - mean_absolute_error: 0.0106\n",
      "Epoch 83/100\n",
      "131/131 [==============================] - 20s 149ms/step - loss: 2.2376e-04 - mean_absolute_error: 0.0111\n",
      "Epoch 84/100\n",
      "131/131 [==============================] - 19s 149ms/step - loss: 2.6183e-04 - mean_absolute_error: 0.0119\n",
      "Epoch 85/100\n",
      "131/131 [==============================] - 19s 149ms/step - loss: 2.2138e-04 - mean_absolute_error: 0.0113\n",
      "Epoch 86/100\n",
      "131/131 [==============================] - 19s 149ms/step - loss: 2.4345e-04 - mean_absolute_error: 0.0115\n",
      "Epoch 87/100\n",
      "131/131 [==============================] - 20s 149ms/step - loss: 2.5623e-04 - mean_absolute_error: 0.0120\n",
      "Epoch 88/100\n",
      "131/131 [==============================] - 20s 150ms/step - loss: 2.6267e-04 - mean_absolute_error: 0.0121\n",
      "Epoch 89/100\n",
      "131/131 [==============================] - 19s 148ms/step - loss: 2.1774e-04 - mean_absolute_error: 0.0111\n",
      "Epoch 90/100\n",
      "131/131 [==============================] - 20s 150ms/step - loss: 2.4202e-04 - mean_absolute_error: 0.0118\n",
      "Epoch 91/100\n",
      "131/131 [==============================] - 19s 148ms/step - loss: 2.4077e-04 - mean_absolute_error: 0.0116\n",
      "Epoch 92/100\n",
      "131/131 [==============================] - 19s 149ms/step - loss: 2.3330e-04 - mean_absolute_error: 0.0113\n",
      "Epoch 93/100\n",
      "131/131 [==============================] - 20s 153ms/step - loss: 2.0618e-04 - mean_absolute_error: 0.0110\n",
      "Epoch 94/100\n",
      "131/131 [==============================] - 19s 148ms/step - loss: 2.0561e-04 - mean_absolute_error: 0.0109\n",
      "Epoch 95/100\n",
      "131/131 [==============================] - 20s 150ms/step - loss: 2.0008e-04 - mean_absolute_error: 0.0107\n",
      "Epoch 96/100\n",
      "131/131 [==============================] - 19s 148ms/step - loss: 2.2610e-04 - mean_absolute_error: 0.0112\n",
      "Epoch 97/100\n",
      "131/131 [==============================] - 20s 150ms/step - loss: 2.1599e-04 - mean_absolute_error: 0.0111\n",
      "Epoch 98/100\n",
      "131/131 [==============================] - 20s 150ms/step - loss: 2.0867e-04 - mean_absolute_error: 0.0110\n",
      "Epoch 99/100\n",
      "131/131 [==============================] - 19s 148ms/step - loss: 2.1031e-04 - mean_absolute_error: 0.0108\n",
      "Epoch 100/100\n",
      "131/131 [==============================] - 20s 150ms/step - loss: 1.9161e-04 - mean_absolute_error: 0.0103\n",
      "Time used:  0:33:33.461248\n"
     ]
    }
   ],
   "source": [
    "start = timer() \n",
    "# Fitting the network to the Training set\n",
    "\n",
    "# you need to choose the right size for your mini-batches, \n",
    "# as batches that are too small or too large can affect the convergence and accuracy of your model. \n",
    "# A common rule of thumb is to use a power of 2, such as 32, 64, or 128, as your batch size.\n",
    "# https://www.linkedin.com/advice/3/how-do-you-scale-up-your-lstm-model\n",
    "\n",
    "history = model.fit(X_train, y_train, epochs =100, batch_size = 32, verbose = 1)\n",
    "\n",
    "end =  timer()\n",
    "print(\"Time used: \",timedelta(seconds=end-start))"
   ]
  },
  {
   "cell_type": "code",
   "execution_count": 335,
   "id": "c9c2a321",
   "metadata": {},
   "outputs": [
    {
     "data": {
      "image/png": "[encoded data removed]",
      "text/plain": [
       "<Figure size 1000x700 with 1 Axes>"
      ]
     },
     "metadata": {},
     "output_type": "display_data"
    }
   ],
   "source": [
    "# Plotting Loss vs Epochs\n",
    "plt.figure(figsize =(10,7))\n",
    "plt.plot(history.history[\"loss\"])\n",
    "plt.xlabel(\"Epochs\")\n",
    "plt.ylabel(\"Losses\")\n",
    "plt.title(\"LSTM model, Loss vs Epoch\")\n",
    "plt.show()"
   ]
  },
  {
   "cell_type": "code",
   "execution_count": 336,
   "id": "cd58b762",
   "metadata": {},
   "outputs": [
    {
     "name": "stdout",
     "output_type": "stream",
     "text": [
      "Evaluate on train data\n",
      "train loss , train MAE: [7.460308552253991e-05, 0.006147801410406828]\n"
     ]
    }
   ],
   "source": [
    "# Evaluate the model on the train set\n",
    "print(\"Evaluate on train data\")\n",
    "results = model.evaluate(X_train, y_train, verbose=0, batch_size=42)\n",
    "print(\"train loss , train MAE:\", results)"
   ]
  },
  {
   "cell_type": "markdown",
   "id": "b94f77cc",
   "metadata": {},
   "source": [
    "### Making Predictions on the Test Set"
   ]
  },
  {
   "cell_type": "code",
   "execution_count": 337,
   "id": "2fd09c08",
   "metadata": {
    "scrolled": false
   },
   "outputs": [
    {
     "name": "stdout",
     "output_type": "stream",
     "text": [
      "34/34 [==============================] - 2s 47ms/step\n",
      "RMSE= 103.70270044248204\n"
     ]
    }
   ],
   "source": [
    "y_pred = model.predict(X_test)\n",
    "predictions = scaler.inverse_transform(y_pred)\n",
    "print(f\"RMSE= {math.sqrt(mean_squared_error(y_test, predictions))}\" )"
   ]
  },
  {
   "cell_type": "code",
   "execution_count": 338,
   "id": "8ff42e55",
   "metadata": {},
   "outputs": [
    {
     "name": "stdout",
     "output_type": "stream",
     "text": [
      "Mean absolute error on test set: 2.63%\n"
     ]
    }
   ],
   "source": [
    "mae = mean_absolute_error(y_test, y_pred)\n",
    "mae_percentage = (mae / np.mean(y_test)) * 100\n",
    "print(\"Mean absolute error on test set: {:.2f}%\".format(mae_percentage))"
   ]
  },
  {
   "cell_type": "code",
   "execution_count": 339,
   "id": "ece1143e",
   "metadata": {},
   "outputs": [
    {
     "data": {
      "text/plain": [
       "((1057, 1), (1057, 50, 1))"
      ]
     },
     "execution_count": 339,
     "metadata": {},
     "output_type": "execute_result"
    }
   ],
   "source": [
    "y_pred.shape, X_test.shape"
   ]
  },
  {
   "cell_type": "code",
   "execution_count": 340,
   "id": "ed9affff",
   "metadata": {},
   "outputs": [
    {
     "name": "stdout",
     "output_type": "stream",
     "text": [
      "R2 score: 0.9625997400825554\n"
     ]
    }
   ],
   "source": [
    "# Actual values\n",
    "actual = y_test\n",
    "\n",
    "# Predicted values\n",
    "predicted = y_pred\n",
    "\n",
    "# Calculate the R2 score\n",
    "r2 = r2_score(actual, predicted)\n",
    "\n",
    "print(\"R2 score:\", r2)"
   ]
  },
  {
   "cell_type": "markdown",
   "id": "709b6b10",
   "metadata": {},
   "source": [
    "### Graph Plotting"
   ]
  },
  {
   "cell_type": "code",
   "execution_count": 341,
   "id": "4632852e",
   "metadata": {},
   "outputs": [
    {
     "data": {
      "image/png": "[encoded data removed]",
      "text/plain": [
       "<Figure size 1400x800 with 1 Axes>"
      ]
     },
     "metadata": {},
     "output_type": "display_data"
    }
   ],
   "source": [
    "fig, ax = plt.subplots(figsize=(14,8))\n",
    "\n",
    "plt.plot(df, color = 'red', label = ticker +' Stock Price')\n",
    "ax.plot(range(len(y_train) + 50 , len(y_train) + 50 +len(predictions) ), predictions, color='blue', label=\"Predicted Prices\")\n",
    "plt.title(ticker +' Stock Price Prediction')\n",
    "plt.xlabel('Date')\n",
    "plt.ylabel('Close Price')\n",
    "plt.legend()\n",
    "plt.show()"
   ]
  },
  {
   "cell_type": "code",
   "execution_count": 342,
   "id": "aad18732",
   "metadata": {
    "scrolled": false
   },
   "outputs": [
    {
     "data": {
      "image/png": "[encoded data removed]",
      "text/plain": [
       "<Figure size 800x400 with 1 Axes>"
      ]
     },
     "metadata": {},
     "output_type": "display_data"
    }
   ],
   "source": [
    "# plot only test data and compare with predicted\n",
    "y_test_scaled =scaler.inverse_transform(y_test.reshape(-1,1))\n",
    "\n",
    "fig, ax = plt.subplots(figsize=(8,4))\n",
    "ax.plot(y_test_scaled, color='red', label = 'True Price of testing set')\n",
    "plt.plot(predictions, color = 'blue', label='Predicted')\n",
    "plt.legend()\n",
    "plt.show()"
   ]
  },
  {
   "cell_type": "code",
   "execution_count": 343,
   "id": "f44c8bd4",
   "metadata": {},
   "outputs": [],
   "source": [
    "#model.save('tf_keras_LSTM_model.h5')"
   ]
  },
  {
   "cell_type": "markdown",
   "id": "f47817d8",
   "metadata": {},
   "source": [
    " It can accurately follow most unusual jumps/drops; however, we can observe that the model expected (predicted) lower values than the actual stock price for the most recent date stamps."
   ]
  },
  {
   "cell_type": "markdown",
   "id": "5bfc924e",
   "metadata": {},
   "source": [
    "### Future price prediction"
   ]
  },
  {
   "cell_type": "code",
   "execution_count": 344,
   "id": "17197bb0",
   "metadata": {},
   "outputs": [
    {
     "data": {
      "text/plain": [
       "Open         125.410004\n",
       "High         125.410004\n",
       "Low          125.410004\n",
       "Close        125.410004\n",
       "Adj Close    125.410004\n",
       "Volume         0.000000\n",
       "Name: 2023-12-29 00:00:00, dtype: float64"
      ]
     },
     "execution_count": 344,
     "metadata": {},
     "output_type": "execute_result"
    }
   ],
   "source": [
    "# Which day is the last day in our data?\n",
    "stock.iloc[-1]"
   ]
  },
  {
   "cell_type": "code",
   "execution_count": 345,
   "id": "96acf61a",
   "metadata": {},
   "outputs": [],
   "source": [
    "# We can predict the open price for the day after 12/29/2023--> for 01/02/2024.\n",
    "# We will use last 50 days Open price as input of our model for this prediction"
   ]
  },
  {
   "cell_type": "code",
   "execution_count": 346,
   "id": "0d8a688c",
   "metadata": {},
   "outputs": [
    {
     "name": "stdout",
     "output_type": "stream",
     "text": [
      "Shape of X_input : (1, 50, 1)\n"
     ]
    }
   ],
   "source": [
    "X_input = stock.iloc[-timestep:].Close.values                     # getting last 50 rows and converting to array\n",
    "X_input_scaled = scaler.transform(X_input.reshape(-1,1))      # converting to 2D array and scaling\n",
    "X_input_3d = np.reshape(X_input_scaled, (1,50,1))                           # reshaping : converting to 3D array\n",
    "print(\"Shape of X_input :\", X_input_3d.shape)"
   ]
  },
  {
   "cell_type": "code",
   "execution_count": 347,
   "id": "63152bc7",
   "metadata": {},
   "outputs": [
    {
     "name": "stdout",
     "output_type": "stream",
     "text": [
      "1/1 [==============================] - 0s 109ms/step\n",
      "LSTM prediction, Close price prediction for 01/02/2024 : 129.9496\n"
     ]
    }
   ],
   "source": [
    "LSTM_prediction = scaler.inverse_transform(model.predict(X_input_3d))\n",
    "print(\"LSTM prediction, Close price prediction for 01/02/2024 :\", LSTM_prediction[0,0])"
   ]
  },
  {
   "cell_type": "code",
   "execution_count": 348,
   "id": "22021315",
   "metadata": {},
   "outputs": [
    {
     "name": "stdout",
     "output_type": "stream",
     "text": [
      "1/1 [==============================] - 0s 78ms/step\n",
      "Price of PREIX tomorrow:[[129.9496]]\n"
     ]
    }
   ],
   "source": [
    "# re-code\n",
    "#Get last 50 days values and convert into array\n",
    "last_50_days=stock.iloc[-timestep:].Close.values \n",
    "\n",
    "#Scale the data to be values between 0\n",
    "last_50_days_scaled=scaler.transform(last_50_days.reshape(-1,1))\n",
    "\n",
    "#Create an empty list\n",
    "X_test=[]\n",
    "#Appemd the past 50days\n",
    "X_test.append(last_50_days_scaled)\n",
    "\n",
    "#Conver the X_test data into numpy array\n",
    "X_test = np.array(X_test)\n",
    "\n",
    "#Reshape the data\n",
    "X_test = np.reshape(X_test, (X_test.shape[0], X_test.shape[1],1))\n",
    "#Get predicted scaled price\n",
    "pred_price = model.predict(X_test)\n",
    "#undo the scaling\n",
    "pred_price=scaler.inverse_transform(pred_price)\n",
    "print(f'Price of {ticker} tomorrow:{pred_price}')"
   ]
  },
  {
   "cell_type": "code",
   "execution_count": 349,
   "id": "669d5fd7",
   "metadata": {},
   "outputs": [
    {
     "name": "stderr",
     "output_type": "stream",
     "text": [
      "[*********************100%%**********************]  1 of 1 completed\n"
     ]
    },
    {
     "data": {
      "text/html": [
       "<div>\n",
       "<style scoped>\n",
       "    .dataframe tbody tr th:only-of-type {\n",
       "        vertical-align: middle;\n",
       "    }\n",
       "\n",
       "    .dataframe tbody tr th {\n",
       "        vertical-align: top;\n",
       "    }\n",
       "\n",
       "    .dataframe thead th {\n",
       "        text-align: right;\n",
       "    }\n",
       "</style>\n",
       "<table border=\"1\" class=\"dataframe\">\n",
       "  <thead>\n",
       "    <tr style=\"text-align: right;\">\n",
       "      <th></th>\n",
       "      <th>Open</th>\n",
       "      <th>High</th>\n",
       "      <th>Low</th>\n",
       "      <th>Close</th>\n",
       "      <th>Adj Close</th>\n",
       "      <th>Volume</th>\n",
       "    </tr>\n",
       "    <tr>\n",
       "      <th>Date</th>\n",
       "      <th></th>\n",
       "      <th></th>\n",
       "      <th></th>\n",
       "      <th></th>\n",
       "      <th></th>\n",
       "      <th></th>\n",
       "    </tr>\n",
       "  </thead>\n",
       "  <tbody>\n",
       "    <tr>\n",
       "      <th>2024-01-02</th>\n",
       "      <td>124.699997</td>\n",
       "      <td>124.699997</td>\n",
       "      <td>124.699997</td>\n",
       "      <td>124.699997</td>\n",
       "      <td>124.699997</td>\n",
       "      <td>0</td>\n",
       "    </tr>\n",
       "  </tbody>\n",
       "</table>\n",
       "</div>"
      ],
      "text/plain": [
       "                  Open        High         Low       Close   Adj Close  Volume\n",
       "Date                                                                          \n",
       "2024-01-02  124.699997  124.699997  124.699997  124.699997  124.699997       0"
      ]
     },
     "execution_count": 349,
     "metadata": {},
     "output_type": "execute_result"
    }
   ],
   "source": [
    "# Get the quote\n",
    "stock_quote = yf.download(ticker,  start='2024-01-02', end='2024-01-03')\n",
    "stock_quote"
   ]
  },
  {
   "cell_type": "markdown",
   "id": "4f2faf62",
   "metadata": {},
   "source": [
    "#### Actual Close Price  is USD124.70 on Jan2, 2024"
   ]
  },
  {
   "cell_type": "code",
   "execution_count": null,
   "id": "68db0cc9",
   "metadata": {},
   "outputs": [],
   "source": []
  },
  {
   "cell_type": "markdown",
   "id": "9fe45f6c",
   "metadata": {},
   "source": [
    "### Conclusion\n",
    "\n",
    "#### It is impossible to get a perfect model that predict the price without any error, there are too many factors can affect the stock prices. "
   ]
  },
  {
   "cell_type": "code",
   "execution_count": null,
   "id": "3f83e531",
   "metadata": {},
   "outputs": [],
   "source": []
  },
  {
   "cell_type": "markdown",
   "id": "af184901",
   "metadata": {},
   "source": [
    "### Reference\n",
    "    \n",
    "    https://www.datacamp.com/tutorial/lstm-python-stock-market\n",
    "    \n",
    "    https://towardsdatascience.com/predicting-stock-prices-using-a-keras-lstm-model-4225457f0233\n",
    "    https://medium.com/@prajjwalchauhan94017/stock-prediction-and-forecasting-using-lstm-long-short-term-memory-9ff56625de73\n",
    "    https://github.com/mwitiderrick/stockprice/blob/master/TATA%20.ipynb\n",
    "    https://medium.com/@vineet.pandya/use-tensorflow-lstm-for-time-series-forecasting-770ec789d2ce\n",
    "    https://www.projectpro.io/article/stock-price-prediction-using-machine-learning-project/571\n",
    "    https://www.datacamp.com/tutorial/ten-important-updates-tensorflow\n",
    "    \n",
    "    https://wandb.ai/ayush-thakur/dl-question-bank/reports/ReLU-vs-Sigmoid-Function-in-Deep-Neural-Networks--VmlldzoyMDk0MzI\n",
    "    https://www.educative.io/answers/sigmoid-vs-relu\n",
    "    https://deepdatascience.wordpress.com/2016/11/18/which-lstm-optimizer-to-use/\n",
    "    https://machinelearningmastery.com/custom-metrics-deep-learning-keras-python/\n",
    "    https://www.linkedin.com/advice/3/how-do-you-scale-up-your-lstm-model\n"
   ]
  },
  {
   "cell_type": "markdown",
   "id": "794265f0",
   "metadata": {},
   "source": [
    "    Predicting Stock Prices with LSTMs: One Mistake Everyone Makes (Episode 16)\n",
    "        https://www.youtube.com/watch?v=Vfx1L2jh2Ng\n",
    "\n",
    "    Stock Price Prediction with Machine Learning Mistakes: Prices As Inputs (Episode 20)\n",
    "        https://www.youtube.com/watch?v=aIklUbW0UWI\n",
    "\n",
    "    Common Mistakes in Stock Price Prediction: Prices As Targets (Episode 21)\n",
    "        https://www.youtube.com/watch?v=xOcyV5Q2G5I\n",
    "\n",
    "    Common Mistakes in Stock Price Prediction: Train-Test Split (Episode 22)\n",
    "        https://www.youtube.com/watch?v=6t9hKclQNH4&t=8s"
   ]
  },
  {
   "cell_type": "markdown",
   "id": "8963bb69",
   "metadata": {},
   "source": [
    "#### Research Paper:\n",
    "    \n",
    "    Predicting stock market index using LSTM \n",
    "        https://www.sciencedirect.com/science/article/pii/S2666827022000378\n",
    "    Stock Price Prediction Using Machine Learning and LSTM-Based Deep Learning Models\n",
    "        https://www.techrxiv.org/users/680450/articles/683786-stock-price-prediction-using-machine-learning-and-lstm-based-deep-learning-models\n",
    "    Stock Price Prediction using LSTM Model    \n",
    "        https://drpress.org/ojs/index.php/HSET/article/view/7352/7153"
   ]
  },
  {
   "cell_type": "code",
   "execution_count": null,
   "id": "1d2857cc",
   "metadata": {},
   "outputs": [],
   "source": []
  }
 ],
 "metadata": {
  "kernelspec": {
   "display_name": "Python 3 (ipykernel)",
   "language": "python",
   "name": "python3"
  },
  "language_info": {
   "codemirror_mode": {
    "name": "ipython",
    "version": 3
   },
   "file_extension": ".py",
   "mimetype": "text/x-python",
   "name": "python",
   "nbconvert_exporter": "python",
   "pygments_lexer": "ipython3",
   "version": "3.10.13"
  }
 },
 "nbformat": 4,
 "nbformat_minor": 5
}
