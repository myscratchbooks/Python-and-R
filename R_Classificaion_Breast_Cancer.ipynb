{
 "cells": [
  {
   "cell_type": "markdown",
   "id": "9aaf8e57",
   "metadata": {},
   "source": [
    "# Breast Cancer Classification Problem Analysis"
   ]
  },
  {
   "cell_type": "code",
   "execution_count": 130,
   "id": "2635a6ea",
   "metadata": {},
   "outputs": [
    {
     "data": {
      "text/html": [
       "'R version 4.3.2 (2023-10-31 ucrt)'"
      ],
      "text/latex": [
       "'R version 4.3.2 (2023-10-31 ucrt)'"
      ],
      "text/markdown": [
       "'R version 4.3.2 (2023-10-31 ucrt)'"
      ],
      "text/plain": [
       "[1] \"R version 4.3.2 (2023-10-31 ucrt)\""
      ]
     },
     "metadata": {},
     "output_type": "display_data"
    }
   ],
   "source": [
    "# Current R version\n",
    "R.Version()$version.string"
   ]
  },
  {
   "cell_type": "markdown",
   "id": "84c62403",
   "metadata": {},
   "source": [
    "### Load Packages"
   ]
  },
  {
   "cell_type": "code",
   "execution_count": 198,
   "id": "f68e1d21",
   "metadata": {},
   "outputs": [],
   "source": [
    "#  install “package” if it doesn’t exist, and then load it.\n",
    "\n",
    "if (!require(tidyverse)) install.packages('tidyverse')   # data manipulation\n",
    "suppressWarnings(library(tidyverse))\n",
    "\n",
    "if (!require(ggplot2)) install.packages('ggplot2')\n",
    "suppressWarnings(library(ggplot2))\n",
    "\n",
    "if (!require(GGally)) install.packages('GGally')\n",
    "suppressWarnings(library(\"GGally\"))\n",
    "\n",
    "\n",
    "if (!require(randomForest)) install.packages('randomForest')\n",
    "suppressWarnings(library(randomForest))\n",
    "\n",
    "if (!require(e1071)) install.packages('e1071')\n",
    "suppressWarnings(library(e1071))\n",
    "\n",
    "if (!require(ROCR)) install.packages('ROCR')\n",
    "suppressWarnings(library(ROCR))\n",
    "\n",
    "if (!require(pROC)) install.packages('pROC')\n",
    "suppressWarnings(library(pROC))\n",
    "\n",
    "if (!require(RCurl)) install.packages('RCurl')\n",
    "suppressWarnings(library(RCurl))"
   ]
  },
  {
   "cell_type": "code",
   "execution_count": 199,
   "id": "83ac503f",
   "metadata": {},
   "outputs": [],
   "source": [
    "# Importing the dataset from\n",
    "# https://archive.ics.uci.edu/dataset/17/breast+cancer+wisconsin+diagnostic\n",
    "\n",
    "url = \"breast cancer data.csv\"\n",
    "breast_cancer <- read.csv(url,header=TRUE, sep=\",\", as.is=TRUE)"
   ]
  },
  {
   "cell_type": "code",
   "execution_count": 200,
   "id": "b25f8a93",
   "metadata": {
    "scrolled": false
   },
   "outputs": [
    {
     "data": {
      "text/html": [
       "<table class=\"dataframe\">\n",
       "<caption>A data.frame: 6 × 33</caption>\n",
       "<thead>\n",
       "\t<tr><th></th><th scope=col>id</th><th scope=col>diagnosis</th><th scope=col>radius_mean</th><th scope=col>texture_mean</th><th scope=col>perimeter_mean</th><th scope=col>area_mean</th><th scope=col>smoothness_mean</th><th scope=col>compactness_mean</th><th scope=col>concavity_mean</th><th scope=col>concave.points_mean</th><th scope=col>⋯</th><th scope=col>texture_worst</th><th scope=col>perimeter_worst</th><th scope=col>area_worst</th><th scope=col>smoothness_worst</th><th scope=col>compactness_worst</th><th scope=col>concavity_worst</th><th scope=col>concave.points_worst</th><th scope=col>symmetry_worst</th><th scope=col>fractal_dimension_worst</th><th scope=col>X</th></tr>\n",
       "\t<tr><th></th><th scope=col>&lt;int&gt;</th><th scope=col>&lt;chr&gt;</th><th scope=col>&lt;dbl&gt;</th><th scope=col>&lt;dbl&gt;</th><th scope=col>&lt;dbl&gt;</th><th scope=col>&lt;dbl&gt;</th><th scope=col>&lt;dbl&gt;</th><th scope=col>&lt;dbl&gt;</th><th scope=col>&lt;dbl&gt;</th><th scope=col>&lt;dbl&gt;</th><th scope=col>⋯</th><th scope=col>&lt;dbl&gt;</th><th scope=col>&lt;dbl&gt;</th><th scope=col>&lt;dbl&gt;</th><th scope=col>&lt;dbl&gt;</th><th scope=col>&lt;dbl&gt;</th><th scope=col>&lt;dbl&gt;</th><th scope=col>&lt;dbl&gt;</th><th scope=col>&lt;dbl&gt;</th><th scope=col>&lt;dbl&gt;</th><th scope=col>&lt;lgl&gt;</th></tr>\n",
       "</thead>\n",
       "<tbody>\n",
       "\t<tr><th scope=row>1</th><td>  842302</td><td>M</td><td>17.99</td><td>10.38</td><td>122.80</td><td>1001.0</td><td>0.11840</td><td>0.27760</td><td>0.3001</td><td>0.14710</td><td>⋯</td><td>17.33</td><td>184.60</td><td>2019.0</td><td>0.1622</td><td>0.6656</td><td>0.7119</td><td>0.2654</td><td>0.4601</td><td>0.11890</td><td>NA</td></tr>\n",
       "\t<tr><th scope=row>2</th><td>  842517</td><td>M</td><td>20.57</td><td>17.77</td><td>132.90</td><td>1326.0</td><td>0.08474</td><td>0.07864</td><td>0.0869</td><td>0.07017</td><td>⋯</td><td>23.41</td><td>158.80</td><td>1956.0</td><td>0.1238</td><td>0.1866</td><td>0.2416</td><td>0.1860</td><td>0.2750</td><td>0.08902</td><td>NA</td></tr>\n",
       "\t<tr><th scope=row>3</th><td>84300903</td><td>M</td><td>19.69</td><td>21.25</td><td>130.00</td><td>1203.0</td><td>0.10960</td><td>0.15990</td><td>0.1974</td><td>0.12790</td><td>⋯</td><td>25.53</td><td>152.50</td><td>1709.0</td><td>0.1444</td><td>0.4245</td><td>0.4504</td><td>0.2430</td><td>0.3613</td><td>0.08758</td><td>NA</td></tr>\n",
       "\t<tr><th scope=row>4</th><td>84348301</td><td>M</td><td>11.42</td><td>20.38</td><td> 77.58</td><td> 386.1</td><td>0.14250</td><td>0.28390</td><td>0.2414</td><td>0.10520</td><td>⋯</td><td>26.50</td><td> 98.87</td><td> 567.7</td><td>0.2098</td><td>0.8663</td><td>0.6869</td><td>0.2575</td><td>0.6638</td><td>0.17300</td><td>NA</td></tr>\n",
       "\t<tr><th scope=row>5</th><td>84358402</td><td>M</td><td>20.29</td><td>14.34</td><td>135.10</td><td>1297.0</td><td>0.10030</td><td>0.13280</td><td>0.1980</td><td>0.10430</td><td>⋯</td><td>16.67</td><td>152.20</td><td>1575.0</td><td>0.1374</td><td>0.2050</td><td>0.4000</td><td>0.1625</td><td>0.2364</td><td>0.07678</td><td>NA</td></tr>\n",
       "\t<tr><th scope=row>6</th><td>  843786</td><td>M</td><td>12.45</td><td>15.70</td><td> 82.57</td><td> 477.1</td><td>0.12780</td><td>0.17000</td><td>0.1578</td><td>0.08089</td><td>⋯</td><td>23.75</td><td>103.40</td><td> 741.6</td><td>0.1791</td><td>0.5249</td><td>0.5355</td><td>0.1741</td><td>0.3985</td><td>0.12440</td><td>NA</td></tr>\n",
       "</tbody>\n",
       "</table>\n"
      ],
      "text/latex": [
       "A data.frame: 6 × 33\n",
       "\\begin{tabular}{r|lllllllllllllllllllll}\n",
       "  & id & diagnosis & radius\\_mean & texture\\_mean & perimeter\\_mean & area\\_mean & smoothness\\_mean & compactness\\_mean & concavity\\_mean & concave.points\\_mean & ⋯ & texture\\_worst & perimeter\\_worst & area\\_worst & smoothness\\_worst & compactness\\_worst & concavity\\_worst & concave.points\\_worst & symmetry\\_worst & fractal\\_dimension\\_worst & X\\\\\n",
       "  & <int> & <chr> & <dbl> & <dbl> & <dbl> & <dbl> & <dbl> & <dbl> & <dbl> & <dbl> & ⋯ & <dbl> & <dbl> & <dbl> & <dbl> & <dbl> & <dbl> & <dbl> & <dbl> & <dbl> & <lgl>\\\\\n",
       "\\hline\n",
       "\t1 &   842302 & M & 17.99 & 10.38 & 122.80 & 1001.0 & 0.11840 & 0.27760 & 0.3001 & 0.14710 & ⋯ & 17.33 & 184.60 & 2019.0 & 0.1622 & 0.6656 & 0.7119 & 0.2654 & 0.4601 & 0.11890 & NA\\\\\n",
       "\t2 &   842517 & M & 20.57 & 17.77 & 132.90 & 1326.0 & 0.08474 & 0.07864 & 0.0869 & 0.07017 & ⋯ & 23.41 & 158.80 & 1956.0 & 0.1238 & 0.1866 & 0.2416 & 0.1860 & 0.2750 & 0.08902 & NA\\\\\n",
       "\t3 & 84300903 & M & 19.69 & 21.25 & 130.00 & 1203.0 & 0.10960 & 0.15990 & 0.1974 & 0.12790 & ⋯ & 25.53 & 152.50 & 1709.0 & 0.1444 & 0.4245 & 0.4504 & 0.2430 & 0.3613 & 0.08758 & NA\\\\\n",
       "\t4 & 84348301 & M & 11.42 & 20.38 &  77.58 &  386.1 & 0.14250 & 0.28390 & 0.2414 & 0.10520 & ⋯ & 26.50 &  98.87 &  567.7 & 0.2098 & 0.8663 & 0.6869 & 0.2575 & 0.6638 & 0.17300 & NA\\\\\n",
       "\t5 & 84358402 & M & 20.29 & 14.34 & 135.10 & 1297.0 & 0.10030 & 0.13280 & 0.1980 & 0.10430 & ⋯ & 16.67 & 152.20 & 1575.0 & 0.1374 & 0.2050 & 0.4000 & 0.1625 & 0.2364 & 0.07678 & NA\\\\\n",
       "\t6 &   843786 & M & 12.45 & 15.70 &  82.57 &  477.1 & 0.12780 & 0.17000 & 0.1578 & 0.08089 & ⋯ & 23.75 & 103.40 &  741.6 & 0.1791 & 0.5249 & 0.5355 & 0.1741 & 0.3985 & 0.12440 & NA\\\\\n",
       "\\end{tabular}\n"
      ],
      "text/markdown": [
       "\n",
       "A data.frame: 6 × 33\n",
       "\n",
       "| <!--/--> | id &lt;int&gt; | diagnosis &lt;chr&gt; | radius_mean &lt;dbl&gt; | texture_mean &lt;dbl&gt; | perimeter_mean &lt;dbl&gt; | area_mean &lt;dbl&gt; | smoothness_mean &lt;dbl&gt; | compactness_mean &lt;dbl&gt; | concavity_mean &lt;dbl&gt; | concave.points_mean &lt;dbl&gt; | ⋯ ⋯ | texture_worst &lt;dbl&gt; | perimeter_worst &lt;dbl&gt; | area_worst &lt;dbl&gt; | smoothness_worst &lt;dbl&gt; | compactness_worst &lt;dbl&gt; | concavity_worst &lt;dbl&gt; | concave.points_worst &lt;dbl&gt; | symmetry_worst &lt;dbl&gt; | fractal_dimension_worst &lt;dbl&gt; | X &lt;lgl&gt; |\n",
       "|---|---|---|---|---|---|---|---|---|---|---|---|---|---|---|---|---|---|---|---|---|---|\n",
       "| 1 |   842302 | M | 17.99 | 10.38 | 122.80 | 1001.0 | 0.11840 | 0.27760 | 0.3001 | 0.14710 | ⋯ | 17.33 | 184.60 | 2019.0 | 0.1622 | 0.6656 | 0.7119 | 0.2654 | 0.4601 | 0.11890 | NA |\n",
       "| 2 |   842517 | M | 20.57 | 17.77 | 132.90 | 1326.0 | 0.08474 | 0.07864 | 0.0869 | 0.07017 | ⋯ | 23.41 | 158.80 | 1956.0 | 0.1238 | 0.1866 | 0.2416 | 0.1860 | 0.2750 | 0.08902 | NA |\n",
       "| 3 | 84300903 | M | 19.69 | 21.25 | 130.00 | 1203.0 | 0.10960 | 0.15990 | 0.1974 | 0.12790 | ⋯ | 25.53 | 152.50 | 1709.0 | 0.1444 | 0.4245 | 0.4504 | 0.2430 | 0.3613 | 0.08758 | NA |\n",
       "| 4 | 84348301 | M | 11.42 | 20.38 |  77.58 |  386.1 | 0.14250 | 0.28390 | 0.2414 | 0.10520 | ⋯ | 26.50 |  98.87 |  567.7 | 0.2098 | 0.8663 | 0.6869 | 0.2575 | 0.6638 | 0.17300 | NA |\n",
       "| 5 | 84358402 | M | 20.29 | 14.34 | 135.10 | 1297.0 | 0.10030 | 0.13280 | 0.1980 | 0.10430 | ⋯ | 16.67 | 152.20 | 1575.0 | 0.1374 | 0.2050 | 0.4000 | 0.1625 | 0.2364 | 0.07678 | NA |\n",
       "| 6 |   843786 | M | 12.45 | 15.70 |  82.57 |  477.1 | 0.12780 | 0.17000 | 0.1578 | 0.08089 | ⋯ | 23.75 | 103.40 |  741.6 | 0.1791 | 0.5249 | 0.5355 | 0.1741 | 0.3985 | 0.12440 | NA |\n",
       "\n"
      ],
      "text/plain": [
       "  id       diagnosis radius_mean texture_mean perimeter_mean area_mean\n",
       "1   842302 M         17.99       10.38        122.80         1001.0   \n",
       "2   842517 M         20.57       17.77        132.90         1326.0   \n",
       "3 84300903 M         19.69       21.25        130.00         1203.0   \n",
       "4 84348301 M         11.42       20.38         77.58          386.1   \n",
       "5 84358402 M         20.29       14.34        135.10         1297.0   \n",
       "6   843786 M         12.45       15.70         82.57          477.1   \n",
       "  smoothness_mean compactness_mean concavity_mean concave.points_mean ⋯\n",
       "1 0.11840         0.27760          0.3001         0.14710             ⋯\n",
       "2 0.08474         0.07864          0.0869         0.07017             ⋯\n",
       "3 0.10960         0.15990          0.1974         0.12790             ⋯\n",
       "4 0.14250         0.28390          0.2414         0.10520             ⋯\n",
       "5 0.10030         0.13280          0.1980         0.10430             ⋯\n",
       "6 0.12780         0.17000          0.1578         0.08089             ⋯\n",
       "  texture_worst perimeter_worst area_worst smoothness_worst compactness_worst\n",
       "1 17.33         184.60          2019.0     0.1622           0.6656           \n",
       "2 23.41         158.80          1956.0     0.1238           0.1866           \n",
       "3 25.53         152.50          1709.0     0.1444           0.4245           \n",
       "4 26.50          98.87           567.7     0.2098           0.8663           \n",
       "5 16.67         152.20          1575.0     0.1374           0.2050           \n",
       "6 23.75         103.40           741.6     0.1791           0.5249           \n",
       "  concavity_worst concave.points_worst symmetry_worst fractal_dimension_worst\n",
       "1 0.7119          0.2654               0.4601         0.11890                \n",
       "2 0.2416          0.1860               0.2750         0.08902                \n",
       "3 0.4504          0.2430               0.3613         0.08758                \n",
       "4 0.6869          0.2575               0.6638         0.17300                \n",
       "5 0.4000          0.1625               0.2364         0.07678                \n",
       "6 0.5355          0.1741               0.3985         0.12440                \n",
       "  X \n",
       "1 NA\n",
       "2 NA\n",
       "3 NA\n",
       "4 NA\n",
       "5 NA\n",
       "6 NA"
      ]
     },
     "metadata": {},
     "output_type": "display_data"
    }
   ],
   "source": [
    "head(breast_cancer)"
   ]
  },
  {
   "cell_type": "markdown",
   "id": "3ec6c406",
   "metadata": {},
   "source": [
    "#### *Diagnosis (M = malignant, B = benign)"
   ]
  },
  {
   "cell_type": "code",
   "execution_count": 201,
   "id": "1f77589d",
   "metadata": {},
   "outputs": [
    {
     "data": {
      "text/html": [
       "<table class=\"dataframe\">\n",
       "<caption>A data.frame: 6 × 31</caption>\n",
       "<thead>\n",
       "\t<tr><th></th><th scope=col>diagnosis</th><th scope=col>radius_mean</th><th scope=col>texture_mean</th><th scope=col>perimeter_mean</th><th scope=col>area_mean</th><th scope=col>smoothness_mean</th><th scope=col>compactness_mean</th><th scope=col>concavity_mean</th><th scope=col>concave.points_mean</th><th scope=col>symmetry_mean</th><th scope=col>⋯</th><th scope=col>radius_worst</th><th scope=col>texture_worst</th><th scope=col>perimeter_worst</th><th scope=col>area_worst</th><th scope=col>smoothness_worst</th><th scope=col>compactness_worst</th><th scope=col>concavity_worst</th><th scope=col>concave.points_worst</th><th scope=col>symmetry_worst</th><th scope=col>fractal_dimension_worst</th></tr>\n",
       "\t<tr><th></th><th scope=col>&lt;chr&gt;</th><th scope=col>&lt;dbl&gt;</th><th scope=col>&lt;dbl&gt;</th><th scope=col>&lt;dbl&gt;</th><th scope=col>&lt;dbl&gt;</th><th scope=col>&lt;dbl&gt;</th><th scope=col>&lt;dbl&gt;</th><th scope=col>&lt;dbl&gt;</th><th scope=col>&lt;dbl&gt;</th><th scope=col>&lt;dbl&gt;</th><th scope=col>⋯</th><th scope=col>&lt;dbl&gt;</th><th scope=col>&lt;dbl&gt;</th><th scope=col>&lt;dbl&gt;</th><th scope=col>&lt;dbl&gt;</th><th scope=col>&lt;dbl&gt;</th><th scope=col>&lt;dbl&gt;</th><th scope=col>&lt;dbl&gt;</th><th scope=col>&lt;dbl&gt;</th><th scope=col>&lt;dbl&gt;</th><th scope=col>&lt;dbl&gt;</th></tr>\n",
       "</thead>\n",
       "<tbody>\n",
       "\t<tr><th scope=row>1</th><td>M</td><td>17.99</td><td>10.38</td><td>122.80</td><td>1001.0</td><td>0.11840</td><td>0.27760</td><td>0.3001</td><td>0.14710</td><td>0.2419</td><td>⋯</td><td>25.38</td><td>17.33</td><td>184.60</td><td>2019.0</td><td>0.1622</td><td>0.6656</td><td>0.7119</td><td>0.2654</td><td>0.4601</td><td>0.11890</td></tr>\n",
       "\t<tr><th scope=row>2</th><td>M</td><td>20.57</td><td>17.77</td><td>132.90</td><td>1326.0</td><td>0.08474</td><td>0.07864</td><td>0.0869</td><td>0.07017</td><td>0.1812</td><td>⋯</td><td>24.99</td><td>23.41</td><td>158.80</td><td>1956.0</td><td>0.1238</td><td>0.1866</td><td>0.2416</td><td>0.1860</td><td>0.2750</td><td>0.08902</td></tr>\n",
       "\t<tr><th scope=row>3</th><td>M</td><td>19.69</td><td>21.25</td><td>130.00</td><td>1203.0</td><td>0.10960</td><td>0.15990</td><td>0.1974</td><td>0.12790</td><td>0.2069</td><td>⋯</td><td>23.57</td><td>25.53</td><td>152.50</td><td>1709.0</td><td>0.1444</td><td>0.4245</td><td>0.4504</td><td>0.2430</td><td>0.3613</td><td>0.08758</td></tr>\n",
       "\t<tr><th scope=row>4</th><td>M</td><td>11.42</td><td>20.38</td><td> 77.58</td><td> 386.1</td><td>0.14250</td><td>0.28390</td><td>0.2414</td><td>0.10520</td><td>0.2597</td><td>⋯</td><td>14.91</td><td>26.50</td><td> 98.87</td><td> 567.7</td><td>0.2098</td><td>0.8663</td><td>0.6869</td><td>0.2575</td><td>0.6638</td><td>0.17300</td></tr>\n",
       "\t<tr><th scope=row>5</th><td>M</td><td>20.29</td><td>14.34</td><td>135.10</td><td>1297.0</td><td>0.10030</td><td>0.13280</td><td>0.1980</td><td>0.10430</td><td>0.1809</td><td>⋯</td><td>22.54</td><td>16.67</td><td>152.20</td><td>1575.0</td><td>0.1374</td><td>0.2050</td><td>0.4000</td><td>0.1625</td><td>0.2364</td><td>0.07678</td></tr>\n",
       "\t<tr><th scope=row>6</th><td>M</td><td>12.45</td><td>15.70</td><td> 82.57</td><td> 477.1</td><td>0.12780</td><td>0.17000</td><td>0.1578</td><td>0.08089</td><td>0.2087</td><td>⋯</td><td>15.47</td><td>23.75</td><td>103.40</td><td> 741.6</td><td>0.1791</td><td>0.5249</td><td>0.5355</td><td>0.1741</td><td>0.3985</td><td>0.12440</td></tr>\n",
       "</tbody>\n",
       "</table>\n"
      ],
      "text/latex": [
       "A data.frame: 6 × 31\n",
       "\\begin{tabular}{r|lllllllllllllllllllll}\n",
       "  & diagnosis & radius\\_mean & texture\\_mean & perimeter\\_mean & area\\_mean & smoothness\\_mean & compactness\\_mean & concavity\\_mean & concave.points\\_mean & symmetry\\_mean & ⋯ & radius\\_worst & texture\\_worst & perimeter\\_worst & area\\_worst & smoothness\\_worst & compactness\\_worst & concavity\\_worst & concave.points\\_worst & symmetry\\_worst & fractal\\_dimension\\_worst\\\\\n",
       "  & <chr> & <dbl> & <dbl> & <dbl> & <dbl> & <dbl> & <dbl> & <dbl> & <dbl> & <dbl> & ⋯ & <dbl> & <dbl> & <dbl> & <dbl> & <dbl> & <dbl> & <dbl> & <dbl> & <dbl> & <dbl>\\\\\n",
       "\\hline\n",
       "\t1 & M & 17.99 & 10.38 & 122.80 & 1001.0 & 0.11840 & 0.27760 & 0.3001 & 0.14710 & 0.2419 & ⋯ & 25.38 & 17.33 & 184.60 & 2019.0 & 0.1622 & 0.6656 & 0.7119 & 0.2654 & 0.4601 & 0.11890\\\\\n",
       "\t2 & M & 20.57 & 17.77 & 132.90 & 1326.0 & 0.08474 & 0.07864 & 0.0869 & 0.07017 & 0.1812 & ⋯ & 24.99 & 23.41 & 158.80 & 1956.0 & 0.1238 & 0.1866 & 0.2416 & 0.1860 & 0.2750 & 0.08902\\\\\n",
       "\t3 & M & 19.69 & 21.25 & 130.00 & 1203.0 & 0.10960 & 0.15990 & 0.1974 & 0.12790 & 0.2069 & ⋯ & 23.57 & 25.53 & 152.50 & 1709.0 & 0.1444 & 0.4245 & 0.4504 & 0.2430 & 0.3613 & 0.08758\\\\\n",
       "\t4 & M & 11.42 & 20.38 &  77.58 &  386.1 & 0.14250 & 0.28390 & 0.2414 & 0.10520 & 0.2597 & ⋯ & 14.91 & 26.50 &  98.87 &  567.7 & 0.2098 & 0.8663 & 0.6869 & 0.2575 & 0.6638 & 0.17300\\\\\n",
       "\t5 & M & 20.29 & 14.34 & 135.10 & 1297.0 & 0.10030 & 0.13280 & 0.1980 & 0.10430 & 0.1809 & ⋯ & 22.54 & 16.67 & 152.20 & 1575.0 & 0.1374 & 0.2050 & 0.4000 & 0.1625 & 0.2364 & 0.07678\\\\\n",
       "\t6 & M & 12.45 & 15.70 &  82.57 &  477.1 & 0.12780 & 0.17000 & 0.1578 & 0.08089 & 0.2087 & ⋯ & 15.47 & 23.75 & 103.40 &  741.6 & 0.1791 & 0.5249 & 0.5355 & 0.1741 & 0.3985 & 0.12440\\\\\n",
       "\\end{tabular}\n"
      ],
      "text/markdown": [
       "\n",
       "A data.frame: 6 × 31\n",
       "\n",
       "| <!--/--> | diagnosis &lt;chr&gt; | radius_mean &lt;dbl&gt; | texture_mean &lt;dbl&gt; | perimeter_mean &lt;dbl&gt; | area_mean &lt;dbl&gt; | smoothness_mean &lt;dbl&gt; | compactness_mean &lt;dbl&gt; | concavity_mean &lt;dbl&gt; | concave.points_mean &lt;dbl&gt; | symmetry_mean &lt;dbl&gt; | ⋯ ⋯ | radius_worst &lt;dbl&gt; | texture_worst &lt;dbl&gt; | perimeter_worst &lt;dbl&gt; | area_worst &lt;dbl&gt; | smoothness_worst &lt;dbl&gt; | compactness_worst &lt;dbl&gt; | concavity_worst &lt;dbl&gt; | concave.points_worst &lt;dbl&gt; | symmetry_worst &lt;dbl&gt; | fractal_dimension_worst &lt;dbl&gt; |\n",
       "|---|---|---|---|---|---|---|---|---|---|---|---|---|---|---|---|---|---|---|---|---|---|\n",
       "| 1 | M | 17.99 | 10.38 | 122.80 | 1001.0 | 0.11840 | 0.27760 | 0.3001 | 0.14710 | 0.2419 | ⋯ | 25.38 | 17.33 | 184.60 | 2019.0 | 0.1622 | 0.6656 | 0.7119 | 0.2654 | 0.4601 | 0.11890 |\n",
       "| 2 | M | 20.57 | 17.77 | 132.90 | 1326.0 | 0.08474 | 0.07864 | 0.0869 | 0.07017 | 0.1812 | ⋯ | 24.99 | 23.41 | 158.80 | 1956.0 | 0.1238 | 0.1866 | 0.2416 | 0.1860 | 0.2750 | 0.08902 |\n",
       "| 3 | M | 19.69 | 21.25 | 130.00 | 1203.0 | 0.10960 | 0.15990 | 0.1974 | 0.12790 | 0.2069 | ⋯ | 23.57 | 25.53 | 152.50 | 1709.0 | 0.1444 | 0.4245 | 0.4504 | 0.2430 | 0.3613 | 0.08758 |\n",
       "| 4 | M | 11.42 | 20.38 |  77.58 |  386.1 | 0.14250 | 0.28390 | 0.2414 | 0.10520 | 0.2597 | ⋯ | 14.91 | 26.50 |  98.87 |  567.7 | 0.2098 | 0.8663 | 0.6869 | 0.2575 | 0.6638 | 0.17300 |\n",
       "| 5 | M | 20.29 | 14.34 | 135.10 | 1297.0 | 0.10030 | 0.13280 | 0.1980 | 0.10430 | 0.1809 | ⋯ | 22.54 | 16.67 | 152.20 | 1575.0 | 0.1374 | 0.2050 | 0.4000 | 0.1625 | 0.2364 | 0.07678 |\n",
       "| 6 | M | 12.45 | 15.70 |  82.57 |  477.1 | 0.12780 | 0.17000 | 0.1578 | 0.08089 | 0.2087 | ⋯ | 15.47 | 23.75 | 103.40 |  741.6 | 0.1791 | 0.5249 | 0.5355 | 0.1741 | 0.3985 | 0.12440 |\n",
       "\n"
      ],
      "text/plain": [
       "  diagnosis radius_mean texture_mean perimeter_mean area_mean smoothness_mean\n",
       "1 M         17.99       10.38        122.80         1001.0    0.11840        \n",
       "2 M         20.57       17.77        132.90         1326.0    0.08474        \n",
       "3 M         19.69       21.25        130.00         1203.0    0.10960        \n",
       "4 M         11.42       20.38         77.58          386.1    0.14250        \n",
       "5 M         20.29       14.34        135.10         1297.0    0.10030        \n",
       "6 M         12.45       15.70         82.57          477.1    0.12780        \n",
       "  compactness_mean concavity_mean concave.points_mean symmetry_mean ⋯\n",
       "1 0.27760          0.3001         0.14710             0.2419        ⋯\n",
       "2 0.07864          0.0869         0.07017             0.1812        ⋯\n",
       "3 0.15990          0.1974         0.12790             0.2069        ⋯\n",
       "4 0.28390          0.2414         0.10520             0.2597        ⋯\n",
       "5 0.13280          0.1980         0.10430             0.1809        ⋯\n",
       "6 0.17000          0.1578         0.08089             0.2087        ⋯\n",
       "  radius_worst texture_worst perimeter_worst area_worst smoothness_worst\n",
       "1 25.38        17.33         184.60          2019.0     0.1622          \n",
       "2 24.99        23.41         158.80          1956.0     0.1238          \n",
       "3 23.57        25.53         152.50          1709.0     0.1444          \n",
       "4 14.91        26.50          98.87           567.7     0.2098          \n",
       "5 22.54        16.67         152.20          1575.0     0.1374          \n",
       "6 15.47        23.75         103.40           741.6     0.1791          \n",
       "  compactness_worst concavity_worst concave.points_worst symmetry_worst\n",
       "1 0.6656            0.7119          0.2654               0.4601        \n",
       "2 0.1866            0.2416          0.1860               0.2750        \n",
       "3 0.4245            0.4504          0.2430               0.3613        \n",
       "4 0.8663            0.6869          0.2575               0.6638        \n",
       "5 0.2050            0.4000          0.1625               0.2364        \n",
       "6 0.5249            0.5355          0.1741               0.3985        \n",
       "  fractal_dimension_worst\n",
       "1 0.11890                \n",
       "2 0.08902                \n",
       "3 0.08758                \n",
       "4 0.17300                \n",
       "5 0.07678                \n",
       "6 0.12440                "
      ]
     },
     "metadata": {},
     "output_type": "display_data"
    }
   ],
   "source": [
    "# Remove first and last column\n",
    "df <- breast_cancer %>% \n",
    "    select(-c(id,X)) \n",
    "head(df)"
   ]
  },
  {
   "cell_type": "code",
   "execution_count": 202,
   "id": "29c3fa68",
   "metadata": {},
   "outputs": [
    {
     "name": "stdout",
     "output_type": "stream",
     "text": [
      "'data.frame':\t569 obs. of  31 variables:\n",
      " $ diagnosis              : chr  \"M\" \"M\" \"M\" \"M\" ...\n",
      " $ radius_mean            : num  18 20.6 19.7 11.4 20.3 ...\n",
      " $ texture_mean           : num  10.4 17.8 21.2 20.4 14.3 ...\n",
      " $ perimeter_mean         : num  122.8 132.9 130 77.6 135.1 ...\n",
      " $ area_mean              : num  1001 1326 1203 386 1297 ...\n",
      " $ smoothness_mean        : num  0.1184 0.0847 0.1096 0.1425 0.1003 ...\n",
      " $ compactness_mean       : num  0.2776 0.0786 0.1599 0.2839 0.1328 ...\n",
      " $ concavity_mean         : num  0.3001 0.0869 0.1974 0.2414 0.198 ...\n",
      " $ concave.points_mean    : num  0.1471 0.0702 0.1279 0.1052 0.1043 ...\n",
      " $ symmetry_mean          : num  0.242 0.181 0.207 0.26 0.181 ...\n",
      " $ fractal_dimension_mean : num  0.0787 0.0567 0.06 0.0974 0.0588 ...\n",
      " $ radius_se              : num  1.095 0.543 0.746 0.496 0.757 ...\n",
      " $ texture_se             : num  0.905 0.734 0.787 1.156 0.781 ...\n",
      " $ perimeter_se           : num  8.59 3.4 4.58 3.44 5.44 ...\n",
      " $ area_se                : num  153.4 74.1 94 27.2 94.4 ...\n",
      " $ smoothness_se          : num  0.0064 0.00522 0.00615 0.00911 0.01149 ...\n",
      " $ compactness_se         : num  0.049 0.0131 0.0401 0.0746 0.0246 ...\n",
      " $ concavity_se           : num  0.0537 0.0186 0.0383 0.0566 0.0569 ...\n",
      " $ concave.points_se      : num  0.0159 0.0134 0.0206 0.0187 0.0188 ...\n",
      " $ symmetry_se            : num  0.03 0.0139 0.0225 0.0596 0.0176 ...\n",
      " $ fractal_dimension_se   : num  0.00619 0.00353 0.00457 0.00921 0.00511 ...\n",
      " $ radius_worst           : num  25.4 25 23.6 14.9 22.5 ...\n",
      " $ texture_worst          : num  17.3 23.4 25.5 26.5 16.7 ...\n",
      " $ perimeter_worst        : num  184.6 158.8 152.5 98.9 152.2 ...\n",
      " $ area_worst             : num  2019 1956 1709 568 1575 ...\n",
      " $ smoothness_worst       : num  0.162 0.124 0.144 0.21 0.137 ...\n",
      " $ compactness_worst      : num  0.666 0.187 0.424 0.866 0.205 ...\n",
      " $ concavity_worst        : num  0.712 0.242 0.45 0.687 0.4 ...\n",
      " $ concave.points_worst   : num  0.265 0.186 0.243 0.258 0.163 ...\n",
      " $ symmetry_worst         : num  0.46 0.275 0.361 0.664 0.236 ...\n",
      " $ fractal_dimension_worst: num  0.1189 0.089 0.0876 0.173 0.0768 ...\n"
     ]
    }
   ],
   "source": [
    "df %>% \n",
    "  str()"
   ]
  },
  {
   "cell_type": "code",
   "execution_count": 203,
   "id": "7e22fa5d",
   "metadata": {
    "scrolled": false
   },
   "outputs": [
    {
     "data": {
      "text/plain": [
       "  diagnosis          radius_mean      texture_mean   perimeter_mean  \n",
       " Length:569         Min.   : 6.981   Min.   : 9.71   Min.   : 43.79  \n",
       " Class :character   1st Qu.:11.700   1st Qu.:16.17   1st Qu.: 75.17  \n",
       " Mode  :character   Median :13.370   Median :18.84   Median : 86.24  \n",
       "                    Mean   :14.127   Mean   :19.29   Mean   : 91.97  \n",
       "                    3rd Qu.:15.780   3rd Qu.:21.80   3rd Qu.:104.10  \n",
       "                    Max.   :28.110   Max.   :39.28   Max.   :188.50  \n",
       "   area_mean      smoothness_mean   compactness_mean  concavity_mean   \n",
       " Min.   : 143.5   Min.   :0.05263   Min.   :0.01938   Min.   :0.00000  \n",
       " 1st Qu.: 420.3   1st Qu.:0.08637   1st Qu.:0.06492   1st Qu.:0.02956  \n",
       " Median : 551.1   Median :0.09587   Median :0.09263   Median :0.06154  \n",
       " Mean   : 654.9   Mean   :0.09636   Mean   :0.10434   Mean   :0.08880  \n",
       " 3rd Qu.: 782.7   3rd Qu.:0.10530   3rd Qu.:0.13040   3rd Qu.:0.13070  \n",
       " Max.   :2501.0   Max.   :0.16340   Max.   :0.34540   Max.   :0.42680  \n",
       " concave.points_mean symmetry_mean    fractal_dimension_mean   radius_se     \n",
       " Min.   :0.00000     Min.   :0.1060   Min.   :0.04996        Min.   :0.1115  \n",
       " 1st Qu.:0.02031     1st Qu.:0.1619   1st Qu.:0.05770        1st Qu.:0.2324  \n",
       " Median :0.03350     Median :0.1792   Median :0.06154        Median :0.3242  \n",
       " Mean   :0.04892     Mean   :0.1812   Mean   :0.06280        Mean   :0.4052  \n",
       " 3rd Qu.:0.07400     3rd Qu.:0.1957   3rd Qu.:0.06612        3rd Qu.:0.4789  \n",
       " Max.   :0.20120     Max.   :0.3040   Max.   :0.09744        Max.   :2.8730  \n",
       "   texture_se      perimeter_se       area_se        smoothness_se     \n",
       " Min.   :0.3602   Min.   : 0.757   Min.   :  6.802   Min.   :0.001713  \n",
       " 1st Qu.:0.8339   1st Qu.: 1.606   1st Qu.: 17.850   1st Qu.:0.005169  \n",
       " Median :1.1080   Median : 2.287   Median : 24.530   Median :0.006380  \n",
       " Mean   :1.2169   Mean   : 2.866   Mean   : 40.337   Mean   :0.007041  \n",
       " 3rd Qu.:1.4740   3rd Qu.: 3.357   3rd Qu.: 45.190   3rd Qu.:0.008146  \n",
       " Max.   :4.8850   Max.   :21.980   Max.   :542.200   Max.   :0.031130  \n",
       " compactness_se      concavity_se     concave.points_se   symmetry_se      \n",
       " Min.   :0.002252   Min.   :0.00000   Min.   :0.000000   Min.   :0.007882  \n",
       " 1st Qu.:0.013080   1st Qu.:0.01509   1st Qu.:0.007638   1st Qu.:0.015160  \n",
       " Median :0.020450   Median :0.02589   Median :0.010930   Median :0.018730  \n",
       " Mean   :0.025478   Mean   :0.03189   Mean   :0.011796   Mean   :0.020542  \n",
       " 3rd Qu.:0.032450   3rd Qu.:0.04205   3rd Qu.:0.014710   3rd Qu.:0.023480  \n",
       " Max.   :0.135400   Max.   :0.39600   Max.   :0.052790   Max.   :0.078950  \n",
       " fractal_dimension_se  radius_worst   texture_worst   perimeter_worst \n",
       " Min.   :0.0008948    Min.   : 7.93   Min.   :12.02   Min.   : 50.41  \n",
       " 1st Qu.:0.0022480    1st Qu.:13.01   1st Qu.:21.08   1st Qu.: 84.11  \n",
       " Median :0.0031870    Median :14.97   Median :25.41   Median : 97.66  \n",
       " Mean   :0.0037949    Mean   :16.27   Mean   :25.68   Mean   :107.26  \n",
       " 3rd Qu.:0.0045580    3rd Qu.:18.79   3rd Qu.:29.72   3rd Qu.:125.40  \n",
       " Max.   :0.0298400    Max.   :36.04   Max.   :49.54   Max.   :251.20  \n",
       "   area_worst     smoothness_worst  compactness_worst concavity_worst \n",
       " Min.   : 185.2   Min.   :0.07117   Min.   :0.02729   Min.   :0.0000  \n",
       " 1st Qu.: 515.3   1st Qu.:0.11660   1st Qu.:0.14720   1st Qu.:0.1145  \n",
       " Median : 686.5   Median :0.13130   Median :0.21190   Median :0.2267  \n",
       " Mean   : 880.6   Mean   :0.13237   Mean   :0.25427   Mean   :0.2722  \n",
       " 3rd Qu.:1084.0   3rd Qu.:0.14600   3rd Qu.:0.33910   3rd Qu.:0.3829  \n",
       " Max.   :4254.0   Max.   :0.22260   Max.   :1.05800   Max.   :1.2520  \n",
       " concave.points_worst symmetry_worst   fractal_dimension_worst\n",
       " Min.   :0.00000      Min.   :0.1565   Min.   :0.05504        \n",
       " 1st Qu.:0.06493      1st Qu.:0.2504   1st Qu.:0.07146        \n",
       " Median :0.09993      Median :0.2822   Median :0.08004        \n",
       " Mean   :0.11461      Mean   :0.2901   Mean   :0.08395        \n",
       " 3rd Qu.:0.16140      3rd Qu.:0.3179   3rd Qu.:0.09208        \n",
       " Max.   :0.29100      Max.   :0.6638   Max.   :0.20750        "
      ]
     },
     "metadata": {},
     "output_type": "display_data"
    }
   ],
   "source": [
    "df %>% \n",
    "  summary()"
   ]
  },
  {
   "cell_type": "code",
   "execution_count": 204,
   "id": "77b11fa2",
   "metadata": {},
   "outputs": [
    {
     "data": {
      "text/html": [],
      "text/latex": [],
      "text/markdown": [],
      "text/plain": [
       "named numeric(0)"
      ]
     },
     "metadata": {},
     "output_type": "display_data"
    }
   ],
   "source": [
    "# list any column has NA\n",
    "df %>%\n",
    "    keep(~anyNA(.x)) %>% \n",
    "    map_dbl(~sum(is.na(.x)))"
   ]
  },
  {
   "cell_type": "code",
   "execution_count": 205,
   "id": "52e83581",
   "metadata": {
    "scrolled": false
   },
   "outputs": [
    {
     "data": {
      "text/html": [
       "<table class=\"dataframe\">\n",
       "<caption>A tibble: 2 × 2</caption>\n",
       "<thead>\n",
       "\t<tr><th scope=col>diagnosis</th><th scope=col>perc_dx</th></tr>\n",
       "\t<tr><th scope=col>&lt;chr&gt;</th><th scope=col>&lt;dbl&gt;</th></tr>\n",
       "</thead>\n",
       "<tbody>\n",
       "\t<tr><td>B</td><td>62.74</td></tr>\n",
       "\t<tr><td>M</td><td>37.26</td></tr>\n",
       "</tbody>\n",
       "</table>\n"
      ],
      "text/latex": [
       "A tibble: 2 × 2\n",
       "\\begin{tabular}{ll}\n",
       " diagnosis & perc\\_dx\\\\\n",
       " <chr> & <dbl>\\\\\n",
       "\\hline\n",
       "\t B & 62.74\\\\\n",
       "\t M & 37.26\\\\\n",
       "\\end{tabular}\n"
      ],
      "text/markdown": [
       "\n",
       "A tibble: 2 × 2\n",
       "\n",
       "| diagnosis &lt;chr&gt; | perc_dx &lt;dbl&gt; |\n",
       "|---|---|\n",
       "| B | 62.74 |\n",
       "| M | 37.26 |\n",
       "\n"
      ],
      "text/plain": [
       "  diagnosis perc_dx\n",
       "1 B         62.74  \n",
       "2 M         37.26  "
      ]
     },
     "metadata": {},
     "output_type": "display_data"
    }
   ],
   "source": [
    "# check class Imbalance\n",
    "df %>% \n",
    "  count(diagnosis) %>%\n",
    "  group_by(diagnosis) %>%\n",
    "  summarize(perc_dx = round((n / 569)* 100, 2))  "
   ]
  },
  {
   "cell_type": "code",
   "execution_count": 206,
   "id": "6785301b",
   "metadata": {},
   "outputs": [
    {
     "data": {
      "image/png": "[encoded data removed]",
      "text/plain": [
       "plot without title"
      ]
     },
     "metadata": {
      "image/png": {
       "height": 300,
       "width": 360
      }
     },
     "output_type": "display_data"
    }
   ],
   "source": [
    "options(repr.plot.width = 6, repr.plot.height = 5)\n",
    "\n",
    "ggplot(df, aes(factor(diagnosis),\n",
    "        fill = factor(diagnosis))) +\n",
    "    geom_bar() +   \n",
    "    geom_text(aes(label = ..count..), stat = \"count\", vjust = 1.5, colour = \"white\")\n"
   ]
  },
  {
   "cell_type": "markdown",
   "id": "fecf09ba",
   "metadata": {},
   "source": [
    "#### Random Forest Algorithm does not sentitve to imbalance data "
   ]
  },
  {
   "cell_type": "markdown",
   "id": "a57601d4",
   "metadata": {},
   "source": [
    "### Feature importance"
   ]
  },
  {
   "cell_type": "code",
   "execution_count": 207,
   "id": "ef871f3e",
   "metadata": {
    "scrolled": true
   },
   "outputs": [],
   "source": [
    "if (!require(caret)) install.packages('caret')\n",
    "suppressWarnings(library(caret))"
   ]
  },
  {
   "cell_type": "code",
   "execution_count": 208,
   "id": "b6d0a558",
   "metadata": {},
   "outputs": [],
   "source": [
    "# https://www.r-bloggers.com/2017/01/feature-selection-in-machine-learning-breast-cancer-datasets/\n",
    "\n",
    "if (!require(doParallel)) install.packages('doParallel')\n",
    "suppressWarnings(library(doParallel)) # parallel processing\n",
    "registerDoParallel()"
   ]
  },
  {
   "cell_type": "code",
   "execution_count": 209,
   "id": "72dfbd57",
   "metadata": {},
   "outputs": [],
   "source": [
    "# defining a function that estimates the feature importance and produces a plot.\n",
    "\n",
    "# prepare training scheme\n",
    "control <- trainControl(method = \"repeatedcv\", number = 10, repeats = 10)\n",
    "feature_imp <- function(model, title) {\n",
    "  \n",
    "  # estimate variable importance\n",
    "  importance <- varImp(model, scale = TRUE)\n",
    "  \n",
    "  # prepare dataframes for plotting\n",
    "  importance_df_1 <- importance$importance\n",
    "  importance_df_1$group <- rownames(importance_df_1)\n",
    "  \n",
    "  importance_df_2 <- importance_df_1\n",
    "  importance_df_2$Overall <- 0\n",
    "  \n",
    "  importance_df <- rbind(importance_df_1, importance_df_2)\n",
    "  \n",
    "  plot <- ggplot() +\n",
    "    geom_point(data = importance_df_1, aes(x = Overall, y = group, color = group), size = 2) +\n",
    "    geom_path(data = importance_df, aes(x = Overall, y = group, color = group, group = group), size = 1) +\n",
    "    theme(legend.position = \"none\") +\n",
    "    labs(\n",
    "      x = \"Importance\",\n",
    "      y = \"\",\n",
    "      title = title,\n",
    "      subtitle = \"Scaled feature importance\",\n",
    "      caption = \"\\nDetermined with Random Forest and\n",
    "      repeated cross validation (10 repeats, 10 times)\"\n",
    "    )\n",
    "  \n",
    "  return(plot)\n",
    "  \n",
    "}"
   ]
  },
  {
   "cell_type": "markdown",
   "id": "4d1a5e6c",
   "metadata": {},
   "source": [
    "#### To get an idea about the feature’s respective importances, Using Random Forest models with 10 x 10 cross validation using the caret package."
   ]
  },
  {
   "cell_type": "code",
   "execution_count": 210,
   "id": "b3c5c91e",
   "metadata": {},
   "outputs": [],
   "source": [
    "set.seed(123)\n",
    "fimp <- train(diagnosis ~ ., data = df, method = \"rf\", preProcess = c(\"scale\", \"center\"), trControl = control)"
   ]
  },
  {
   "cell_type": "code",
   "execution_count": 211,
   "id": "057aec15",
   "metadata": {
    "scrolled": false
   },
   "outputs": [
    {
     "data": {
      "image/png": "[encoded data removed]",
      "text/plain": [
       "plot without title"
      ]
     },
     "metadata": {
      "image/png": {
       "height": 900,
       "width": 600
      }
     },
     "output_type": "display_data"
    }
   ],
   "source": [
    "options(repr.plot.width = 10, repr.plot.height = 15)\n",
    "\n",
    "feature_imp(fimp, title = \"Breast cancer dataset\")"
   ]
  },
  {
   "cell_type": "markdown",
   "id": "5eb618f0",
   "metadata": {},
   "source": [
    "### Feature Selection"
   ]
  },
  {
   "cell_type": "code",
   "execution_count": null,
   "id": "c3f8ddef",
   "metadata": {},
   "outputs": [],
   "source": []
  },
  {
   "cell_type": "markdown",
   "id": "477bfff2",
   "metadata": {},
   "source": [
    "#### Creating Training and Test Sets"
   ]
  },
  {
   "cell_type": "code",
   "execution_count": 212,
   "id": "6d284b06",
   "metadata": {},
   "outputs": [],
   "source": [
    "# split the data set into our training and test sets which will be (pseudo) randomly selected having a 80-20% splt.\n",
    "set.seed(321)\n",
    "trainIndex <- createDataPartition(df$diagnosis, \n",
    "                                  p = .8, \n",
    "                                  list = FALSE, \n",
    "                                  times = 1)\n",
    "training_set <- df[ trainIndex, ]\n",
    "test_set <- df[ -trainIndex, ]"
   ]
  },
  {
   "cell_type": "markdown",
   "id": "abfdf610",
   "metadata": {},
   "source": [
    "#### By Correlation"
   ]
  },
  {
   "cell_type": "code",
   "execution_count": 213,
   "id": "f13a5131",
   "metadata": {},
   "outputs": [],
   "source": [
    "if (!require(corrplot)) install.packages('corrplot')\n",
    "suppressWarnings(library(corrplot))"
   ]
  },
  {
   "cell_type": "code",
   "execution_count": 214,
   "id": "7411cff9",
   "metadata": {},
   "outputs": [
    {
     "data": {
      "image/png": "[encoded data removed]",
      "text/plain": [
       "Plot with title \"\""
      ]
     },
     "metadata": {
      "image/png": {
       "height": 900,
       "width": 600
      }
     },
     "output_type": "display_data"
    }
   ],
   "source": [
    "corMatMy <- cor(training_set[, -1])\n",
    "corrplot(corMatMy, order = \"hclust\")"
   ]
  },
  {
   "cell_type": "code",
   "execution_count": 215,
   "id": "2b997ded",
   "metadata": {},
   "outputs": [
    {
     "name": "stdout",
     "output_type": "stream",
     "text": [
      "Compare row 7  and column  8 with corr  0.937 \n",
      "  Means:  0.579 vs 0.395 so flagging column 7 \n",
      "Compare row 8  and column  6 with corr  0.843 \n",
      "  Means:  0.547 vs 0.382 so flagging column 8 \n",
      "Compare row 6  and column  28 with corr  0.819 \n",
      "  Means:  0.533 vs 0.37 so flagging column 6 \n",
      "Compare row 28  and column  27 with corr  0.859 \n",
      "  Means:  0.514 vs 0.359 so flagging column 28 \n",
      "Compare row 27  and column  26 with corr  0.896 \n",
      "  Means:  0.467 vs 0.348 so flagging column 27 \n",
      "Compare row 23  and column  21 with corr  0.994 \n",
      "  Means:  0.467 vs 0.338 so flagging column 23 \n",
      "Compare row 21  and column  3 with corr  0.969 \n",
      "  Means:  0.433 vs 0.327 so flagging column 21 \n",
      "Compare row 3  and column  24 with corr  0.94 \n",
      "  Means:  0.399 vs 0.319 so flagging column 3 \n",
      "Compare row 26  and column  30 with corr  0.799 \n",
      "  Means:  0.408 vs 0.316 so flagging column 26 \n",
      "Compare row 24  and column  1 with corr  0.94 \n",
      "  Means:  0.367 vs 0.303 so flagging column 24 \n",
      "Compare row 1  and column  4 with corr  0.987 \n",
      "  Means:  0.323 vs 0.298 so flagging column 1 \n",
      "Compare row 4  and column  13 with corr  0.74 \n",
      "  Means:  0.285 vs 0.293 so flagging column 13 \n",
      "Compare row 4  and column  11 with corr  0.746 \n",
      "  Means:  0.258 vs 0.289 so flagging column 11 \n",
      "Compare row 4  and column  14 with corr  0.804 \n",
      "  Means:  0.227 vs 0.291 so flagging column 14 \n",
      "Compare row 18  and column  16 with corr  0.732 \n",
      "  Means:  0.347 vs 0.288 so flagging column 18 \n",
      "Compare row 16  and column  17 with corr  0.836 \n",
      "  Means:  0.39 vs 0.285 so flagging column 16 \n",
      "Compare row 5  and column  25 with corr  0.793 \n",
      "  Means:  0.319 vs 0.27 so flagging column 5 \n",
      "Compare row 30  and column  10 with corr  0.747 \n",
      "  Means:  0.321 vs 0.257 so flagging column 30 \n",
      "Compare row 22  and column  2 with corr  0.914 \n",
      "  Means:  0.235 vs 0.259 so flagging column 2 \n",
      "All correlations <= 0.7 \n"
     ]
    }
   ],
   "source": [
    "highlyCor <- colnames(training_set[, -1])[findCorrelation(corMatMy, cutoff = 0.7, verbose = TRUE)]"
   ]
  },
  {
   "cell_type": "code",
   "execution_count": 216,
   "id": "9c1780d6",
   "metadata": {},
   "outputs": [
    {
     "data": {
      "text/html": [
       "<style>\n",
       ".list-inline {list-style: none; margin:0; padding: 0}\n",
       ".list-inline>li {display: inline-block}\n",
       ".list-inline>li:not(:last-child)::after {content: \"\\00b7\"; padding: 0 .5ex}\n",
       "</style>\n",
       "<ol class=list-inline><li>'concavity_mean'</li><li>'concave.points_mean'</li><li>'compactness_mean'</li><li>'concave.points_worst'</li><li>'concavity_worst'</li><li>'perimeter_worst'</li><li>'radius_worst'</li><li>'perimeter_mean'</li><li>'compactness_worst'</li><li>'area_worst'</li><li>'radius_mean'</li><li>'perimeter_se'</li><li>'radius_se'</li><li>'concave.points_se'</li><li>'area_se'</li><li>'compactness_se'</li><li>'smoothness_mean'</li><li>'fractal_dimension_worst'</li><li>'texture_mean'</li></ol>\n"
      ],
      "text/latex": [
       "\\begin{enumerate*}\n",
       "\\item 'concavity\\_mean'\n",
       "\\item 'concave.points\\_mean'\n",
       "\\item 'compactness\\_mean'\n",
       "\\item 'concave.points\\_worst'\n",
       "\\item 'concavity\\_worst'\n",
       "\\item 'perimeter\\_worst'\n",
       "\\item 'radius\\_worst'\n",
       "\\item 'perimeter\\_mean'\n",
       "\\item 'compactness\\_worst'\n",
       "\\item 'area\\_worst'\n",
       "\\item 'radius\\_mean'\n",
       "\\item 'perimeter\\_se'\n",
       "\\item 'radius\\_se'\n",
       "\\item 'concave.points\\_se'\n",
       "\\item 'area\\_se'\n",
       "\\item 'compactness\\_se'\n",
       "\\item 'smoothness\\_mean'\n",
       "\\item 'fractal\\_dimension\\_worst'\n",
       "\\item 'texture\\_mean'\n",
       "\\end{enumerate*}\n"
      ],
      "text/markdown": [
       "1. 'concavity_mean'\n",
       "2. 'concave.points_mean'\n",
       "3. 'compactness_mean'\n",
       "4. 'concave.points_worst'\n",
       "5. 'concavity_worst'\n",
       "6. 'perimeter_worst'\n",
       "7. 'radius_worst'\n",
       "8. 'perimeter_mean'\n",
       "9. 'compactness_worst'\n",
       "10. 'area_worst'\n",
       "11. 'radius_mean'\n",
       "12. 'perimeter_se'\n",
       "13. 'radius_se'\n",
       "14. 'concave.points_se'\n",
       "15. 'area_se'\n",
       "16. 'compactness_se'\n",
       "17. 'smoothness_mean'\n",
       "18. 'fractal_dimension_worst'\n",
       "19. 'texture_mean'\n",
       "\n",
       "\n"
      ],
      "text/plain": [
       " [1] \"concavity_mean\"          \"concave.points_mean\"    \n",
       " [3] \"compactness_mean\"        \"concave.points_worst\"   \n",
       " [5] \"concavity_worst\"         \"perimeter_worst\"        \n",
       " [7] \"radius_worst\"            \"perimeter_mean\"         \n",
       " [9] \"compactness_worst\"       \"area_worst\"             \n",
       "[11] \"radius_mean\"             \"perimeter_se\"           \n",
       "[13] \"radius_se\"               \"concave.points_se\"      \n",
       "[15] \"area_se\"                 \"compactness_se\"         \n",
       "[17] \"smoothness_mean\"         \"fractal_dimension_worst\"\n",
       "[19] \"texture_mean\"           "
      ]
     },
     "metadata": {},
     "output_type": "display_data"
    }
   ],
   "source": [
    "highlyCor"
   ]
  },
  {
   "cell_type": "code",
   "execution_count": 217,
   "id": "f9cc8a66",
   "metadata": {},
   "outputs": [],
   "source": [
    "training_set_cor <- training_set[, which(!colnames(training_set) %in% highlyCor)]"
   ]
  },
  {
   "cell_type": "markdown",
   "id": "fb97838d",
   "metadata": {},
   "source": [
    "#### By Recursive Feature Elimination (RFE)"
   ]
  },
  {
   "cell_type": "code",
   "execution_count": 218,
   "id": "3a680e4a",
   "metadata": {},
   "outputs": [
    {
     "data": {
      "text/html": [
       "<style>\n",
       ".list-inline {list-style: none; margin:0; padding: 0}\n",
       ".list-inline>li {display: inline-block}\n",
       ".list-inline>li:not(:last-child)::after {content: \"\\00b7\"; padding: 0 .5ex}\n",
       "</style>\n",
       "<ol class=list-inline><li>'area_worst'</li><li>'radius_worst'</li><li>'perimeter_worst'</li><li>'concave.points_worst'</li><li>'concavity_worst'</li><li>'concave.points_mean'</li><li>'area_mean'</li><li>'texture_worst'</li><li>'area_se'</li><li>'smoothness_worst'</li><li>'radius_mean'</li><li>'concavity_mean'</li><li>'perimeter_mean'</li><li>'compactness_worst'</li><li>'texture_mean'</li><li>'symmetry_worst'</li><li>'radius_se'</li><li>'perimeter_se'</li><li>'compactness_mean'</li><li>'smoothness_mean'</li><li>'fractal_dimension_worst'</li><li>'concavity_se'</li><li>'fractal_dimension_mean'</li><li>'compactness_se'</li><li>'concave.points_se'</li><li>'fractal_dimension_se'</li><li>'texture_se'</li><li>'symmetry_mean'</li><li>'smoothness_se'</li><li>'symmetry_se'</li></ol>\n"
      ],
      "text/latex": [
       "\\begin{enumerate*}\n",
       "\\item 'area\\_worst'\n",
       "\\item 'radius\\_worst'\n",
       "\\item 'perimeter\\_worst'\n",
       "\\item 'concave.points\\_worst'\n",
       "\\item 'concavity\\_worst'\n",
       "\\item 'concave.points\\_mean'\n",
       "\\item 'area\\_mean'\n",
       "\\item 'texture\\_worst'\n",
       "\\item 'area\\_se'\n",
       "\\item 'smoothness\\_worst'\n",
       "\\item 'radius\\_mean'\n",
       "\\item 'concavity\\_mean'\n",
       "\\item 'perimeter\\_mean'\n",
       "\\item 'compactness\\_worst'\n",
       "\\item 'texture\\_mean'\n",
       "\\item 'symmetry\\_worst'\n",
       "\\item 'radius\\_se'\n",
       "\\item 'perimeter\\_se'\n",
       "\\item 'compactness\\_mean'\n",
       "\\item 'smoothness\\_mean'\n",
       "\\item 'fractal\\_dimension\\_worst'\n",
       "\\item 'concavity\\_se'\n",
       "\\item 'fractal\\_dimension\\_mean'\n",
       "\\item 'compactness\\_se'\n",
       "\\item 'concave.points\\_se'\n",
       "\\item 'fractal\\_dimension\\_se'\n",
       "\\item 'texture\\_se'\n",
       "\\item 'symmetry\\_mean'\n",
       "\\item 'smoothness\\_se'\n",
       "\\item 'symmetry\\_se'\n",
       "\\end{enumerate*}\n"
      ],
      "text/markdown": [
       "1. 'area_worst'\n",
       "2. 'radius_worst'\n",
       "3. 'perimeter_worst'\n",
       "4. 'concave.points_worst'\n",
       "5. 'concavity_worst'\n",
       "6. 'concave.points_mean'\n",
       "7. 'area_mean'\n",
       "8. 'texture_worst'\n",
       "9. 'area_se'\n",
       "10. 'smoothness_worst'\n",
       "11. 'radius_mean'\n",
       "12. 'concavity_mean'\n",
       "13. 'perimeter_mean'\n",
       "14. 'compactness_worst'\n",
       "15. 'texture_mean'\n",
       "16. 'symmetry_worst'\n",
       "17. 'radius_se'\n",
       "18. 'perimeter_se'\n",
       "19. 'compactness_mean'\n",
       "20. 'smoothness_mean'\n",
       "21. 'fractal_dimension_worst'\n",
       "22. 'concavity_se'\n",
       "23. 'fractal_dimension_mean'\n",
       "24. 'compactness_se'\n",
       "25. 'concave.points_se'\n",
       "26. 'fractal_dimension_se'\n",
       "27. 'texture_se'\n",
       "28. 'symmetry_mean'\n",
       "29. 'smoothness_se'\n",
       "30. 'symmetry_se'\n",
       "\n",
       "\n"
      ],
      "text/plain": [
       " [1] \"area_worst\"              \"radius_worst\"           \n",
       " [3] \"perimeter_worst\"         \"concave.points_worst\"   \n",
       " [5] \"concavity_worst\"         \"concave.points_mean\"    \n",
       " [7] \"area_mean\"               \"texture_worst\"          \n",
       " [9] \"area_se\"                 \"smoothness_worst\"       \n",
       "[11] \"radius_mean\"             \"concavity_mean\"         \n",
       "[13] \"perimeter_mean\"          \"compactness_worst\"      \n",
       "[15] \"texture_mean\"            \"symmetry_worst\"         \n",
       "[17] \"radius_se\"               \"perimeter_se\"           \n",
       "[19] \"compactness_mean\"        \"smoothness_mean\"        \n",
       "[21] \"fractal_dimension_worst\" \"concavity_se\"           \n",
       "[23] \"fractal_dimension_mean\"  \"compactness_se\"         \n",
       "[25] \"concave.points_se\"       \"fractal_dimension_se\"   \n",
       "[27] \"texture_se\"              \"symmetry_mean\"          \n",
       "[29] \"smoothness_se\"           \"symmetry_se\"            "
      ]
     },
     "metadata": {},
     "output_type": "display_data"
    }
   ],
   "source": [
    "set.seed(7)\n",
    "# define the control using a random forest selection function with cross validation\n",
    "control <- rfeControl(functions = rfFuncs, method = \"cv\", number = 10)\n",
    "\n",
    "rfe_results <- rfe(x = training_set[,-1], y = as.factor(training_set$diagnosis), sizes = c(1:33), rfeControl = control)\n",
    "predictors(rfe_results)"
   ]
  },
  {
   "cell_type": "code",
   "execution_count": 219,
   "id": "22294634",
   "metadata": {},
   "outputs": [],
   "source": [
    "training_set_rfe <- training_set[, c(1, which(colnames(training_set) %in% predictors(rfe_results)))]"
   ]
  },
  {
   "cell_type": "markdown",
   "id": "0ff84e03",
   "metadata": {},
   "source": [
    "#### By Genetic Algorithm (GA)"
   ]
  },
  {
   "cell_type": "code",
   "execution_count": 220,
   "id": "6dc48859",
   "metadata": {},
   "outputs": [],
   "source": [
    "ga_ctrl <- gafsControl(functions = rfGA, # Assess fitness with RF\n",
    "                       method = \"cv\",    # 10 fold cross validation\n",
    "                       genParallel = TRUE, # Use parallel programming\n",
    "                       allowParallel = TRUE)"
   ]
  },
  {
   "cell_type": "code",
   "execution_count": 221,
   "id": "7f72cd3f",
   "metadata": {
    "scrolled": true
   },
   "outputs": [
    {
     "data": {
      "image/png": "[encoded data removed]",
      "text/plain": [
       "plot without title"
      ]
     },
     "metadata": {
      "image/png": {
       "height": 300,
       "width": 360
      }
     },
     "output_type": "display_data"
    }
   ],
   "source": [
    "## Use the same random number seed as the RFE process\n",
    "## so that the same CV folds are used for the external\n",
    "## resampling. \n",
    "\n",
    "set.seed(27)\n",
    "lev <- c(\"M\", \"B\") # Set the levels\n",
    "\n",
    "rf_ga <- gafs(x = training_set[,-1], y = as.factor(training_set$diagnosis),\n",
    "                 iters = 10, # generations of algorithm\n",
    "                 popSize = 5, # population size for each generation\n",
    "                 levels = lev,\n",
    "                 gafsControl = ga_ctrl)\n",
    "\n",
    "options(repr.plot.width = 6, repr.plot.height = 5)\n",
    "\n",
    "plot(rf_ga) # Plot mean fitness (AUC) by generation"
   ]
  },
  {
   "cell_type": "code",
   "execution_count": 222,
   "id": "cb5eb992",
   "metadata": {
    "scrolled": true
   },
   "outputs": [
    {
     "data": {
      "text/html": [
       "<style>\n",
       ".list-inline {list-style: none; margin:0; padding: 0}\n",
       ".list-inline>li {display: inline-block}\n",
       ".list-inline>li:not(:last-child)::after {content: \"\\00b7\"; padding: 0 .5ex}\n",
       "</style>\n",
       "<ol class=list-inline><li>'radius_mean'</li><li>'texture_mean'</li><li>'compactness_mean'</li><li>'concave.points_mean'</li><li>'symmetry_mean'</li><li>'fractal_dimension_mean'</li><li>'radius_se'</li><li>'texture_se'</li><li>'perimeter_se'</li><li>'compactness_se'</li><li>'concavity_se'</li><li>'concave.points_se'</li><li>'fractal_dimension_se'</li><li>'texture_worst'</li><li>'perimeter_worst'</li><li>'area_worst'</li><li>'smoothness_worst'</li><li>'compactness_worst'</li><li>'concavity_worst'</li><li>'concave.points_worst'</li><li>'fractal_dimension_worst'</li></ol>\n"
      ],
      "text/latex": [
       "\\begin{enumerate*}\n",
       "\\item 'radius\\_mean'\n",
       "\\item 'texture\\_mean'\n",
       "\\item 'compactness\\_mean'\n",
       "\\item 'concave.points\\_mean'\n",
       "\\item 'symmetry\\_mean'\n",
       "\\item 'fractal\\_dimension\\_mean'\n",
       "\\item 'radius\\_se'\n",
       "\\item 'texture\\_se'\n",
       "\\item 'perimeter\\_se'\n",
       "\\item 'compactness\\_se'\n",
       "\\item 'concavity\\_se'\n",
       "\\item 'concave.points\\_se'\n",
       "\\item 'fractal\\_dimension\\_se'\n",
       "\\item 'texture\\_worst'\n",
       "\\item 'perimeter\\_worst'\n",
       "\\item 'area\\_worst'\n",
       "\\item 'smoothness\\_worst'\n",
       "\\item 'compactness\\_worst'\n",
       "\\item 'concavity\\_worst'\n",
       "\\item 'concave.points\\_worst'\n",
       "\\item 'fractal\\_dimension\\_worst'\n",
       "\\end{enumerate*}\n"
      ],
      "text/markdown": [
       "1. 'radius_mean'\n",
       "2. 'texture_mean'\n",
       "3. 'compactness_mean'\n",
       "4. 'concave.points_mean'\n",
       "5. 'symmetry_mean'\n",
       "6. 'fractal_dimension_mean'\n",
       "7. 'radius_se'\n",
       "8. 'texture_se'\n",
       "9. 'perimeter_se'\n",
       "10. 'compactness_se'\n",
       "11. 'concavity_se'\n",
       "12. 'concave.points_se'\n",
       "13. 'fractal_dimension_se'\n",
       "14. 'texture_worst'\n",
       "15. 'perimeter_worst'\n",
       "16. 'area_worst'\n",
       "17. 'smoothness_worst'\n",
       "18. 'compactness_worst'\n",
       "19. 'concavity_worst'\n",
       "20. 'concave.points_worst'\n",
       "21. 'fractal_dimension_worst'\n",
       "\n",
       "\n"
      ],
      "text/plain": [
       " [1] \"radius_mean\"             \"texture_mean\"           \n",
       " [3] \"compactness_mean\"        \"concave.points_mean\"    \n",
       " [5] \"symmetry_mean\"           \"fractal_dimension_mean\" \n",
       " [7] \"radius_se\"               \"texture_se\"             \n",
       " [9] \"perimeter_se\"            \"compactness_se\"         \n",
       "[11] \"concavity_se\"            \"concave.points_se\"      \n",
       "[13] \"fractal_dimension_se\"    \"texture_worst\"          \n",
       "[15] \"perimeter_worst\"         \"area_worst\"             \n",
       "[17] \"smoothness_worst\"        \"compactness_worst\"      \n",
       "[19] \"concavity_worst\"         \"concave.points_worst\"   \n",
       "[21] \"fractal_dimension_worst\""
      ]
     },
     "metadata": {},
     "output_type": "display_data"
    }
   ],
   "source": [
    "rf_ga$ga$final"
   ]
  },
  {
   "cell_type": "code",
   "execution_count": 223,
   "id": "cc36f888",
   "metadata": {},
   "outputs": [],
   "source": [
    "training_set_ga <- training_set[, c(1, which(colnames(training_set) %in% rf_ga$ga$final))]"
   ]
  },
  {
   "cell_type": "markdown",
   "id": "19c9ccf5",
   "metadata": {},
   "source": [
    "### Model comparison"
   ]
  },
  {
   "cell_type": "markdown",
   "id": "ef9f7117",
   "metadata": {},
   "source": [
    "#### 1 - All features"
   ]
  },
  {
   "cell_type": "code",
   "execution_count": 224,
   "id": "797c5071",
   "metadata": {},
   "outputs": [],
   "source": [
    "set.seed(27)\n",
    "model_all <- train(diagnosis ~ .,\n",
    "               data = training_set,\n",
    "               method = \"rf\",\n",
    "               preProcess = c(\"scale\", \"center\"),\n",
    "               trControl = trainControl(method = \"repeatedcv\", number = 5, repeats = 10, verboseIter = FALSE))"
   ]
  },
  {
   "cell_type": "code",
   "execution_count": 225,
   "id": "5788c517",
   "metadata": {
    "scrolled": false
   },
   "outputs": [
    {
     "data": {
      "text/plain": [
       "Confusion Matrix and Statistics\n",
       "\n",
       "          Reference\n",
       "Prediction  B  M\n",
       "         B 65  6\n",
       "         M  6 36\n",
       "                                          \n",
       "               Accuracy : 0.8938          \n",
       "                 95% CI : (0.8218, 0.9439)\n",
       "    No Information Rate : 0.6283          \n",
       "    P-Value [Acc > NIR] : 1.762e-10       \n",
       "                                          \n",
       "                  Kappa : 0.7726          \n",
       "                                          \n",
       " Mcnemar's Test P-Value : 1               \n",
       "                                          \n",
       "            Sensitivity : 0.9155          \n",
       "            Specificity : 0.8571          \n",
       "         Pos Pred Value : 0.9155          \n",
       "         Neg Pred Value : 0.8571          \n",
       "             Prevalence : 0.6283          \n",
       "         Detection Rate : 0.5752          \n",
       "   Detection Prevalence : 0.6283          \n",
       "      Balanced Accuracy : 0.8863          \n",
       "                                          \n",
       "       'Positive' Class : B               \n",
       "                                          "
      ]
     },
     "metadata": {},
     "output_type": "display_data"
    }
   ],
   "source": [
    "cm_all <- confusionMatrix(predict(model_all, test_set), as.factor(test_set$diagnosis))\n",
    "cm_all"
   ]
  },
  {
   "cell_type": "code",
   "execution_count": 226,
   "id": "aa2bfe9a",
   "metadata": {},
   "outputs": [
    {
     "name": "stderr",
     "output_type": "stream",
     "text": [
      "Setting levels: control = B, case = M\n",
      "\n",
      "Setting direction: controls < cases\n",
      "\n"
     ]
    },
    {
     "data": {
      "image/png": "[encoded data removed]",
      "text/plain": [
       "plot without title"
      ]
     },
     "metadata": {
      "image/png": {
       "height": 300,
       "width": 360
      }
     },
     "output_type": "display_data"
    }
   ],
   "source": [
    "# Compute predicted probabilities\n",
    "all_pred_prob = predict(object = model_all,\n",
    "                newdata = test_set,\n",
    "                type = \"prob\")\n",
    "\n",
    "#ROC-curve using pROC library\n",
    "\n",
    "all_ROC <- roc(test_set$diagnosis, all_pred_prob[,\"M\"] )\n",
    "\n",
    "#all_auc <- paste(\"AUC=\",round(auc(all_ROC), digits=2), sep='')\n",
    "\n",
    "ggroc(all_ROC, colour = 'steelblue', size = 2) + \n",
    "    #annotate(geom=\"text\", x=0.8, y=0.85, label=all_auc)\n",
    "    ggtitle(paste0('ROC Curve ', '(AUC = ', round(auc(all_ROC), digits=2), ')'))  # https://www.statology.org/roc-curve-ggplot2/"
   ]
  },
  {
   "cell_type": "markdown",
   "id": "3be6fc5e",
   "metadata": {},
   "source": [
    "#### 2 - Correlation"
   ]
  },
  {
   "cell_type": "code",
   "execution_count": 227,
   "id": "a96fa910",
   "metadata": {},
   "outputs": [],
   "source": [
    "set.seed(27)\n",
    "model_cor <- train(diagnosis ~ .,\n",
    "                           data = training_set_cor,\n",
    "                           method = \"rf\",\n",
    "                           preProcess = c(\"scale\", \"center\"),\n",
    "                           trControl = trainControl(method = \"repeatedcv\", number = 5, repeats = 10, verboseIter = FALSE))"
   ]
  },
  {
   "cell_type": "code",
   "execution_count": 228,
   "id": "c69eb286",
   "metadata": {
    "scrolled": true
   },
   "outputs": [
    {
     "data": {
      "text/plain": [
       "Confusion Matrix and Statistics\n",
       "\n",
       "          Reference\n",
       "Prediction  B  M\n",
       "         B 69  8\n",
       "         M  2 34\n",
       "                                          \n",
       "               Accuracy : 0.9115          \n",
       "                 95% CI : (0.8433, 0.9567)\n",
       "    No Information Rate : 0.6283          \n",
       "    P-Value [Acc > NIR] : 6.062e-12       \n",
       "                                          \n",
       "                  Kappa : 0.8048          \n",
       "                                          \n",
       " Mcnemar's Test P-Value : 0.1138          \n",
       "                                          \n",
       "            Sensitivity : 0.9718          \n",
       "            Specificity : 0.8095          \n",
       "         Pos Pred Value : 0.8961          \n",
       "         Neg Pred Value : 0.9444          \n",
       "             Prevalence : 0.6283          \n",
       "         Detection Rate : 0.6106          \n",
       "   Detection Prevalence : 0.6814          \n",
       "      Balanced Accuracy : 0.8907          \n",
       "                                          \n",
       "       'Positive' Class : B               \n",
       "                                          "
      ]
     },
     "metadata": {},
     "output_type": "display_data"
    }
   ],
   "source": [
    "cm_cor <- confusionMatrix(predict(model_cor, test_set), as.factor(test_set$diagnosis))\n",
    "cm_cor"
   ]
  },
  {
   "cell_type": "code",
   "execution_count": 229,
   "id": "4bd5ad7e",
   "metadata": {},
   "outputs": [
    {
     "name": "stderr",
     "output_type": "stream",
     "text": [
      "Setting levels: control = B, case = M\n",
      "\n",
      "Setting direction: controls < cases\n",
      "\n"
     ]
    },
    {
     "data": {
      "image/png": "[encoded data removed]",
      "text/plain": [
       "plot without title"
      ]
     },
     "metadata": {
      "image/png": {
       "height": 300,
       "width": 360
      }
     },
     "output_type": "display_data"
    }
   ],
   "source": [
    "# Compute predicted probabilities\n",
    "cor_pred_prob = predict(object = model_cor,\n",
    "                newdata = test_set,\n",
    "                type = \"prob\")\n",
    "\n",
    "#ROC-curve using pROC library\n",
    "\n",
    "cor_ROC <- roc(test_set$diagnosis, cor_pred_prob[,\"M\"] )\n",
    "\n",
    "myauc <- paste(\"AUC=\",round(auc(cor_ROC), digits=2), sep='')\n",
    "ggroc(cor_ROC) + annotate(geom=\"text\", x=0.8, y=0.85, label=myauc)"
   ]
  },
  {
   "cell_type": "markdown",
   "id": "adf497e1",
   "metadata": {},
   "source": [
    "#### 3 - RFE"
   ]
  },
  {
   "cell_type": "code",
   "execution_count": 230,
   "id": "59631687",
   "metadata": {},
   "outputs": [],
   "source": [
    "set.seed(27)\n",
    "model_rfe <- train(diagnosis ~ .,\n",
    "                           data = training_set_rfe,\n",
    "                           method = \"rf\",\n",
    "                           preProcess = c(\"scale\", \"center\"),\n",
    "                           trControl = trainControl(method = \"repeatedcv\", number = 5, repeats = 10, verboseIter = FALSE))"
   ]
  },
  {
   "cell_type": "code",
   "execution_count": 231,
   "id": "08eeb386",
   "metadata": {
    "scrolled": true
   },
   "outputs": [
    {
     "data": {
      "text/plain": [
       "Confusion Matrix and Statistics\n",
       "\n",
       "          Reference\n",
       "Prediction  B  M\n",
       "         B 65  6\n",
       "         M  6 36\n",
       "                                          \n",
       "               Accuracy : 0.8938          \n",
       "                 95% CI : (0.8218, 0.9439)\n",
       "    No Information Rate : 0.6283          \n",
       "    P-Value [Acc > NIR] : 1.762e-10       \n",
       "                                          \n",
       "                  Kappa : 0.7726          \n",
       "                                          \n",
       " Mcnemar's Test P-Value : 1               \n",
       "                                          \n",
       "            Sensitivity : 0.9155          \n",
       "            Specificity : 0.8571          \n",
       "         Pos Pred Value : 0.9155          \n",
       "         Neg Pred Value : 0.8571          \n",
       "             Prevalence : 0.6283          \n",
       "         Detection Rate : 0.5752          \n",
       "   Detection Prevalence : 0.6283          \n",
       "      Balanced Accuracy : 0.8863          \n",
       "                                          \n",
       "       'Positive' Class : B               \n",
       "                                          "
      ]
     },
     "metadata": {},
     "output_type": "display_data"
    }
   ],
   "source": [
    "cm_rfe <- confusionMatrix(predict(model_rfe, test_set), as.factor(test_set$diagnosis))\n",
    "cm_rfe"
   ]
  },
  {
   "cell_type": "code",
   "execution_count": 232,
   "id": "c812b41a",
   "metadata": {},
   "outputs": [
    {
     "name": "stderr",
     "output_type": "stream",
     "text": [
      "Setting levels: control = B, case = M\n",
      "\n",
      "Setting direction: controls < cases\n",
      "\n"
     ]
    },
    {
     "data": {
      "image/png": "[encoded data removed]",
      "text/plain": [
       "plot without title"
      ]
     },
     "metadata": {
      "image/png": {
       "height": 300,
       "width": 360
      }
     },
     "output_type": "display_data"
    }
   ],
   "source": [
    "# Compute predicted probabilities\n",
    "rf_pred_prob = predict(object = model_rfe,\n",
    "                newdata = test_set,\n",
    "                type = \"prob\")\n",
    "\n",
    "#ROC-curve using pROC library\n",
    "\n",
    "rf_ROC <- roc(test_set$diagnosis, rf_pred_prob[,\"M\"] )\n",
    "\n",
    "#https://bookdown.org/m_villa43/rlabnotes_mlfe2022/trees.html\n",
    "myauc <- paste(\"AUC=\",round(auc(rf_ROC), digits=2), sep='')\n",
    "ggroc(rf_ROC) + annotate(geom=\"text\", x=0.8, y=0.85, label=myauc)"
   ]
  },
  {
   "cell_type": "code",
   "execution_count": 233,
   "id": "799dfb88",
   "metadata": {},
   "outputs": [
    {
     "name": "stderr",
     "output_type": "stream",
     "text": [
      "Setting levels: control = B, case = M\n",
      "\n",
      "Setting direction: controls < cases\n",
      "\n"
     ]
    },
    {
     "data": {
      "text/plain": [
       "\n",
       "Call:\n",
       "roc.default(response = test_set$diagnosis, predictor = rf_pred_prob[,     \"M\"], plot = TRUE, legacy.axes = TRUE, precent = TRUE, xlab = \"False Positive rate (100-Specificity)\",     ylab = \"True Positive rate (Sensitivity)\")\n",
       "\n",
       "Data: rf_pred_prob[, \"M\"] in 71 controls (test_set$diagnosis B) < 42 cases (test_set$diagnosis M).\n",
       "Area under the curve: 0.9651"
      ]
     },
     "metadata": {},
     "output_type": "display_data"
    },
    {
     "data": {
      "image/png": "[encoded data removed]",
      "text/plain": [
       "plot without title"
      ]
     },
     "metadata": {
      "image/png": {
       "height": 300,
       "width": 360
      }
     },
     "output_type": "display_data"
    }
   ],
   "source": [
    "# https://www.youtube.com/watch?v=zk017BiA-ZE\n",
    "\n",
    "roc(test_set$diagnosis, \n",
    "    rf_pred_prob[,\"M\"], \n",
    "    plot=TRUE, \n",
    "    legacy.axes=TRUE, \n",
    "    precent=TRUE, \n",
    "    xlab=\"False Positive rate (100-Specificity)\", \n",
    "    ylab=\"True Positive rate (Sensitivity)\")"
   ]
  },
  {
   "cell_type": "markdown",
   "id": "5f5a1d3b",
   "metadata": {},
   "source": [
    "#### 4 - GA"
   ]
  },
  {
   "cell_type": "code",
   "execution_count": 234,
   "id": "e6dcd943",
   "metadata": {},
   "outputs": [],
   "source": [
    "set.seed(27)\n",
    "model_ga <- train(diagnosis ~ .,\n",
    "                          data = training_set_ga,\n",
    "                          method = \"rf\",\n",
    "                          preProcess = c(\"scale\", \"center\"),\n",
    "                          trControl = trainControl(method = \"repeatedcv\", number = 5, repeats = 10, verboseIter = FALSE))"
   ]
  },
  {
   "cell_type": "code",
   "execution_count": 235,
   "id": "6f321782",
   "metadata": {
    "scrolled": true
   },
   "outputs": [
    {
     "data": {
      "text/plain": [
       "Confusion Matrix and Statistics\n",
       "\n",
       "          Reference\n",
       "Prediction  B  M\n",
       "         B 66  5\n",
       "         M  5 37\n",
       "                                          \n",
       "               Accuracy : 0.9115          \n",
       "                 95% CI : (0.8433, 0.9567)\n",
       "    No Information Rate : 0.6283          \n",
       "    P-Value [Acc > NIR] : 6.062e-12       \n",
       "                                          \n",
       "                  Kappa : 0.8105          \n",
       "                                          \n",
       " Mcnemar's Test P-Value : 1               \n",
       "                                          \n",
       "            Sensitivity : 0.9296          \n",
       "            Specificity : 0.8810          \n",
       "         Pos Pred Value : 0.9296          \n",
       "         Neg Pred Value : 0.8810          \n",
       "             Prevalence : 0.6283          \n",
       "         Detection Rate : 0.5841          \n",
       "   Detection Prevalence : 0.6283          \n",
       "      Balanced Accuracy : 0.9053          \n",
       "                                          \n",
       "       'Positive' Class : B               \n",
       "                                          "
      ]
     },
     "metadata": {},
     "output_type": "display_data"
    }
   ],
   "source": [
    "cm_ga <- confusionMatrix(predict(model_ga, test_set), as.factor(test_set$diagnosis))\n",
    "cm_ga"
   ]
  },
  {
   "cell_type": "code",
   "execution_count": 236,
   "id": "d2c3189a",
   "metadata": {},
   "outputs": [
    {
     "name": "stderr",
     "output_type": "stream",
     "text": [
      "Setting levels: control = B, case = M\n",
      "\n",
      "Setting direction: controls < cases\n",
      "\n"
     ]
    },
    {
     "data": {
      "image/png": "[encoded data removed]",
      "text/plain": [
       "plot without title"
      ]
     },
     "metadata": {
      "image/png": {
       "height": 300,
       "width": 360
      }
     },
     "output_type": "display_data"
    }
   ],
   "source": [
    "# Compute predicted probabilities\n",
    "ga_pred_prob = predict(object = model_ga,\n",
    "                newdata = test_set,\n",
    "                type = \"prob\")\n",
    "\n",
    "#ROC-curve using pROC library\n",
    "\n",
    "ga_ROC <- roc(test_set$diagnosis, ga_pred_prob[,\"M\"] )\n",
    "\n",
    "#https://bookdown.org/m_villa43/rlabnotes_mlfe2022/trees.html\n",
    "myauc <- paste(\"AUC=\",round(auc(ga_ROC), digits=2), sep='')\n",
    "ggroc(ga_ROC) + annotate(geom=\"text\", x=0.8, y=0.85, label=myauc)"
   ]
  },
  {
   "cell_type": "code",
   "execution_count": 237,
   "id": "9154cae4",
   "metadata": {},
   "outputs": [],
   "source": [
    "overall <- data.frame(model =c(\"all\", \"cor\", \"rfe\", \"ga\"),\n",
    "                      rbind(cm_all$overall,\n",
    "                      cm_cor$overall,\n",
    "                      cm_rfe$overall,\n",
    "                      cm_ga$overall ))"
   ]
  },
  {
   "cell_type": "code",
   "execution_count": 238,
   "id": "8d19f4d5",
   "metadata": {},
   "outputs": [
    {
     "data": {
      "text/html": [
       "<table class=\"dataframe\">\n",
       "<caption>A data.frame: 4 × 8</caption>\n",
       "<thead>\n",
       "\t<tr><th scope=col>model</th><th scope=col>Accuracy</th><th scope=col>Kappa</th><th scope=col>AccuracyLower</th><th scope=col>AccuracyUpper</th><th scope=col>AccuracyNull</th><th scope=col>AccuracyPValue</th><th scope=col>McnemarPValue</th></tr>\n",
       "\t<tr><th scope=col>&lt;chr&gt;</th><th scope=col>&lt;dbl&gt;</th><th scope=col>&lt;dbl&gt;</th><th scope=col>&lt;dbl&gt;</th><th scope=col>&lt;dbl&gt;</th><th scope=col>&lt;dbl&gt;</th><th scope=col>&lt;dbl&gt;</th><th scope=col>&lt;dbl&gt;</th></tr>\n",
       "</thead>\n",
       "<tbody>\n",
       "\t<tr><td>all</td><td>0.8938053</td><td>0.7726358</td><td>0.8218458</td><td>0.9439107</td><td>0.6283186</td><td>1.762272e-10</td><td>1.0000000</td></tr>\n",
       "\t<tr><td>cor</td><td>0.9115044</td><td>0.8048359</td><td>0.8432715</td><td>0.9567440</td><td>0.6283186</td><td>6.061828e-12</td><td>0.1138463</td></tr>\n",
       "\t<tr><td>rfe</td><td>0.8938053</td><td>0.7726358</td><td>0.8218458</td><td>0.9439107</td><td>0.6283186</td><td>1.762272e-10</td><td>1.0000000</td></tr>\n",
       "\t<tr><td>ga </td><td>0.9115044</td><td>0.8105298</td><td>0.8432715</td><td>0.9567440</td><td>0.6283186</td><td>6.061828e-12</td><td>1.0000000</td></tr>\n",
       "</tbody>\n",
       "</table>\n"
      ],
      "text/latex": [
       "A data.frame: 4 × 8\n",
       "\\begin{tabular}{llllllll}\n",
       " model & Accuracy & Kappa & AccuracyLower & AccuracyUpper & AccuracyNull & AccuracyPValue & McnemarPValue\\\\\n",
       " <chr> & <dbl> & <dbl> & <dbl> & <dbl> & <dbl> & <dbl> & <dbl>\\\\\n",
       "\\hline\n",
       "\t all & 0.8938053 & 0.7726358 & 0.8218458 & 0.9439107 & 0.6283186 & 1.762272e-10 & 1.0000000\\\\\n",
       "\t cor & 0.9115044 & 0.8048359 & 0.8432715 & 0.9567440 & 0.6283186 & 6.061828e-12 & 0.1138463\\\\\n",
       "\t rfe & 0.8938053 & 0.7726358 & 0.8218458 & 0.9439107 & 0.6283186 & 1.762272e-10 & 1.0000000\\\\\n",
       "\t ga  & 0.9115044 & 0.8105298 & 0.8432715 & 0.9567440 & 0.6283186 & 6.061828e-12 & 1.0000000\\\\\n",
       "\\end{tabular}\n"
      ],
      "text/markdown": [
       "\n",
       "A data.frame: 4 × 8\n",
       "\n",
       "| model &lt;chr&gt; | Accuracy &lt;dbl&gt; | Kappa &lt;dbl&gt; | AccuracyLower &lt;dbl&gt; | AccuracyUpper &lt;dbl&gt; | AccuracyNull &lt;dbl&gt; | AccuracyPValue &lt;dbl&gt; | McnemarPValue &lt;dbl&gt; |\n",
       "|---|---|---|---|---|---|---|---|\n",
       "| all | 0.8938053 | 0.7726358 | 0.8218458 | 0.9439107 | 0.6283186 | 1.762272e-10 | 1.0000000 |\n",
       "| cor | 0.9115044 | 0.8048359 | 0.8432715 | 0.9567440 | 0.6283186 | 6.061828e-12 | 0.1138463 |\n",
       "| rfe | 0.8938053 | 0.7726358 | 0.8218458 | 0.9439107 | 0.6283186 | 1.762272e-10 | 1.0000000 |\n",
       "| ga  | 0.9115044 | 0.8105298 | 0.8432715 | 0.9567440 | 0.6283186 | 6.061828e-12 | 1.0000000 |\n",
       "\n"
      ],
      "text/plain": [
       "  model Accuracy  Kappa     AccuracyLower AccuracyUpper AccuracyNull\n",
       "1 all   0.8938053 0.7726358 0.8218458     0.9439107     0.6283186   \n",
       "2 cor   0.9115044 0.8048359 0.8432715     0.9567440     0.6283186   \n",
       "3 rfe   0.8938053 0.7726358 0.8218458     0.9439107     0.6283186   \n",
       "4 ga    0.9115044 0.8105298 0.8432715     0.9567440     0.6283186   \n",
       "  AccuracyPValue McnemarPValue\n",
       "1 1.762272e-10   1.0000000    \n",
       "2 6.061828e-12   0.1138463    \n",
       "3 1.762272e-10   1.0000000    \n",
       "4 6.061828e-12   1.0000000    "
      ]
     },
     "metadata": {},
     "output_type": "display_data"
    }
   ],
   "source": [
    "overall"
   ]
  },
  {
   "cell_type": "code",
   "execution_count": 239,
   "id": "ee6afcee",
   "metadata": {},
   "outputs": [],
   "source": [
    "overall_gather <- overall[, 1:3] %>%\n",
    "  gather(measure, value, Accuracy:Kappa)"
   ]
  },
  {
   "cell_type": "code",
   "execution_count": 240,
   "id": "61d2abc9",
   "metadata": {},
   "outputs": [
    {
     "data": {
      "text/html": [
       "<table class=\"dataframe\">\n",
       "<caption>A data.frame: 8 × 3</caption>\n",
       "<thead>\n",
       "\t<tr><th scope=col>model</th><th scope=col>measure</th><th scope=col>value</th></tr>\n",
       "\t<tr><th scope=col>&lt;chr&gt;</th><th scope=col>&lt;chr&gt;</th><th scope=col>&lt;dbl&gt;</th></tr>\n",
       "</thead>\n",
       "<tbody>\n",
       "\t<tr><td>all</td><td>Accuracy</td><td>0.8938053</td></tr>\n",
       "\t<tr><td>cor</td><td>Accuracy</td><td>0.9115044</td></tr>\n",
       "\t<tr><td>rfe</td><td>Accuracy</td><td>0.8938053</td></tr>\n",
       "\t<tr><td>ga </td><td>Accuracy</td><td>0.9115044</td></tr>\n",
       "\t<tr><td>all</td><td>Kappa   </td><td>0.7726358</td></tr>\n",
       "\t<tr><td>cor</td><td>Kappa   </td><td>0.8048359</td></tr>\n",
       "\t<tr><td>rfe</td><td>Kappa   </td><td>0.7726358</td></tr>\n",
       "\t<tr><td>ga </td><td>Kappa   </td><td>0.8105298</td></tr>\n",
       "</tbody>\n",
       "</table>\n"
      ],
      "text/latex": [
       "A data.frame: 8 × 3\n",
       "\\begin{tabular}{lll}\n",
       " model & measure & value\\\\\n",
       " <chr> & <chr> & <dbl>\\\\\n",
       "\\hline\n",
       "\t all & Accuracy & 0.8938053\\\\\n",
       "\t cor & Accuracy & 0.9115044\\\\\n",
       "\t rfe & Accuracy & 0.8938053\\\\\n",
       "\t ga  & Accuracy & 0.9115044\\\\\n",
       "\t all & Kappa    & 0.7726358\\\\\n",
       "\t cor & Kappa    & 0.8048359\\\\\n",
       "\t rfe & Kappa    & 0.7726358\\\\\n",
       "\t ga  & Kappa    & 0.8105298\\\\\n",
       "\\end{tabular}\n"
      ],
      "text/markdown": [
       "\n",
       "A data.frame: 8 × 3\n",
       "\n",
       "| model &lt;chr&gt; | measure &lt;chr&gt; | value &lt;dbl&gt; |\n",
       "|---|---|---|\n",
       "| all | Accuracy | 0.8938053 |\n",
       "| cor | Accuracy | 0.9115044 |\n",
       "| rfe | Accuracy | 0.8938053 |\n",
       "| ga  | Accuracy | 0.9115044 |\n",
       "| all | Kappa    | 0.7726358 |\n",
       "| cor | Kappa    | 0.8048359 |\n",
       "| rfe | Kappa    | 0.7726358 |\n",
       "| ga  | Kappa    | 0.8105298 |\n",
       "\n"
      ],
      "text/plain": [
       "  model measure  value    \n",
       "1 all   Accuracy 0.8938053\n",
       "2 cor   Accuracy 0.9115044\n",
       "3 rfe   Accuracy 0.8938053\n",
       "4 ga    Accuracy 0.9115044\n",
       "5 all   Kappa    0.7726358\n",
       "6 cor   Kappa    0.8048359\n",
       "7 rfe   Kappa    0.7726358\n",
       "8 ga    Kappa    0.8105298"
      ]
     },
     "metadata": {},
     "output_type": "display_data"
    }
   ],
   "source": [
    "overall_gather"
   ]
  },
  {
   "cell_type": "code",
   "execution_count": 241,
   "id": "498e1b69",
   "metadata": {},
   "outputs": [],
   "source": [
    "byClass <- data.frame(model = c(\"all\", \"cor\", \"rfe\", \"ga\"),\n",
    "                      rbind(cm_all$byClass,\n",
    "                      cm_cor$byClass,\n",
    "                      cm_rfe$byClass,\n",
    "                      cm_ga$byClass ))"
   ]
  },
  {
   "cell_type": "code",
   "execution_count": 242,
   "id": "1dc80076",
   "metadata": {},
   "outputs": [
    {
     "data": {
      "text/html": [
       "<table class=\"dataframe\">\n",
       "<caption>A data.frame: 4 × 12</caption>\n",
       "<thead>\n",
       "\t<tr><th scope=col>model</th><th scope=col>Sensitivity</th><th scope=col>Specificity</th><th scope=col>Pos.Pred.Value</th><th scope=col>Neg.Pred.Value</th><th scope=col>Precision</th><th scope=col>Recall</th><th scope=col>F1</th><th scope=col>Prevalence</th><th scope=col>Detection.Rate</th><th scope=col>Detection.Prevalence</th><th scope=col>Balanced.Accuracy</th></tr>\n",
       "\t<tr><th scope=col>&lt;chr&gt;</th><th scope=col>&lt;dbl&gt;</th><th scope=col>&lt;dbl&gt;</th><th scope=col>&lt;dbl&gt;</th><th scope=col>&lt;dbl&gt;</th><th scope=col>&lt;dbl&gt;</th><th scope=col>&lt;dbl&gt;</th><th scope=col>&lt;dbl&gt;</th><th scope=col>&lt;dbl&gt;</th><th scope=col>&lt;dbl&gt;</th><th scope=col>&lt;dbl&gt;</th><th scope=col>&lt;dbl&gt;</th></tr>\n",
       "</thead>\n",
       "<tbody>\n",
       "\t<tr><td>all</td><td>0.9154930</td><td>0.8571429</td><td>0.9154930</td><td>0.8571429</td><td>0.9154930</td><td>0.9154930</td><td>0.9154930</td><td>0.6283186</td><td>0.5752212</td><td>0.6283186</td><td>0.8863179</td></tr>\n",
       "\t<tr><td>cor</td><td>0.9718310</td><td>0.8095238</td><td>0.8961039</td><td>0.9444444</td><td>0.8961039</td><td>0.9718310</td><td>0.9324324</td><td>0.6283186</td><td>0.6106195</td><td>0.6814159</td><td>0.8906774</td></tr>\n",
       "\t<tr><td>rfe</td><td>0.9154930</td><td>0.8571429</td><td>0.9154930</td><td>0.8571429</td><td>0.9154930</td><td>0.9154930</td><td>0.9154930</td><td>0.6283186</td><td>0.5752212</td><td>0.6283186</td><td>0.8863179</td></tr>\n",
       "\t<tr><td>ga </td><td>0.9295775</td><td>0.8809524</td><td>0.9295775</td><td>0.8809524</td><td>0.9295775</td><td>0.9295775</td><td>0.9295775</td><td>0.6283186</td><td>0.5840708</td><td>0.6283186</td><td>0.9052649</td></tr>\n",
       "</tbody>\n",
       "</table>\n"
      ],
      "text/latex": [
       "A data.frame: 4 × 12\n",
       "\\begin{tabular}{llllllllllll}\n",
       " model & Sensitivity & Specificity & Pos.Pred.Value & Neg.Pred.Value & Precision & Recall & F1 & Prevalence & Detection.Rate & Detection.Prevalence & Balanced.Accuracy\\\\\n",
       " <chr> & <dbl> & <dbl> & <dbl> & <dbl> & <dbl> & <dbl> & <dbl> & <dbl> & <dbl> & <dbl> & <dbl>\\\\\n",
       "\\hline\n",
       "\t all & 0.9154930 & 0.8571429 & 0.9154930 & 0.8571429 & 0.9154930 & 0.9154930 & 0.9154930 & 0.6283186 & 0.5752212 & 0.6283186 & 0.8863179\\\\\n",
       "\t cor & 0.9718310 & 0.8095238 & 0.8961039 & 0.9444444 & 0.8961039 & 0.9718310 & 0.9324324 & 0.6283186 & 0.6106195 & 0.6814159 & 0.8906774\\\\\n",
       "\t rfe & 0.9154930 & 0.8571429 & 0.9154930 & 0.8571429 & 0.9154930 & 0.9154930 & 0.9154930 & 0.6283186 & 0.5752212 & 0.6283186 & 0.8863179\\\\\n",
       "\t ga  & 0.9295775 & 0.8809524 & 0.9295775 & 0.8809524 & 0.9295775 & 0.9295775 & 0.9295775 & 0.6283186 & 0.5840708 & 0.6283186 & 0.9052649\\\\\n",
       "\\end{tabular}\n"
      ],
      "text/markdown": [
       "\n",
       "A data.frame: 4 × 12\n",
       "\n",
       "| model &lt;chr&gt; | Sensitivity &lt;dbl&gt; | Specificity &lt;dbl&gt; | Pos.Pred.Value &lt;dbl&gt; | Neg.Pred.Value &lt;dbl&gt; | Precision &lt;dbl&gt; | Recall &lt;dbl&gt; | F1 &lt;dbl&gt; | Prevalence &lt;dbl&gt; | Detection.Rate &lt;dbl&gt; | Detection.Prevalence &lt;dbl&gt; | Balanced.Accuracy &lt;dbl&gt; |\n",
       "|---|---|---|---|---|---|---|---|---|---|---|---|\n",
       "| all | 0.9154930 | 0.8571429 | 0.9154930 | 0.8571429 | 0.9154930 | 0.9154930 | 0.9154930 | 0.6283186 | 0.5752212 | 0.6283186 | 0.8863179 |\n",
       "| cor | 0.9718310 | 0.8095238 | 0.8961039 | 0.9444444 | 0.8961039 | 0.9718310 | 0.9324324 | 0.6283186 | 0.6106195 | 0.6814159 | 0.8906774 |\n",
       "| rfe | 0.9154930 | 0.8571429 | 0.9154930 | 0.8571429 | 0.9154930 | 0.9154930 | 0.9154930 | 0.6283186 | 0.5752212 | 0.6283186 | 0.8863179 |\n",
       "| ga  | 0.9295775 | 0.8809524 | 0.9295775 | 0.8809524 | 0.9295775 | 0.9295775 | 0.9295775 | 0.6283186 | 0.5840708 | 0.6283186 | 0.9052649 |\n",
       "\n"
      ],
      "text/plain": [
       "  model Sensitivity Specificity Pos.Pred.Value Neg.Pred.Value Precision\n",
       "1 all   0.9154930   0.8571429   0.9154930      0.8571429      0.9154930\n",
       "2 cor   0.9718310   0.8095238   0.8961039      0.9444444      0.8961039\n",
       "3 rfe   0.9154930   0.8571429   0.9154930      0.8571429      0.9154930\n",
       "4 ga    0.9295775   0.8809524   0.9295775      0.8809524      0.9295775\n",
       "  Recall    F1        Prevalence Detection.Rate Detection.Prevalence\n",
       "1 0.9154930 0.9154930 0.6283186  0.5752212      0.6283186           \n",
       "2 0.9718310 0.9324324 0.6283186  0.6106195      0.6814159           \n",
       "3 0.9154930 0.9154930 0.6283186  0.5752212      0.6283186           \n",
       "4 0.9295775 0.9295775 0.6283186  0.5840708      0.6283186           \n",
       "  Balanced.Accuracy\n",
       "1 0.8863179        \n",
       "2 0.8906774        \n",
       "3 0.8863179        \n",
       "4 0.9052649        "
      ]
     },
     "metadata": {},
     "output_type": "display_data"
    }
   ],
   "source": [
    "byClass"
   ]
  },
  {
   "cell_type": "code",
   "execution_count": 243,
   "id": "19c423d2",
   "metadata": {},
   "outputs": [],
   "source": [
    "byClass_gather <- byClass[, c(1:3, 6:7)] %>%\n",
    "  gather(measure, value, Sensitivity:Recall)"
   ]
  },
  {
   "cell_type": "code",
   "execution_count": 244,
   "id": "354fdefc",
   "metadata": {
    "scrolled": true
   },
   "outputs": [
    {
     "data": {
      "text/html": [
       "<table class=\"dataframe\">\n",
       "<caption>A data.frame: 16 × 3</caption>\n",
       "<thead>\n",
       "\t<tr><th scope=col>model</th><th scope=col>measure</th><th scope=col>value</th></tr>\n",
       "\t<tr><th scope=col>&lt;chr&gt;</th><th scope=col>&lt;chr&gt;</th><th scope=col>&lt;dbl&gt;</th></tr>\n",
       "</thead>\n",
       "<tbody>\n",
       "\t<tr><td>all</td><td>Sensitivity</td><td>0.9154930</td></tr>\n",
       "\t<tr><td>cor</td><td>Sensitivity</td><td>0.9718310</td></tr>\n",
       "\t<tr><td>rfe</td><td>Sensitivity</td><td>0.9154930</td></tr>\n",
       "\t<tr><td>ga </td><td>Sensitivity</td><td>0.9295775</td></tr>\n",
       "\t<tr><td>all</td><td>Specificity</td><td>0.8571429</td></tr>\n",
       "\t<tr><td>cor</td><td>Specificity</td><td>0.8095238</td></tr>\n",
       "\t<tr><td>rfe</td><td>Specificity</td><td>0.8571429</td></tr>\n",
       "\t<tr><td>ga </td><td>Specificity</td><td>0.8809524</td></tr>\n",
       "\t<tr><td>all</td><td>Precision  </td><td>0.9154930</td></tr>\n",
       "\t<tr><td>cor</td><td>Precision  </td><td>0.8961039</td></tr>\n",
       "\t<tr><td>rfe</td><td>Precision  </td><td>0.9154930</td></tr>\n",
       "\t<tr><td>ga </td><td>Precision  </td><td>0.9295775</td></tr>\n",
       "\t<tr><td>all</td><td>Recall     </td><td>0.9154930</td></tr>\n",
       "\t<tr><td>cor</td><td>Recall     </td><td>0.9718310</td></tr>\n",
       "\t<tr><td>rfe</td><td>Recall     </td><td>0.9154930</td></tr>\n",
       "\t<tr><td>ga </td><td>Recall     </td><td>0.9295775</td></tr>\n",
       "</tbody>\n",
       "</table>\n"
      ],
      "text/latex": [
       "A data.frame: 16 × 3\n",
       "\\begin{tabular}{lll}\n",
       " model & measure & value\\\\\n",
       " <chr> & <chr> & <dbl>\\\\\n",
       "\\hline\n",
       "\t all & Sensitivity & 0.9154930\\\\\n",
       "\t cor & Sensitivity & 0.9718310\\\\\n",
       "\t rfe & Sensitivity & 0.9154930\\\\\n",
       "\t ga  & Sensitivity & 0.9295775\\\\\n",
       "\t all & Specificity & 0.8571429\\\\\n",
       "\t cor & Specificity & 0.8095238\\\\\n",
       "\t rfe & Specificity & 0.8571429\\\\\n",
       "\t ga  & Specificity & 0.8809524\\\\\n",
       "\t all & Precision   & 0.9154930\\\\\n",
       "\t cor & Precision   & 0.8961039\\\\\n",
       "\t rfe & Precision   & 0.9154930\\\\\n",
       "\t ga  & Precision   & 0.9295775\\\\\n",
       "\t all & Recall      & 0.9154930\\\\\n",
       "\t cor & Recall      & 0.9718310\\\\\n",
       "\t rfe & Recall      & 0.9154930\\\\\n",
       "\t ga  & Recall      & 0.9295775\\\\\n",
       "\\end{tabular}\n"
      ],
      "text/markdown": [
       "\n",
       "A data.frame: 16 × 3\n",
       "\n",
       "| model &lt;chr&gt; | measure &lt;chr&gt; | value &lt;dbl&gt; |\n",
       "|---|---|---|\n",
       "| all | Sensitivity | 0.9154930 |\n",
       "| cor | Sensitivity | 0.9718310 |\n",
       "| rfe | Sensitivity | 0.9154930 |\n",
       "| ga  | Sensitivity | 0.9295775 |\n",
       "| all | Specificity | 0.8571429 |\n",
       "| cor | Specificity | 0.8095238 |\n",
       "| rfe | Specificity | 0.8571429 |\n",
       "| ga  | Specificity | 0.8809524 |\n",
       "| all | Precision   | 0.9154930 |\n",
       "| cor | Precision   | 0.8961039 |\n",
       "| rfe | Precision   | 0.9154930 |\n",
       "| ga  | Precision   | 0.9295775 |\n",
       "| all | Recall      | 0.9154930 |\n",
       "| cor | Recall      | 0.9718310 |\n",
       "| rfe | Recall      | 0.9154930 |\n",
       "| ga  | Recall      | 0.9295775 |\n",
       "\n"
      ],
      "text/plain": [
       "   model measure     value    \n",
       "1  all   Sensitivity 0.9154930\n",
       "2  cor   Sensitivity 0.9718310\n",
       "3  rfe   Sensitivity 0.9154930\n",
       "4  ga    Sensitivity 0.9295775\n",
       "5  all   Specificity 0.8571429\n",
       "6  cor   Specificity 0.8095238\n",
       "7  rfe   Specificity 0.8571429\n",
       "8  ga    Specificity 0.8809524\n",
       "9  all   Precision   0.9154930\n",
       "10 cor   Precision   0.8961039\n",
       "11 rfe   Precision   0.9154930\n",
       "12 ga    Precision   0.9295775\n",
       "13 all   Recall      0.9154930\n",
       "14 cor   Recall      0.9718310\n",
       "15 rfe   Recall      0.9154930\n",
       "16 ga    Recall      0.9295775"
      ]
     },
     "metadata": {},
     "output_type": "display_data"
    }
   ],
   "source": [
    "byClass_gather"
   ]
  },
  {
   "cell_type": "code",
   "execution_count": 245,
   "id": "2dc65bd4",
   "metadata": {},
   "outputs": [],
   "source": [
    "overall_byClass_gather <- rbind(overall_gather, byClass_gather)\n",
    "overall_byClass_gather <- within(overall_byClass_gather, model <- factor(model, levels = c(\"all\", \"cor\", \"rfe\", \"ga\")))"
   ]
  },
  {
   "cell_type": "code",
   "execution_count": 246,
   "id": "20d7eb19",
   "metadata": {},
   "outputs": [
    {
     "data": {
      "text/html": [
       "<table class=\"dataframe\">\n",
       "<caption>A data.frame: 24 × 3</caption>\n",
       "<thead>\n",
       "\t<tr><th scope=col>model</th><th scope=col>measure</th><th scope=col>value</th></tr>\n",
       "\t<tr><th scope=col>&lt;fct&gt;</th><th scope=col>&lt;chr&gt;</th><th scope=col>&lt;dbl&gt;</th></tr>\n",
       "</thead>\n",
       "<tbody>\n",
       "\t<tr><td>all</td><td>Accuracy   </td><td>0.8938053</td></tr>\n",
       "\t<tr><td>cor</td><td>Accuracy   </td><td>0.9115044</td></tr>\n",
       "\t<tr><td>rfe</td><td>Accuracy   </td><td>0.8938053</td></tr>\n",
       "\t<tr><td>ga </td><td>Accuracy   </td><td>0.9115044</td></tr>\n",
       "\t<tr><td>all</td><td>Kappa      </td><td>0.7726358</td></tr>\n",
       "\t<tr><td>cor</td><td>Kappa      </td><td>0.8048359</td></tr>\n",
       "\t<tr><td>rfe</td><td>Kappa      </td><td>0.7726358</td></tr>\n",
       "\t<tr><td>ga </td><td>Kappa      </td><td>0.8105298</td></tr>\n",
       "\t<tr><td>all</td><td>Sensitivity</td><td>0.9154930</td></tr>\n",
       "\t<tr><td>cor</td><td>Sensitivity</td><td>0.9718310</td></tr>\n",
       "\t<tr><td>rfe</td><td>Sensitivity</td><td>0.9154930</td></tr>\n",
       "\t<tr><td>ga </td><td>Sensitivity</td><td>0.9295775</td></tr>\n",
       "\t<tr><td>all</td><td>Specificity</td><td>0.8571429</td></tr>\n",
       "\t<tr><td>cor</td><td>Specificity</td><td>0.8095238</td></tr>\n",
       "\t<tr><td>rfe</td><td>Specificity</td><td>0.8571429</td></tr>\n",
       "\t<tr><td>ga </td><td>Specificity</td><td>0.8809524</td></tr>\n",
       "\t<tr><td>all</td><td>Precision  </td><td>0.9154930</td></tr>\n",
       "\t<tr><td>cor</td><td>Precision  </td><td>0.8961039</td></tr>\n",
       "\t<tr><td>rfe</td><td>Precision  </td><td>0.9154930</td></tr>\n",
       "\t<tr><td>ga </td><td>Precision  </td><td>0.9295775</td></tr>\n",
       "\t<tr><td>all</td><td>Recall     </td><td>0.9154930</td></tr>\n",
       "\t<tr><td>cor</td><td>Recall     </td><td>0.9718310</td></tr>\n",
       "\t<tr><td>rfe</td><td>Recall     </td><td>0.9154930</td></tr>\n",
       "\t<tr><td>ga </td><td>Recall     </td><td>0.9295775</td></tr>\n",
       "</tbody>\n",
       "</table>\n"
      ],
      "text/latex": [
       "A data.frame: 24 × 3\n",
       "\\begin{tabular}{lll}\n",
       " model & measure & value\\\\\n",
       " <fct> & <chr> & <dbl>\\\\\n",
       "\\hline\n",
       "\t all & Accuracy    & 0.8938053\\\\\n",
       "\t cor & Accuracy    & 0.9115044\\\\\n",
       "\t rfe & Accuracy    & 0.8938053\\\\\n",
       "\t ga  & Accuracy    & 0.9115044\\\\\n",
       "\t all & Kappa       & 0.7726358\\\\\n",
       "\t cor & Kappa       & 0.8048359\\\\\n",
       "\t rfe & Kappa       & 0.7726358\\\\\n",
       "\t ga  & Kappa       & 0.8105298\\\\\n",
       "\t all & Sensitivity & 0.9154930\\\\\n",
       "\t cor & Sensitivity & 0.9718310\\\\\n",
       "\t rfe & Sensitivity & 0.9154930\\\\\n",
       "\t ga  & Sensitivity & 0.9295775\\\\\n",
       "\t all & Specificity & 0.8571429\\\\\n",
       "\t cor & Specificity & 0.8095238\\\\\n",
       "\t rfe & Specificity & 0.8571429\\\\\n",
       "\t ga  & Specificity & 0.8809524\\\\\n",
       "\t all & Precision   & 0.9154930\\\\\n",
       "\t cor & Precision   & 0.8961039\\\\\n",
       "\t rfe & Precision   & 0.9154930\\\\\n",
       "\t ga  & Precision   & 0.9295775\\\\\n",
       "\t all & Recall      & 0.9154930\\\\\n",
       "\t cor & Recall      & 0.9718310\\\\\n",
       "\t rfe & Recall      & 0.9154930\\\\\n",
       "\t ga  & Recall      & 0.9295775\\\\\n",
       "\\end{tabular}\n"
      ],
      "text/markdown": [
       "\n",
       "A data.frame: 24 × 3\n",
       "\n",
       "| model &lt;fct&gt; | measure &lt;chr&gt; | value &lt;dbl&gt; |\n",
       "|---|---|---|\n",
       "| all | Accuracy    | 0.8938053 |\n",
       "| cor | Accuracy    | 0.9115044 |\n",
       "| rfe | Accuracy    | 0.8938053 |\n",
       "| ga  | Accuracy    | 0.9115044 |\n",
       "| all | Kappa       | 0.7726358 |\n",
       "| cor | Kappa       | 0.8048359 |\n",
       "| rfe | Kappa       | 0.7726358 |\n",
       "| ga  | Kappa       | 0.8105298 |\n",
       "| all | Sensitivity | 0.9154930 |\n",
       "| cor | Sensitivity | 0.9718310 |\n",
       "| rfe | Sensitivity | 0.9154930 |\n",
       "| ga  | Sensitivity | 0.9295775 |\n",
       "| all | Specificity | 0.8571429 |\n",
       "| cor | Specificity | 0.8095238 |\n",
       "| rfe | Specificity | 0.8571429 |\n",
       "| ga  | Specificity | 0.8809524 |\n",
       "| all | Precision   | 0.9154930 |\n",
       "| cor | Precision   | 0.8961039 |\n",
       "| rfe | Precision   | 0.9154930 |\n",
       "| ga  | Precision   | 0.9295775 |\n",
       "| all | Recall      | 0.9154930 |\n",
       "| cor | Recall      | 0.9718310 |\n",
       "| rfe | Recall      | 0.9154930 |\n",
       "| ga  | Recall      | 0.9295775 |\n",
       "\n"
      ],
      "text/plain": [
       "   model measure     value    \n",
       "1  all   Accuracy    0.8938053\n",
       "2  cor   Accuracy    0.9115044\n",
       "3  rfe   Accuracy    0.8938053\n",
       "4  ga    Accuracy    0.9115044\n",
       "5  all   Kappa       0.7726358\n",
       "6  cor   Kappa       0.8048359\n",
       "7  rfe   Kappa       0.7726358\n",
       "8  ga    Kappa       0.8105298\n",
       "9  all   Sensitivity 0.9154930\n",
       "10 cor   Sensitivity 0.9718310\n",
       "11 rfe   Sensitivity 0.9154930\n",
       "12 ga    Sensitivity 0.9295775\n",
       "13 all   Specificity 0.8571429\n",
       "14 cor   Specificity 0.8095238\n",
       "15 rfe   Specificity 0.8571429\n",
       "16 ga    Specificity 0.8809524\n",
       "17 all   Precision   0.9154930\n",
       "18 cor   Precision   0.8961039\n",
       "19 rfe   Precision   0.9154930\n",
       "20 ga    Precision   0.9295775\n",
       "21 all   Recall      0.9154930\n",
       "22 cor   Recall      0.9718310\n",
       "23 rfe   Recall      0.9154930\n",
       "24 ga    Recall      0.9295775"
      ]
     },
     "metadata": {},
     "output_type": "display_data"
    }
   ],
   "source": [
    "overall_byClass_gather"
   ]
  },
  {
   "cell_type": "code",
   "execution_count": 247,
   "id": "1b9a715d",
   "metadata": {
    "scrolled": false
   },
   "outputs": [
    {
     "data": {
      "image/png": "[encoded data removed]",
      "text/plain": [
       "plot without title"
      ]
     },
     "metadata": {
      "image/png": {
       "height": 540,
       "width": 540
      }
     },
     "output_type": "display_data"
    }
   ],
   "source": [
    "options(repr.plot.width = 9, repr.plot.height = 9)\n",
    "\n",
    "ggplot(overall_byClass_gather, aes(x = model, y = value, color = measure, shape = measure, group = measure)) +\n",
    "  geom_point(size = 4, alpha = 0.8) +\n",
    "  geom_line(size=0.8) +\n",
    "  geom_path(alpha = 0.7) +\n",
    "  scale_colour_brewer(palette = \"Dark2\") +\n",
    "  labs(\n",
    "    x = \"Feature Selection method\",\n",
    "    y = \"Value\",\n",
    "    color = \"\",\n",
    "    shape = \"\",\n",
    "    title = \"Comparison of feature selection methods\",\n",
    "    subtitle = \"in breast cancer dataset\",\n",
    "    caption = \"\\nBreast Cancer Wisconsin (Diagnostic) Data Sets\n",
    "    Street et al., 1993;\n",
    "    all: no feature selection\n",
    "    cor: features with correlation > 0.7 removed\n",
    "    rfe: Recursive Feature Elimination\n",
    "    ga: Genetic Algorithm\"\n",
    "  )"
   ]
  },
  {
   "cell_type": "code",
   "execution_count": null,
   "id": "f393fb06",
   "metadata": {},
   "outputs": [],
   "source": []
  },
  {
   "cell_type": "code",
   "execution_count": 248,
   "id": "fa90151a",
   "metadata": {},
   "outputs": [
    {
     "data": {
      "image/png": "[encoded data removed]",
      "text/plain": [
       "plot without title"
      ]
     },
     "metadata": {
      "image/png": {
       "height": 540,
       "width": 540
      }
     },
     "output_type": "display_data"
    }
   ],
   "source": [
    "# https://felixfan.gitbooks.io/r-plots/content/roc-curve.html\n",
    "# Multiple curves:\n",
    "\n",
    "ggroc(list(all=all_ROC, cor=cor_ROC, rf=rf_ROC, ga=ga_ROC) , size = 1) + \n",
    " \n",
    "theme(legend.title = element_blank(), \n",
    "      legend.position = c(0.8, 0.2),\n",
    "      legend.text = element_text(size=12),\n",
    "      text = element_text(size=12)) + \n",
    "      scale_color_manual(values=c(\"#000000\", \"#0072B2\", \"#E69F00\", \"#CC79A7\"), \n",
    "                       labels=c(paste(\"all: \", round(all_ROC$auc,4), sep=\"\"), \n",
    "                                paste(\"cor: \", round(cor_ROC$auc, 4), sep=\"\"), \n",
    "                                paste(\"rf: \", round(rf_ROC$auc, 4), spe=\"\"),\n",
    "                                paste(\"ga: \", round(ga_ROC$auc, 4), sep=\"\")\n",
    "                                )\n",
    "                       ) +\n",
    "    labs(title=\"\", x=\"Specificity\", y=\"Sensitivity\")"
   ]
  },
  {
   "cell_type": "markdown",
   "id": "8ddd2008",
   "metadata": {},
   "source": [
    "### Conclusions"
   ]
  },
  {
   "cell_type": "markdown",
   "id": "7bbfb33d",
   "metadata": {},
   "source": [
    "#### RFE and COR both improved the predictions compared to no feature selection, while RFE performed best. "
   ]
  },
  {
   "cell_type": "markdown",
   "id": "fdd34aa2",
   "metadata": {},
   "source": [
    "### Grid search"
   ]
  },
  {
   "cell_type": "code",
   "execution_count": 271,
   "id": "18957840",
   "metadata": {},
   "outputs": [],
   "source": [
    "# https://rpubs.com/phamdinhkhanh/389752"
   ]
  },
  {
   "cell_type": "code",
   "execution_count": 270,
   "id": "b972f8bd",
   "metadata": {},
   "outputs": [
    {
     "name": "stdout",
     "output_type": "stream",
     "text": [
      "Random Forest \n",
      "\n",
      "456 samples\n",
      " 30 predictor\n",
      "  2 classes: 'B', 'M' \n",
      "\n",
      "No pre-processing\n",
      "Resampling: Cross-Validated (10 fold, repeated 3 times) \n",
      "Summary of sample sizes: 410, 410, 410, 410, 410, 411, ... \n",
      "Resampling results across tuning parameters:\n",
      "\n",
      "  mtry  Accuracy   Kappa    \n",
      "   1    0.9692915  0.9337766\n",
      "   2    0.9722222  0.9401926\n",
      "   3    0.9715298  0.9382339\n",
      "   4    0.9722544  0.9398420\n",
      "   5    0.9708052  0.9369673\n",
      "   6    0.9700805  0.9350796\n",
      "   7    0.9686312  0.9320442\n",
      "   8    0.9686473  0.9324523\n",
      "   9    0.9686151  0.9321065\n",
      "  10    0.9671659  0.9290702\n",
      "  11    0.9678905  0.9304508\n",
      "  12    0.9678905  0.9307245\n",
      "  13    0.9678905  0.9306056\n",
      "  14    0.9649758  0.9243218\n",
      "  15    0.9657166  0.9259562\n",
      "\n",
      "Accuracy was used to select the optimal model using the largest value.\n",
      "The final value used for the model was mtry = 4.\n"
     ]
    }
   ],
   "source": [
    "control <- trainControl(method=\"repeatedcv\", number=10, repeats=3)\n",
    "seed <- 7\n",
    "metric <- \"Accuracy\"\n",
    "set.seed(seed)\n",
    "tunegrid <- expand.grid(.mtry=c(1:15))\n",
    "rf_default <- train(diagnosis~., data=training_set_rfe, method=\"rf\", metric=metric, tuneGrid=tunegrid, trControl=control)\n",
    "print(rf_default)"
   ]
  },
  {
   "cell_type": "code",
   "execution_count": 267,
   "id": "18f703ee",
   "metadata": {
    "scrolled": false
   },
   "outputs": [
    {
     "data": {
      "image/png": "[encoded data removed]",
      "text/plain": [
       "plot without title"
      ]
     },
     "metadata": {
      "image/png": {
       "height": 540,
       "width": 540
      }
     },
     "output_type": "display_data"
    }
   ],
   "source": [
    "plot(rf_default)"
   ]
  },
  {
   "cell_type": "markdown",
   "id": "fab90979",
   "metadata": {},
   "source": [
    "#### this results recommend us that the best optimal mtry = 4 with accuracy = 97.22%."
   ]
  },
  {
   "cell_type": "code",
   "execution_count": 268,
   "id": "f9e4302e",
   "metadata": {},
   "outputs": [
    {
     "data": {
      "text/plain": [
       "\n",
       "Call:\n",
       "summary.resamples(object = results)\n",
       "\n",
       "Models: 1000, 1500, 2000, 2500 \n",
       "Number of resamples: 30 \n",
       "\n",
       "Accuracy \n",
       "          Min.   1st Qu.    Median      Mean   3rd Qu. Max. NA's\n",
       "1000 0.9347826 0.9777778 0.9782609 0.9759420 0.9782609    1    0\n",
       "1500 0.9347826 0.9777778 0.9782609 0.9759420 0.9782609    1    0\n",
       "2000 0.9347826 0.9777778 0.9780193 0.9752013 0.9782609    1    0\n",
       "2500 0.9347826 0.9777778 0.9782609 0.9752174 0.9782609    1    0\n",
       "\n",
       "Kappa \n",
       "          Min.   1st Qu.    Median      Mean  3rd Qu. Max. NA's\n",
       "1000 0.8547368 0.9521785 0.9527721 0.9479683 0.953271    1    0\n",
       "1500 0.8547368 0.9521785 0.9527721 0.9479683 0.953271    1    0\n",
       "2000 0.8547368 0.9521785 0.9527721 0.9463742 0.953271    1    0\n",
       "2500 0.8547368 0.9521785 0.9527721 0.9464333 0.953271    1    0\n"
      ]
     },
     "metadata": {},
     "output_type": "display_data"
    }
   ],
   "source": [
    "#Manual search by create 10 folds and repeat 3 times\n",
    "control <- trainControl(method = 'repeatedcv',\n",
    "                        number = 10,\n",
    "                        repeats = 3,\n",
    "                        search = 'grid')\n",
    "#create tunegrid\n",
    "tunegrid <- expand.grid(.mtry = c(1:15))  # #create tunegrid with 15 values from 1:15 for mtry to tunning model.\n",
    "modellist <- list()\n",
    "\n",
    "#train with different ntree parameters\n",
    "for (ntree in c(1000,1500,2000,2500)){\n",
    "  set.seed(123)\n",
    "  fit <- train(diagnosis~.,\n",
    "               data = training_set_rfe,\n",
    "               method = 'rf',\n",
    "               metric = 'Accuracy',\n",
    "               tuneGrid = tunegrid,\n",
    "               trControl = control,\n",
    "               ntree = ntree)\n",
    "  key <- toString(ntree)\n",
    "  modellist[[key]] <- fit\n",
    "}\n",
    "\n",
    "#Compare results\n",
    "results <- resamples(modellist)\n",
    "summary(results)"
   ]
  },
  {
   "cell_type": "code",
   "execution_count": 269,
   "id": "efcb0784",
   "metadata": {},
   "outputs": [
    {
     "data": {
      "image/png": "[encoded data removed]",
      "text/plain": [
       "plot without title"
      ]
     },
     "metadata": {
      "image/png": {
       "height": 540,
       "width": 540
      }
     },
     "output_type": "display_data"
    }
   ],
   "source": [
    "dotplot(results)"
   ]
  },
  {
   "cell_type": "markdown",
   "id": "50bb0b20",
   "metadata": {},
   "source": [
    "#### Our model have highest accuracy at ntree = 1000/1500 when accuracy =97.82%. It mean that we should keep ntree between 1000 and 1500 is best adapted values for tunning. "
   ]
  },
  {
   "cell_type": "code",
   "execution_count": null,
   "id": "690f0a57",
   "metadata": {},
   "outputs": [],
   "source": []
  },
  {
   "cell_type": "code",
   "execution_count": null,
   "id": "06e31027",
   "metadata": {},
   "outputs": [],
   "source": []
  },
  {
   "cell_type": "markdown",
   "id": "e25dd2f9",
   "metadata": {},
   "source": [
    "#### Reference:\n",
    "\n",
    "    https://www.r-bloggers.com/2017/01/feature-selection-in-machine-learning-breast-cancer-datasets/\n",
    "    https://www.r-bloggers.com/2018/06/code-for-workshop-introduction-to-machine-learning-with-r/\n",
    "    https://rpubs.com/jazzmine/breast-cancer-ml\n",
    "    https://rpubs.com/raviolli77/352956"
   ]
  }
 ],
 "metadata": {
  "kernelspec": {
   "display_name": "R",
   "language": "R",
   "name": "ir"
  },
  "language_info": {
   "codemirror_mode": "r",
   "file_extension": ".r",
   "mimetype": "text/x-r-source",
   "name": "R",
   "pygments_lexer": "r",
   "version": "4.3.2"
  }
 },
 "nbformat": 4,
 "nbformat_minor": 5
}
