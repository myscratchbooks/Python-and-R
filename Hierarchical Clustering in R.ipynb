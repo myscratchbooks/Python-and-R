{
 "cells": [
  {
   "cell_type": "markdown",
   "metadata": {},
   "source": [
    "# Solving the Wholesale Customer Segmentation problem using Hierarchical Agglomerative Clustering"
   ]
  },
  {
   "cell_type": "markdown",
   "metadata": {},
   "source": [
    "It contains 440 observations and 8 variable.\n",
    "\n",
    "Attribute Information:\n",
    "\n",
    "    1) FRESH: annual spending (m.u.) on fresh products (Continuous);\n",
    "    2) MILK: annual spending (m.u.) on milk products (Continuous);\n",
    "    3) GROCERY: annual spending (m.u.)on grocery products (Continuous);\n",
    "    4) FROZEN: annual spending (m.u.)on frozen products (Continuous)\n",
    "    5) DETERGENTS_PAPER: annual spending (m.u.) on detergents and paper products (Continuous)\n",
    "    6) DELICATESSEN: annual spending (m.u.)on and delicatessen products (Continuous);\n",
    "    7) CHANNEL: customers Channel - Horeca (Hotel/Restaurant/Cafe) or Retail channel (Nominal)\n",
    "    8) REGION: customers Region - Lisnon, Oporto or Other (Nominal) "
   ]
  },
  {
   "cell_type": "code",
   "execution_count": 62,
   "metadata": {},
   "outputs": [
    {
     "name": "stderr",
     "output_type": "stream",
     "text": [
      "inferring 'repos = NULL' from 'pkgs'\n"
     ]
    },
    {
     "name": "stdout",
     "output_type": "stream",
     "text": [
      "package 'foreign' successfully unpacked and MD5 sums checked\n"
     ]
    },
    {
     "data": {
      "text/plain": [
       "[1] '3.6.1'"
      ]
     },
     "metadata": {},
     "output_type": "display_data"
    }
   ],
   "source": [
    "defaultW <- getOption(\"warn\") \n",
    "options(warn = -1) \n",
    "\n",
    "\n",
    "#  install “package” if it doesn’t exist, and then load it.\n",
    "\n",
    "if (!require(tidyverse)) install.packages('tidyverse')   # data manipulation\n",
    "library(tidyverse)\n",
    "\n",
    "if (!require(ggplot2)) install.packages('ggplot2')\n",
    "library(ggplot2)\n",
    "\n",
    "if (!require(GGally)) install.packages('GGally')\n",
    "library(\"GGally\")\n",
    "\n",
    "# Cluster analysis\n",
    "if (!require(cluster)) install.packages('cluster') # clustering algorithms\n",
    "library(cluster)  \n",
    "# Evalute Clusters\n",
    "if (!require(factoextra)) install.packages('factoextra')  # clustering algorithms & visualization\n",
    "library(factoextra) \n",
    "\n",
    "if (!require(dendextend) ) install.packages('dendextend')\n",
    "library(dendextend)\n",
    "suppressPackageStartupMessages(library(dendextend))\n",
    "\n",
    "install.packages(\"https://cran.r-project.org/bin/windows/contrib/3.6/foreign_0.8-76.zip\")\n",
    "\n",
    "if (!require(reshape2) ) install.packages('reshape2')  # dcast(), melt()\n",
    "library(reshape2)\n",
    "\n",
    "#if (!require(quantable) ) install.packages('quantable')  # robustscale()\n",
    "#library(quantable)  \n",
    "package_version(R.version)"
   ]
  },
  {
   "cell_type": "code",
   "execution_count": 63,
   "metadata": {},
   "outputs": [],
   "source": [
    "rawdata <- read.csv(\"https://archive.ics.uci.edu/ml/machine-learning-databases/00292/Wholesale%20customers%20data.csv\",header=TRUE, sep=\",\", as.is=TRUE)"
   ]
  },
  {
   "cell_type": "code",
   "execution_count": 64,
   "metadata": {
    "scrolled": true
   },
   "outputs": [
    {
     "data": {
      "text/html": [
       "<table>\n",
       "<thead><tr><th scope=col>Channel</th><th scope=col>Region</th><th scope=col>Fresh</th><th scope=col>Milk</th><th scope=col>Grocery</th><th scope=col>Frozen</th><th scope=col>Detergents_Paper</th><th scope=col>Delicassen</th></tr></thead>\n",
       "<tbody>\n",
       "\t<tr><td>2    </td><td>3    </td><td>12669</td><td>9656 </td><td>7561 </td><td> 214 </td><td>2674 </td><td>1338 </td></tr>\n",
       "\t<tr><td>2    </td><td>3    </td><td> 7057</td><td>9810 </td><td>9568 </td><td>1762 </td><td>3293 </td><td>1776 </td></tr>\n",
       "\t<tr><td>2    </td><td>3    </td><td> 6353</td><td>8808 </td><td>7684 </td><td>2405 </td><td>3516 </td><td>7844 </td></tr>\n",
       "\t<tr><td>1    </td><td>3    </td><td>13265</td><td>1196 </td><td>4221 </td><td>6404 </td><td> 507 </td><td>1788 </td></tr>\n",
       "\t<tr><td>2    </td><td>3    </td><td>22615</td><td>5410 </td><td>7198 </td><td>3915 </td><td>1777 </td><td>5185 </td></tr>\n",
       "\t<tr><td>2    </td><td>3    </td><td> 9413</td><td>8259 </td><td>5126 </td><td> 666 </td><td>1795 </td><td>1451 </td></tr>\n",
       "</tbody>\n",
       "</table>\n"
      ],
      "text/latex": [
       "\\begin{tabular}{r|llllllll}\n",
       " Channel & Region & Fresh & Milk & Grocery & Frozen & Detergents\\_Paper & Delicassen\\\\\n",
       "\\hline\n",
       "\t 2     & 3     & 12669 & 9656  & 7561  &  214  & 2674  & 1338 \\\\\n",
       "\t 2     & 3     &  7057 & 9810  & 9568  & 1762  & 3293  & 1776 \\\\\n",
       "\t 2     & 3     &  6353 & 8808  & 7684  & 2405  & 3516  & 7844 \\\\\n",
       "\t 1     & 3     & 13265 & 1196  & 4221  & 6404  &  507  & 1788 \\\\\n",
       "\t 2     & 3     & 22615 & 5410  & 7198  & 3915  & 1777  & 5185 \\\\\n",
       "\t 2     & 3     &  9413 & 8259  & 5126  &  666  & 1795  & 1451 \\\\\n",
       "\\end{tabular}\n"
      ],
      "text/markdown": [
       "\n",
       "| Channel | Region | Fresh | Milk | Grocery | Frozen | Detergents_Paper | Delicassen |\n",
       "|---|---|---|---|---|---|---|---|\n",
       "| 2     | 3     | 12669 | 9656  | 7561  |  214  | 2674  | 1338  |\n",
       "| 2     | 3     |  7057 | 9810  | 9568  | 1762  | 3293  | 1776  |\n",
       "| 2     | 3     |  6353 | 8808  | 7684  | 2405  | 3516  | 7844  |\n",
       "| 1     | 3     | 13265 | 1196  | 4221  | 6404  |  507  | 1788  |\n",
       "| 2     | 3     | 22615 | 5410  | 7198  | 3915  | 1777  | 5185  |\n",
       "| 2     | 3     |  9413 | 8259  | 5126  |  666  | 1795  | 1451  |\n",
       "\n"
      ],
      "text/plain": [
       "  Channel Region Fresh Milk Grocery Frozen Detergents_Paper Delicassen\n",
       "1 2       3      12669 9656 7561     214   2674             1338      \n",
       "2 2       3       7057 9810 9568    1762   3293             1776      \n",
       "3 2       3       6353 8808 7684    2405   3516             7844      \n",
       "4 1       3      13265 1196 4221    6404    507             1788      \n",
       "5 2       3      22615 5410 7198    3915   1777             5185      \n",
       "6 2       3       9413 8259 5126     666   1795             1451      "
      ]
     },
     "metadata": {},
     "output_type": "display_data"
    }
   ],
   "source": [
    "rawdata %>% \n",
    "    as_tibble() %>%\n",
    "    head()"
   ]
  },
  {
   "cell_type": "code",
   "execution_count": 65,
   "metadata": {},
   "outputs": [
    {
     "name": "stdout",
     "output_type": "stream",
     "text": [
      "'data.frame':\t440 obs. of  8 variables:\n",
      " $ Channel         : int  2 2 2 1 2 2 2 2 1 2 ...\n",
      " $ Region          : int  3 3 3 3 3 3 3 3 3 3 ...\n",
      " $ Fresh           : int  12669 7057 6353 13265 22615 9413 12126 7579 5963 6006 ...\n",
      " $ Milk            : int  9656 9810 8808 1196 5410 8259 3199 4956 3648 11093 ...\n",
      " $ Grocery         : int  7561 9568 7684 4221 7198 5126 6975 9426 6192 18881 ...\n",
      " $ Frozen          : int  214 1762 2405 6404 3915 666 480 1669 425 1159 ...\n",
      " $ Detergents_Paper: int  2674 3293 3516 507 1777 1795 3140 3321 1716 7425 ...\n",
      " $ Delicassen      : int  1338 1776 7844 1788 5185 1451 545 2566 750 2098 ...\n"
     ]
    }
   ],
   "source": [
    "rawdata %>% str()"
   ]
  },
  {
   "cell_type": "code",
   "execution_count": 66,
   "metadata": {},
   "outputs": [
    {
     "data": {
      "text/plain": [
       "    Channel          Region          Fresh             Milk      \n",
       " Min.   :1.000   Min.   :1.000   Min.   :     3   Min.   :   55  \n",
       " 1st Qu.:1.000   1st Qu.:2.000   1st Qu.:  3128   1st Qu.: 1533  \n",
       " Median :1.000   Median :3.000   Median :  8504   Median : 3627  \n",
       " Mean   :1.323   Mean   :2.543   Mean   : 12000   Mean   : 5796  \n",
       " 3rd Qu.:2.000   3rd Qu.:3.000   3rd Qu.: 16934   3rd Qu.: 7190  \n",
       " Max.   :2.000   Max.   :3.000   Max.   :112151   Max.   :73498  \n",
       "    Grocery          Frozen        Detergents_Paper    Delicassen     \n",
       " Min.   :    3   Min.   :   25.0   Min.   :    3.0   Min.   :    3.0  \n",
       " 1st Qu.: 2153   1st Qu.:  742.2   1st Qu.:  256.8   1st Qu.:  408.2  \n",
       " Median : 4756   Median : 1526.0   Median :  816.5   Median :  965.5  \n",
       " Mean   : 7951   Mean   : 3071.9   Mean   : 2881.5   Mean   : 1524.9  \n",
       " 3rd Qu.:10656   3rd Qu.: 3554.2   3rd Qu.: 3922.0   3rd Qu.: 1820.2  \n",
       " Max.   :92780   Max.   :60869.0   Max.   :40827.0   Max.   :47943.0  "
      ]
     },
     "metadata": {},
     "output_type": "display_data"
    }
   ],
   "source": [
    "rawdata %>% summary()"
   ]
  },
  {
   "cell_type": "markdown",
   "metadata": {},
   "source": [
    "### Display data"
   ]
  },
  {
   "cell_type": "code",
   "execution_count": 67,
   "metadata": {
    "scrolled": true
   },
   "outputs": [
    {
     "data": {
      "image/png": "[encoded data removed]",
      "text/plain": [
       "plot without title"
      ]
     },
     "metadata": {},
     "output_type": "display_data"
    }
   ],
   "source": [
    "# remove  nominal data columns\n",
    "df <- rawdata %>%\n",
    "     dplyr::select(-Channel,-Region)  \n",
    "\n",
    "# plot corr matrix\n",
    "df %>% \n",
    "     ggpairs()  + \n",
    "     theme_bw()"
   ]
  },
  {
   "cell_type": "markdown",
   "metadata": {},
   "source": [
    "Strong correlation is found in — Grocery & Detergents_Paper — 0.92, Milk & Detergents_Paper — 0.66 and Milk & Grocery — 0.73"
   ]
  },
  {
   "cell_type": "code",
   "execution_count": 68,
   "metadata": {
    "scrolled": true
   },
   "outputs": [
    {
     "data": {
      "image/png": "[encoded data removed]",
      "text/plain": [
       "plot without title"
      ]
     },
     "metadata": {},
     "output_type": "display_data"
    }
   ],
   "source": [
    "options(repr.plot.width=6, repr.plot.height=8, fig.align=\"center\")\n",
    "df %>% \n",
    " boxplot( #las = 1,  # controls the orientation of the axis labels (1=horizontal) \n",
    "         horizontal = TRUE,\n",
    "         notch = TRUE,  # if notches do not overlap ~ 95% confidence that medians are different \n",
    "         col = rainbow(3, s = 0.5)\n",
    "            \n",
    "       #  ,cex.lab=0.3          # controls the font size of the axis labels  \n",
    "  )"
   ]
  },
  {
   "cell_type": "code",
   "execution_count": 69,
   "metadata": {},
   "outputs": [],
   "source": [
    "# Normalize the data\n",
    "X_df <- df %>%   \n",
    "    apply(1,function(x){(x-min(x)) / diff(range(x))}) %>% t  # t for transpose\n",
    "\n",
    "# Calculate clusters\n",
    "hc <- X_df %>% \n",
    "    dist(method = \"euclidean\") %>% # Computr distance/dissimilary matrix\n",
    "    hclust(method = \"complete\")   # Compute hierarchial clusters"
   ]
  },
  {
   "cell_type": "code",
   "execution_count": 70,
   "metadata": {
    "scrolled": false
   },
   "outputs": [
    {
     "data": {
      "image/png": "[encoded data removed]",
      "text/plain": [
       "Plot with title \"Cluster Dendrogram\""
      ]
     },
     "metadata": {},
     "output_type": "display_data"
    }
   ],
   "source": [
    "# Plot the obtained dendrogram\n",
    "\n",
    "hc %>% plot(\n",
    "    hang=-1, # line up names at bottom\n",
    "    cex=0.6) # Make font smaller"
   ]
  },
  {
   "cell_type": "code",
   "execution_count": 71,
   "metadata": {},
   "outputs": [
    {
     "data": {
      "image/png": "[encoded data removed]",
      "text/plain": [
       "plot without title"
      ]
     },
     "metadata": {},
     "output_type": "display_data"
    }
   ],
   "source": [
    "X_df %>%\n",
    "    fviz_nbclust(FUN = hcut, method = \"silhouette\")"
   ]
  },
  {
   "cell_type": "markdown",
   "metadata": {},
   "source": [
    "with the agnes function you can also get the agglomerative coefficient, which measures the amount of clustering structure found (values closer to 1 suggest strong clustering structure).  https://uc-r.github.io/hc_clustering"
   ]
  },
  {
   "cell_type": "code",
   "execution_count": 72,
   "metadata": {},
   "outputs": [
    {
     "data": {
      "text/html": [
       "0.921346262180075"
      ],
      "text/latex": [
       "0.921346262180075"
      ],
      "text/markdown": [
       "0.921346262180075"
      ],
      "text/plain": [
       "[1] 0.9213463"
      ]
     },
     "metadata": {},
     "output_type": "display_data"
    }
   ],
   "source": [
    "# Compute with agnes\n",
    "hc2 <- agnes(X_df, method = \"complete\")\n",
    "\n",
    "# Agglomerative coefficient\n",
    "hc2$ac"
   ]
  },
  {
   "cell_type": "code",
   "execution_count": 73,
   "metadata": {},
   "outputs": [
    {
     "data": {
      "text/html": [
       "<dl class=dl-horizontal>\n",
       "\t<dt>average</dt>\n",
       "\t\t<dd>0.883471950204976</dd>\n",
       "\t<dt>single</dt>\n",
       "\t\t<dd>0.865447133027832</dd>\n",
       "\t<dt>complete</dt>\n",
       "\t\t<dd>0.921346262180075</dd>\n",
       "\t<dt>ward.D2</dt>\n",
       "\t\t<dd>0.989753546558918</dd>\n",
       "</dl>\n"
      ],
      "text/latex": [
       "\\begin{description*}\n",
       "\\item[average] 0.883471950204976\n",
       "\\item[single] 0.865447133027832\n",
       "\\item[complete] 0.921346262180075\n",
       "\\item[ward.D2] 0.989753546558918\n",
       "\\end{description*}\n"
      ],
      "text/markdown": [
       "average\n",
       ":   0.883471950204976single\n",
       ":   0.865447133027832complete\n",
       ":   0.921346262180075ward.D2\n",
       ":   0.989753546558918\n",
       "\n"
      ],
      "text/plain": [
       "  average    single  complete   ward.D2 \n",
       "0.8834720 0.8654471 0.9213463 0.9897535 "
      ]
     },
     "metadata": {},
     "output_type": "display_data"
    }
   ],
   "source": [
    "# https://uc-r.github.io/hc_clustering\n",
    "# This allows us to find certain hierarchical clustering methods that can identify stronger clustering structures.\n",
    "\n",
    "# methods to assess\n",
    "m <- c( \"average\", \"single\", \"complete\", \"ward\")\n",
    "names(m) <- c( \"average\", \"single\", \"complete\", \"ward.D2\")\n",
    "\n",
    "# function to compute coefficient\n",
    "ac <- function(x) {\n",
    "  agnes(X_df, method = x)$ac\n",
    "}\n",
    "\n",
    "\n",
    "map_dbl(m, ac)"
   ]
  },
  {
   "cell_type": "code",
   "execution_count": 74,
   "metadata": {
    "scrolled": false
   },
   "outputs": [
    {
     "data": {
      "image/png": "[encoded data removed]",
      "text/plain": [
       "Plot with title \"Cluster Dendrogram\""
      ]
     },
     "metadata": {},
     "output_type": "display_data"
    }
   ],
   "source": [
    "# using ward.D2 method\n",
    "hc <- X_df %>%\n",
    "    dist %>%\n",
    "    hclust(method = 'ward.D2')%>% \n",
    "    plot(hang=-1,cex=0.6) %>%\n",
    "    abline(h = 6, col = 'red')   # 3 clusters at h=6"
   ]
  },
  {
   "cell_type": "code",
   "execution_count": 75,
   "metadata": {},
   "outputs": [
    {
     "data": {
      "image/png": "[encoded data removed]",
      "text/plain": [
       "plot without title"
      ]
     },
     "metadata": {},
     "output_type": "display_data"
    }
   ],
   "source": [
    "# Silhouette menthod\n",
    "X_df %>% \n",
    "    factoextra::fviz_nbclust(\n",
    "        FUN = hcut,\n",
    "        method=\"silhouette\" # Look for maxiumn width\n",
    "    )"
   ]
  },
  {
   "cell_type": "markdown",
   "metadata": {},
   "source": [
    "### There are 3 clusters enclosed in 3 different colored boxes. You can also use the color_branches() function from the dendextend library to visualize your tree with different colored branches."
   ]
  },
  {
   "cell_type": "code",
   "execution_count": 76,
   "metadata": {
    "scrolled": true
   },
   "outputs": [
    {
     "data": {
      "image/png": "[encoded data removed]",
      "text/plain": [
       "plot without title"
      ]
     },
     "metadata": {},
     "output_type": "display_data"
    }
   ],
   "source": [
    "\n",
    "hc <- X_df %>%\n",
    "    dist %>%\n",
    "    hclust(method = 'ward.D2')%>% \n",
    "    as.dendrogram() %>%\n",
    "    color_branches(h=3) %>%\n",
    "    plot()"
   ]
  },
  {
   "cell_type": "markdown",
   "metadata": {},
   "source": [
    "### Fitting new data points into existing clusters"
   ]
  },
  {
   "cell_type": "code",
   "execution_count": 77,
   "metadata": {},
   "outputs": [
    {
     "data": {
      "text/plain": [
       "sub_grp\n",
       "  1   2   3 \n",
       "181  83 176 "
      ]
     },
     "metadata": {},
     "output_type": "display_data"
    }
   ],
   "source": [
    "# Ward's method\n",
    "hc5 <- X_df %>%\n",
    "    dist %>%\n",
    "    hclust(method = \"ward.D2\" )\n",
    "\n",
    "# Cut tree into 3 groups\n",
    "sub_grp <- cutree(hc5, k = 3)\n",
    "\n",
    "# Number of members in each cluster\n",
    "table(sub_grp)\n"
   ]
  },
  {
   "cell_type": "code",
   "execution_count": 78,
   "metadata": {
    "scrolled": true
   },
   "outputs": [
    {
     "data": {
      "text/html": [
       "<table>\n",
       "<thead><tr><th scope=col>Channel</th><th scope=col>Region</th><th scope=col>Fresh</th><th scope=col>Milk</th><th scope=col>Grocery</th><th scope=col>Frozen</th><th scope=col>Detergents_Paper</th><th scope=col>Delicassen</th><th scope=col>cluster</th></tr></thead>\n",
       "<tbody>\n",
       "\t<tr><td>2    </td><td>3    </td><td>12669</td><td>9656 </td><td>7561 </td><td> 214 </td><td>2674 </td><td>1338 </td><td>1    </td></tr>\n",
       "\t<tr><td>2    </td><td>3    </td><td> 7057</td><td>9810 </td><td>9568 </td><td>1762 </td><td>3293 </td><td>1776 </td><td>1    </td></tr>\n",
       "\t<tr><td>2    </td><td>3    </td><td> 6353</td><td>8808 </td><td>7684 </td><td>2405 </td><td>3516 </td><td>7844 </td><td>1    </td></tr>\n",
       "\t<tr><td>1    </td><td>3    </td><td>13265</td><td>1196 </td><td>4221 </td><td>6404 </td><td> 507 </td><td>1788 </td><td>2    </td></tr>\n",
       "\t<tr><td>2    </td><td>3    </td><td>22615</td><td>5410 </td><td>7198 </td><td>3915 </td><td>1777 </td><td>5185 </td><td>3    </td></tr>\n",
       "\t<tr><td>2    </td><td>3    </td><td> 9413</td><td>8259 </td><td>5126 </td><td> 666 </td><td>1795 </td><td>1451 </td><td>1    </td></tr>\n",
       "</tbody>\n",
       "</table>\n"
      ],
      "text/latex": [
       "\\begin{tabular}{r|lllllllll}\n",
       " Channel & Region & Fresh & Milk & Grocery & Frozen & Detergents\\_Paper & Delicassen & cluster\\\\\n",
       "\\hline\n",
       "\t 2     & 3     & 12669 & 9656  & 7561  &  214  & 2674  & 1338  & 1    \\\\\n",
       "\t 2     & 3     &  7057 & 9810  & 9568  & 1762  & 3293  & 1776  & 1    \\\\\n",
       "\t 2     & 3     &  6353 & 8808  & 7684  & 2405  & 3516  & 7844  & 1    \\\\\n",
       "\t 1     & 3     & 13265 & 1196  & 4221  & 6404  &  507  & 1788  & 2    \\\\\n",
       "\t 2     & 3     & 22615 & 5410  & 7198  & 3915  & 1777  & 5185  & 3    \\\\\n",
       "\t 2     & 3     &  9413 & 8259  & 5126  &  666  & 1795  & 1451  & 1    \\\\\n",
       "\\end{tabular}\n"
      ],
      "text/markdown": [
       "\n",
       "| Channel | Region | Fresh | Milk | Grocery | Frozen | Detergents_Paper | Delicassen | cluster |\n",
       "|---|---|---|---|---|---|---|---|---|\n",
       "| 2     | 3     | 12669 | 9656  | 7561  |  214  | 2674  | 1338  | 1     |\n",
       "| 2     | 3     |  7057 | 9810  | 9568  | 1762  | 3293  | 1776  | 1     |\n",
       "| 2     | 3     |  6353 | 8808  | 7684  | 2405  | 3516  | 7844  | 1     |\n",
       "| 1     | 3     | 13265 | 1196  | 4221  | 6404  |  507  | 1788  | 2     |\n",
       "| 2     | 3     | 22615 | 5410  | 7198  | 3915  | 1777  | 5185  | 3     |\n",
       "| 2     | 3     |  9413 | 8259  | 5126  |  666  | 1795  | 1451  | 1     |\n",
       "\n"
      ],
      "text/plain": [
       "  Channel Region Fresh Milk Grocery Frozen Detergents_Paper Delicassen cluster\n",
       "1 2       3      12669 9656 7561     214   2674             1338       1      \n",
       "2 2       3       7057 9810 9568    1762   3293             1776       1      \n",
       "3 2       3       6353 8808 7684    2405   3516             7844       1      \n",
       "4 1       3      13265 1196 4221    6404    507             1788       2      \n",
       "5 2       3      22615 5410 7198    3915   1777             5185       3      \n",
       "6 2       3       9413 8259 5126     666   1795             1451       1      "
      ]
     },
     "metadata": {},
     "output_type": "display_data"
    }
   ],
   "source": [
    "df_hc <- rawdata %>% \n",
    "    mutate(cluster = sub_grp) #%>%\n",
    "head(df_hc)"
   ]
  },
  {
   "cell_type": "code",
   "execution_count": 79,
   "metadata": {},
   "outputs": [
    {
     "name": "stderr",
     "output_type": "stream",
     "text": [
      "`summarise()` has grouped output by 'cluster'. You can override using the `.groups` argument.\n",
      "Using n() as value column: use value.var to override.\n"
     ]
    },
    {
     "data": {
      "text/html": [
       "<table>\n",
       "<thead><tr><th scope=col>cluster</th><th scope=col>1</th><th scope=col>2</th></tr></thead>\n",
       "<tbody>\n",
       "\t<tr><td>1  </td><td> 69</td><td>112</td></tr>\n",
       "\t<tr><td>2  </td><td> 79</td><td>  4</td></tr>\n",
       "\t<tr><td>3  </td><td>150</td><td> 26</td></tr>\n",
       "</tbody>\n",
       "</table>\n"
      ],
      "text/latex": [
       "\\begin{tabular}{r|lll}\n",
       " cluster & 1 & 2\\\\\n",
       "\\hline\n",
       "\t 1   &  69 & 112\\\\\n",
       "\t 2   &  79 &   4\\\\\n",
       "\t 3   & 150 &  26\\\\\n",
       "\\end{tabular}\n"
      ],
      "text/markdown": [
       "\n",
       "| cluster | 1 | 2 |\n",
       "|---|---|---|\n",
       "| 1   |  69 | 112 |\n",
       "| 2   |  79 |   4 |\n",
       "| 3   | 150 |  26 |\n",
       "\n"
      ],
      "text/plain": [
       "  cluster 1   2  \n",
       "1 1        69 112\n",
       "2 2        79   4\n",
       "3 3       150  26"
      ]
     },
     "metadata": {},
     "output_type": "display_data"
    }
   ],
   "source": [
    "df_hc %>%\n",
    "    group_by(cluster, Channel)  %>% \n",
    "    summarize(n()) %>%  \n",
    "    dcast(cluster ~ Channel) "
   ]
  },
  {
   "cell_type": "markdown",
   "metadata": {},
   "source": [
    "Cluster 1 : High Milk, Grocery,Detergents_Paper\n",
    "Cluster 2 : High Fresh, Forzen, Deli\n",
    "Cluster 3 : Low Spenders\n",
    "\n",
    "https://medium.com/@divya.ganjoo/cluster-analysis-1b0bf834af7f"
   ]
  }
 ],
 "metadata": {
  "kernelspec": {
   "display_name": "R",
   "language": "R",
   "name": "ir"
  },
  "language_info": {
   "codemirror_mode": "r",
   "file_extension": ".r",
   "mimetype": "text/x-r-source",
   "name": "R",
   "pygments_lexer": "r",
   "version": "3.6.1"
  }
 },
 "nbformat": 4,
 "nbformat_minor": 4
}
