{
 "cells": [
  {
   "cell_type": "markdown",
   "id": "dramatic-ethiopia",
   "metadata": {},
   "source": [
    "# Binary Classification using Keras in R"
   ]
  },
  {
   "cell_type": "markdown",
   "id": "economic-pearl",
   "metadata": {},
   "source": [
    "### Kyphosis is a medical condition that causes a forward curving of the back"
   ]
  },
  {
   "cell_type": "code",
   "execution_count": 1,
   "id": "bigger-shock",
   "metadata": {},
   "outputs": [
    {
     "name": "stderr",
     "output_type": "stream",
     "text": [
      "Loading required package: tidyverse\n",
      "Registered S3 methods overwritten by 'ggplot2':\n",
      "  method         from \n",
      "  [.quosures     rlang\n",
      "  c.quosures     rlang\n",
      "  print.quosures rlang\n",
      "Registered S3 method overwritten by 'rvest':\n",
      "  method            from\n",
      "  read_xml.response xml2\n",
      "-- Attaching packages --------------------------------------- tidyverse 1.2.1 --\n",
      "v ggplot2 3.1.1       v purrr   0.3.2  \n",
      "v tibble  2.1.1       v dplyr   0.8.0.1\n",
      "v tidyr   0.8.3       v stringr 1.4.0  \n",
      "v readr   1.3.1       v forcats 0.4.0  \n",
      "-- Conflicts ------------------------------------------ tidyverse_conflicts() --\n",
      "x dplyr::filter() masks stats::filter()\n",
      "x dplyr::lag()    masks stats::lag()\n",
      "Loading required package: keras\n",
      "Warning message in library(package, lib.loc = lib.loc, character.only = TRUE, logical.return = TRUE, :\n",
      "\"there is no package called 'keras'\"also installing the dependencies 'rappdirs', 'config', 'reticulate', 'tensorflow', 'tfruns', 'zeallot'\n",
      "\n"
     ]
    },
    {
     "name": "stdout",
     "output_type": "stream",
     "text": [
      "package 'rappdirs' successfully unpacked and MD5 sums checked\n",
      "package 'config' successfully unpacked and MD5 sums checked\n",
      "package 'reticulate' successfully unpacked and MD5 sums checked\n",
      "package 'tensorflow' successfully unpacked and MD5 sums checked\n",
      "package 'tfruns' successfully unpacked and MD5 sums checked\n",
      "package 'zeallot' successfully unpacked and MD5 sums checked\n",
      "package 'keras' successfully unpacked and MD5 sums checked\n",
      "\n",
      "The downloaded binary packages are in\n",
      "\tC:\\Users\\Unknown\\AppData\\Local\\Temp\\RtmpAfqPd1\\downloaded_packages\n"
     ]
    },
    {
     "name": "stderr",
     "output_type": "stream",
     "text": [
      "Warning message:\n",
      "\"package 'keras' was built under R version 3.6.3\""
     ]
    }
   ],
   "source": [
    "#  install “package” if it doesn’t exist, and then load it.\n",
    "\n",
    "if (!require(tidyverse)) install.packages('tidyverse')\n",
    "library(tidyverse)\n",
    "\n",
    "if (!require(keras)) install.packages('keras')\n",
    "library(keras)"
   ]
  },
  {
   "cell_type": "code",
   "execution_count": null,
   "id": "portuguese-equilibrium",
   "metadata": {},
   "outputs": [],
   "source": [
    "### Load Data"
   ]
  },
  {
   "cell_type": "code",
   "execution_count": 5,
   "id": "twelve-negotiation",
   "metadata": {},
   "outputs": [],
   "source": [
    "ky <- read.csv(\"https://raw.githubusercontent.com/vincentarelbundock/Rdatasets/master/csv/rpart/kyphosis.csv\",header=TRUE, sep=\",\", as.is=TRUE)"
   ]
  },
  {
   "cell_type": "code",
   "execution_count": 6,
   "id": "widespread-prospect",
   "metadata": {},
   "outputs": [
    {
     "data": {
      "text/html": [
       "<table>\n",
       "<thead><tr><th scope=col>X</th><th scope=col>Kyphosis</th><th scope=col>Age</th><th scope=col>Number</th><th scope=col>Start</th></tr></thead>\n",
       "<tbody>\n",
       "\t<tr><td>1      </td><td>absent </td><td> 71    </td><td>3      </td><td> 5     </td></tr>\n",
       "\t<tr><td>2      </td><td>absent </td><td>158    </td><td>3      </td><td>14     </td></tr>\n",
       "\t<tr><td>3      </td><td>present</td><td>128    </td><td>4      </td><td> 5     </td></tr>\n",
       "\t<tr><td>4      </td><td>absent </td><td>  2    </td><td>5      </td><td> 1     </td></tr>\n",
       "\t<tr><td>5      </td><td>absent </td><td>  1    </td><td>4      </td><td>15     </td></tr>\n",
       "\t<tr><td>6      </td><td>absent </td><td>  1    </td><td>2      </td><td>16     </td></tr>\n",
       "</tbody>\n",
       "</table>\n"
      ],
      "text/latex": [
       "\\begin{tabular}{r|lllll}\n",
       " X & Kyphosis & Age & Number & Start\\\\\n",
       "\\hline\n",
       "\t 1       & absent  &  71     & 3       &  5     \\\\\n",
       "\t 2       & absent  & 158     & 3       & 14     \\\\\n",
       "\t 3       & present & 128     & 4       &  5     \\\\\n",
       "\t 4       & absent  &   2     & 5       &  1     \\\\\n",
       "\t 5       & absent  &   1     & 4       & 15     \\\\\n",
       "\t 6       & absent  &   1     & 2       & 16     \\\\\n",
       "\\end{tabular}\n"
      ],
      "text/markdown": [
       "\n",
       "| X | Kyphosis | Age | Number | Start |\n",
       "|---|---|---|---|---|\n",
       "| 1       | absent  |  71     | 3       |  5      |\n",
       "| 2       | absent  | 158     | 3       | 14      |\n",
       "| 3       | present | 128     | 4       |  5      |\n",
       "| 4       | absent  |   2     | 5       |  1      |\n",
       "| 5       | absent  |   1     | 4       | 15      |\n",
       "| 6       | absent  |   1     | 2       | 16      |\n",
       "\n"
      ],
      "text/plain": [
       "  X Kyphosis Age Number Start\n",
       "1 1 absent    71 3       5   \n",
       "2 2 absent   158 3      14   \n",
       "3 3 present  128 4       5   \n",
       "4 4 absent     2 5       1   \n",
       "5 5 absent     1 4      15   \n",
       "6 6 absent     1 2      16   "
      ]
     },
     "metadata": {},
     "output_type": "display_data"
    }
   ],
   "source": [
    "head(ky)"
   ]
  },
  {
   "cell_type": "markdown",
   "id": "occasional-static",
   "metadata": {},
   "source": [
    "### Convert the Kyphosis column into zeros and ones since the machine learning model will only accept numerical figures"
   ]
  },
  {
   "cell_type": "code",
   "execution_count": 7,
   "id": "overhead-flavor",
   "metadata": {},
   "outputs": [
    {
     "name": "stderr",
     "output_type": "stream",
     "text": [
      "Loading required package: fastDummies\n",
      "Warning message in library(package, lib.loc = lib.loc, character.only = TRUE, logical.return = TRUE, :\n",
      "\"there is no package called 'fastDummies'\""
     ]
    },
    {
     "name": "stdout",
     "output_type": "stream",
     "text": [
      "package 'fastDummies' successfully unpacked and MD5 sums checked\n",
      "\n",
      "The downloaded binary packages are in\n",
      "\tC:\\Users\\Unknown\\AppData\\Local\\Temp\\RtmpAfqPd1\\downloaded_packages\n"
     ]
    },
    {
     "name": "stderr",
     "output_type": "stream",
     "text": [
      "Warning message:\n",
      "\"package 'fastDummies' was built under R version 3.6.3\""
     ]
    },
    {
     "data": {
      "text/html": [
       "<table>\n",
       "<thead><tr><th scope=col>X</th><th scope=col>Kyphosis</th><th scope=col>Age</th><th scope=col>Number</th><th scope=col>Start</th><th scope=col>Kyphosis_present</th></tr></thead>\n",
       "<tbody>\n",
       "\t<tr><td>1      </td><td>absent </td><td> 71    </td><td>3      </td><td> 5     </td><td>0      </td></tr>\n",
       "\t<tr><td>2      </td><td>absent </td><td>158    </td><td>3      </td><td>14     </td><td>0      </td></tr>\n",
       "\t<tr><td>3      </td><td>present</td><td>128    </td><td>4      </td><td> 5     </td><td>1      </td></tr>\n",
       "\t<tr><td>4      </td><td>absent </td><td>  2    </td><td>5      </td><td> 1     </td><td>0      </td></tr>\n",
       "\t<tr><td>5      </td><td>absent </td><td>  1    </td><td>4      </td><td>15     </td><td>0      </td></tr>\n",
       "\t<tr><td>6      </td><td>absent </td><td>  1    </td><td>2      </td><td>16     </td><td>0      </td></tr>\n",
       "</tbody>\n",
       "</table>\n"
      ],
      "text/latex": [
       "\\begin{tabular}{r|llllll}\n",
       " X & Kyphosis & Age & Number & Start & Kyphosis\\_present\\\\\n",
       "\\hline\n",
       "\t 1       & absent  &  71     & 3       &  5      & 0      \\\\\n",
       "\t 2       & absent  & 158     & 3       & 14      & 0      \\\\\n",
       "\t 3       & present & 128     & 4       &  5      & 1      \\\\\n",
       "\t 4       & absent  &   2     & 5       &  1      & 0      \\\\\n",
       "\t 5       & absent  &   1     & 4       & 15      & 0      \\\\\n",
       "\t 6       & absent  &   1     & 2       & 16      & 0      \\\\\n",
       "\\end{tabular}\n"
      ],
      "text/markdown": [
       "\n",
       "| X | Kyphosis | Age | Number | Start | Kyphosis_present |\n",
       "|---|---|---|---|---|---|\n",
       "| 1       | absent  |  71     | 3       |  5      | 0       |\n",
       "| 2       | absent  | 158     | 3       | 14      | 0       |\n",
       "| 3       | present | 128     | 4       |  5      | 1       |\n",
       "| 4       | absent  |   2     | 5       |  1      | 0       |\n",
       "| 5       | absent  |   1     | 4       | 15      | 0       |\n",
       "| 6       | absent  |   1     | 2       | 16      | 0       |\n",
       "\n"
      ],
      "text/plain": [
       "  X Kyphosis Age Number Start Kyphosis_present\n",
       "1 1 absent    71 3       5    0               \n",
       "2 2 absent   158 3      14    0               \n",
       "3 3 present  128 4       5    1               \n",
       "4 4 absent     2 5       1    0               \n",
       "5 5 absent     1 4      15    0               \n",
       "6 6 absent     1 2      16    0               "
      ]
     },
     "metadata": {},
     "output_type": "display_data"
    }
   ],
   "source": [
    "if (!require(fastDummies)) install.packages('fastDummies')\n",
    "library(fastDummies)\n",
    "\n",
    "dummy_data <- fastDummies::dummy_cols(ky,remove_first_dummy = TRUE)\n",
    "\n",
    "head(dummy_data) "
   ]
  },
  {
   "cell_type": "code",
   "execution_count": null,
   "id": "distinguished-closure",
   "metadata": {},
   "outputs": [],
   "source": []
  }
 ],
 "metadata": {
  "kernelspec": {
   "display_name": "R",
   "language": "R",
   "name": "ir"
  },
  "language_info": {
   "codemirror_mode": "r",
   "file_extension": ".r",
   "mimetype": "text/x-r-source",
   "name": "R",
   "pygments_lexer": "r",
   "version": "3.6.1"
  }
 },
 "nbformat": 4,
 "nbformat_minor": 5
}
