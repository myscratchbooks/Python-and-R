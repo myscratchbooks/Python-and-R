{
 "cells": [
  {
   "cell_type": "markdown",
   "id": "29c8cfa8",
   "metadata": {},
   "source": [
    "# Predict Stock Fund Price Using Tensoflow LSTM (Long-Short-Term-Memory)"
   ]
  },
  {
   "cell_type": "code",
   "execution_count": 88,
   "id": "07288eca",
   "metadata": {},
   "outputs": [],
   "source": [
    "import sys\n",
    "import warnings\n",
    "\n",
    "if not sys.warnoptions:\n",
    "    warnings.simplefilter('ignore')"
   ]
  },
  {
   "cell_type": "code",
   "execution_count": 91,
   "id": "19acabef",
   "metadata": {
    "scrolled": true
   },
   "outputs": [],
   "source": [
    "#Data Manipulation and Treatment\n",
    "import numpy as np\n",
    "import pandas as pd\n",
    "from datetime import date, datetime, timedelta\n",
    "import itertools\n",
    "import math\n",
    "from timeit import default_timer as timer\n",
    "\n",
    "\n",
    "#Plotting and Visualizations\n",
    "import matplotlib.pyplot as plt\n",
    "%matplotlib inline\n",
    "import seaborn as sns\n",
    "sns.set()\n",
    "\n",
    "from sklearn.preprocessing import MinMaxScaler, StandardScaler\n",
    "from sklearn.metrics import mean_squared_error, mean_absolute_percentage_error, root_mean_squared_error, mean_absolute_error, r2_score\n",
    "\n",
    "#!pip install tensorflow --quiet\n",
    "import tensorflow as tf\n",
    "import keras\n",
    "\n",
    "# !pip install keras --quiet\n",
    "from tensorflow.keras.models import Sequential\n",
    "from tensorflow.keras.layers import LSTM, Dropout, Dense"
   ]
  },
  {
   "cell_type": "code",
   "execution_count": 92,
   "id": "abc8733c",
   "metadata": {
    "scrolled": true
   },
   "outputs": [],
   "source": [
    "import platform\n",
    "print(f\"Python version: {platform.python_version()}\")\n",
    "print(f\"TensorFlow version: {tf.__version__}\")\n",
    "print(f\"Kersa version: {keras.__version__}\")"
   ]
  },
  {
   "cell_type": "code",
   "execution_count": 93,
   "id": "31b46888",
   "metadata": {},
   "outputs": [
    {
     "name": "stdout",
     "output_type": "stream",
     "text": [
      "GPU device NOT found\n"
     ]
    }
   ],
   "source": [
    "# Check GPU\n",
    "device_name = tf.test.gpu_device_name()\n",
    "if device_name != '/device:GPU:0':\n",
    "  print('GPU device NOT found')\n",
    "else:\n",
    "  print('Found GPU at: {}'.format(device_name))"
   ]
  },
  {
   "cell_type": "code",
   "execution_count": 94,
   "id": "8caf4da1",
   "metadata": {},
   "outputs": [
    {
     "name": "stdout",
     "output_type": "stream",
     "text": [
      "Failed to detect a GPU.\n"
     ]
    }
   ],
   "source": [
    "gpus = tf.config.list_physical_devices(\"GPU\")\n",
    "if gpus:\n",
    "    for gpu in gpus:\n",
    "        print(\"Found a GPU with the name:\", gpu)\n",
    "else:\n",
    "    print(\"Failed to detect a GPU.\")"
   ]
  },
  {
   "cell_type": "code",
   "execution_count": 134,
   "id": "2283c5ef",
   "metadata": {},
   "outputs": [],
   "source": [
    "#!pip3 install torch torchvision torchaudio --quiet"
   ]
  },
  {
   "cell_type": "code",
   "execution_count": 137,
   "id": "92883d0e",
   "metadata": {},
   "outputs": [
    {
     "name": "stdout",
     "output_type": "stream",
     "text": [
      "PyTorch version: 2.2.1+cpu\n",
      "CUDA installed: False\n"
     ]
    }
   ],
   "source": [
    "import torch\n",
    "import torch.nn as nn\n",
    "print(f\"PyTorch version: {torch.__version__}\")\n",
    "print(f\"CUDA installed: {torch.cuda.is_available()}\")"
   ]
  },
  {
   "cell_type": "code",
   "execution_count": 95,
   "id": "67689e9e",
   "metadata": {},
   "outputs": [],
   "source": [
    "#!pip install yfinance  # Yahoo! Finance's API\n",
    "import yfinance as yf"
   ]
  },
  {
   "cell_type": "markdown",
   "id": "8841029d",
   "metadata": {},
   "source": [
    "### Load Data:"
   ]
  },
  {
   "cell_type": "code",
   "execution_count": 96,
   "id": "1a929169",
   "metadata": {},
   "outputs": [
    {
     "name": "stderr",
     "output_type": "stream",
     "text": [
      "[*********************100%%**********************]  1 of 1 completed\n"
     ]
    }
   ],
   "source": [
    "# Date must be in the fromat (\"%Y-%m-%d\") That is, year-month-day\n",
    "start_date = '2003-1-1' #1 Jan 2003\n",
    "end_date = '2023-12-31'             # date.today()    #2 current date\n",
    "# \"start_date\" must be an older date than the \"end_date\"\n",
    "\n",
    "ticker = \"PREIX\"   # T. Rowe Price Equity Index 500 Fund\n",
    "\n",
    "stock = yf.download(tickers = ticker,\n",
    "                  start = start_date,\n",
    "                  end = end_date)"
   ]
  },
  {
   "cell_type": "markdown",
   "id": "4fde3ee7",
   "metadata": {},
   "source": [
    "### Data Exploration"
   ]
  },
  {
   "cell_type": "code",
   "execution_count": 97,
   "id": "996af00e",
   "metadata": {},
   "outputs": [
    {
     "data": {
      "text/html": [
       "<div>\n",
       "<style scoped>\n",
       "    .dataframe tbody tr th:only-of-type {\n",
       "        vertical-align: middle;\n",
       "    }\n",
       "\n",
       "    .dataframe tbody tr th {\n",
       "        vertical-align: top;\n",
       "    }\n",
       "\n",
       "    .dataframe thead th {\n",
       "        text-align: right;\n",
       "    }\n",
       "</style>\n",
       "<table border=\"1\" class=\"dataframe\">\n",
       "  <thead>\n",
       "    <tr style=\"text-align: right;\">\n",
       "      <th></th>\n",
       "      <th>Open</th>\n",
       "      <th>High</th>\n",
       "      <th>Low</th>\n",
       "      <th>Close</th>\n",
       "      <th>Adj Close</th>\n",
       "      <th>Volume</th>\n",
       "    </tr>\n",
       "    <tr>\n",
       "      <th>Date</th>\n",
       "      <th></th>\n",
       "      <th></th>\n",
       "      <th></th>\n",
       "      <th></th>\n",
       "      <th></th>\n",
       "      <th></th>\n",
       "    </tr>\n",
       "  </thead>\n",
       "  <tbody>\n",
       "    <tr>\n",
       "      <th>2003-01-02</th>\n",
       "      <td>24.450001</td>\n",
       "      <td>24.450001</td>\n",
       "      <td>24.450001</td>\n",
       "      <td>24.450001</td>\n",
       "      <td>16.627836</td>\n",
       "      <td>0</td>\n",
       "    </tr>\n",
       "    <tr>\n",
       "      <th>2003-01-03</th>\n",
       "      <td>24.440001</td>\n",
       "      <td>24.440001</td>\n",
       "      <td>24.440001</td>\n",
       "      <td>24.440001</td>\n",
       "      <td>16.621035</td>\n",
       "      <td>0</td>\n",
       "    </tr>\n",
       "    <tr>\n",
       "      <th>2003-01-06</th>\n",
       "      <td>24.990000</td>\n",
       "      <td>24.990000</td>\n",
       "      <td>24.990000</td>\n",
       "      <td>24.990000</td>\n",
       "      <td>16.995079</td>\n",
       "      <td>0</td>\n",
       "    </tr>\n",
       "    <tr>\n",
       "      <th>2003-01-07</th>\n",
       "      <td>24.830000</td>\n",
       "      <td>24.830000</td>\n",
       "      <td>24.830000</td>\n",
       "      <td>24.830000</td>\n",
       "      <td>16.886259</td>\n",
       "      <td>0</td>\n",
       "    </tr>\n",
       "    <tr>\n",
       "      <th>2003-01-08</th>\n",
       "      <td>24.490000</td>\n",
       "      <td>24.490000</td>\n",
       "      <td>24.490000</td>\n",
       "      <td>24.490000</td>\n",
       "      <td>16.655035</td>\n",
       "      <td>0</td>\n",
       "    </tr>\n",
       "  </tbody>\n",
       "</table>\n",
       "</div>"
      ],
      "text/plain": [
       "                 Open       High        Low      Close  Adj Close  Volume\n",
       "Date                                                                     \n",
       "2003-01-02  24.450001  24.450001  24.450001  24.450001  16.627836       0\n",
       "2003-01-03  24.440001  24.440001  24.440001  24.440001  16.621035       0\n",
       "2003-01-06  24.990000  24.990000  24.990000  24.990000  16.995079       0\n",
       "2003-01-07  24.830000  24.830000  24.830000  24.830000  16.886259       0\n",
       "2003-01-08  24.490000  24.490000  24.490000  24.490000  16.655035       0"
      ]
     },
     "execution_count": 97,
     "metadata": {},
     "output_type": "execute_result"
    }
   ],
   "source": [
    "stock.head()"
   ]
  },
  {
   "cell_type": "code",
   "execution_count": 98,
   "id": "93f70c1b",
   "metadata": {},
   "outputs": [
    {
     "data": {
      "text/html": [
       "<div>\n",
       "<style scoped>\n",
       "    .dataframe tbody tr th:only-of-type {\n",
       "        vertical-align: middle;\n",
       "    }\n",
       "\n",
       "    .dataframe tbody tr th {\n",
       "        vertical-align: top;\n",
       "    }\n",
       "\n",
       "    .dataframe thead th {\n",
       "        text-align: right;\n",
       "    }\n",
       "</style>\n",
       "<table border=\"1\" class=\"dataframe\">\n",
       "  <thead>\n",
       "    <tr style=\"text-align: right;\">\n",
       "      <th></th>\n",
       "      <th>Open</th>\n",
       "      <th>High</th>\n",
       "      <th>Low</th>\n",
       "      <th>Close</th>\n",
       "      <th>Adj Close</th>\n",
       "      <th>Volume</th>\n",
       "    </tr>\n",
       "    <tr>\n",
       "      <th>Date</th>\n",
       "      <th></th>\n",
       "      <th></th>\n",
       "      <th></th>\n",
       "      <th></th>\n",
       "      <th></th>\n",
       "      <th></th>\n",
       "    </tr>\n",
       "  </thead>\n",
       "  <tbody>\n",
       "    <tr>\n",
       "      <th>2023-12-22</th>\n",
       "      <td>124.989998</td>\n",
       "      <td>124.989998</td>\n",
       "      <td>124.989998</td>\n",
       "      <td>124.989998</td>\n",
       "      <td>124.989998</td>\n",
       "      <td>0</td>\n",
       "    </tr>\n",
       "    <tr>\n",
       "      <th>2023-12-26</th>\n",
       "      <td>125.510002</td>\n",
       "      <td>125.510002</td>\n",
       "      <td>125.510002</td>\n",
       "      <td>125.510002</td>\n",
       "      <td>125.510002</td>\n",
       "      <td>0</td>\n",
       "    </tr>\n",
       "    <tr>\n",
       "      <th>2023-12-27</th>\n",
       "      <td>125.699997</td>\n",
       "      <td>125.699997</td>\n",
       "      <td>125.699997</td>\n",
       "      <td>125.699997</td>\n",
       "      <td>125.699997</td>\n",
       "      <td>0</td>\n",
       "    </tr>\n",
       "    <tr>\n",
       "      <th>2023-12-28</th>\n",
       "      <td>125.760002</td>\n",
       "      <td>125.760002</td>\n",
       "      <td>125.760002</td>\n",
       "      <td>125.760002</td>\n",
       "      <td>125.760002</td>\n",
       "      <td>0</td>\n",
       "    </tr>\n",
       "    <tr>\n",
       "      <th>2023-12-29</th>\n",
       "      <td>125.410004</td>\n",
       "      <td>125.410004</td>\n",
       "      <td>125.410004</td>\n",
       "      <td>125.410004</td>\n",
       "      <td>125.410004</td>\n",
       "      <td>0</td>\n",
       "    </tr>\n",
       "  </tbody>\n",
       "</table>\n",
       "</div>"
      ],
      "text/plain": [
       "                  Open        High         Low       Close   Adj Close  Volume\n",
       "Date                                                                          \n",
       "2023-12-22  124.989998  124.989998  124.989998  124.989998  124.989998       0\n",
       "2023-12-26  125.510002  125.510002  125.510002  125.510002  125.510002       0\n",
       "2023-12-27  125.699997  125.699997  125.699997  125.699997  125.699997       0\n",
       "2023-12-28  125.760002  125.760002  125.760002  125.760002  125.760002       0\n",
       "2023-12-29  125.410004  125.410004  125.410004  125.410004  125.410004       0"
      ]
     },
     "execution_count": 98,
     "metadata": {},
     "output_type": "execute_result"
    }
   ],
   "source": [
    "stock.tail()"
   ]
  },
  {
   "cell_type": "code",
   "execution_count": 99,
   "id": "3ccc9283",
   "metadata": {},
   "outputs": [
    {
     "name": "stdout",
     "output_type": "stream",
     "text": [
      "<class 'pandas.core.frame.DataFrame'>\n",
      "DatetimeIndex: 5285 entries, 2003-01-02 to 2023-12-29\n",
      "Data columns (total 6 columns):\n",
      " #   Column     Non-Null Count  Dtype  \n",
      "---  ------     --------------  -----  \n",
      " 0   Open       5285 non-null   float64\n",
      " 1   High       5285 non-null   float64\n",
      " 2   Low        5285 non-null   float64\n",
      " 3   Close      5285 non-null   float64\n",
      " 4   Adj Close  5285 non-null   float64\n",
      " 5   Volume     5285 non-null   int64  \n",
      "dtypes: float64(5), int64(1)\n",
      "memory usage: 289.0 KB\n"
     ]
    }
   ],
   "source": [
    "stock.info()"
   ]
  },
  {
   "cell_type": "code",
   "execution_count": 100,
   "id": "c53c90e4",
   "metadata": {},
   "outputs": [
    {
     "data": {
      "text/plain": [
       "DatetimeIndex(['2003-01-02', '2003-01-03', '2003-01-06', '2003-01-07',\n",
       "               '2003-01-08', '2003-01-09', '2003-01-10', '2003-01-13',\n",
       "               '2003-01-14', '2003-01-15',\n",
       "               ...\n",
       "               '2023-12-18', '2023-12-19', '2023-12-20', '2023-12-21',\n",
       "               '2023-12-22', '2023-12-25', '2023-12-26', '2023-12-27',\n",
       "               '2023-12-28', '2023-12-29'],\n",
       "              dtype='datetime64[ns]', name='Date', length=5477, freq='B')"
      ]
     },
     "execution_count": 100,
     "metadata": {},
     "output_type": "execute_result"
    }
   ],
   "source": [
    "stock.asfreq('B').index  # set index frequency to business daliy"
   ]
  },
  {
   "cell_type": "code",
   "execution_count": 101,
   "id": "155e7d77",
   "metadata": {},
   "outputs": [
    {
     "data": {
      "text/html": [
       "<div>\n",
       "<style scoped>\n",
       "    .dataframe tbody tr th:only-of-type {\n",
       "        vertical-align: middle;\n",
       "    }\n",
       "\n",
       "    .dataframe tbody tr th {\n",
       "        vertical-align: top;\n",
       "    }\n",
       "\n",
       "    .dataframe thead th {\n",
       "        text-align: right;\n",
       "    }\n",
       "</style>\n",
       "<table border=\"1\" class=\"dataframe\">\n",
       "  <thead>\n",
       "    <tr style=\"text-align: right;\">\n",
       "      <th></th>\n",
       "      <th>Open</th>\n",
       "      <th>High</th>\n",
       "      <th>Low</th>\n",
       "      <th>Close</th>\n",
       "      <th>Adj Close</th>\n",
       "      <th>Volume</th>\n",
       "    </tr>\n",
       "  </thead>\n",
       "  <tbody>\n",
       "    <tr>\n",
       "      <th>count</th>\n",
       "      <td>5285.000000</td>\n",
       "      <td>5285.000000</td>\n",
       "      <td>5285.000000</td>\n",
       "      <td>5285.000000</td>\n",
       "      <td>5285.000000</td>\n",
       "      <td>5285.0</td>\n",
       "    </tr>\n",
       "    <tr>\n",
       "      <th>mean</th>\n",
       "      <td>55.678874</td>\n",
       "      <td>55.678874</td>\n",
       "      <td>55.678874</td>\n",
       "      <td>55.678874</td>\n",
       "      <td>48.462129</td>\n",
       "      <td>0.0</td>\n",
       "    </tr>\n",
       "    <tr>\n",
       "      <th>std</th>\n",
       "      <td>28.554171</td>\n",
       "      <td>28.554171</td>\n",
       "      <td>28.554171</td>\n",
       "      <td>28.554171</td>\n",
       "      <td>30.399879</td>\n",
       "      <td>0.0</td>\n",
       "    </tr>\n",
       "    <tr>\n",
       "      <th>min</th>\n",
       "      <td>18.280001</td>\n",
       "      <td>18.280001</td>\n",
       "      <td>18.280001</td>\n",
       "      <td>18.280001</td>\n",
       "      <td>13.750330</td>\n",
       "      <td>0.0</td>\n",
       "    </tr>\n",
       "    <tr>\n",
       "      <th>25%</th>\n",
       "      <td>33.020000</td>\n",
       "      <td>33.020000</td>\n",
       "      <td>33.020000</td>\n",
       "      <td>33.020000</td>\n",
       "      <td>24.445608</td>\n",
       "      <td>0.0</td>\n",
       "    </tr>\n",
       "    <tr>\n",
       "      <th>50%</th>\n",
       "      <td>44.540001</td>\n",
       "      <td>44.540001</td>\n",
       "      <td>44.540001</td>\n",
       "      <td>44.540001</td>\n",
       "      <td>36.315384</td>\n",
       "      <td>0.0</td>\n",
       "    </tr>\n",
       "    <tr>\n",
       "      <th>75%</th>\n",
       "      <td>73.809998</td>\n",
       "      <td>73.809998</td>\n",
       "      <td>73.809998</td>\n",
       "      <td>73.809998</td>\n",
       "      <td>66.668488</td>\n",
       "      <td>0.0</td>\n",
       "    </tr>\n",
       "    <tr>\n",
       "      <th>max</th>\n",
       "      <td>126.099998</td>\n",
       "      <td>126.099998</td>\n",
       "      <td>126.099998</td>\n",
       "      <td>126.099998</td>\n",
       "      <td>125.760002</td>\n",
       "      <td>0.0</td>\n",
       "    </tr>\n",
       "  </tbody>\n",
       "</table>\n",
       "</div>"
      ],
      "text/plain": [
       "              Open         High          Low        Close    Adj Close  Volume\n",
       "count  5285.000000  5285.000000  5285.000000  5285.000000  5285.000000  5285.0\n",
       "mean     55.678874    55.678874    55.678874    55.678874    48.462129     0.0\n",
       "std      28.554171    28.554171    28.554171    28.554171    30.399879     0.0\n",
       "min      18.280001    18.280001    18.280001    18.280001    13.750330     0.0\n",
       "25%      33.020000    33.020000    33.020000    33.020000    24.445608     0.0\n",
       "50%      44.540001    44.540001    44.540001    44.540001    36.315384     0.0\n",
       "75%      73.809998    73.809998    73.809998    73.809998    66.668488     0.0\n",
       "max     126.099998   126.099998   126.099998   126.099998   125.760002     0.0"
      ]
     },
     "execution_count": 101,
     "metadata": {},
     "output_type": "execute_result"
    }
   ],
   "source": [
    "stock.describe()"
   ]
  },
  {
   "cell_type": "code",
   "execution_count": 102,
   "id": "6df4377b",
   "metadata": {},
   "outputs": [
    {
     "data": {
      "text/plain": [
       "Open         0\n",
       "High         0\n",
       "Low          0\n",
       "Close        0\n",
       "Adj Close    0\n",
       "Volume       0\n",
       "dtype: int64"
      ]
     },
     "execution_count": 102,
     "metadata": {},
     "output_type": "execute_result"
    }
   ],
   "source": [
    "stock.isnull().sum(axis=0) # check any NA"
   ]
  },
  {
   "cell_type": "markdown",
   "id": "c6e29ea7",
   "metadata": {},
   "source": [
    "### Data Visualization"
   ]
  },
  {
   "cell_type": "code",
   "execution_count": 103,
   "id": "caedb0ed",
   "metadata": {},
   "outputs": [
    {
     "data": {
      "text/plain": [
       "Text(0.5, 1.0, 'The Stock Close Price of PREIX')"
      ]
     },
     "execution_count": 103,
     "metadata": {},
     "output_type": "execute_result"
    },
    {
     "data": {
      "image/png": "[encoded data removed]",
      "text/plain": [
       "<Figure size 1400x500 with 1 Axes>"
      ]
     },
     "metadata": {},
     "output_type": "display_data"
    }
   ],
   "source": [
    "plt.figure(figsize=(14,5))\n",
    "sns.set_style(\"ticks\")\n",
    "sns.lineplot(data=stock,x=\"Date\",y='Close',color='firebrick')\n",
    "sns.despine()\n",
    "plt.title(\"The Stock Close Price of \" + ticker,size='x-large',color='blue')"
   ]
  },
  {
   "cell_type": "markdown",
   "id": "3e3ce4f1",
   "metadata": {},
   "source": [
    "### Splitting Data into a Training set and a Test set"
   ]
  },
  {
   "cell_type": "code",
   "execution_count": 104,
   "id": "9fc6d161",
   "metadata": {},
   "outputs": [
    {
     "data": {
      "text/html": [
       "<div>\n",
       "<style scoped>\n",
       "    .dataframe tbody tr th:only-of-type {\n",
       "        vertical-align: middle;\n",
       "    }\n",
       "\n",
       "    .dataframe tbody tr th {\n",
       "        vertical-align: top;\n",
       "    }\n",
       "\n",
       "    .dataframe thead th {\n",
       "        text-align: right;\n",
       "    }\n",
       "</style>\n",
       "<table border=\"1\" class=\"dataframe\">\n",
       "  <thead>\n",
       "    <tr style=\"text-align: right;\">\n",
       "      <th></th>\n",
       "      <th>Close</th>\n",
       "    </tr>\n",
       "    <tr>\n",
       "      <th>Date</th>\n",
       "      <th></th>\n",
       "    </tr>\n",
       "  </thead>\n",
       "  <tbody>\n",
       "    <tr>\n",
       "      <th>2003-01-02</th>\n",
       "      <td>24.450001</td>\n",
       "    </tr>\n",
       "    <tr>\n",
       "      <th>2003-01-03</th>\n",
       "      <td>24.440001</td>\n",
       "    </tr>\n",
       "    <tr>\n",
       "      <th>2003-01-06</th>\n",
       "      <td>24.990000</td>\n",
       "    </tr>\n",
       "    <tr>\n",
       "      <th>2003-01-07</th>\n",
       "      <td>24.830000</td>\n",
       "    </tr>\n",
       "    <tr>\n",
       "      <th>2003-01-08</th>\n",
       "      <td>24.490000</td>\n",
       "    </tr>\n",
       "  </tbody>\n",
       "</table>\n",
       "</div>"
      ],
      "text/plain": [
       "                Close\n",
       "Date                 \n",
       "2003-01-02  24.450001\n",
       "2003-01-03  24.440001\n",
       "2003-01-06  24.990000\n",
       "2003-01-07  24.830000\n",
       "2003-01-08  24.490000"
      ]
     },
     "execution_count": 104,
     "metadata": {},
     "output_type": "execute_result"
    }
   ],
   "source": [
    "df = stock[['Close']]\n",
    "df.head()"
   ]
  },
  {
   "cell_type": "code",
   "execution_count": 105,
   "id": "239dd29a",
   "metadata": {},
   "outputs": [],
   "source": [
    "# we took 80% of data for training and the rest 20% for testing\n",
    "\n",
    "train_size = int(len(df['Close'])*0.8)\n",
    "test_size = train_size - 50   # 50 (timestamps) entries for prediction"
   ]
  },
  {
   "cell_type": "code",
   "execution_count": 106,
   "id": "63643d5a",
   "metadata": {},
   "outputs": [],
   "source": [
    "df = df['Close'].values.reshape(-1,1)\n",
    "train_data, test_data = np.array(df[:train_size]), np.array(df[test_size:])"
   ]
  },
  {
   "cell_type": "code",
   "execution_count": 107,
   "id": "915d758a",
   "metadata": {},
   "outputs": [
    {
     "data": {
      "text/plain": [
       "(4228, 1)"
      ]
     },
     "execution_count": 107,
     "metadata": {},
     "output_type": "execute_result"
    }
   ],
   "source": [
    "train_data.shape"
   ]
  },
  {
   "cell_type": "code",
   "execution_count": 108,
   "id": "f2269deb",
   "metadata": {},
   "outputs": [
    {
     "data": {
      "text/plain": [
       "(1107, 1)"
      ]
     },
     "execution_count": 108,
     "metadata": {},
     "output_type": "execute_result"
    }
   ],
   "source": [
    "test_data.shape  # has 50 rows overlaped"
   ]
  },
  {
   "cell_type": "markdown",
   "id": "befb87d8",
   "metadata": {},
   "source": [
    "### Normalizing the Data"
   ]
  },
  {
   "cell_type": "code",
   "execution_count": 109,
   "id": "b24aee12",
   "metadata": {},
   "outputs": [],
   "source": [
    "# Scale the data to be between 0 and 1\n",
    "\n",
    "# we use fit_transform() on training data but transform() on the test data\n",
    "# https://towardsdatascience.com/what-and-why-behind-fit-transform-vs-transform-in-scikit-learn-78f915cf96fe\n",
    "# https://www.analyticsvidhya.com/blog/2021/04/difference-between-fit-transform-fit_transform-methods-in-scikit-learn-with-python-code/\n",
    "\n",
    "scaler = MinMaxScaler(feature_range=(0,1))\n",
    "#train_set_scaled = scaler.fit_transform(np.array(train_data).reshape(-1,1))\n",
    "#test_set_scaled = scaler.transform(np.array(test_data).reshape(-1,1))\n",
    "\n",
    "train_set_scaled = scaler.fit_transform(train_data)\n",
    "test_set_scaled = scaler.transform(test_data)"
   ]
  },
  {
   "cell_type": "code",
   "execution_count": 110,
   "id": "b4a53e4f",
   "metadata": {},
   "outputs": [
    {
     "data": {
      "text/plain": [
       "array([[0.96328362],\n",
       "       [0.95526694],\n",
       "       [0.94051629],\n",
       "       ...,\n",
       "       [1.72230231],\n",
       "       [1.72326439],\n",
       "       [1.71765274]])"
      ]
     },
     "execution_count": 110,
     "metadata": {},
     "output_type": "execute_result"
    }
   ],
   "source": [
    "test_set_scaled"
   ]
  },
  {
   "cell_type": "markdown",
   "id": "b87f29f8",
   "metadata": {},
   "source": [
    "### Incorporating Timesteps Into Data"
   ]
  },
  {
   "cell_type": "code",
   "execution_count": 111,
   "id": "26966fd8",
   "metadata": {},
   "outputs": [],
   "source": [
    "# Creating a dataset function with n timesteps\n",
    "\n",
    "def create_dataset(dataset, time_step):\n",
    "    dataX, dataY = [],[]   # dataX takes the values as its input , dataY takes the values as output.\n",
    "    for i in range(time_step, len(dataset)):\n",
    "                   dataX.append(dataset[i-time_step:i, 0])\n",
    "                   dataY.append(dataset[i,0])\n",
    "    return np.array(dataX), np.array(dataY)"
   ]
  },
  {
   "cell_type": "code",
   "execution_count": null,
   "id": "376cde3b",
   "metadata": {},
   "outputs": [],
   "source": []
  },
  {
   "cell_type": "markdown",
   "id": "1d3032b8",
   "metadata": {},
   "source": [
    "#### use a time step of 50 days.\n",
    "#### first 50 close prices (0 to 50), 1st 50 price will be in X_train data\n",
    "#### Then predict the price of 51th day; and 51th price will be in y_train data"
   ]
  },
  {
   "cell_type": "code",
   "execution_count": 112,
   "id": "4291fbfd",
   "metadata": {},
   "outputs": [],
   "source": [
    "# calling the create dataset function to split the data into \n",
    "# input output datasets with time step 50\n",
    "timestep = 50\n",
    "X_train, y_train =  create_dataset(train_set_scaled,timestep)\n",
    "X_test, y_test =  create_dataset(test_set_scaled,timestep)"
   ]
  },
  {
   "cell_type": "code",
   "execution_count": 113,
   "id": "4bc2025b",
   "metadata": {
    "scrolled": true
   },
   "outputs": [
    {
     "name": "stdout",
     "output_type": "stream",
     "text": [
      "(4178, 50)\n",
      "[[0.09892577 0.09876543 0.10758376 ... 0.05499436 0.06701937 0.06766072]\n",
      " [0.09876543 0.10758376 0.10501842 ... 0.06701937 0.06766072 0.08032708]\n",
      " [0.10758376 0.10501842 0.09956708 ... 0.06766072 0.08032708 0.08193039]\n",
      " ...\n",
      " [0.92303988 0.93891286 0.93987494 ... 0.96200092 0.97578961 0.97402593]\n",
      " [0.93891286 0.93987494 0.96328362 ... 0.97578961 0.97402593 0.98669229]\n",
      " [0.93987494 0.96328362 0.95526694 ... 0.97402593 0.98669229 0.98428726]]\n",
      "(1057, 50)\n",
      "(1057,)\n"
     ]
    }
   ],
   "source": [
    "# checking values\n",
    "print(X_train.shape)\n",
    "print(X_train)\n",
    "print(X_test.shape)\n",
    "print(y_test.shape)"
   ]
  },
  {
   "cell_type": "code",
   "execution_count": 114,
   "id": "0172f9f3",
   "metadata": {},
   "outputs": [],
   "source": [
    "# Reshape input data for LSTM, since LSTM takes 3 dimensional data as an input.\n",
    "X_train = np.reshape(X_train, (X_train.shape[0], X_train.shape[1], 1))\n",
    "X_test = np.reshape(X_test, (X_test.shape[0], X_test.shape[1], 1))"
   ]
  },
  {
   "cell_type": "code",
   "execution_count": 115,
   "id": "811f87e4",
   "metadata": {},
   "outputs": [
    {
     "name": "stdout",
     "output_type": "stream",
     "text": [
      "(4178, 50, 1)\n",
      "(1057, 50, 1)\n"
     ]
    }
   ],
   "source": [
    "# checking values\n",
    "print(X_train.shape)\n",
    "print(X_test.shape)"
   ]
  },
  {
   "cell_type": "markdown",
   "id": "c6204fb3",
   "metadata": {},
   "source": [
    "### Creating and fitting LSTM model\n",
    "#### 5 layers of LSTM with 1 as input layer, 2 as hidden layers, 1 additonal dense layer and 1 for output layer as Dense."
   ]
  },
  {
   "cell_type": "code",
   "execution_count": 116,
   "id": "e9ac8c4c",
   "metadata": {},
   "outputs": [],
   "source": [
    "# # Initialising the network\n",
    "model = Sequential()\n",
    "\n",
    "# Adding the first LSTM layer (input) and some Dropout regularisation\n",
    "# I choice units=512  : The number of units actually is the dimension of the hidden state (or the output).\n",
    "# https://tung2389.github.io/coding-note/unitslstm\n",
    "model.add(LSTM(units = 512, return_sequences = True, input_shape = (X_train.shape[1], 1)))\n",
    "model.add(Dropout(0.2))  # aviod overfitting\n",
    "\n",
    "# Adding a second LSTM layer and some Dropout regularisation\n",
    "model.add(LSTM(units = 256, return_sequences = True))\n",
    "model.add(Dropout(0.2))\n",
    "\n",
    "# Adding a third LSTM layer and some Dropout regularisation\n",
    "model.add(LSTM(units = 128))\n",
    "model.add(Dropout(0.2))\n",
    "\n",
    "model.add(Dense(units=64, activation='relu'))  # additional dense layer\n",
    "\n",
    "# Adding the output layer\n",
    "model.add(Dense(units = 1))"
   ]
  },
  {
   "cell_type": "code",
   "execution_count": 117,
   "id": "f0694b92",
   "metadata": {
    "scrolled": true
   },
   "outputs": [
    {
     "name": "stdout",
     "output_type": "stream",
     "text": [
      "Model: \"sequential_2\"\n",
      "_________________________________________________________________\n",
      " Layer (type)                Output Shape              Param #   \n",
      "=================================================================\n",
      " lstm_6 (LSTM)               (None, 50, 512)           1052672   \n",
      "                                                                 \n",
      " dropout_6 (Dropout)         (None, 50, 512)           0         \n",
      "                                                                 \n",
      " lstm_7 (LSTM)               (None, 50, 256)           787456    \n",
      "                                                                 \n",
      " dropout_7 (Dropout)         (None, 50, 256)           0         \n",
      "                                                                 \n",
      " lstm_8 (LSTM)               (None, 128)               197120    \n",
      "                                                                 \n",
      " dropout_8 (Dropout)         (None, 128)               0         \n",
      "                                                                 \n",
      " dense_3 (Dense)             (None, 64)                8256      \n",
      "                                                                 \n",
      " dense_4 (Dense)             (None, 1)                 65        \n",
      "                                                                 \n",
      "=================================================================\n",
      "Total params: 2045569 (7.80 MB)\n",
      "Trainable params: 2045569 (7.80 MB)\n",
      "Non-trainable params: 0 (0.00 Byte)\n",
      "_________________________________________________________________\n"
     ]
    }
   ],
   "source": [
    "model.summary()"
   ]
  },
  {
   "cell_type": "code",
   "execution_count": 118,
   "id": "b87c34e3",
   "metadata": {},
   "outputs": [],
   "source": [
    "from tensorflow.python.util import deprecation\n",
    "deprecation._PRINT_DEPRECATION_WARNINGS = False"
   ]
  },
  {
   "cell_type": "code",
   "execution_count": 119,
   "id": "363e1dfa",
   "metadata": {},
   "outputs": [],
   "source": [
    "# Compiling the network\n",
    "model.compile(optimizer='adam', loss = 'mean_squared_error', metrics=[tf.keras.metrics.MeanAbsoluteError()])"
   ]
  },
  {
   "cell_type": "markdown",
   "id": "c979f4a6",
   "metadata": {},
   "source": [
    "####  https://machinelearningmastery.com/difference-between-a-batch-and-an-epoch/\n",
    "\n",
    "    The batch size is a number of samples processed before the model is updated.\n",
    "\n",
    "    The number of epochs is the number of complete passes through the training dataset.\n",
    "\n",
    "    The size of a batch must be more than or equal to one and less than or equal to the number of samples in the training dataset. "
   ]
  },
  {
   "cell_type": "markdown",
   "id": "81aa493c",
   "metadata": {},
   "source": [
    "    Worked Example:\n",
    "    Finally, let’s make this concrete with a small example.\n",
    "\n",
    "    Assume you have a dataset with 200 samples (rows of data) and you choose a batch size of 5 and 1,000 epochs.\n",
    "\n",
    "    This means that the dataset will be divided into 40 batches, each with five samples. The model weights will be updated after each batch of five samples.\n",
    "\n",
    "    This also means that one epoch will involve 40 batches or 40 updates to the model.\n",
    "\n",
    "    With 1,000 epochs, the model will be exposed to or pass through the whole dataset 1,000 times. That is a total of 40,000 batches during the entire training process."
   ]
  },
  {
   "cell_type": "markdown",
   "id": "5875c5f5",
   "metadata": {},
   "source": [
    "    verbose=0 will show you nothing (silent)\n",
    "\n",
    "    verbose=1 will show you an animated progress bar like this: [==============================]\n",
    "\n",
    "    verbose=2 will just mention the number of epoch like this:   Epoch 1/100 ....\n"
   ]
  },
  {
   "cell_type": "code",
   "execution_count": 120,
   "id": "61c819f5",
   "metadata": {
    "scrolled": false
   },
   "outputs": [
    {
     "name": "stdout",
     "output_type": "stream",
     "text": [
      "Epoch 1/100\n",
      "100/100 [==============================] - 23s 190ms/step - loss: 0.0121 - mean_absolute_error: 0.0595\n",
      "Epoch 2/100\n",
      "100/100 [==============================] - 19s 189ms/step - loss: 0.0012 - mean_absolute_error: 0.0244\n",
      "Epoch 3/100\n",
      "100/100 [==============================] - 20s 199ms/step - loss: 0.0012 - mean_absolute_error: 0.0238\n",
      "Epoch 4/100\n",
      "100/100 [==============================] - 20s 198ms/step - loss: 9.8166e-04 - mean_absolute_error: 0.0217\n",
      "Epoch 5/100\n",
      "100/100 [==============================] - 20s 201ms/step - loss: 8.1769e-04 - mean_absolute_error: 0.0197\n",
      "Epoch 6/100\n",
      "100/100 [==============================] - 20s 201ms/step - loss: 8.8982e-04 - mean_absolute_error: 0.0206\n",
      "Epoch 7/100\n",
      "100/100 [==============================] - 20s 195ms/step - loss: 9.2150e-04 - mean_absolute_error: 0.0212\n",
      "Epoch 8/100\n",
      "100/100 [==============================] - 20s 198ms/step - loss: 7.9386e-04 - mean_absolute_error: 0.0192\n",
      "Epoch 9/100\n",
      "100/100 [==============================] - 20s 200ms/step - loss: 8.0101e-04 - mean_absolute_error: 0.0192\n",
      "Epoch 10/100\n",
      "100/100 [==============================] - 19s 195ms/step - loss: 5.6977e-04 - mean_absolute_error: 0.0163\n",
      "Epoch 11/100\n",
      "100/100 [==============================] - 20s 196ms/step - loss: 5.4124e-04 - mean_absolute_error: 0.0160\n",
      "Epoch 12/100\n",
      "100/100 [==============================] - 20s 195ms/step - loss: 4.8678e-04 - mean_absolute_error: 0.0156\n",
      "Epoch 13/100\n",
      "100/100 [==============================] - 20s 198ms/step - loss: 5.0362e-04 - mean_absolute_error: 0.0157\n",
      "Epoch 14/100\n",
      "100/100 [==============================] - 20s 198ms/step - loss: 4.3724e-04 - mean_absolute_error: 0.0145\n",
      "Epoch 15/100\n",
      "100/100 [==============================] - 20s 196ms/step - loss: 4.1542e-04 - mean_absolute_error: 0.0142\n",
      "Epoch 16/100\n",
      "100/100 [==============================] - 20s 198ms/step - loss: 6.6882e-04 - mean_absolute_error: 0.0180\n",
      "Epoch 17/100\n",
      "100/100 [==============================] - 20s 196ms/step - loss: 3.8002e-04 - mean_absolute_error: 0.0139\n",
      "Epoch 18/100\n",
      "100/100 [==============================] - 20s 202ms/step - loss: 4.1367e-04 - mean_absolute_error: 0.0144\n",
      "Epoch 19/100\n",
      "100/100 [==============================] - 20s 198ms/step - loss: 4.3645e-04 - mean_absolute_error: 0.0147\n",
      "Epoch 20/100\n",
      "100/100 [==============================] - 20s 196ms/step - loss: 4.1608e-04 - mean_absolute_error: 0.0145\n",
      "Epoch 21/100\n",
      "100/100 [==============================] - 20s 200ms/step - loss: 3.9680e-04 - mean_absolute_error: 0.0144\n",
      "Epoch 22/100\n",
      "100/100 [==============================] - 20s 195ms/step - loss: 3.9593e-04 - mean_absolute_error: 0.0143\n",
      "Epoch 23/100\n",
      "100/100 [==============================] - 20s 198ms/step - loss: 4.0078e-04 - mean_absolute_error: 0.0145\n",
      "Epoch 24/100\n",
      "100/100 [==============================] - 20s 197ms/step - loss: 3.3178e-04 - mean_absolute_error: 0.0130\n",
      "Epoch 25/100\n",
      "100/100 [==============================] - 20s 196ms/step - loss: 3.8426e-04 - mean_absolute_error: 0.0141\n",
      "Epoch 26/100\n",
      "100/100 [==============================] - 20s 197ms/step - loss: 3.9145e-04 - mean_absolute_error: 0.0144\n",
      "Epoch 27/100\n",
      "100/100 [==============================] - 20s 198ms/step - loss: 3.5667e-04 - mean_absolute_error: 0.0137\n",
      "Epoch 28/100\n",
      "100/100 [==============================] - 20s 196ms/step - loss: 4.4031e-04 - mean_absolute_error: 0.0154\n",
      "Epoch 29/100\n",
      "100/100 [==============================] - 20s 198ms/step - loss: 3.9519e-04 - mean_absolute_error: 0.0143\n",
      "Epoch 30/100\n",
      "100/100 [==============================] - 20s 196ms/step - loss: 3.9640e-04 - mean_absolute_error: 0.0145\n",
      "Epoch 31/100\n",
      "100/100 [==============================] - 20s 198ms/step - loss: 3.8500e-04 - mean_absolute_error: 0.0144\n",
      "Epoch 32/100\n",
      "100/100 [==============================] - 20s 198ms/step - loss: 3.5894e-04 - mean_absolute_error: 0.0139\n",
      "Epoch 33/100\n",
      "100/100 [==============================] - 20s 196ms/step - loss: 3.3813e-04 - mean_absolute_error: 0.0133\n",
      "Epoch 34/100\n",
      "100/100 [==============================] - 20s 198ms/step - loss: 3.4499e-04 - mean_absolute_error: 0.0138\n",
      "Epoch 35/100\n",
      "100/100 [==============================] - 20s 197ms/step - loss: 2.9378e-04 - mean_absolute_error: 0.0126\n",
      "Epoch 36/100\n",
      "100/100 [==============================] - 20s 202ms/step - loss: 3.2997e-04 - mean_absolute_error: 0.0135\n",
      "Epoch 37/100\n",
      "100/100 [==============================] - 20s 199ms/step - loss: 3.0781e-04 - mean_absolute_error: 0.0129\n",
      "Epoch 38/100\n",
      "100/100 [==============================] - 20s 198ms/step - loss: 3.4819e-04 - mean_absolute_error: 0.0135\n",
      "Epoch 39/100\n",
      "100/100 [==============================] - 20s 198ms/step - loss: 3.5526e-04 - mean_absolute_error: 0.0140\n",
      "Epoch 40/100\n",
      "100/100 [==============================] - 20s 197ms/step - loss: 3.0472e-04 - mean_absolute_error: 0.0128\n",
      "Epoch 41/100\n",
      "100/100 [==============================] - 20s 199ms/step - loss: 3.7307e-04 - mean_absolute_error: 0.0141\n",
      "Epoch 42/100\n",
      "100/100 [==============================] - 20s 199ms/step - loss: 4.5101e-04 - mean_absolute_error: 0.0158\n",
      "Epoch 43/100\n",
      "100/100 [==============================] - 20s 196ms/step - loss: 3.6245e-04 - mean_absolute_error: 0.0140\n",
      "Epoch 44/100\n",
      "100/100 [==============================] - 20s 199ms/step - loss: 4.2766e-04 - mean_absolute_error: 0.0155\n",
      "Epoch 45/100\n",
      "100/100 [==============================] - 20s 199ms/step - loss: 3.1644e-04 - mean_absolute_error: 0.0130\n",
      "Epoch 46/100\n",
      "100/100 [==============================] - 20s 198ms/step - loss: 3.0382e-04 - mean_absolute_error: 0.0128\n",
      "Epoch 47/100\n",
      "100/100 [==============================] - 20s 198ms/step - loss: 2.8351e-04 - mean_absolute_error: 0.0124\n",
      "Epoch 48/100\n",
      "100/100 [==============================] - 20s 197ms/step - loss: 3.2373e-04 - mean_absolute_error: 0.0130\n",
      "Epoch 49/100\n",
      "100/100 [==============================] - 20s 200ms/step - loss: 3.7426e-04 - mean_absolute_error: 0.0144\n",
      "Epoch 50/100\n",
      "100/100 [==============================] - 20s 199ms/step - loss: 4.7831e-04 - mean_absolute_error: 0.0163\n",
      "Epoch 51/100\n",
      "100/100 [==============================] - 20s 197ms/step - loss: 4.1116e-04 - mean_absolute_error: 0.0149\n",
      "Epoch 52/100\n",
      "100/100 [==============================] - 20s 199ms/step - loss: 3.2324e-04 - mean_absolute_error: 0.0131\n",
      "Epoch 53/100\n",
      "100/100 [==============================] - 20s 200ms/step - loss: 2.9307e-04 - mean_absolute_error: 0.0126\n",
      "Epoch 54/100\n",
      "100/100 [==============================] - 20s 202ms/step - loss: 3.3253e-04 - mean_absolute_error: 0.0136\n",
      "Epoch 55/100\n",
      "100/100 [==============================] - 20s 199ms/step - loss: 3.7456e-04 - mean_absolute_error: 0.0140\n",
      "Epoch 56/100\n",
      "100/100 [==============================] - 20s 197ms/step - loss: 3.3648e-04 - mean_absolute_error: 0.0136\n",
      "Epoch 57/100\n",
      "100/100 [==============================] - 20s 199ms/step - loss: 2.7028e-04 - mean_absolute_error: 0.0123\n",
      "Epoch 58/100\n",
      "100/100 [==============================] - 20s 199ms/step - loss: 2.8911e-04 - mean_absolute_error: 0.0123\n",
      "Epoch 59/100\n",
      "100/100 [==============================] - 20s 198ms/step - loss: 3.1086e-04 - mean_absolute_error: 0.0130\n",
      "Epoch 60/100\n",
      "100/100 [==============================] - 20s 199ms/step - loss: 3.0728e-04 - mean_absolute_error: 0.0129\n",
      "Epoch 61/100\n",
      "100/100 [==============================] - 20s 197ms/step - loss: 4.3194e-04 - mean_absolute_error: 0.0150\n",
      "Epoch 62/100\n",
      "100/100 [==============================] - 20s 199ms/step - loss: 3.1781e-04 - mean_absolute_error: 0.0134\n",
      "Epoch 63/100\n",
      "100/100 [==============================] - 20s 201ms/step - loss: 2.7008e-04 - mean_absolute_error: 0.0119\n",
      "Epoch 64/100\n",
      "100/100 [==============================] - 21s 207ms/step - loss: 2.9275e-04 - mean_absolute_error: 0.0128\n",
      "Epoch 65/100\n",
      "100/100 [==============================] - 20s 196ms/step - loss: 2.6978e-04 - mean_absolute_error: 0.0121\n",
      "Epoch 66/100\n",
      "100/100 [==============================] - 20s 198ms/step - loss: 6.3447e-04 - mean_absolute_error: 0.0174\n",
      "Epoch 67/100\n",
      "100/100 [==============================] - 20s 197ms/step - loss: 3.0605e-04 - mean_absolute_error: 0.0130\n",
      "Epoch 68/100\n",
      "100/100 [==============================] - 20s 197ms/step - loss: 3.2360e-04 - mean_absolute_error: 0.0132\n",
      "Epoch 69/100\n",
      "100/100 [==============================] - 20s 196ms/step - loss: 2.7137e-04 - mean_absolute_error: 0.0121\n",
      "Epoch 70/100\n",
      "100/100 [==============================] - 20s 197ms/step - loss: 2.9487e-04 - mean_absolute_error: 0.0128\n",
      "Epoch 71/100\n",
      "100/100 [==============================] - 20s 197ms/step - loss: 2.6292e-04 - mean_absolute_error: 0.0121\n",
      "Epoch 72/100\n",
      "100/100 [==============================] - 20s 199ms/step - loss: 3.0399e-04 - mean_absolute_error: 0.0128\n",
      "Epoch 73/100\n",
      "100/100 [==============================] - 20s 197ms/step - loss: 2.8619e-04 - mean_absolute_error: 0.0126\n",
      "Epoch 74/100\n",
      "100/100 [==============================] - 19s 194ms/step - loss: 2.8513e-04 - mean_absolute_error: 0.0125\n",
      "Epoch 75/100\n",
      "100/100 [==============================] - 20s 196ms/step - loss: 2.6576e-04 - mean_absolute_error: 0.0120\n",
      "Epoch 76/100\n",
      "100/100 [==============================] - 20s 197ms/step - loss: 2.6565e-04 - mean_absolute_error: 0.0123\n",
      "Epoch 77/100\n",
      "100/100 [==============================] - 20s 196ms/step - loss: 2.6835e-04 - mean_absolute_error: 0.0122\n",
      "Epoch 78/100\n",
      "100/100 [==============================] - 20s 196ms/step - loss: 2.6073e-04 - mean_absolute_error: 0.0120\n",
      "Epoch 79/100\n",
      "100/100 [==============================] - 19s 195ms/step - loss: 2.4488e-04 - mean_absolute_error: 0.0116\n",
      "Epoch 80/100\n",
      "100/100 [==============================] - 20s 197ms/step - loss: 2.9453e-04 - mean_absolute_error: 0.0127\n",
      "Epoch 81/100\n",
      "100/100 [==============================] - 20s 197ms/step - loss: 2.4481e-04 - mean_absolute_error: 0.0116\n",
      "Epoch 82/100\n",
      "100/100 [==============================] - 19s 195ms/step - loss: 2.5430e-04 - mean_absolute_error: 0.0118\n",
      "Epoch 83/100\n",
      "100/100 [==============================] - 20s 196ms/step - loss: 2.6679e-04 - mean_absolute_error: 0.0122\n",
      "Epoch 84/100\n",
      "100/100 [==============================] - 20s 195ms/step - loss: 2.9776e-04 - mean_absolute_error: 0.0127\n",
      "Epoch 85/100\n",
      "100/100 [==============================] - 20s 196ms/step - loss: 3.0190e-04 - mean_absolute_error: 0.0131\n",
      "Epoch 86/100\n",
      "100/100 [==============================] - 20s 196ms/step - loss: 2.7012e-04 - mean_absolute_error: 0.0124\n",
      "Epoch 87/100\n",
      "100/100 [==============================] - 20s 196ms/step - loss: 2.5537e-04 - mean_absolute_error: 0.0118\n",
      "Epoch 88/100\n",
      "100/100 [==============================] - 20s 197ms/step - loss: 2.9936e-04 - mean_absolute_error: 0.0130\n",
      "Epoch 89/100\n",
      "100/100 [==============================] - 20s 195ms/step - loss: 2.3876e-04 - mean_absolute_error: 0.0116\n",
      "Epoch 90/100\n",
      "100/100 [==============================] - 20s 196ms/step - loss: 2.9410e-04 - mean_absolute_error: 0.0131\n",
      "Epoch 91/100\n",
      "100/100 [==============================] - 20s 197ms/step - loss: 2.4347e-04 - mean_absolute_error: 0.0116\n",
      "Epoch 92/100\n",
      "100/100 [==============================] - 20s 195ms/step - loss: 2.1119e-04 - mean_absolute_error: 0.0108\n",
      "Epoch 93/100\n",
      "100/100 [==============================] - 20s 197ms/step - loss: 2.5344e-04 - mean_absolute_error: 0.0117\n",
      "Epoch 94/100\n",
      "100/100 [==============================] - 20s 196ms/step - loss: 2.3885e-04 - mean_absolute_error: 0.0115\n",
      "Epoch 95/100\n",
      "100/100 [==============================] - 20s 197ms/step - loss: 3.4987e-04 - mean_absolute_error: 0.0140\n",
      "Epoch 96/100\n",
      "100/100 [==============================] - 20s 197ms/step - loss: 2.1129e-04 - mean_absolute_error: 0.0108\n",
      "Epoch 97/100\n",
      "100/100 [==============================] - 20s 199ms/step - loss: 2.7664e-04 - mean_absolute_error: 0.0122\n",
      "Epoch 98/100\n",
      "100/100 [==============================] - 20s 196ms/step - loss: 2.2040e-04 - mean_absolute_error: 0.0111\n",
      "Epoch 99/100\n",
      "100/100 [==============================] - 20s 197ms/step - loss: 2.6614e-04 - mean_absolute_error: 0.0121\n",
      "Epoch 100/100\n",
      "100/100 [==============================] - 20s 198ms/step - loss: 2.5610e-04 - mean_absolute_error: 0.0121\n",
      "Time used:  0:32:58.745348\n"
     ]
    }
   ],
   "source": [
    "start = timer() \n",
    "# Fitting the network to the Training set\n",
    "history = model.fit(X_train, y_train, epochs =100, batch_size = 42,verbose = 1)\n",
    "\n",
    "end =  timer()\n",
    "print(\"Time used: \",timedelta(seconds=end-start))"
   ]
  },
  {
   "cell_type": "code",
   "execution_count": 121,
   "id": "c9c2a321",
   "metadata": {},
   "outputs": [
    {
     "data": {
      "image/png": "[encoded data removed]",
      "text/plain": [
       "<Figure size 1000x700 with 1 Axes>"
      ]
     },
     "metadata": {},
     "output_type": "display_data"
    }
   ],
   "source": [
    "# Plotting Loss vs Epochs\n",
    "plt.figure(figsize =(10,7))\n",
    "plt.plot(history.history[\"loss\"])\n",
    "plt.xlabel(\"Epochs\")\n",
    "plt.ylabel(\"Losses\")\n",
    "plt.title(\"LSTM model, Loss vs Epoch\")\n",
    "plt.show()"
   ]
  },
  {
   "cell_type": "code",
   "execution_count": 122,
   "id": "cd58b762",
   "metadata": {},
   "outputs": [
    {
     "name": "stdout",
     "output_type": "stream",
     "text": [
      "Evaluate on train data\n",
      "train loss , train MAE: [7.407829980365932e-05, 0.006066641770303249]\n"
     ]
    }
   ],
   "source": [
    "# Evaluate the model on the train set\n",
    "print(\"Evaluate on train data\")\n",
    "results = model.evaluate(X_train, y_train, verbose=0, batch_size=42)\n",
    "print(\"train loss , train MAE:\", results)"
   ]
  },
  {
   "cell_type": "markdown",
   "id": "b94f77cc",
   "metadata": {},
   "source": [
    "### Making Predictions on the Test Set"
   ]
  },
  {
   "cell_type": "code",
   "execution_count": 123,
   "id": "2fd09c08",
   "metadata": {
    "scrolled": true
   },
   "outputs": [
    {
     "name": "stdout",
     "output_type": "stream",
     "text": [
      "34/34 [==============================] - 3s 51ms/step\n",
      "RMSE= 100.9591175931273\n"
     ]
    }
   ],
   "source": [
    "y_pred = model.predict(X_test)\n",
    "predictions = scaler.inverse_transform(y_pred)\n",
    "print(f\"RMSE= {math.sqrt(mean_squared_error(y_test, predictions))}\" )"
   ]
  },
  {
   "cell_type": "code",
   "execution_count": 124,
   "id": "8ff42e55",
   "metadata": {},
   "outputs": [
    {
     "name": "stdout",
     "output_type": "stream",
     "text": [
      "Mean absolute error on test set: 2.98%\n"
     ]
    }
   ],
   "source": [
    "mae = mean_absolute_error(y_test, y_pred)\n",
    "mae_percentage = (mae / np.mean(y_test)) * 100\n",
    "print(\"Mean absolute error on test set: {:.2f}%\".format(mae_percentage))"
   ]
  },
  {
   "cell_type": "code",
   "execution_count": 126,
   "id": "ed9affff",
   "metadata": {},
   "outputs": [
    {
     "name": "stdout",
     "output_type": "stream",
     "text": [
      "R2 score: 0.9579021440353439\n"
     ]
    }
   ],
   "source": [
    "# Actual values\n",
    "actual = y_test\n",
    "\n",
    "# Predicted values\n",
    "predicted = y_pred\n",
    "\n",
    "# Calculate the R2 score\n",
    "r2 = r2_score(actual, predicted)\n",
    "\n",
    "print(\"R2 score:\", r2)"
   ]
  },
  {
   "cell_type": "markdown",
   "id": "709b6b10",
   "metadata": {},
   "source": [
    "### Graph Plotting"
   ]
  },
  {
   "cell_type": "code",
   "execution_count": 127,
   "id": "4632852e",
   "metadata": {},
   "outputs": [
    {
     "data": {
      "image/png": "[encoded data removed]",
      "text/plain": [
       "<Figure size 1400x800 with 1 Axes>"
      ]
     },
     "metadata": {},
     "output_type": "display_data"
    }
   ],
   "source": [
    "fig, ax = plt.subplots(figsize=(14,8))\n",
    "\n",
    "plt.plot(df, color = 'red', label = ticker +' Stock Price')\n",
    "ax.plot(range(len(y_train) + 50, len(y_train) + 50 +len(predictions) ), predictions, color='blue', label=\"Predicted Prices\")\n",
    "plt.title(ticker +' Stock Price Prediction')\n",
    "#plt.xlabel('Date')\n",
    "#plt.ylabel('Close Price')\n",
    "plt.legend()\n",
    "plt.show()"
   ]
  },
  {
   "cell_type": "code",
   "execution_count": 128,
   "id": "aad18732",
   "metadata": {
    "scrolled": false
   },
   "outputs": [
    {
     "data": {
      "image/png": "[encoded data removed]",
      "text/plain": [
       "<Figure size 800x400 with 1 Axes>"
      ]
     },
     "metadata": {},
     "output_type": "display_data"
    }
   ],
   "source": [
    "# plot only test data and compare with predicted\n",
    "y_test_scaled =scaler.inverse_transform(y_test.reshape(-1,1))\n",
    "\n",
    "fig, ax = plt.subplots(figsize=(8,4))\n",
    "ax.plot(y_test_scaled, color='red', label = 'True Price of testing set')\n",
    "plt.plot(predictions, color = 'blue', label='Predicted')\n",
    "plt.legend()\n",
    "plt.show()"
   ]
  },
  {
   "cell_type": "code",
   "execution_count": 129,
   "id": "f44c8bd4",
   "metadata": {},
   "outputs": [],
   "source": [
    "model.save('tf_keras_LSTM_model.h5')"
   ]
  },
  {
   "cell_type": "markdown",
   "id": "f47817d8",
   "metadata": {},
   "source": [
    " It can accurately follow most unusual jumps/drops; however, we can observe that the model expected (predicted) lower values than the actual stock price for the most recent date stamps."
   ]
  },
  {
   "cell_type": "markdown",
   "id": "5bfc924e",
   "metadata": {},
   "source": [
    "### Future price prediction"
   ]
  },
  {
   "cell_type": "code",
   "execution_count": 130,
   "id": "17197bb0",
   "metadata": {},
   "outputs": [
    {
     "data": {
      "text/plain": [
       "Open         125.410004\n",
       "High         125.410004\n",
       "Low          125.410004\n",
       "Close        125.410004\n",
       "Adj Close    125.410004\n",
       "Volume         0.000000\n",
       "Name: 2023-12-29 00:00:00, dtype: float64"
      ]
     },
     "execution_count": 130,
     "metadata": {},
     "output_type": "execute_result"
    }
   ],
   "source": [
    "# Which day is the last day in our data?\n",
    "stock.iloc[-1]"
   ]
  },
  {
   "cell_type": "code",
   "execution_count": 131,
   "id": "96acf61a",
   "metadata": {},
   "outputs": [],
   "source": [
    "# We can predict the open price for the day after 12/29/2023--> for 01/02/2024.\n",
    "# We will use last 50 days Open price as input of our model for this prediction"
   ]
  },
  {
   "cell_type": "code",
   "execution_count": 132,
   "id": "0d8a688c",
   "metadata": {},
   "outputs": [
    {
     "name": "stdout",
     "output_type": "stream",
     "text": [
      "Shape of X_input : (1, 50, 1)\n"
     ]
    }
   ],
   "source": [
    "X_input = stock.iloc[-timestep:].Close.values               # getting last 50 rows and converting to array\n",
    "X_input = scaler.fit_transform(X_input.reshape(-1,1))      # converting to 2D array and scaling\n",
    "X_input = np.reshape(X_input, (1,50,1))                    # reshaping : converting to 3D array\n",
    "print(\"Shape of X_input :\", X_input.shape)"
   ]
  },
  {
   "cell_type": "code",
   "execution_count": 133,
   "id": "63152bc7",
   "metadata": {},
   "outputs": [
    {
     "name": "stdout",
     "output_type": "stream",
     "text": [
      "1/1 [==============================] - 0s 99ms/step\n",
      "LSTM prediction, Close price prediction for 01/02/2024 : 125.16693\n"
     ]
    }
   ],
   "source": [
    "LSTM_prediction = scaler.inverse_transform(model.predict(X_input))\n",
    "print(\"LSTM prediction, Close price prediction for 01/02/2024 :\", LSTM_prediction[0,0])"
   ]
  },
  {
   "cell_type": "markdown",
   "id": "4f2faf62",
   "metadata": {},
   "source": [
    "#### Actual Close Price  is USD124.70 on Jan2, 2024"
   ]
  },
  {
   "cell_type": "code",
   "execution_count": null,
   "id": "d98b1291",
   "metadata": {},
   "outputs": [],
   "source": []
  },
  {
   "cell_type": "code",
   "execution_count": null,
   "id": "2cf54a87",
   "metadata": {},
   "outputs": [],
   "source": []
  },
  {
   "cell_type": "markdown",
   "id": "9fe45f6c",
   "metadata": {},
   "source": [
    "### Conclusion\n",
    "\n",
    "#### It is impossible to get a perfect model that predict the price without any error, there are too many factors can affect the stock prices. "
   ]
  },
  {
   "cell_type": "code",
   "execution_count": null,
   "id": "23b6c518",
   "metadata": {},
   "outputs": [],
   "source": []
  },
  {
   "cell_type": "code",
   "execution_count": null,
   "id": "3f83e531",
   "metadata": {},
   "outputs": [],
   "source": []
  },
  {
   "cell_type": "markdown",
   "id": "af184901",
   "metadata": {},
   "source": [
    "    https://www.datacamp.com/tutorial/lstm-python-stock-market\n",
    "    \n",
    "    https://towardsdatascience.com/predicting-stock-prices-using-a-keras-lstm-model-4225457f0233\n",
    "    https://medium.com/@prajjwalchauhan94017/stock-prediction-and-forecasting-using-lstm-long-short-term-memory-9ff56625de73\n",
    "    https://github.com/mwitiderrick/stockprice/blob/master/TATA%20.ipynb\n",
    "    \n",
    "    https://cnvrg.io/pytorch-lstm/"
   ]
  }
 ],
 "metadata": {
  "kernelspec": {
   "display_name": "Python 3 (ipykernel)",
   "language": "python",
   "name": "python3"
  },
  "language_info": {
   "codemirror_mode": {
    "name": "ipython",
    "version": 3
   },
   "file_extension": ".py",
   "mimetype": "text/x-python",
   "name": "python",
   "nbconvert_exporter": "python",
   "pygments_lexer": "ipython3",
   "version": "3.10.13"
  }
 },
 "nbformat": 4,
 "nbformat_minor": 5
}
