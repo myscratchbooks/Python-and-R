{
 "cells": [
  {
   "cell_type": "markdown",
   "id": "29c8cfa8",
   "metadata": {},
   "source": [
    "# Predict Stock Fund Price Using Tensoflow LSTM (Long-Short-Term-Memory)"
   ]
  },
  {
   "cell_type": "code",
   "execution_count": 57,
   "id": "25801f7b-e7d5-466e-859b-f427da691121",
   "metadata": {},
   "outputs": [
    {
     "name": "stdout",
     "output_type": "stream",
     "text": [
      "OS version: Windows-10-10.0.22621-SP0\n",
      "Run in Miniconda3 on Nvidia Geforce RTX3050\n"
     ]
    }
   ],
   "source": [
    "import platform\n",
    "print(f\"OS version: {platform.platform()}\")\n",
    "print (\"Run in Miniconda3 on Nvidia Geforce RTX3050\")"
   ]
  },
  {
   "cell_type": "markdown",
   "id": "cf8b9284-9385-4851-9590-8d1a2b8a897a",
   "metadata": {},
   "source": [
    "#### The correct supported CUDA and cuDNN version for Tensorflow 2.10 are CUDA 11.2 and cuDNN 8.1 \n",
    "#### conda install -c conda-forge cudatoolkit=11.2 cudnn=8.1.0 -y\n",
    "\n",
    "#### https://discuss.tensorflow.org/t/issues-installing-tensorflow-on-windows-11-with-nvidia-2060/19663\n",
    "#### https://support.echoview.com/WebHelp/_Introduction/Installing_the_cuda_deep_neural_network_library.htm#Check_GPU"
   ]
  },
  {
   "cell_type": "code",
   "execution_count": 58,
   "id": "07288eca",
   "metadata": {},
   "outputs": [],
   "source": [
    "import sys\n",
    "import warnings\n",
    "\n",
    "if not sys.warnoptions:\n",
    "    warnings.simplefilter('ignore')"
   ]
  },
  {
   "cell_type": "code",
   "execution_count": 59,
   "id": "19acabef",
   "metadata": {
    "scrolled": true
   },
   "outputs": [],
   "source": [
    "#Data Manipulation and Treatment\n",
    "import numpy as np\n",
    "import pandas as pd\n",
    "import math\n",
    "import itertools\n",
    "from datetime import date, datetime, timedelta\n",
    "from timeit import default_timer as timer\n",
    "\n",
    "#Plotting and Visualizations\n",
    "import matplotlib.pyplot as plt\n",
    "%matplotlib inline\n",
    "import seaborn as sns\n",
    "\n",
    "from sklearn.preprocessing import MinMaxScaler, StandardScaler, RobustScaler\n",
    "from sklearn.metrics import mean_squared_error, mean_absolute_percentage_error, root_mean_squared_error, mean_absolute_error, r2_score"
   ]
  },
  {
   "cell_type": "code",
   "execution_count": 60,
   "id": "4105f24c-4666-4f9d-b1a4-9e17bb861b3b",
   "metadata": {},
   "outputs": [
    {
     "name": "stdout",
     "output_type": "stream",
     "text": [
      "Python version: 3.10.13\n",
      "numpy version: 1.26.4\n",
      "panda version: 2.2.1\n",
      "seaborn version: 0.13.2\n",
      "matplotlib version: 3.8.3\n",
      "sklearn version: 1.4.1.post1\n"
     ]
    }
   ],
   "source": [
    "print(f\"Python version: {platform.python_version()}\")\n",
    "print(f\"numpy version: {np.__version__}\")\n",
    "print(f\"panda version: {pd.__version__}\")\n",
    "print(f\"seaborn version: {sns.__version__}\")\n",
    "import matplotlib\n",
    "print(f\"matplotlib version: {matplotlib.__version__}\")\n",
    "import sklearn \n",
    "print(f\"sklearn version: {sklearn. __version__}\")"
   ]
  },
  {
   "cell_type": "code",
   "execution_count": 4,
   "id": "9861d3a4-e6be-42b1-bcab-f92452404ef9",
   "metadata": {},
   "outputs": [],
   "source": [
    "#!pip3 uninstall tensorflow\n",
    "#!pip3 uninstall keras"
   ]
  },
  {
   "cell_type": "code",
   "execution_count": 5,
   "id": "b5ee3924-96c6-48f1-b229-b0baeb73844d",
   "metadata": {},
   "outputs": [],
   "source": [
    "#!pip3 install tensorflow"
   ]
  },
  {
   "cell_type": "code",
   "execution_count": 5,
   "id": "8bb325d7-401e-4471-8e51-5df0ce770bba",
   "metadata": {},
   "outputs": [],
   "source": [
    "import tensorflow as tf\n",
    "from tensorflow.keras.models import Sequential\n",
    "from tensorflow.keras.layers import LSTM, Dropout, Dense"
   ]
  },
  {
   "cell_type": "code",
   "execution_count": 6,
   "id": "abc8733c",
   "metadata": {},
   "outputs": [
    {
     "name": "stdout",
     "output_type": "stream",
     "text": [
      "TensorFlow version: 2.10.0\n"
     ]
    }
   ],
   "source": [
    "print(f\"TensorFlow version: {tf.__version__}\")"
   ]
  },
  {
   "cell_type": "code",
   "execution_count": 7,
   "id": "4b2b9d6f-69bf-48d8-834f-8f8144b60531",
   "metadata": {},
   "outputs": [
    {
     "name": "stdout",
     "output_type": "stream",
     "text": [
      "Cuda Available:  True\n"
     ]
    }
   ],
   "source": [
    "print(\"Cuda Available: \", tf.test.is_built_with_cuda())"
   ]
  },
  {
   "cell_type": "code",
   "execution_count": 8,
   "id": "aad46485-f14c-42d5-866a-77e442473685",
   "metadata": {},
   "outputs": [
    {
     "name": "stdout",
     "output_type": "stream",
     "text": [
      "WARNING:tensorflow:From C:\\Users\\simon\\AppData\\Local\\Temp\\ipykernel_1660\\337460670.py:1: is_gpu_available (from tensorflow.python.framework.test_util) is deprecated and will be removed in a future version.\n",
      "Instructions for updating:\n",
      "Use `tf.config.list_physical_devices('GPU')` instead.\n"
     ]
    },
    {
     "data": {
      "text/plain": [
       "True"
      ]
     },
     "execution_count": 8,
     "metadata": {},
     "output_type": "execute_result"
    }
   ],
   "source": [
    "tf.test.is_gpu_available()"
   ]
  },
  {
   "cell_type": "code",
   "execution_count": 9,
   "id": "2f27f110-3a28-406a-ad0f-13be80d05ecb",
   "metadata": {},
   "outputs": [
    {
     "name": "stdout",
     "output_type": "stream",
     "text": [
      "Found a GPU with the name: PhysicalDevice(name='/physical_device:GPU:0', device_type='GPU')\n"
     ]
    }
   ],
   "source": [
    "# https://www.xda-developers.com/use-gpu-jupyter-notebook/\n",
    "\n",
    "gpus = tf.config.list_physical_devices(\"GPU\")\n",
    "if gpus:\n",
    "    for gpu in gpus:\n",
    "        print(\"Found a GPU with the name:\", gpu)\n",
    "else:\n",
    "    print(\"Failed to detect a GPU.\")"
   ]
  },
  {
   "cell_type": "code",
   "execution_count": 10,
   "id": "ea9e6cc2-d4a5-4e32-9a0b-cb7b7377eca0",
   "metadata": {},
   "outputs": [
    {
     "name": "stdout",
     "output_type": "stream",
     "text": [
      "['/device:CPU:0', '/device:GPU:0']\n"
     ]
    }
   ],
   "source": [
    "from tensorflow.python.client import device_lib\n",
    "\n",
    "def get_available_devices():\n",
    "    local_device_protos = device_lib.list_local_devices()\n",
    "    return [x.name for x in local_device_protos]\n",
    "\n",
    "print(get_available_devices())"
   ]
  },
  {
   "cell_type": "code",
   "execution_count": null,
   "id": "ea633b6f-c21e-41d6-bfa7-5a8cb3ec0d5f",
   "metadata": {},
   "outputs": [],
   "source": []
  },
  {
   "cell_type": "code",
   "execution_count": 13,
   "id": "67689e9e",
   "metadata": {},
   "outputs": [],
   "source": [
    "#### Yahoo! Finance's API\n",
    "#!pip install yfinance "
   ]
  },
  {
   "cell_type": "code",
   "execution_count": 14,
   "id": "4555c133-b36b-4fd4-8f23-78ba46893219",
   "metadata": {},
   "outputs": [],
   "source": [
    "import yfinance as yf"
   ]
  },
  {
   "cell_type": "markdown",
   "id": "8841029d",
   "metadata": {},
   "source": [
    "### Load Data:"
   ]
  },
  {
   "cell_type": "code",
   "execution_count": 15,
   "id": "1a929169",
   "metadata": {},
   "outputs": [
    {
     "name": "stderr",
     "output_type": "stream",
     "text": [
      "[*********************100%%**********************]  1 of 1 completed\n"
     ]
    }
   ],
   "source": [
    "# Date must be in the fromat (\"%Y-%m-%d\") That is, year-month-day\n",
    "start_date = '2003-1-1' #1 Jan 2003\n",
    "end_date = '2024-1-1'           #2  # date.today()     current date\n",
    "# \"start_date\" must be an older date than the \"end_date\"\n",
    "\n",
    "ticker = \"PREIX\"   # T. Rowe Price Equity Index 500 Fund\n",
    "\n",
    "stock = yf.download(tickers = ticker,\n",
    "                  start = start_date,\n",
    "                  end = end_date)"
   ]
  },
  {
   "cell_type": "markdown",
   "id": "4fde3ee7",
   "metadata": {},
   "source": [
    "### Data Exploration"
   ]
  },
  {
   "cell_type": "code",
   "execution_count": 16,
   "id": "996af00e",
   "metadata": {},
   "outputs": [
    {
     "data": {
      "text/html": [
       "<div>\n",
       "<style scoped>\n",
       "    .dataframe tbody tr th:only-of-type {\n",
       "        vertical-align: middle;\n",
       "    }\n",
       "\n",
       "    .dataframe tbody tr th {\n",
       "        vertical-align: top;\n",
       "    }\n",
       "\n",
       "    .dataframe thead th {\n",
       "        text-align: right;\n",
       "    }\n",
       "</style>\n",
       "<table border=\"1\" class=\"dataframe\">\n",
       "  <thead>\n",
       "    <tr style=\"text-align: right;\">\n",
       "      <th></th>\n",
       "      <th>Open</th>\n",
       "      <th>High</th>\n",
       "      <th>Low</th>\n",
       "      <th>Close</th>\n",
       "      <th>Adj Close</th>\n",
       "      <th>Volume</th>\n",
       "    </tr>\n",
       "    <tr>\n",
       "      <th>Date</th>\n",
       "      <th></th>\n",
       "      <th></th>\n",
       "      <th></th>\n",
       "      <th></th>\n",
       "      <th></th>\n",
       "      <th></th>\n",
       "    </tr>\n",
       "  </thead>\n",
       "  <tbody>\n",
       "    <tr>\n",
       "      <th>2003-01-02</th>\n",
       "      <td>24.450001</td>\n",
       "      <td>24.450001</td>\n",
       "      <td>24.450001</td>\n",
       "      <td>24.450001</td>\n",
       "      <td>16.627838</td>\n",
       "      <td>0</td>\n",
       "    </tr>\n",
       "    <tr>\n",
       "      <th>2003-01-03</th>\n",
       "      <td>24.440001</td>\n",
       "      <td>24.440001</td>\n",
       "      <td>24.440001</td>\n",
       "      <td>24.440001</td>\n",
       "      <td>16.621037</td>\n",
       "      <td>0</td>\n",
       "    </tr>\n",
       "    <tr>\n",
       "      <th>2003-01-06</th>\n",
       "      <td>24.990000</td>\n",
       "      <td>24.990000</td>\n",
       "      <td>24.990000</td>\n",
       "      <td>24.990000</td>\n",
       "      <td>16.995077</td>\n",
       "      <td>0</td>\n",
       "    </tr>\n",
       "    <tr>\n",
       "      <th>2003-01-07</th>\n",
       "      <td>24.830000</td>\n",
       "      <td>24.830000</td>\n",
       "      <td>24.830000</td>\n",
       "      <td>24.830000</td>\n",
       "      <td>16.886272</td>\n",
       "      <td>0</td>\n",
       "    </tr>\n",
       "    <tr>\n",
       "      <th>2003-01-08</th>\n",
       "      <td>24.490000</td>\n",
       "      <td>24.490000</td>\n",
       "      <td>24.490000</td>\n",
       "      <td>24.490000</td>\n",
       "      <td>16.655043</td>\n",
       "      <td>0</td>\n",
       "    </tr>\n",
       "  </tbody>\n",
       "</table>\n",
       "</div>"
      ],
      "text/plain": [
       "                 Open       High        Low      Close  Adj Close  Volume\n",
       "Date                                                                     \n",
       "2003-01-02  24.450001  24.450001  24.450001  24.450001  16.627838       0\n",
       "2003-01-03  24.440001  24.440001  24.440001  24.440001  16.621037       0\n",
       "2003-01-06  24.990000  24.990000  24.990000  24.990000  16.995077       0\n",
       "2003-01-07  24.830000  24.830000  24.830000  24.830000  16.886272       0\n",
       "2003-01-08  24.490000  24.490000  24.490000  24.490000  16.655043       0"
      ]
     },
     "execution_count": 16,
     "metadata": {},
     "output_type": "execute_result"
    }
   ],
   "source": [
    "stock.head()"
   ]
  },
  {
   "cell_type": "code",
   "execution_count": 17,
   "id": "93f70c1b",
   "metadata": {},
   "outputs": [
    {
     "data": {
      "text/html": [
       "<div>\n",
       "<style scoped>\n",
       "    .dataframe tbody tr th:only-of-type {\n",
       "        vertical-align: middle;\n",
       "    }\n",
       "\n",
       "    .dataframe tbody tr th {\n",
       "        vertical-align: top;\n",
       "    }\n",
       "\n",
       "    .dataframe thead th {\n",
       "        text-align: right;\n",
       "    }\n",
       "</style>\n",
       "<table border=\"1\" class=\"dataframe\">\n",
       "  <thead>\n",
       "    <tr style=\"text-align: right;\">\n",
       "      <th></th>\n",
       "      <th>Open</th>\n",
       "      <th>High</th>\n",
       "      <th>Low</th>\n",
       "      <th>Close</th>\n",
       "      <th>Adj Close</th>\n",
       "      <th>Volume</th>\n",
       "    </tr>\n",
       "    <tr>\n",
       "      <th>Date</th>\n",
       "      <th></th>\n",
       "      <th></th>\n",
       "      <th></th>\n",
       "      <th></th>\n",
       "      <th></th>\n",
       "      <th></th>\n",
       "    </tr>\n",
       "  </thead>\n",
       "  <tbody>\n",
       "    <tr>\n",
       "      <th>2023-12-22</th>\n",
       "      <td>124.989998</td>\n",
       "      <td>124.989998</td>\n",
       "      <td>124.989998</td>\n",
       "      <td>124.989998</td>\n",
       "      <td>124.989998</td>\n",
       "      <td>0</td>\n",
       "    </tr>\n",
       "    <tr>\n",
       "      <th>2023-12-26</th>\n",
       "      <td>125.510002</td>\n",
       "      <td>125.510002</td>\n",
       "      <td>125.510002</td>\n",
       "      <td>125.510002</td>\n",
       "      <td>125.510002</td>\n",
       "      <td>0</td>\n",
       "    </tr>\n",
       "    <tr>\n",
       "      <th>2023-12-27</th>\n",
       "      <td>125.699997</td>\n",
       "      <td>125.699997</td>\n",
       "      <td>125.699997</td>\n",
       "      <td>125.699997</td>\n",
       "      <td>125.699997</td>\n",
       "      <td>0</td>\n",
       "    </tr>\n",
       "    <tr>\n",
       "      <th>2023-12-28</th>\n",
       "      <td>125.760002</td>\n",
       "      <td>125.760002</td>\n",
       "      <td>125.760002</td>\n",
       "      <td>125.760002</td>\n",
       "      <td>125.760002</td>\n",
       "      <td>0</td>\n",
       "    </tr>\n",
       "    <tr>\n",
       "      <th>2023-12-29</th>\n",
       "      <td>125.410004</td>\n",
       "      <td>125.410004</td>\n",
       "      <td>125.410004</td>\n",
       "      <td>125.410004</td>\n",
       "      <td>125.410004</td>\n",
       "      <td>0</td>\n",
       "    </tr>\n",
       "  </tbody>\n",
       "</table>\n",
       "</div>"
      ],
      "text/plain": [
       "                  Open        High         Low       Close   Adj Close  Volume\n",
       "Date                                                                          \n",
       "2023-12-22  124.989998  124.989998  124.989998  124.989998  124.989998       0\n",
       "2023-12-26  125.510002  125.510002  125.510002  125.510002  125.510002       0\n",
       "2023-12-27  125.699997  125.699997  125.699997  125.699997  125.699997       0\n",
       "2023-12-28  125.760002  125.760002  125.760002  125.760002  125.760002       0\n",
       "2023-12-29  125.410004  125.410004  125.410004  125.410004  125.410004       0"
      ]
     },
     "execution_count": 17,
     "metadata": {},
     "output_type": "execute_result"
    }
   ],
   "source": [
    "stock.tail()"
   ]
  },
  {
   "cell_type": "code",
   "execution_count": 18,
   "id": "3ccc9283",
   "metadata": {},
   "outputs": [
    {
     "name": "stdout",
     "output_type": "stream",
     "text": [
      "<class 'pandas.core.frame.DataFrame'>\n",
      "DatetimeIndex: 5285 entries, 2003-01-02 to 2023-12-29\n",
      "Data columns (total 6 columns):\n",
      " #   Column     Non-Null Count  Dtype  \n",
      "---  ------     --------------  -----  \n",
      " 0   Open       5285 non-null   float64\n",
      " 1   High       5285 non-null   float64\n",
      " 2   Low        5285 non-null   float64\n",
      " 3   Close      5285 non-null   float64\n",
      " 4   Adj Close  5285 non-null   float64\n",
      " 5   Volume     5285 non-null   int64  \n",
      "dtypes: float64(5), int64(1)\n",
      "memory usage: 289.0 KB\n"
     ]
    }
   ],
   "source": [
    "stock.info()"
   ]
  },
  {
   "cell_type": "code",
   "execution_count": 19,
   "id": "c53c90e4",
   "metadata": {},
   "outputs": [
    {
     "data": {
      "text/plain": [
       "DatetimeIndex(['2003-01-02', '2003-01-03', '2003-01-06', '2003-01-07',\n",
       "               '2003-01-08', '2003-01-09', '2003-01-10', '2003-01-13',\n",
       "               '2003-01-14', '2003-01-15',\n",
       "               ...\n",
       "               '2023-12-18', '2023-12-19', '2023-12-20', '2023-12-21',\n",
       "               '2023-12-22', '2023-12-25', '2023-12-26', '2023-12-27',\n",
       "               '2023-12-28', '2023-12-29'],\n",
       "              dtype='datetime64[ns]', name='Date', length=5477, freq='B')"
      ]
     },
     "execution_count": 19,
     "metadata": {},
     "output_type": "execute_result"
    }
   ],
   "source": [
    "stock.asfreq('B').index  # set index frequency to business daliy"
   ]
  },
  {
   "cell_type": "code",
   "execution_count": 20,
   "id": "155e7d77",
   "metadata": {},
   "outputs": [
    {
     "data": {
      "text/html": [
       "<div>\n",
       "<style scoped>\n",
       "    .dataframe tbody tr th:only-of-type {\n",
       "        vertical-align: middle;\n",
       "    }\n",
       "\n",
       "    .dataframe tbody tr th {\n",
       "        vertical-align: top;\n",
       "    }\n",
       "\n",
       "    .dataframe thead th {\n",
       "        text-align: right;\n",
       "    }\n",
       "</style>\n",
       "<table border=\"1\" class=\"dataframe\">\n",
       "  <thead>\n",
       "    <tr style=\"text-align: right;\">\n",
       "      <th></th>\n",
       "      <th>Open</th>\n",
       "      <th>High</th>\n",
       "      <th>Low</th>\n",
       "      <th>Close</th>\n",
       "      <th>Adj Close</th>\n",
       "      <th>Volume</th>\n",
       "    </tr>\n",
       "  </thead>\n",
       "  <tbody>\n",
       "    <tr>\n",
       "      <th>count</th>\n",
       "      <td>5285.000000</td>\n",
       "      <td>5285.000000</td>\n",
       "      <td>5285.000000</td>\n",
       "      <td>5285.000000</td>\n",
       "      <td>5285.000000</td>\n",
       "      <td>5285.0</td>\n",
       "    </tr>\n",
       "    <tr>\n",
       "      <th>mean</th>\n",
       "      <td>55.678874</td>\n",
       "      <td>55.678874</td>\n",
       "      <td>55.678874</td>\n",
       "      <td>55.678874</td>\n",
       "      <td>48.462129</td>\n",
       "      <td>0.0</td>\n",
       "    </tr>\n",
       "    <tr>\n",
       "      <th>std</th>\n",
       "      <td>28.554171</td>\n",
       "      <td>28.554171</td>\n",
       "      <td>28.554171</td>\n",
       "      <td>28.554171</td>\n",
       "      <td>30.399879</td>\n",
       "      <td>0.0</td>\n",
       "    </tr>\n",
       "    <tr>\n",
       "      <th>min</th>\n",
       "      <td>18.280001</td>\n",
       "      <td>18.280001</td>\n",
       "      <td>18.280001</td>\n",
       "      <td>18.280001</td>\n",
       "      <td>13.750340</td>\n",
       "      <td>0.0</td>\n",
       "    </tr>\n",
       "    <tr>\n",
       "      <th>25%</th>\n",
       "      <td>33.020000</td>\n",
       "      <td>33.020000</td>\n",
       "      <td>33.020000</td>\n",
       "      <td>33.020000</td>\n",
       "      <td>24.445606</td>\n",
       "      <td>0.0</td>\n",
       "    </tr>\n",
       "    <tr>\n",
       "      <th>50%</th>\n",
       "      <td>44.540001</td>\n",
       "      <td>44.540001</td>\n",
       "      <td>44.540001</td>\n",
       "      <td>44.540001</td>\n",
       "      <td>36.315380</td>\n",
       "      <td>0.0</td>\n",
       "    </tr>\n",
       "    <tr>\n",
       "      <th>75%</th>\n",
       "      <td>73.809998</td>\n",
       "      <td>73.809998</td>\n",
       "      <td>73.809998</td>\n",
       "      <td>73.809998</td>\n",
       "      <td>66.668472</td>\n",
       "      <td>0.0</td>\n",
       "    </tr>\n",
       "    <tr>\n",
       "      <th>max</th>\n",
       "      <td>126.099998</td>\n",
       "      <td>126.099998</td>\n",
       "      <td>126.099998</td>\n",
       "      <td>126.099998</td>\n",
       "      <td>125.760002</td>\n",
       "      <td>0.0</td>\n",
       "    </tr>\n",
       "  </tbody>\n",
       "</table>\n",
       "</div>"
      ],
      "text/plain": [
       "              Open         High          Low        Close    Adj Close  Volume\n",
       "count  5285.000000  5285.000000  5285.000000  5285.000000  5285.000000  5285.0\n",
       "mean     55.678874    55.678874    55.678874    55.678874    48.462129     0.0\n",
       "std      28.554171    28.554171    28.554171    28.554171    30.399879     0.0\n",
       "min      18.280001    18.280001    18.280001    18.280001    13.750340     0.0\n",
       "25%      33.020000    33.020000    33.020000    33.020000    24.445606     0.0\n",
       "50%      44.540001    44.540001    44.540001    44.540001    36.315380     0.0\n",
       "75%      73.809998    73.809998    73.809998    73.809998    66.668472     0.0\n",
       "max     126.099998   126.099998   126.099998   126.099998   125.760002     0.0"
      ]
     },
     "execution_count": 20,
     "metadata": {},
     "output_type": "execute_result"
    }
   ],
   "source": [
    "stock.describe()"
   ]
  },
  {
   "cell_type": "code",
   "execution_count": 21,
   "id": "6df4377b",
   "metadata": {},
   "outputs": [
    {
     "data": {
      "text/plain": [
       "Open         0\n",
       "High         0\n",
       "Low          0\n",
       "Close        0\n",
       "Adj Close    0\n",
       "Volume       0\n",
       "dtype: int64"
      ]
     },
     "execution_count": 21,
     "metadata": {},
     "output_type": "execute_result"
    }
   ],
   "source": [
    "stock.isnull().sum(axis=0) # check any NA"
   ]
  },
  {
   "cell_type": "markdown",
   "id": "c6e29ea7",
   "metadata": {},
   "source": [
    "### Data Visualization"
   ]
  },
  {
   "cell_type": "code",
   "execution_count": 22,
   "id": "caedb0ed",
   "metadata": {},
   "outputs": [
    {
     "data": {
      "text/plain": [
       "Text(0.5, 1.0, 'The Stock Close Price of PREIX')"
      ]
     },
     "execution_count": 22,
     "metadata": {},
     "output_type": "execute_result"
    },
    {
     "data": {
      "image/png": "[encoded data removed]",
      "text/plain": [
       "<Figure size 1400x500 with 1 Axes>"
      ]
     },
     "metadata": {},
     "output_type": "display_data"
    }
   ],
   "source": [
    "plt.figure(figsize=(14,5))\n",
    "sns.set_theme(style=\"ticks\")\n",
    "sns.lineplot(data=stock,x=\"Date\",y='Close',color='firebrick')\n",
    "sns.despine()\n",
    "plt.title(\"The Stock Close Price of \" + ticker,size='x-large',color='blue')"
   ]
  },
  {
   "cell_type": "markdown",
   "id": "3e3ce4f1",
   "metadata": {},
   "source": [
    "### Splitting Data into a Training set and a Test set"
   ]
  },
  {
   "cell_type": "code",
   "execution_count": 23,
   "id": "9fc6d161",
   "metadata": {},
   "outputs": [
    {
     "data": {
      "text/html": [
       "<div>\n",
       "<style scoped>\n",
       "    .dataframe tbody tr th:only-of-type {\n",
       "        vertical-align: middle;\n",
       "    }\n",
       "\n",
       "    .dataframe tbody tr th {\n",
       "        vertical-align: top;\n",
       "    }\n",
       "\n",
       "    .dataframe thead th {\n",
       "        text-align: right;\n",
       "    }\n",
       "</style>\n",
       "<table border=\"1\" class=\"dataframe\">\n",
       "  <thead>\n",
       "    <tr style=\"text-align: right;\">\n",
       "      <th></th>\n",
       "      <th>Close</th>\n",
       "    </tr>\n",
       "    <tr>\n",
       "      <th>Date</th>\n",
       "      <th></th>\n",
       "    </tr>\n",
       "  </thead>\n",
       "  <tbody>\n",
       "    <tr>\n",
       "      <th>2003-01-02</th>\n",
       "      <td>24.450001</td>\n",
       "    </tr>\n",
       "    <tr>\n",
       "      <th>2003-01-03</th>\n",
       "      <td>24.440001</td>\n",
       "    </tr>\n",
       "    <tr>\n",
       "      <th>2003-01-06</th>\n",
       "      <td>24.990000</td>\n",
       "    </tr>\n",
       "    <tr>\n",
       "      <th>2003-01-07</th>\n",
       "      <td>24.830000</td>\n",
       "    </tr>\n",
       "    <tr>\n",
       "      <th>2003-01-08</th>\n",
       "      <td>24.490000</td>\n",
       "    </tr>\n",
       "  </tbody>\n",
       "</table>\n",
       "</div>"
      ],
      "text/plain": [
       "                Close\n",
       "Date                 \n",
       "2003-01-02  24.450001\n",
       "2003-01-03  24.440001\n",
       "2003-01-06  24.990000\n",
       "2003-01-07  24.830000\n",
       "2003-01-08  24.490000"
      ]
     },
     "execution_count": 23,
     "metadata": {},
     "output_type": "execute_result"
    }
   ],
   "source": [
    "df = stock[['Close']]\n",
    "df.head()"
   ]
  },
  {
   "cell_type": "code",
   "execution_count": 24,
   "id": "239dd29a",
   "metadata": {},
   "outputs": [],
   "source": [
    "# we took 80% of data for training and the rest 20% for testing\n",
    "\n",
    "train_size = int(len(df['Close'])*0.8)\n",
    "test_size = train_size  - 50   # 50 (timestamps) entries for prediction"
   ]
  },
  {
   "cell_type": "code",
   "execution_count": 25,
   "id": "63643d5a",
   "metadata": {},
   "outputs": [],
   "source": [
    "df = df['Close'].values.reshape(-1,1)\n",
    "train_data, test_data = np.array(df[:train_size]), np.array(df[test_size:])"
   ]
  },
  {
   "cell_type": "code",
   "execution_count": 26,
   "id": "915d758a",
   "metadata": {},
   "outputs": [
    {
     "data": {
      "text/plain": [
       "(4228, 1)"
      ]
     },
     "execution_count": 26,
     "metadata": {},
     "output_type": "execute_result"
    }
   ],
   "source": [
    "train_data.shape"
   ]
  },
  {
   "cell_type": "code",
   "execution_count": 27,
   "id": "f2269deb",
   "metadata": {},
   "outputs": [
    {
     "data": {
      "text/plain": [
       "(1107, 1)"
      ]
     },
     "execution_count": 27,
     "metadata": {},
     "output_type": "execute_result"
    }
   ],
   "source": [
    "test_data.shape  # has 50 rows overlaped"
   ]
  },
  {
   "cell_type": "markdown",
   "id": "befb87d8",
   "metadata": {},
   "source": [
    "### Normalizing the Data"
   ]
  },
  {
   "cell_type": "code",
   "execution_count": 28,
   "id": "b24aee12",
   "metadata": {},
   "outputs": [],
   "source": [
    "# Scale the data \n",
    "\n",
    "# we use fit_transform() on training data but transform() on the test data\n",
    "# https://towardsdatascience.com/what-and-why-behind-fit-transform-vs-transform-in-scikit-learn-78f915cf96fe\n",
    "# https://www.analyticsvidhya.com/blog/2021/04/difference-between-fit-transform-fit_transform-methods-in-scikit-learn-with-python-code/\n",
    "\n",
    "scaler = MinMaxScaler(feature_range=(0,1))\n",
    "#train_set_scaled = scaler.fit_transform(np.array(train_data).reshape(-1,1))\n",
    "#test_set_scaled = scaler.transform(np.array(test_data).reshape(-1,1))\n",
    "\n",
    "train_set_scaled = scaler.fit_transform(train_data)\n",
    "test_set_scaled = scaler.transform(test_data)"
   ]
  },
  {
   "cell_type": "markdown",
   "id": "b87f29f8",
   "metadata": {},
   "source": [
    "### Incorporating Timesteps Into Data"
   ]
  },
  {
   "cell_type": "code",
   "execution_count": 29,
   "id": "433da5a3",
   "metadata": {},
   "outputs": [],
   "source": [
    "# Creating a dataset function with n timesteps\n",
    "\n",
    "def create_dataset(dataset, time_step):\n",
    "    dataX, dataY = [],[]   # dataX takes the values as its input , dataY takes the values as output.\n",
    "    for i in range(time_step, len(dataset)):\n",
    "                   dataX.append(dataset[i-time_step:i, 0])\n",
    "                   dataY.append(dataset[i,0])\n",
    "    return np.array(dataX), np.array(dataY)"
   ]
  },
  {
   "cell_type": "markdown",
   "id": "1d3032b8",
   "metadata": {},
   "source": [
    "#### use a time step of 50 days.\n",
    "#### first 50 close prices (0 to 50), 1st 50 price will be in X_train data\n",
    "#### Then predict the price of 51th day; and 51th price will be in y_train data"
   ]
  },
  {
   "cell_type": "code",
   "execution_count": 30,
   "id": "4291fbfd",
   "metadata": {},
   "outputs": [],
   "source": [
    "# calling the create dataset function to split the data into \n",
    "# input output datasets with time step 50\n",
    "timestep = 50\n",
    "# For each element in the training data, I take the previous 50 closing prices as the input (x_train), \n",
    "# and the next closing price as the output (y_train).\n",
    "X_train, y_train =  create_dataset(train_set_scaled,timestep)\n",
    "X_test, y_test =  create_dataset(test_set_scaled,timestep)"
   ]
  },
  {
   "cell_type": "code",
   "execution_count": 31,
   "id": "4bc2025b",
   "metadata": {
    "scrolled": true
   },
   "outputs": [
    {
     "name": "stdout",
     "output_type": "stream",
     "text": [
      "(4178, 50)\n",
      "(4178,)\n",
      "(1057, 50)\n",
      "(1057,)\n"
     ]
    }
   ],
   "source": [
    "# checking values\n",
    "print(X_train.shape)\n",
    "print(y_train.shape)\n",
    "#print(X_train)\n",
    "print(X_test.shape)\n",
    "print(y_test.shape)"
   ]
  },
  {
   "cell_type": "code",
   "execution_count": 32,
   "id": "0172f9f3",
   "metadata": {},
   "outputs": [],
   "source": [
    "# Reshape input data for LSTM, since LSTM takes 3 dimensional data as an input.\n",
    "X_train = np.reshape(X_train, (X_train.shape[0], X_train.shape[1], 1))\n",
    "X_test = np.reshape(X_test, (X_test.shape[0], X_test.shape[1], 1))"
   ]
  },
  {
   "cell_type": "code",
   "execution_count": 33,
   "id": "811f87e4",
   "metadata": {},
   "outputs": [
    {
     "name": "stdout",
     "output_type": "stream",
     "text": [
      "(4178, 50, 1)\n",
      "(1057, 50, 1)\n"
     ]
    }
   ],
   "source": [
    "# checking values\n",
    "print(X_train.shape)\n",
    "print(X_test.shape)"
   ]
  },
  {
   "cell_type": "markdown",
   "id": "c6204fb3",
   "metadata": {},
   "source": [
    "### Creating and fitting LSTM model\n",
    "#### 5 layers of LSTM with 1 as input layer, 2 as hidden layers, 1 additonal dense layer and 1 for output layer as Dense."
   ]
  },
  {
   "cell_type": "code",
   "execution_count": 34,
   "id": "b30cc69f",
   "metadata": {},
   "outputs": [],
   "source": [
    "# Define the model\n",
    "\n",
    "# Activation function to use. Default: hyperbolic tangent (tanh).\n",
    "\n",
    "# I choice units=512  : The number of units actually is the dimension of the hidden state (or the output).\n",
    "# https://tung2389.github.io/coding-note/unitslstm\n",
    "\n",
    "# A common practice is to use a dropout rate of 0.2 to 0.5 for the input and output layers,\n",
    "# and a lower rate of 0.1 to 0.2 for the recurrent layers.\n",
    "# https://www.linkedin.com/advice/3/how-do-you-scale-up-your-lstm-model\n",
    "\n",
    "model = tf.keras.Sequential([\n",
    "    LSTM(units = 512, return_sequences = True, input_shape = (X_train.shape[1], 1)),\n",
    "    Dropout(0.2),    #  aviod overfitting\n",
    "    LSTM(units = 256, return_sequences = True),\n",
    "    Dropout(0.2),\n",
    "    LSTM(units = 128),\n",
    "    Dropout(0.2),    \n",
    "    Dense(units=64, activation='relu'),  # Dense is used to make sure we have a fully connected neural network.\n",
    "    Dense(units = 1)   # output layer\n",
    "    ])\n"
   ]
  },
  {
   "cell_type": "code",
   "execution_count": 35,
   "id": "f0694b92",
   "metadata": {
    "scrolled": true
   },
   "outputs": [
    {
     "name": "stdout",
     "output_type": "stream",
     "text": [
      "Model: \"sequential\"\n",
      "_________________________________________________________________\n",
      " Layer (type)                Output Shape              Param #   \n",
      "=================================================================\n",
      " lstm (LSTM)                 (None, 50, 512)           1052672   \n",
      "                                                                 \n",
      " dropout (Dropout)           (None, 50, 512)           0         \n",
      "                                                                 \n",
      " lstm_1 (LSTM)               (None, 50, 256)           787456    \n",
      "                                                                 \n",
      " dropout_1 (Dropout)         (None, 50, 256)           0         \n",
      "                                                                 \n",
      " lstm_2 (LSTM)               (None, 128)               197120    \n",
      "                                                                 \n",
      " dropout_2 (Dropout)         (None, 128)               0         \n",
      "                                                                 \n",
      " dense (Dense)               (None, 64)                8256      \n",
      "                                                                 \n",
      " dense_1 (Dense)             (None, 1)                 65        \n",
      "                                                                 \n",
      "=================================================================\n",
      "Total params: 2,045,569\n",
      "Trainable params: 2,045,569\n",
      "Non-trainable params: 0\n",
      "_________________________________________________________________\n"
     ]
    }
   ],
   "source": [
    "# Summary of the model \n",
    "model.summary()"
   ]
  },
  {
   "cell_type": "code",
   "execution_count": 36,
   "id": "b87c34e3",
   "metadata": {},
   "outputs": [],
   "source": [
    "from tensorflow.python.util import deprecation\n",
    "deprecation._PRINT_DEPRECATION_WARNINGS = False"
   ]
  },
  {
   "cell_type": "code",
   "execution_count": 37,
   "id": "363e1dfa",
   "metadata": {},
   "outputs": [],
   "source": [
    "# Compile the model \n",
    "adamopt = tf.keras.optimizers.Adam()  # (For Adam: default learning_rate= 0.001)\n",
    "mae = tf.keras.metrics.MeanAbsoluteError()\n",
    "model.compile(optimizer=adamopt, loss = 'mean_squared_error', metrics=[mae] )  \n",
    "\n",
    "# Regression Metrics  https://machinelearningmastery.com/custom-metrics-deep-learning-keras-python/\n",
    "# metrics=['mse', 'mae', 'mape', 'cosine']"
   ]
  },
  {
   "cell_type": "markdown",
   "id": "c979f4a6",
   "metadata": {},
   "source": [
    "####  https://machinelearningmastery.com/difference-between-a-batch-and-an-epoch/\n",
    "\n",
    "    The batch size is a number of samples processed before the model is updated.\n",
    "\n",
    "    The number of epochs is the number of complete passes through the training dataset.\n",
    "\n",
    "    The size of a batch must be more than or equal to one and less than or equal to the number of samples in the training dataset. "
   ]
  },
  {
   "cell_type": "markdown",
   "id": "81aa493c",
   "metadata": {},
   "source": [
    "    Worked Example:\n",
    "    Finally, let’s make this concrete with a small example.\n",
    "\n",
    "    Assume you have a dataset with 200 samples (rows of data) and you choose a batch size of 5 and 1,000 epochs.\n",
    "\n",
    "    This means that the dataset will be divided into 40 batches, each with five samples. The model weights will be updated after each batch of five samples.\n",
    "\n",
    "    This also means that one epoch will involve 40 batches or 40 updates to the model.\n",
    "\n",
    "    With 1,000 epochs, the model will be exposed to or pass through the whole dataset 1,000 times. That is a total of 40,000 batches during the entire training process."
   ]
  },
  {
   "cell_type": "markdown",
   "id": "5875c5f5",
   "metadata": {},
   "source": [
    "    verbose=0 will show you nothing (silent)\n",
    "\n",
    "    verbose=1 will show you an animated progress bar like this: [==============================]\n",
    "\n",
    "    verbose=2 will just mention the number of epoch like this:   Epoch 1/100 ....\n"
   ]
  },
  {
   "cell_type": "code",
   "execution_count": 38,
   "id": "61c819f5",
   "metadata": {},
   "outputs": [
    {
     "name": "stdout",
     "output_type": "stream",
     "text": [
      "Epoch 1/100\n",
      "131/131 [==============================] - 12s 33ms/step - loss: 0.0078 - mean_absolute_error: 0.0460 - val_loss: 0.0154 - val_mean_absolute_error: 0.1129\n",
      "Epoch 2/100\n",
      "131/131 [==============================] - 4s 27ms/step - loss: 0.0011 - mean_absolute_error: 0.0231 - val_loss: 0.0028 - val_mean_absolute_error: 0.0403\n",
      "Epoch 3/100\n",
      "131/131 [==============================] - 3s 26ms/step - loss: 0.0010 - mean_absolute_error: 0.0225 - val_loss: 0.0093 - val_mean_absolute_error: 0.0857\n",
      "Epoch 4/100\n",
      "131/131 [==============================] - 3s 26ms/step - loss: 8.6444e-04 - mean_absolute_error: 0.0202 - val_loss: 0.0040 - val_mean_absolute_error: 0.0516\n",
      "Epoch 5/100\n",
      "131/131 [==============================] - 3s 26ms/step - loss: 8.7848e-04 - mean_absolute_error: 0.0207 - val_loss: 0.0061 - val_mean_absolute_error: 0.0670\n",
      "Epoch 6/100\n",
      "131/131 [==============================] - 4s 27ms/step - loss: 6.9778e-04 - mean_absolute_error: 0.0182 - val_loss: 0.0135 - val_mean_absolute_error: 0.1070\n",
      "Epoch 7/100\n",
      "131/131 [==============================] - 4s 29ms/step - loss: 6.8681e-04 - mean_absolute_error: 0.0180 - val_loss: 0.0032 - val_mean_absolute_error: 0.0464\n",
      "Epoch 8/100\n",
      "131/131 [==============================] - 4s 29ms/step - loss: 6.9445e-04 - mean_absolute_error: 0.0180 - val_loss: 0.0019 - val_mean_absolute_error: 0.0328\n",
      "Epoch 9/100\n",
      "131/131 [==============================] - 4s 29ms/step - loss: 5.2748e-04 - mean_absolute_error: 0.0159 - val_loss: 0.0054 - val_mean_absolute_error: 0.0648\n",
      "Epoch 10/100\n",
      "131/131 [==============================] - 4s 29ms/step - loss: 5.8629e-04 - mean_absolute_error: 0.0166 - val_loss: 0.0116 - val_mean_absolute_error: 0.0988\n",
      "Epoch 11/100\n",
      "131/131 [==============================] - 4s 29ms/step - loss: 4.2713e-04 - mean_absolute_error: 0.0148 - val_loss: 0.0053 - val_mean_absolute_error: 0.0640\n",
      "Epoch 12/100\n",
      "131/131 [==============================] - 4s 28ms/step - loss: 4.6139e-04 - mean_absolute_error: 0.0150 - val_loss: 0.0043 - val_mean_absolute_error: 0.0573\n",
      "Epoch 13/100\n",
      "131/131 [==============================] - 4s 29ms/step - loss: 4.2547e-04 - mean_absolute_error: 0.0145 - val_loss: 0.0029 - val_mean_absolute_error: 0.0456\n",
      "Epoch 14/100\n",
      "131/131 [==============================] - 4s 28ms/step - loss: 4.4423e-04 - mean_absolute_error: 0.0152 - val_loss: 0.0047 - val_mean_absolute_error: 0.0607\n",
      "Epoch 15/100\n",
      "131/131 [==============================] - 4s 29ms/step - loss: 4.9921e-04 - mean_absolute_error: 0.0159 - val_loss: 0.0020 - val_mean_absolute_error: 0.0370\n",
      "Epoch 16/100\n",
      "131/131 [==============================] - 4s 29ms/step - loss: 4.3942e-04 - mean_absolute_error: 0.0152 - val_loss: 0.0019 - val_mean_absolute_error: 0.0355\n",
      "Epoch 17/100\n",
      "131/131 [==============================] - 4s 28ms/step - loss: 3.3825e-04 - mean_absolute_error: 0.0133 - val_loss: 0.0045 - val_mean_absolute_error: 0.0589\n",
      "Epoch 18/100\n",
      "131/131 [==============================] - 4s 28ms/step - loss: 3.9629e-04 - mean_absolute_error: 0.0143 - val_loss: 0.0026 - val_mean_absolute_error: 0.0439\n",
      "Epoch 19/100\n",
      "131/131 [==============================] - 4s 28ms/step - loss: 4.0705e-04 - mean_absolute_error: 0.0146 - val_loss: 0.0011 - val_mean_absolute_error: 0.0243\n",
      "Epoch 20/100\n",
      "131/131 [==============================] - 4s 28ms/step - loss: 3.6712e-04 - mean_absolute_error: 0.0140 - val_loss: 0.0034 - val_mean_absolute_error: 0.0513\n",
      "Epoch 21/100\n",
      "131/131 [==============================] - 4s 29ms/step - loss: 4.0619e-04 - mean_absolute_error: 0.0149 - val_loss: 0.0014 - val_mean_absolute_error: 0.0309\n",
      "Epoch 22/100\n",
      "131/131 [==============================] - 4s 29ms/step - loss: 3.5785e-04 - mean_absolute_error: 0.0140 - val_loss: 0.0059 - val_mean_absolute_error: 0.0703\n",
      "Epoch 23/100\n",
      "131/131 [==============================] - 4s 29ms/step - loss: 3.5159e-04 - mean_absolute_error: 0.0137 - val_loss: 0.0082 - val_mean_absolute_error: 0.0839\n",
      "Epoch 24/100\n",
      "131/131 [==============================] - 4s 27ms/step - loss: 4.2150e-04 - mean_absolute_error: 0.0152 - val_loss: 0.0011 - val_mean_absolute_error: 0.0242\n",
      "Epoch 25/100\n",
      "131/131 [==============================] - 3s 26ms/step - loss: 4.1697e-04 - mean_absolute_error: 0.0150 - val_loss: 0.0041 - val_mean_absolute_error: 0.0563\n",
      "Epoch 26/100\n",
      "131/131 [==============================] - 3s 26ms/step - loss: 3.7318e-04 - mean_absolute_error: 0.0142 - val_loss: 0.0020 - val_mean_absolute_error: 0.0372\n",
      "Epoch 27/100\n",
      "131/131 [==============================] - 3s 26ms/step - loss: 3.5032e-04 - mean_absolute_error: 0.0139 - val_loss: 0.0095 - val_mean_absolute_error: 0.0908\n",
      "Epoch 28/100\n",
      "131/131 [==============================] - 3s 27ms/step - loss: 3.8893e-04 - mean_absolute_error: 0.0144 - val_loss: 0.0035 - val_mean_absolute_error: 0.0513\n",
      "Epoch 29/100\n",
      "131/131 [==============================] - 4s 27ms/step - loss: 3.6402e-04 - mean_absolute_error: 0.0139 - val_loss: 0.0018 - val_mean_absolute_error: 0.0329\n",
      "Epoch 30/100\n",
      "131/131 [==============================] - 3s 27ms/step - loss: 4.2670e-04 - mean_absolute_error: 0.0153 - val_loss: 0.0070 - val_mean_absolute_error: 0.0752\n",
      "Epoch 31/100\n",
      "131/131 [==============================] - 3s 27ms/step - loss: 3.6720e-04 - mean_absolute_error: 0.0140 - val_loss: 0.0045 - val_mean_absolute_error: 0.0584\n",
      "Epoch 32/100\n",
      "131/131 [==============================] - 3s 26ms/step - loss: 3.4712e-04 - mean_absolute_error: 0.0137 - val_loss: 0.0025 - val_mean_absolute_error: 0.0414\n",
      "Epoch 33/100\n",
      "131/131 [==============================] - 4s 29ms/step - loss: 3.4273e-04 - mean_absolute_error: 0.0138 - val_loss: 0.0018 - val_mean_absolute_error: 0.0353\n",
      "Epoch 34/100\n",
      "131/131 [==============================] - 4s 28ms/step - loss: 3.6007e-04 - mean_absolute_error: 0.0140 - val_loss: 0.0124 - val_mean_absolute_error: 0.1033\n",
      "Epoch 35/100\n",
      "131/131 [==============================] - 4s 29ms/step - loss: 3.8318e-04 - mean_absolute_error: 0.0144 - val_loss: 0.0023 - val_mean_absolute_error: 0.0404\n",
      "Epoch 36/100\n",
      "131/131 [==============================] - 4s 29ms/step - loss: 3.8664e-04 - mean_absolute_error: 0.0145 - val_loss: 0.0012 - val_mean_absolute_error: 0.0280\n",
      "Epoch 37/100\n",
      "131/131 [==============================] - 4s 29ms/step - loss: 3.5194e-04 - mean_absolute_error: 0.0134 - val_loss: 0.0080 - val_mean_absolute_error: 0.0811\n",
      "Epoch 38/100\n",
      "131/131 [==============================] - 4s 28ms/step - loss: 3.4543e-04 - mean_absolute_error: 0.0136 - val_loss: 0.0037 - val_mean_absolute_error: 0.0538\n",
      "Epoch 39/100\n",
      "131/131 [==============================] - 3s 26ms/step - loss: 3.6720e-04 - mean_absolute_error: 0.0142 - val_loss: 0.0054 - val_mean_absolute_error: 0.0655\n",
      "Epoch 40/100\n",
      "131/131 [==============================] - 4s 27ms/step - loss: 4.3806e-04 - mean_absolute_error: 0.0154 - val_loss: 0.0223 - val_mean_absolute_error: 0.1403\n",
      "Epoch 41/100\n",
      "131/131 [==============================] - 3s 26ms/step - loss: 3.8365e-04 - mean_absolute_error: 0.0145 - val_loss: 0.0042 - val_mean_absolute_error: 0.0553\n",
      "Epoch 42/100\n",
      "131/131 [==============================] - 3s 26ms/step - loss: 3.5600e-04 - mean_absolute_error: 0.0141 - val_loss: 0.0024 - val_mean_absolute_error: 0.0406\n",
      "Epoch 43/100\n",
      "131/131 [==============================] - 3s 26ms/step - loss: 3.2584e-04 - mean_absolute_error: 0.0131 - val_loss: 0.0053 - val_mean_absolute_error: 0.0629\n",
      "Epoch 44/100\n",
      "131/131 [==============================] - 3s 26ms/step - loss: 3.6243e-04 - mean_absolute_error: 0.0142 - val_loss: 0.0026 - val_mean_absolute_error: 0.0419\n",
      "Epoch 45/100\n",
      "131/131 [==============================] - 3s 26ms/step - loss: 3.7283e-04 - mean_absolute_error: 0.0142 - val_loss: 0.0105 - val_mean_absolute_error: 0.0934\n",
      "Epoch 46/100\n",
      "131/131 [==============================] - 3s 26ms/step - loss: 3.6226e-04 - mean_absolute_error: 0.0141 - val_loss: 0.0108 - val_mean_absolute_error: 0.0948\n",
      "Epoch 47/100\n",
      "131/131 [==============================] - 3s 26ms/step - loss: 2.8887e-04 - mean_absolute_error: 0.0128 - val_loss: 0.0048 - val_mean_absolute_error: 0.0606\n",
      "Epoch 48/100\n",
      "131/131 [==============================] - 3s 26ms/step - loss: 3.2563e-04 - mean_absolute_error: 0.0135 - val_loss: 0.0051 - val_mean_absolute_error: 0.0621\n",
      "Epoch 49/100\n",
      "131/131 [==============================] - 3s 26ms/step - loss: 3.1617e-04 - mean_absolute_error: 0.0132 - val_loss: 0.0063 - val_mean_absolute_error: 0.0705\n",
      "Epoch 50/100\n",
      "131/131 [==============================] - 3s 26ms/step - loss: 3.5563e-04 - mean_absolute_error: 0.0139 - val_loss: 0.0067 - val_mean_absolute_error: 0.0727\n",
      "Epoch 51/100\n",
      "131/131 [==============================] - 3s 26ms/step - loss: 3.4112e-04 - mean_absolute_error: 0.0137 - val_loss: 0.0084 - val_mean_absolute_error: 0.0816\n",
      "Epoch 52/100\n",
      "131/131 [==============================] - 3s 26ms/step - loss: 3.1217e-04 - mean_absolute_error: 0.0132 - val_loss: 0.0126 - val_mean_absolute_error: 0.1019\n",
      "Epoch 53/100\n",
      "131/131 [==============================] - 3s 26ms/step - loss: 2.8826e-04 - mean_absolute_error: 0.0128 - val_loss: 0.0152 - val_mean_absolute_error: 0.1137\n",
      "Epoch 54/100\n",
      "131/131 [==============================] - 3s 26ms/step - loss: 3.1337e-04 - mean_absolute_error: 0.0129 - val_loss: 0.0095 - val_mean_absolute_error: 0.0915\n",
      "Epoch 55/100\n",
      "131/131 [==============================] - 4s 27ms/step - loss: 3.1850e-04 - mean_absolute_error: 0.0130 - val_loss: 0.0140 - val_mean_absolute_error: 0.1100\n",
      "Epoch 56/100\n",
      "131/131 [==============================] - 4s 27ms/step - loss: 4.3102e-04 - mean_absolute_error: 0.0148 - val_loss: 0.0317 - val_mean_absolute_error: 0.1637\n",
      "Epoch 57/100\n",
      "131/131 [==============================] - 3s 26ms/step - loss: 3.6080e-04 - mean_absolute_error: 0.0141 - val_loss: 0.0158 - val_mean_absolute_error: 0.1151\n",
      "Epoch 58/100\n",
      "131/131 [==============================] - 3s 26ms/step - loss: 2.7801e-04 - mean_absolute_error: 0.0125 - val_loss: 0.0361 - val_mean_absolute_error: 0.1781\n",
      "Epoch 59/100\n",
      "131/131 [==============================] - 3s 26ms/step - loss: 2.8146e-04 - mean_absolute_error: 0.0126 - val_loss: 0.0113 - val_mean_absolute_error: 0.0982\n",
      "Epoch 60/100\n",
      "131/131 [==============================] - 3s 26ms/step - loss: 2.4814e-04 - mean_absolute_error: 0.0117 - val_loss: 0.0173 - val_mean_absolute_error: 0.1227\n",
      "Epoch 61/100\n",
      "131/131 [==============================] - 3s 26ms/step - loss: 2.5692e-04 - mean_absolute_error: 0.0117 - val_loss: 0.0095 - val_mean_absolute_error: 0.0897\n",
      "Epoch 62/100\n",
      "131/131 [==============================] - 4s 28ms/step - loss: 3.2831e-04 - mean_absolute_error: 0.0136 - val_loss: 0.0129 - val_mean_absolute_error: 0.1035\n",
      "Epoch 63/100\n",
      "131/131 [==============================] - 3s 26ms/step - loss: 3.0248e-04 - mean_absolute_error: 0.0130 - val_loss: 0.0091 - val_mean_absolute_error: 0.0865\n",
      "Epoch 64/100\n",
      "131/131 [==============================] - 3s 26ms/step - loss: 2.5227e-04 - mean_absolute_error: 0.0120 - val_loss: 0.0122 - val_mean_absolute_error: 0.1041\n",
      "Epoch 65/100\n",
      "131/131 [==============================] - 3s 26ms/step - loss: 3.6100e-04 - mean_absolute_error: 0.0140 - val_loss: 0.0189 - val_mean_absolute_error: 0.1301\n",
      "Epoch 66/100\n",
      "131/131 [==============================] - 3s 26ms/step - loss: 2.9332e-04 - mean_absolute_error: 0.0127 - val_loss: 0.0044 - val_mean_absolute_error: 0.0601\n",
      "Epoch 67/100\n",
      "131/131 [==============================] - 3s 26ms/step - loss: 2.4087e-04 - mean_absolute_error: 0.0118 - val_loss: 0.0036 - val_mean_absolute_error: 0.0545\n",
      "Epoch 68/100\n",
      "131/131 [==============================] - 3s 27ms/step - loss: 2.3366e-04 - mean_absolute_error: 0.0114 - val_loss: 0.0031 - val_mean_absolute_error: 0.0499\n",
      "Epoch 69/100\n",
      "131/131 [==============================] - 3s 26ms/step - loss: 2.5306e-04 - mean_absolute_error: 0.0118 - val_loss: 0.0058 - val_mean_absolute_error: 0.0709\n",
      "Epoch 70/100\n",
      "131/131 [==============================] - 4s 27ms/step - loss: 2.9785e-04 - mean_absolute_error: 0.0124 - val_loss: 0.0013 - val_mean_absolute_error: 0.0265\n",
      "Epoch 71/100\n",
      "131/131 [==============================] - 3s 27ms/step - loss: 2.6940e-04 - mean_absolute_error: 0.0121 - val_loss: 0.0016 - val_mean_absolute_error: 0.0338\n",
      "Epoch 72/100\n",
      "131/131 [==============================] - 3s 26ms/step - loss: 2.6001e-04 - mean_absolute_error: 0.0120 - val_loss: 0.0043 - val_mean_absolute_error: 0.0601\n",
      "Epoch 73/100\n",
      "131/131 [==============================] - 4s 27ms/step - loss: 2.7142e-04 - mean_absolute_error: 0.0124 - val_loss: 0.0010 - val_mean_absolute_error: 0.0257\n",
      "Epoch 74/100\n",
      "131/131 [==============================] - 3s 26ms/step - loss: 3.3170e-04 - mean_absolute_error: 0.0135 - val_loss: 0.0049 - val_mean_absolute_error: 0.0631\n",
      "Epoch 75/100\n",
      "131/131 [==============================] - 3s 26ms/step - loss: 2.5453e-04 - mean_absolute_error: 0.0120 - val_loss: 0.0033 - val_mean_absolute_error: 0.0496\n",
      "Epoch 76/100\n",
      "131/131 [==============================] - 4s 27ms/step - loss: 2.9280e-04 - mean_absolute_error: 0.0128 - val_loss: 0.0212 - val_mean_absolute_error: 0.1362\n",
      "Epoch 77/100\n",
      "131/131 [==============================] - 3s 26ms/step - loss: 2.5988e-04 - mean_absolute_error: 0.0121 - val_loss: 0.0061 - val_mean_absolute_error: 0.0725\n",
      "Epoch 78/100\n",
      "131/131 [==============================] - 3s 26ms/step - loss: 2.7071e-04 - mean_absolute_error: 0.0121 - val_loss: 0.0024 - val_mean_absolute_error: 0.0422\n",
      "Epoch 79/100\n",
      "131/131 [==============================] - 3s 26ms/step - loss: 2.2563e-04 - mean_absolute_error: 0.0113 - val_loss: 0.0052 - val_mean_absolute_error: 0.0662\n",
      "Epoch 80/100\n",
      "131/131 [==============================] - 3s 26ms/step - loss: 2.3578e-04 - mean_absolute_error: 0.0114 - val_loss: 0.0069 - val_mean_absolute_error: 0.0781\n",
      "Epoch 81/100\n",
      "131/131 [==============================] - 3s 26ms/step - loss: 2.4712e-04 - mean_absolute_error: 0.0118 - val_loss: 0.0049 - val_mean_absolute_error: 0.0645\n",
      "Epoch 82/100\n",
      "131/131 [==============================] - 3s 26ms/step - loss: 2.3904e-04 - mean_absolute_error: 0.0116 - val_loss: 0.0011 - val_mean_absolute_error: 0.0269\n",
      "Epoch 83/100\n",
      "131/131 [==============================] - 4s 27ms/step - loss: 2.2650e-04 - mean_absolute_error: 0.0112 - val_loss: 0.0016 - val_mean_absolute_error: 0.0321\n",
      "Epoch 84/100\n",
      "131/131 [==============================] - 3s 26ms/step - loss: 2.4890e-04 - mean_absolute_error: 0.0117 - val_loss: 0.0063 - val_mean_absolute_error: 0.0739\n",
      "Epoch 85/100\n",
      "131/131 [==============================] - 3s 27ms/step - loss: 2.6745e-04 - mean_absolute_error: 0.0120 - val_loss: 0.0214 - val_mean_absolute_error: 0.1409\n",
      "Epoch 86/100\n",
      "131/131 [==============================] - 3s 26ms/step - loss: 2.5742e-04 - mean_absolute_error: 0.0121 - val_loss: 0.0014 - val_mean_absolute_error: 0.0306\n",
      "Epoch 87/100\n",
      "131/131 [==============================] - 3s 26ms/step - loss: 2.7594e-04 - mean_absolute_error: 0.0123 - val_loss: 0.0023 - val_mean_absolute_error: 0.0421\n",
      "Epoch 88/100\n",
      "131/131 [==============================] - 3s 26ms/step - loss: 2.6430e-04 - mean_absolute_error: 0.0122 - val_loss: 0.0072 - val_mean_absolute_error: 0.0791\n",
      "Epoch 89/100\n",
      "131/131 [==============================] - 4s 27ms/step - loss: 2.1898e-04 - mean_absolute_error: 0.0111 - val_loss: 0.0017 - val_mean_absolute_error: 0.0346\n",
      "Epoch 90/100\n",
      "131/131 [==============================] - 4s 29ms/step - loss: 2.2296e-04 - mean_absolute_error: 0.0112 - val_loss: 0.0059 - val_mean_absolute_error: 0.0614\n",
      "Epoch 91/100\n",
      "131/131 [==============================] - 4s 29ms/step - loss: 2.3422e-04 - mean_absolute_error: 0.0114 - val_loss: 0.0025 - val_mean_absolute_error: 0.0386\n",
      "Epoch 92/100\n",
      "131/131 [==============================] - 4s 29ms/step - loss: 2.1138e-04 - mean_absolute_error: 0.0110 - val_loss: 0.0036 - val_mean_absolute_error: 0.0476\n",
      "Epoch 93/100\n",
      "131/131 [==============================] - 4s 29ms/step - loss: 2.1750e-04 - mean_absolute_error: 0.0111 - val_loss: 0.0030 - val_mean_absolute_error: 0.0437\n",
      "Epoch 94/100\n",
      "131/131 [==============================] - 4s 29ms/step - loss: 2.4599e-04 - mean_absolute_error: 0.0118 - val_loss: 0.0012 - val_mean_absolute_error: 0.0279\n",
      "Epoch 95/100\n",
      "131/131 [==============================] - 4s 29ms/step - loss: 2.0859e-04 - mean_absolute_error: 0.0108 - val_loss: 0.0057 - val_mean_absolute_error: 0.0598\n",
      "Epoch 96/100\n",
      "131/131 [==============================] - 4s 29ms/step - loss: 2.2234e-04 - mean_absolute_error: 0.0112 - val_loss: 0.0025 - val_mean_absolute_error: 0.0420\n",
      "Epoch 97/100\n",
      "131/131 [==============================] - 3s 26ms/step - loss: 2.3096e-04 - mean_absolute_error: 0.0113 - val_loss: 0.0051 - val_mean_absolute_error: 0.0577\n",
      "Epoch 98/100\n",
      "131/131 [==============================] - 3s 27ms/step - loss: 2.3944e-04 - mean_absolute_error: 0.0115 - val_loss: 0.0027 - val_mean_absolute_error: 0.0454\n",
      "Epoch 99/100\n",
      "131/131 [==============================] - 3s 26ms/step - loss: 2.4015e-04 - mean_absolute_error: 0.0114 - val_loss: 0.0011 - val_mean_absolute_error: 0.0270\n",
      "Epoch 100/100\n",
      "131/131 [==============================] - 3s 26ms/step - loss: 2.4537e-04 - mean_absolute_error: 0.0117 - val_loss: 0.0041 - val_mean_absolute_error: 0.0580\n",
      "Time used:  0:06:03.137278\n"
     ]
    }
   ],
   "source": [
    "start = timer() \n",
    "# Fitting the network to the Training set\n",
    "\n",
    "# you need to choose the right size for your mini-batches, \n",
    "# as batches that are too small or too large can affect the convergence and accuracy of your model. \n",
    "# A common rule of thumb is to use a power of 2, such as 32, 64, or 128, as your batch size.\n",
    "# If unspecified, batch_size will default to 32.\n",
    "# https://www.linkedin.com/advice/3/how-do-you-scale-up-your-lstm-model\n",
    "\n",
    "history = model.fit(X_train, y_train, validation_data=(X_test, y_test), \n",
    "                    epochs =100, batch_size = 32, verbose = 1, use_multiprocessing=True)  \n",
    "\n",
    "end =  timer()\n",
    "print(\"Time used: \",timedelta(seconds=end-start))"
   ]
  },
  {
   "cell_type": "code",
   "execution_count": 39,
   "id": "c9c2a321",
   "metadata": {},
   "outputs": [
    {
     "data": {
      "image/png": "[encoded data removed]",
      "text/plain": [
       "<Figure size 1000x700 with 1 Axes>"
      ]
     },
     "metadata": {},
     "output_type": "display_data"
    }
   ],
   "source": [
    "# Plotting Loss vs Epochs\n",
    "plt.figure(figsize =(10,7))\n",
    "plt.plot(history.history[\"loss\"])\n",
    "plt.xlabel(\"Epochs\")\n",
    "plt.ylabel(\"Losses\")\n",
    "plt.title(\"LSTM model, Loss vs Epoch\")\n",
    "plt.show()"
   ]
  },
  {
   "cell_type": "code",
   "execution_count": 40,
   "id": "cd58b762",
   "metadata": {},
   "outputs": [
    {
     "name": "stdout",
     "output_type": "stream",
     "text": [
      "Evaluate on train data\n",
      "train loss , train MAE: [0.0001156700964202173, 0.007965406402945518]\n"
     ]
    }
   ],
   "source": [
    "# Evaluate the model on the train set\n",
    "print(\"Evaluate on train data\")\n",
    "results = model.evaluate(X_train, y_train, verbose=0, batch_size=32)\n",
    "print(\"train loss , train MAE:\", results)"
   ]
  },
  {
   "cell_type": "markdown",
   "id": "b94f77cc",
   "metadata": {},
   "source": [
    "### Making Predictions on the Test Set"
   ]
  },
  {
   "cell_type": "code",
   "execution_count": 41,
   "id": "2fd09c08",
   "metadata": {},
   "outputs": [
    {
     "name": "stdout",
     "output_type": "stream",
     "text": [
      "34/34 [==============================] - 1s 9ms/step\n",
      "RMSE= 99.79290375208875\n"
     ]
    }
   ],
   "source": [
    "y_pred = model.predict(X_test)\n",
    "predictions = scaler.inverse_transform(y_pred)\n",
    "print(f\"RMSE= {math.sqrt(mean_squared_error(y_test, predictions))}\" )"
   ]
  },
  {
   "cell_type": "code",
   "execution_count": 42,
   "id": "8ff42e55",
   "metadata": {},
   "outputs": [
    {
     "name": "stdout",
     "output_type": "stream",
     "text": [
      "Mean absolute error on test set: 4.23%\n"
     ]
    }
   ],
   "source": [
    "mae = mean_absolute_error(y_test, y_pred)\n",
    "mae_percentage = (mae / np.mean(y_test)) * 100\n",
    "print(\"Mean absolute error on test set: {:.2f}%\".format(mae_percentage))"
   ]
  },
  {
   "cell_type": "code",
   "execution_count": 43,
   "id": "ece1143e",
   "metadata": {},
   "outputs": [
    {
     "data": {
      "text/plain": [
       "((1057, 1), (1057, 50, 1))"
      ]
     },
     "execution_count": 43,
     "metadata": {},
     "output_type": "execute_result"
    }
   ],
   "source": [
    "y_pred.shape, X_test.shape"
   ]
  },
  {
   "cell_type": "code",
   "execution_count": 44,
   "id": "ed9affff",
   "metadata": {},
   "outputs": [
    {
     "name": "stdout",
     "output_type": "stream",
     "text": [
      "R2 score: 0.9194351392980225\n"
     ]
    }
   ],
   "source": [
    "# Actual values\n",
    "actual = y_test\n",
    "\n",
    "# Predicted values\n",
    "predicted = y_pred\n",
    "\n",
    "# Calculate the R2 score\n",
    "r2 = r2_score(actual, predicted)\n",
    "\n",
    "print(\"R2 score:\", r2)"
   ]
  },
  {
   "cell_type": "markdown",
   "id": "709b6b10",
   "metadata": {},
   "source": [
    "### Graph Plotting"
   ]
  },
  {
   "cell_type": "code",
   "execution_count": 45,
   "id": "4632852e",
   "metadata": {},
   "outputs": [
    {
     "data": {
      "image/png": "[encoded data removed]",
      "text/plain": [
       "<Figure size 1400x800 with 1 Axes>"
      ]
     },
     "metadata": {},
     "output_type": "display_data"
    }
   ],
   "source": [
    "fig, ax = plt.subplots(figsize=(14,8))\n",
    "\n",
    "plt.plot(df, color = 'red', label = ticker +' Stock Price')\n",
    "ax.plot(range(len(y_train) + 50 , len(y_train) + 50 +len(predictions) ), predictions, color='blue', label=\"Predicted Prices\")\n",
    "plt.title(ticker +' Stock Price Prediction')\n",
    "plt.xlabel('Date')\n",
    "plt.ylabel('Close Price')\n",
    "plt.legend()\n",
    "plt.show()"
   ]
  },
  {
   "cell_type": "code",
   "execution_count": 46,
   "id": "aad18732",
   "metadata": {},
   "outputs": [
    {
     "data": {
      "image/png": "[encoded data removed]",
      "text/plain": [
       "<Figure size 800x400 with 1 Axes>"
      ]
     },
     "metadata": {},
     "output_type": "display_data"
    }
   ],
   "source": [
    "# plot only test data and compare with predicted\n",
    "y_test_scaled =scaler.inverse_transform(y_test.reshape(-1,1))\n",
    "\n",
    "fig, ax = plt.subplots(figsize=(8,4))\n",
    "ax.plot(y_test_scaled, color='red', label = 'True Price of testing set')\n",
    "plt.plot(predictions, color = 'blue', label='Predicted')\n",
    "plt.legend()\n",
    "plt.show()"
   ]
  },
  {
   "cell_type": "markdown",
   "id": "f47817d8",
   "metadata": {},
   "source": [
    " It can accurately follow most unusual jumps/drops; however, we can observe that the model expected (predicted) lower values than the actual stock price for the most recent date stamps."
   ]
  },
  {
   "cell_type": "code",
   "execution_count": 47,
   "id": "f44c8bd4",
   "metadata": {},
   "outputs": [],
   "source": [
    "# Save the entire model to a HDF5 file.\n",
    "#model.save('tf_keras_LSTM_model.h5') "
   ]
  },
  {
   "cell_type": "code",
   "execution_count": 48,
   "id": "967930a8",
   "metadata": {},
   "outputs": [],
   "source": [
    "# Recreate the model from that file, including its weights and the optimizer\n",
    "#new_model = tf.keras.models.load_model('tf_keras_LSTM_model.h5')\n",
    "\n",
    "# Show the model architecture\n",
    "#new_model.summary()"
   ]
  },
  {
   "cell_type": "markdown",
   "id": "5bfc924e",
   "metadata": {},
   "source": [
    "### Future price prediction"
   ]
  },
  {
   "cell_type": "code",
   "execution_count": 49,
   "id": "17197bb0",
   "metadata": {},
   "outputs": [
    {
     "data": {
      "text/plain": [
       "Open         125.410004\n",
       "High         125.410004\n",
       "Low          125.410004\n",
       "Close        125.410004\n",
       "Adj Close    125.410004\n",
       "Volume         0.000000\n",
       "Name: 2023-12-29 00:00:00, dtype: float64"
      ]
     },
     "execution_count": 49,
     "metadata": {},
     "output_type": "execute_result"
    }
   ],
   "source": [
    "# Which day is the last day in our data?\n",
    "stock.iloc[-1]"
   ]
  },
  {
   "cell_type": "code",
   "execution_count": 50,
   "id": "96acf61a",
   "metadata": {},
   "outputs": [],
   "source": [
    "# We can predict the open price for the day after 12/29/2023--> for 01/02/2024.\n",
    "# We will use last 50 days Open price as input of our model for this prediction"
   ]
  },
  {
   "cell_type": "code",
   "execution_count": 51,
   "id": "0d8a688c",
   "metadata": {},
   "outputs": [
    {
     "name": "stdout",
     "output_type": "stream",
     "text": [
      "Shape of X_input : (1, 50, 1)\n"
     ]
    }
   ],
   "source": [
    "X_input = stock.iloc[-timestep:].Close.values                     # getting last 50 rows and converting to array\n",
    "X_input_scaled = scaler.transform(X_input.reshape(-1,1))      # converting to 2D array and scaling\n",
    "X_input_3d = np.reshape(X_input_scaled, (1,50,1))                           # reshaping : converting to 3D array\n",
    "print(\"Shape of X_input :\", X_input_3d.shape)"
   ]
  },
  {
   "cell_type": "code",
   "execution_count": 52,
   "id": "63152bc7",
   "metadata": {},
   "outputs": [
    {
     "name": "stdout",
     "output_type": "stream",
     "text": [
      "1/1 [==============================] - 0s 23ms/step\n",
      "LSTM prediction, Close price prediction for 01/02/2024 : 123.45694\n"
     ]
    }
   ],
   "source": [
    "LSTM_prediction = scaler.inverse_transform(model.predict(X_input_3d))\n",
    "print(\"LSTM prediction, Close price prediction for 01/02/2024 :\", LSTM_prediction[0,0])"
   ]
  },
  {
   "cell_type": "code",
   "execution_count": 53,
   "id": "22021315",
   "metadata": {},
   "outputs": [
    {
     "name": "stdout",
     "output_type": "stream",
     "text": [
      "1/1 [==============================] - 0s 33ms/step\n",
      "Price of PREIX tomorrow:[[123.45694]]\n"
     ]
    }
   ],
   "source": [
    "# re-code\n",
    "#Get last 50 days values and convert into array\n",
    "last_50_days=stock.iloc[-timestep:].Close.values \n",
    "\n",
    "#Scale the data to be values between 0\n",
    "last_50_days_scaled=scaler.transform(last_50_days.reshape(-1,1))\n",
    "\n",
    "#Create an empty list\n",
    "X_test=[]\n",
    "#Appemd the past 50days\n",
    "X_test.append(last_50_days_scaled)\n",
    "\n",
    "#Conver the X_test data into numpy array\n",
    "X_test = np.array(X_test)\n",
    "\n",
    "#Reshape the data\n",
    "X_test = np.reshape(X_test, (X_test.shape[0], X_test.shape[1],1))\n",
    "#Get predicted scaled price\n",
    "pred_price = model.predict(X_test)\n",
    "#undo the scaling\n",
    "pred_price=scaler.inverse_transform(pred_price)\n",
    "print(f'Price of {ticker} tomorrow:{pred_price}')"
   ]
  },
  {
   "cell_type": "code",
   "execution_count": 54,
   "id": "669d5fd7",
   "metadata": {},
   "outputs": [
    {
     "name": "stderr",
     "output_type": "stream",
     "text": [
      "[*********************100%%**********************]  1 of 1 completed\n"
     ]
    },
    {
     "data": {
      "text/html": [
       "<div>\n",
       "<style scoped>\n",
       "    .dataframe tbody tr th:only-of-type {\n",
       "        vertical-align: middle;\n",
       "    }\n",
       "\n",
       "    .dataframe tbody tr th {\n",
       "        vertical-align: top;\n",
       "    }\n",
       "\n",
       "    .dataframe thead th {\n",
       "        text-align: right;\n",
       "    }\n",
       "</style>\n",
       "<table border=\"1\" class=\"dataframe\">\n",
       "  <thead>\n",
       "    <tr style=\"text-align: right;\">\n",
       "      <th></th>\n",
       "      <th>Open</th>\n",
       "      <th>High</th>\n",
       "      <th>Low</th>\n",
       "      <th>Close</th>\n",
       "      <th>Adj Close</th>\n",
       "      <th>Volume</th>\n",
       "    </tr>\n",
       "    <tr>\n",
       "      <th>Date</th>\n",
       "      <th></th>\n",
       "      <th></th>\n",
       "      <th></th>\n",
       "      <th></th>\n",
       "      <th></th>\n",
       "      <th></th>\n",
       "    </tr>\n",
       "  </thead>\n",
       "  <tbody>\n",
       "    <tr>\n",
       "      <th>2024-01-02</th>\n",
       "      <td>124.699997</td>\n",
       "      <td>124.699997</td>\n",
       "      <td>124.699997</td>\n",
       "      <td>124.699997</td>\n",
       "      <td>124.699997</td>\n",
       "      <td>0</td>\n",
       "    </tr>\n",
       "  </tbody>\n",
       "</table>\n",
       "</div>"
      ],
      "text/plain": [
       "                  Open        High         Low       Close   Adj Close  Volume\n",
       "Date                                                                          \n",
       "2024-01-02  124.699997  124.699997  124.699997  124.699997  124.699997       0"
      ]
     },
     "execution_count": 54,
     "metadata": {},
     "output_type": "execute_result"
    }
   ],
   "source": [
    "# Get the quote\n",
    "stock_quote = yf.download(ticker,  start='2024-01-02', end='2024-01-03')\n",
    "stock_quote"
   ]
  },
  {
   "cell_type": "markdown",
   "id": "4f2faf62",
   "metadata": {},
   "source": [
    "#### Actual Close Price  is USD124.70 on Jan2, 2024"
   ]
  },
  {
   "cell_type": "code",
   "execution_count": null,
   "id": "68db0cc9",
   "metadata": {},
   "outputs": [],
   "source": []
  },
  {
   "cell_type": "markdown",
   "id": "9fe45f6c",
   "metadata": {},
   "source": [
    "### Conclusion\n",
    "\n",
    "#### It is impossible to get a perfect model that predict the price without any error, there are too many factors can affect the stock prices. "
   ]
  },
  {
   "cell_type": "code",
   "execution_count": null,
   "id": "3f83e531",
   "metadata": {},
   "outputs": [],
   "source": []
  },
  {
   "cell_type": "markdown",
   "id": "af184901",
   "metadata": {},
   "source": [
    "### Reference\n",
    "    \n",
    "    https://www.datacamp.com/tutorial/lstm-python-stock-market\n",
    "    https://www.tensorflow.org/api_docs/python/tf/keras/Model\n",
    "    https://towardsdatascience.com/predicting-stock-prices-using-a-keras-lstm-model-4225457f0233\n",
    "    https://medium.com/@prajjwalchauhan94017/stock-prediction-and-forecasting-using-lstm-long-short-term-memory-9ff56625de73\n",
    "    https://github.com/mwitiderrick/stockprice/blob/master/TATA%20.ipynb\n",
    "    https://medium.com/@vineet.pandya/use-tensorflow-lstm-for-time-series-forecasting-770ec789d2ce\n",
    "    https://www.projectpro.io/article/stock-price-prediction-using-machine-learning-project/571\n",
    "    https://www.datacamp.com/tutorial/ten-important-updates-tensorflow\n",
    "    \n",
    "    https://wandb.ai/ayush-thakur/dl-question-bank/reports/ReLU-vs-Sigmoid-Function-in-Deep-Neural-Networks--VmlldzoyMDk0MzI\n",
    "    https://www.educative.io/answers/sigmoid-vs-relu\n",
    "    https://deepdatascience.wordpress.com/2016/11/18/which-lstm-optimizer-to-use/\n",
    "    https://machinelearningmastery.com/custom-metrics-deep-learning-keras-python/\n",
    "    https://analyticsindiamag.com/why-should-the-learning-rate-always-be-low/\n",
    "    https://www.linkedin.com/advice/3/how-do-you-scale-up-your-lstm-model\n",
    "    https://cnvrg.io/keras-custom-loss-functions/\n"
   ]
  },
  {
   "cell_type": "markdown",
   "id": "794265f0",
   "metadata": {},
   "source": [
    "    Predicting Stock Prices with LSTMs: One Mistake Everyone Makes (Episode 16)\n",
    "        https://www.youtube.com/watch?v=Vfx1L2jh2Ng\n",
    "\n",
    "    Stock Price Prediction with Machine Learning Mistakes: Prices As Inputs (Episode 20)\n",
    "        https://www.youtube.com/watch?v=aIklUbW0UWI\n",
    "\n",
    "    Common Mistakes in Stock Price Prediction: Prices As Targets (Episode 21)\n",
    "        https://www.youtube.com/watch?v=xOcyV5Q2G5I\n",
    "\n",
    "    Common Mistakes in Stock Price Prediction: Train-Test Split (Episode 22)\n",
    "        https://www.youtube.com/watch?v=6t9hKclQNH4&t=8s"
   ]
  },
  {
   "cell_type": "markdown",
   "id": "8963bb69",
   "metadata": {},
   "source": [
    "#### Research Paper:\n",
    "    \n",
    "    Predicting stock market index using LSTM \n",
    "        https://www.sciencedirect.com/science/article/pii/S2666827022000378\n",
    "    Stock Price Prediction Using Machine Learning and LSTM-Based Deep Learning Models\n",
    "        https://www.techrxiv.org/users/680450/articles/683786-stock-price-prediction-using-machine-learning-and-lstm-based-deep-learning-models\n",
    "    Stock Price Prediction using LSTM Model    \n",
    "        https://drpress.org/ojs/index.php/HSET/article/view/7352/7153"
   ]
  },
  {
   "cell_type": "code",
   "execution_count": null,
   "id": "1d2857cc",
   "metadata": {},
   "outputs": [],
   "source": []
  }
 ],
 "metadata": {
  "kernelspec": {
   "display_name": "Python 3 (ipykernel)",
   "language": "python",
   "name": "python3"
  },
  "language_info": {
   "codemirror_mode": {
    "name": "ipython",
    "version": 3
   },
   "file_extension": ".py",
   "mimetype": "text/x-python",
   "name": "python",
   "nbconvert_exporter": "python",
   "pygments_lexer": "ipython3",
   "version": "3.10.13"
  }
 },
 "nbformat": 4,
 "nbformat_minor": 5
}
