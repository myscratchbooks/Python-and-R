{
 "cells": [
  {
   "cell_type": "markdown",
   "id": "8a967da5",
   "metadata": {},
   "source": [
    "## Iterate thru two lists and make all possible combinations"
   ]
  },
  {
   "cell_type": "code",
   "execution_count": 3,
   "id": "854e9c75",
   "metadata": {},
   "outputs": [
    {
     "name": "stdout",
     "output_type": "stream",
     "text": [
      "[(1, 0.5), (1, 4), (5, 0.5), (5, 4), (8, 0.5), (8, 4)]\n"
     ]
    }
   ],
   "source": [
    "first = [1, 5, 8]\n",
    "second = [0.5, 4]\n",
    "\n",
    "combined = [(f,s) for f in first for s in second]\n",
    "\n",
    "print(combined)"
   ]
  },
  {
   "cell_type": "code",
   "execution_count": 16,
   "id": "95c16eb4",
   "metadata": {
    "scrolled": true
   },
   "outputs": [
    {
     "data": {
      "text/plain": [
       "[(1, 0.5), (1, 4), (5, 0.5), (5, 4), (8, 0.5), (8, 4)]"
      ]
     },
     "execution_count": 16,
     "metadata": {},
     "output_type": "execute_result"
    }
   ],
   "source": [
    "[(first[i], second[j]) for i in range(len(first)) for j in range(len(second))]"
   ]
  },
  {
   "cell_type": "code",
   "execution_count": 11,
   "id": "1189d119",
   "metadata": {},
   "outputs": [
    {
     "data": {
      "text/plain": [
       "[(1, 0.5), (1, 4), (5, 0.5), (5, 4), (8, 0.5), (8, 4)]"
      ]
     },
     "execution_count": 11,
     "metadata": {},
     "output_type": "execute_result"
    }
   ],
   "source": [
    "from itertools import product\n",
    "list(itertools.product(first,second))"
   ]
  },
  {
   "cell_type": "code",
   "execution_count": 15,
   "id": "e6333efd",
   "metadata": {
    "scrolled": true
   },
   "outputs": [
    {
     "data": {
      "text/plain": [
       "[[(1, 0.5), (5, 4)],\n",
       " [(1, 0.5), (8, 4)],\n",
       " [(5, 0.5), (1, 4)],\n",
       " [(5, 0.5), (8, 4)],\n",
       " [(8, 0.5), (1, 4)],\n",
       " [(8, 0.5), (5, 4)]]"
      ]
     },
     "execution_count": 15,
     "metadata": {},
     "output_type": "execute_result"
    }
   ],
   "source": [
    "[list(zip(x,second)) for x in itertools.permutations(first,len(second)) ]"
   ]
  },
  {
   "cell_type": "code",
   "execution_count": 10,
   "id": "a9f60b4f",
   "metadata": {},
   "outputs": [
    {
     "data": {
      "text/plain": [
       "[(1, 0.5), (5, 4)]"
      ]
     },
     "execution_count": 10,
     "metadata": {},
     "output_type": "execute_result"
    }
   ],
   "source": [
    "list(zip(first,second))"
   ]
  },
  {
   "cell_type": "code",
   "execution_count": 4,
   "id": "ece881d4",
   "metadata": {},
   "outputs": [
    {
     "name": "stdout",
     "output_type": "stream",
     "text": [
      "[('Apples', 5, 1.5), ('Oranges', 3, 2.25), ('Bananas', 4, 0.89)]\n"
     ]
    }
   ],
   "source": [
    "fruits = ['Apples', 'Oranges', 'Bananas']\n",
    "quantities = [5, 3, 4]\n",
    "prices = [1.50, 2.25, 0.89]\n",
    "\n",
    "i = 0\n",
    "output = []\n",
    "for fruit in fruits:\n",
    "    temp_qty = quantities[i]\n",
    "    temp_price = prices[i]\n",
    "    output.append((fruit, temp_qty, temp_price))\n",
    "    i += 1\n",
    "\n",
    "print(output)"
   ]
  },
  {
   "cell_type": "code",
   "execution_count": 5,
   "id": "d1eb9236",
   "metadata": {},
   "outputs": [
    {
     "data": {
      "text/plain": [
       "[('Apples', 5, 1.5), ('Oranges', 3, 2.25), ('Bananas', 4, 0.89)]"
      ]
     },
     "execution_count": 5,
     "metadata": {},
     "output_type": "execute_result"
    }
   ],
   "source": [
    "list(zip(fruits,quantities,prices ))"
   ]
  },
  {
   "cell_type": "markdown",
   "id": "a4b0feba",
   "metadata": {},
   "source": [
    "## Iterate thru two lists and store in a dictionary"
   ]
  },
  {
   "cell_type": "code",
   "execution_count": 4,
   "id": "53c3b084",
   "metadata": {},
   "outputs": [
    {
     "name": "stdout",
     "output_type": "stream",
     "text": [
      "Resultant dictionary is : {'Rash': 1, 'Kil': 4, 'Varsha': 5}\n",
      "Resultant dictionary is : {1: 0.5, 5: 4}\n"
     ]
    }
   ],
   "source": [
    "# initializing lists\n",
    "test_keys = [\"Rash\", \"Kil\", \"Varsha\"]\n",
    "test_values = [1, 4, 5]\n",
    "# using zip()\n",
    "# to convert lists to dictionary\n",
    "res = dict(zip(test_keys, test_values))\n",
    "  \n",
    "# Printing resultant dictionary \n",
    "print (\"Resultant dictionary is : \" +  str(res))\n",
    "print (\"Resultant dictionary is : \" +  str(dict(zip(first, second))))"
   ]
  },
  {
   "cell_type": "code",
   "execution_count": 5,
   "id": "71593ec4",
   "metadata": {},
   "outputs": [
    {
     "name": "stdout",
     "output_type": "stream",
     "text": [
      "Resultant dictionary is : {'Rash': 1, 'Kil': 4, 'Varsha': 5}\n"
     ]
    }
   ],
   "source": [
    "# using dictionary comprehension\n",
    "# to convert lists to dictionary\n",
    "res = {test_keys[i]: test_values[i] for i in range(len(test_keys))}\n",
    "# Printing resultant dictionary \n",
    "print (\"Resultant dictionary is : \" +  str(res))"
   ]
  },
  {
   "cell_type": "code",
   "execution_count": 6,
   "id": "7dc55818",
   "metadata": {},
   "outputs": [
    {
     "name": "stdout",
     "output_type": "stream",
     "text": [
      "Resultant dictionary is : {'Rash': 1, 'Kil': 4, 'Varsha': 5}\n"
     ]
    }
   ],
   "source": [
    "# using naive method\n",
    "# to convert lists to dictionary\n",
    "res = {}\n",
    "for key in test_keys:\n",
    "    for value in test_values:\n",
    "        res[key] = value\n",
    "        test_values.remove(value)\n",
    "        break  \n",
    "  \n",
    "# Printing resultant dictionary \n",
    "print (\"Resultant dictionary is : \" +  str(res))"
   ]
  },
  {
   "cell_type": "markdown",
   "id": "a29cd4bf",
   "metadata": {},
   "source": [
    "Given a dictionary, get the strings out of the values and concatenate them into a single string"
   ]
  },
  {
   "cell_type": "code",
   "execution_count": 38,
   "id": "dad0f43a",
   "metadata": {},
   "outputs": [
    {
     "name": "stdout",
     "output_type": "stream",
     "text": [
      "The original dictionary is : {'str': 'Hello', 'id': 345, 'is': 'world', 'best': [10]}\n",
      "The list values are : ['Hello', 345, 'world', [10]]\n",
      "The string concatenation of dictionary is : Helloworld\n"
     ]
    }
   ],
   "source": [
    "from itertools import chain\n",
    "  \n",
    "# initializing dictionary\n",
    "test_dict = {\"str\" : 'Hello', \"id\": 345, \"is\" : 'world', \"best\" : [10]}\n",
    "  \n",
    "# printing original dictionary\n",
    "print(\"The original dictionary is : \" + str(test_dict))\n",
    "  \n",
    "values_list=list(test_dict.values())\n",
    "print(\"The list values are : \" + str(values_list))\n",
    "\n",
    "#for k,v in test_dict.items():\n",
    "x = \"\".join( [val for val in list(test_dict.values()) if type(val) == str])    \n",
    "print(\"The string concatenation of dictionary is : \" + x)"
   ]
  },
  {
   "cell_type": "markdown",
   "id": "1fd54762",
   "metadata": {},
   "source": [
    "To create functions using Dictionaries and the key: value pairs they contained"
   ]
  },
  {
   "cell_type": "code",
   "execution_count": 39,
   "id": "5e56b67f",
   "metadata": {},
   "outputs": [],
   "source": [
    "# http://www.compciv.org/guides/python/fundamentals/dictionaries-overview/\n",
    "datathing = [{\n",
    "    \"status\": \"good\",\n",
    "    \"body\": \"Everything operating normally.\",\n",
    "    \"created_on\": \"2016-01-21T20:28:31Z\"\n",
    "}, {\n",
    "    \"status\": \"minor\",\n",
    "    \"body\": \"We're investigating issues serving GitHub pages.\",\n",
    "    \"created_on\": \"2016-01-21T20:25:03Z\"\n",
    "}, {\n",
    "    \"status\": \"good\",\n",
    "    \"body\": \"Everything operating normally.\",\n",
    "    \"created_on\": \"2016-01-20T22:56:57Z\"\n",
    "}, {\n",
    "    \"status\": \"minor\",\n",
    "    \"body\": \"We're investigating issues affecting a small number of repositories.\",\n",
    "    \"created_on\": \"2016-01-20T22:47:07Z\"\n",
    "}]"
   ]
  },
  {
   "cell_type": "code",
   "execution_count": 42,
   "id": "a5f131fc",
   "metadata": {},
   "outputs": [],
   "source": [
    "def message(m):\n",
    "    for d in m: # remember that datathing is a list\n",
    "      print(d['created_on'], '--',\n",
    "        d['status'] + ':')\n",
    "      print(d['body'])\n",
    "      print(\"\")"
   ]
  },
  {
   "cell_type": "code",
   "execution_count": 43,
   "id": "f92242b1",
   "metadata": {},
   "outputs": [
    {
     "name": "stdout",
     "output_type": "stream",
     "text": [
      "2016-01-21T20:28:31Z -- good:\n",
      "Everything operating normally.\n",
      "\n",
      "2016-01-21T20:25:03Z -- minor:\n",
      "We're investigating issues serving GitHub pages.\n",
      "\n",
      "2016-01-20T22:56:57Z -- good:\n",
      "Everything operating normally.\n",
      "\n",
      "2016-01-20T22:47:07Z -- minor:\n",
      "We're investigating issues affecting a small number of repositories.\n",
      "\n"
     ]
    }
   ],
   "source": [
    "message(datathing)"
   ]
  },
  {
   "cell_type": "code",
   "execution_count": 2,
   "id": "86aa7323",
   "metadata": {},
   "outputs": [
    {
     "name": "stdout",
     "output_type": "stream",
     "text": [
      "Maximum value: 104 At index: 4\n"
     ]
    }
   ],
   "source": [
    "#Find Maximum Value in a List\n",
    "numbers = [55, 4, 92, 1, 104, 64, 73, 99, 20]\n",
    "\n",
    "max_value = max(numbers)\n",
    "print('Maximum value:', max_value, \"At index:\", numbers.index(max_value))"
   ]
  },
  {
   "cell_type": "code",
   "execution_count": 3,
   "id": "8ea50294",
   "metadata": {},
   "outputs": [
    {
     "name": "stdout",
     "output_type": "stream",
     "text": [
      "Maximum value: Kiwi At index: 1\n"
     ]
    }
   ],
   "source": [
    "#The function max() will return the largest element, ordered by alphabet, for a list of strings. \n",
    "#The letter Z is the largest value, and A is the smallest.\n",
    "strings = ['Elephant', 'Kiwi', 'Gorilla', 'Jaguar', 'Kangaroo', 'Cat']\n",
    "\n",
    "max_value = max(strings)\n",
    "print('Maximum value:', max_value, \"At index:\", strings.index(max_value))"
   ]
  },
  {
   "cell_type": "code",
   "execution_count": 6,
   "id": "69958802",
   "metadata": {},
   "outputs": [
    {
     "name": "stdout",
     "output_type": "stream",
     "text": [
      "Maximum value: Elephant At index: 0\n"
     ]
    }
   ],
   "source": [
    "max_value = max(strings, key = len)\n",
    "print('Maximum value:', max_value, \"At index:\", strings.index(max_value))"
   ]
  },
  {
   "cell_type": "code",
   "execution_count": 7,
   "id": "4e1a22a3",
   "metadata": {},
   "outputs": [
    {
     "name": "stdout",
     "output_type": "stream",
     "text": [
      "Maximum length string is : Elephant\n"
     ]
    }
   ],
   "source": [
    "# Longest String in list\n",
    "# using loop\n",
    "max_len = -1\n",
    "for ele in strings:\n",
    "    if len(ele) > max_len:\n",
    "        max_len = len(ele)\n",
    "        res = ele\n",
    "  \n",
    "# printing result\n",
    "print(\"Maximum length string is : \" + res)"
   ]
  },
  {
   "cell_type": "code",
   "execution_count": 9,
   "id": "ae741094",
   "metadata": {
    "scrolled": true
   },
   "outputs": [
    {
     "name": "stdout",
     "output_type": "stream",
     "text": [
      "Longest word is:  twisted\n",
      "And its length is:  7\n"
     ]
    }
   ],
   "source": [
    "# Finding longest word\n",
    "sentence= \"Tongue tied and twisted just an earth bound misfit I\"\n",
    "longest = max(sentence.split(), key=len)\n",
    "\n",
    "# Displaying longest word\n",
    "print(\"Longest word is: \", longest)\n",
    "print(\"And its length is: \", len(longest))"
   ]
  },
  {
   "cell_type": "markdown",
   "id": "815c5832",
   "metadata": {},
   "source": [
    "# find the unique in the list"
   ]
  },
  {
   "cell_type": "code",
   "execution_count": 55,
   "id": "2da11f83",
   "metadata": {},
   "outputs": [
    {
     "data": {
      "text/plain": [
       "[1, 2, 3, 4, 5]"
      ]
     },
     "execution_count": 55,
     "metadata": {},
     "output_type": "execute_result"
    }
   ],
   "source": [
    "\n",
    "list1 = [5, 1,3, 2, 5, 1,  4, 3, 2, 5]  \n",
    "[item for item in set(list1) ]"
   ]
  },
  {
   "cell_type": "code",
   "execution_count": 57,
   "id": "d390f98b",
   "metadata": {},
   "outputs": [
    {
     "data": {
      "text/plain": [
       "[5, 1, 3, 2, 4]"
      ]
     },
     "execution_count": 57,
     "metadata": {},
     "output_type": "execute_result"
    }
   ],
   "source": [
    "[list1[i] for i in range(len(list1)) if i == list1.index(list1[i])] # Order preserving"
   ]
  },
  {
   "cell_type": "code",
   "execution_count": 58,
   "id": "6415c00e",
   "metadata": {},
   "outputs": [
    {
     "data": {
      "text/plain": [
       "odict_keys([5, 1, 3, 2, 4])"
      ]
     },
     "execution_count": 58,
     "metadata": {},
     "output_type": "execute_result"
    }
   ],
   "source": [
    "from collections import OrderedDict\n",
    "\n",
    "OrderedDict( (x,1) for x in list1 ).keys()  # Order preserving\n"
   ]
  },
  {
   "cell_type": "code",
   "execution_count": 64,
   "id": "f78c0246",
   "metadata": {},
   "outputs": [
    {
     "data": {
      "text/plain": [
       "[5, 1, 3, 2, 4]"
      ]
     },
     "execution_count": 64,
     "metadata": {},
     "output_type": "execute_result"
    }
   ],
   "source": [
    " list(OrderedDict.fromkeys(list1))"
   ]
  },
  {
   "cell_type": "code",
   "execution_count": 65,
   "id": "159afba3",
   "metadata": {},
   "outputs": [
    {
     "data": {
      "text/plain": [
       "[5, 1, 3, 2, 4]"
      ]
     },
     "execution_count": 65,
     "metadata": {},
     "output_type": "execute_result"
    }
   ],
   "source": [
    "[ii for n,ii in enumerate(list1) if ii not in list1[:n]]"
   ]
  },
  {
   "cell_type": "code",
   "execution_count": 67,
   "id": "2d7af7f8",
   "metadata": {},
   "outputs": [
    {
     "data": {
      "text/plain": [
       "[5, 1, 3, 2, 4]"
      ]
     },
     "execution_count": 67,
     "metadata": {},
     "output_type": "execute_result"
    }
   ],
   "source": [
    "[x for i, x in enumerate(list1) if i == list1.index(x)]"
   ]
  },
  {
   "cell_type": "markdown",
   "id": "fbc43d5f",
   "metadata": {},
   "source": [
    "# find the duplcates in the list"
   ]
  },
  {
   "cell_type": "code",
   "execution_count": 59,
   "id": "b27dafce",
   "metadata": {
    "scrolled": true
   },
   "outputs": [
    {
     "name": "stdout",
     "output_type": "stream",
     "text": [
      "duplicate elements [1, 2, 3, 5]\n"
     ]
    }
   ],
   "source": [
    "visited = set()\n",
    "dup = {x for x in list1 if x in visited or (visited.add(x) or False)}\n",
    "s= [*dup,]\n",
    "print('duplicate elements', s)\n"
   ]
  },
  {
   "cell_type": "code",
   "execution_count": 62,
   "id": "69bc8540",
   "metadata": {},
   "outputs": [
    {
     "data": {
      "text/plain": [
       "[1, 2, 3, 5]"
      ]
     },
     "execution_count": 62,
     "metadata": {},
     "output_type": "execute_result"
    }
   ],
   "source": [
    "list(set([x for x in list1 if list1.count(x) > 1]))"
   ]
  },
  {
   "cell_type": "code",
   "execution_count": 60,
   "id": "de67d0ef",
   "metadata": {},
   "outputs": [
    {
     "name": "stdout",
     "output_type": "stream",
     "text": [
      "[5, 1, 3, 2]\n"
     ]
    }
   ],
   "source": [
    "from collections import Counter\n",
    "d =  Counter(list1)  \n",
    "res = [k for k, v in d.items() if v > 1]\n",
    "print(res)"
   ]
  },
  {
   "cell_type": "markdown",
   "id": "e7f6f929",
   "metadata": {},
   "source": [
    "https://blog.finxter.com/get-unique-values-from-a-list-in-python/"
   ]
  },
  {
   "cell_type": "code",
   "execution_count": 22,
   "id": "6d58dd07",
   "metadata": {},
   "outputs": [
    {
     "data": {
      "text/plain": [
       "['nowplaying', 'PBS', 'job', 'debate', 'thenandnow']"
      ]
     },
     "execution_count": 22,
     "metadata": {},
     "output_type": "execute_result"
    }
   ],
   "source": [
    "def unique_list(mylist): # Order preserving\n",
    "    result = []\n",
    "    for i in mylist:\n",
    "        if i not in result:\n",
    "            result.append(i)\n",
    "    return result\n",
    "\n",
    "list2=['python', 'java', 'C', 'C', 'java', 'python', 'ruby', 'python']\n",
    "unique_list(list2)"
   ]
  },
  {
   "cell_type": "code",
   "execution_count": 43,
   "id": "31cb259a",
   "metadata": {},
   "outputs": [
    {
     "data": {
      "text/plain": [
       "['C', 'java', 'python', 'ruby']"
      ]
     },
     "execution_count": 43,
     "metadata": {},
     "output_type": "execute_result"
    }
   ],
   "source": [
    "list4=['python', 'java', 'C', 'C', 'java', 'python', 'ruby', 'python']\n",
    "my_list= list(set(list4))  #  Order NOT preserving\n",
    "my_list"
   ]
  },
  {
   "cell_type": "code",
   "execution_count": 47,
   "id": "7284e292",
   "metadata": {},
   "outputs": [
    {
     "data": {
      "text/plain": [
       "['nowplaying', 'job', 'PBS', 'debate', 'thenandnow']"
      ]
     },
     "execution_count": 47,
     "metadata": {},
     "output_type": "execute_result"
    }
   ],
   "source": [
    "# list.append(element) doesn’t return anything – it appends an element to the list in-place.\n",
    "# https://stackoverflow.com/questions/34565099/list-comprehension-output-is-none\n",
    "#def unique_list2(mylist): # Order preserving\n",
    "#    ls=[]\n",
    "#    return [ls.append(i) for i in mylist if i not in ls]\n",
    "#unique_list2(list3)   \n",
    "\n",
    "list3=['nowplaying', 'job', 'PBS', 'PBS', 'nowplaying', 'job', 'debate', 'thenandnow']\n",
    "#uniq = []\n",
    "#[uniq.append(x) for x in list3 if x not in uniq] \n",
    "\n",
    "\n",
    "# https://www.faqcode4u.com/faq/323733/python-list-comprehension-with-unique-items\n",
    "[x for i, x in enumerate(list3) if list3.index(x) == i] # Order preserving"
   ]
  },
  {
   "cell_type": "code",
   "execution_count": 52,
   "id": "c50c3d00",
   "metadata": {},
   "outputs": [
    {
     "name": "stdout",
     "output_type": "stream",
     "text": [
      "[1, 2, 5, 1, 3, 4, 3, 2, 5]\n",
      "[1, 2, 5, 3]\n"
     ]
    }
   ],
   "source": [
    "# https://stackoverflow.com/questions/42322331/pythonic-way-to-find-all-elements-with-the-highest-frequency\n",
    "from collections import Counter\n",
    "\n",
    "c = Counter(list1)\n",
    "m = max(c.values())\n",
    "r = [k for k in c if c[k] == m]\n",
    "print(list1)\n",
    "print(r)"
   ]
  },
  {
   "cell_type": "code",
   "execution_count": 1,
   "id": "cf6ac4df",
   "metadata": {},
   "outputs": [
    {
     "name": "stdout",
     "output_type": "stream",
     "text": [
      "Most frequent number is : 4\n"
     ]
    }
   ],
   "source": [
    "def max_freq(test_list):\n",
    "    max = 0\n",
    "    res = test_list[0]\n",
    "    for i in test_list:\n",
    "        freq = test_list.count(i)\n",
    "        if freq > max:\n",
    "            max = freq\n",
    "            res = i\n",
    "    return res\n",
    "\n",
    "list3 = [9, 4, 5, 4, 4, 5, 9, 5, 4]\n",
    "print (\"Most frequent number is : \" + str(max_freq(list3) ) )\n"
   ]
  },
  {
   "cell_type": "code",
   "execution_count": 48,
   "id": "585f433f",
   "metadata": {},
   "outputs": [
    {
     "name": "stdout",
     "output_type": "stream",
     "text": [
      "3\n"
     ]
    }
   ],
   "source": [
    "# https://www.geeksforgeeks.org/python-find-most-frequent-element-in-a-list/\n",
    "def most_frequent(List):\n",
    "    counter = 0\n",
    "    num = List[0]\n",
    "     \n",
    "    for i in List:\n",
    "        curr_frequency = List.count(i)\n",
    "        if(curr_frequency> counter):\n",
    "            counter = curr_frequency\n",
    "            num = i\n",
    " \n",
    "    return num\n",
    "\n",
    "list4 =[1, 2, 5, 1, 3, 4, 3, 2, 5, 3]  \n",
    "print(most_frequent(list4))"
   ]
  },
  {
   "cell_type": "code",
   "execution_count": 50,
   "id": "36632c55",
   "metadata": {},
   "outputs": [
    {
     "name": "stdout",
     "output_type": "stream",
     "text": [
      "3\n"
     ]
    }
   ],
   "source": [
    "\n",
    "# Program to find most frequent\n",
    "# element in a list\n",
    "def most_frequent(List):\n",
    "    return max(set(List), key = List.count)\n",
    " \n",
    "print(most_frequent(list4))"
   ]
  },
  {
   "cell_type": "markdown",
   "id": "cd695135",
   "metadata": {},
   "source": [
    "# Count duplicates"
   ]
  },
  {
   "cell_type": "code",
   "execution_count": 68,
   "id": "6cffb743",
   "metadata": {},
   "outputs": [
    {
     "name": "stdout",
     "output_type": "stream",
     "text": [
      "{1: 4, 2: 4, 3: 2, 4: 1, 5: 2}\n"
     ]
    }
   ],
   "source": [
    "from collections import Counter\n",
    "\n",
    "a = [1,1,1,1,2,2,2,2,3,3,4,5,5]\n",
    "counter=Counter(a)\n",
    "print(dict(counter))\n"
   ]
  },
  {
   "cell_type": "code",
   "execution_count": 69,
   "id": "892ffeec",
   "metadata": {},
   "outputs": [
    {
     "data": {
      "text/plain": [
       "{1: 4, 2: 4, 3: 2, 4: 1, 5: 2}"
      ]
     },
     "execution_count": 69,
     "metadata": {},
     "output_type": "execute_result"
    }
   ],
   "source": [
    "{i:a.count(i) for i in a}"
   ]
  },
  {
   "cell_type": "code",
   "execution_count": 70,
   "id": "af67dd4e",
   "metadata": {
    "scrolled": true
   },
   "outputs": [
    {
     "data": {
      "text/plain": [
       "{1: 4, 2: 4, 3: 2, 4: 1, 5: 2}"
      ]
     },
     "execution_count": 70,
     "metadata": {},
     "output_type": "execute_result"
    }
   ],
   "source": [
    " dict((i, a.count(i)) for i in a)"
   ]
  },
  {
   "cell_type": "code",
   "execution_count": 75,
   "id": "2bbb8602",
   "metadata": {
    "scrolled": true
   },
   "outputs": [
    {
     "name": "stdout",
     "output_type": "stream",
     "text": [
      "orginal list:  [5, 1, 3, 2, 5, 1, 4, 3, 2, 5]\n",
      "Count duplicate without order:  {5: 3, 1: 2, 3: 2, 2: 2, 4: 1}\n",
      "Count duplicate with order:  {1: 2, 2: 2, 3: 2, 4: 1, 5: 3}\n"
     ]
    }
   ],
   "source": [
    "print('orginal list: ', list1)\n",
    "print('Count duplicate without order: ', dict( (i, list1.count(i)) for i in list1) )\n",
    "print('Count duplicate with order: ', dict( sorted( (i, list1.count(i)) for i in list1 ) ) )"
   ]
  },
  {
   "cell_type": "markdown",
   "id": "1d7ef709",
   "metadata": {},
   "source": [
    "# find highest count in list"
   ]
  },
  {
   "cell_type": "code",
   "execution_count": 86,
   "id": "723a3daa",
   "metadata": {},
   "outputs": [
    {
     "data": {
      "text/plain": [
       "(5, 3)"
      ]
     },
     "execution_count": 86,
     "metadata": {},
     "output_type": "execute_result"
    }
   ],
   "source": [
    "max( (x, list1.count(x)) for x in list1)"
   ]
  },
  {
   "cell_type": "markdown",
   "id": "9f8a3b50",
   "metadata": {},
   "source": [
    "# find max/min count in dict"
   ]
  },
  {
   "cell_type": "code",
   "execution_count": 91,
   "id": "7cd76b7e",
   "metadata": {},
   "outputs": [
    {
     "data": {
      "text/plain": [
       "('Jack', 43)"
      ]
     },
     "execution_count": 91,
     "metadata": {},
     "output_type": "execute_result"
    }
   ],
   "source": [
    "mydict = {        'Matt': 30,\n",
    "    'Katie': 29,\n",
    "    'Nik': 31,\n",
    "    'Jack': 43,\n",
    "    'Jill': 43,\n",
    "    'Alison': 32,\n",
    "    'Kevin': 38}\n",
    "max(mydict.items(), key=lambda k: k[1])    # min(mydict.items(), key=lambda k: k[1])"
   ]
  },
  {
   "cell_type": "code",
   "execution_count": 93,
   "id": "686b17dd",
   "metadata": {},
   "outputs": [
    {
     "data": {
      "text/plain": [
       "[{'Jack': 43}, {'Jill': 43}]"
      ]
     },
     "execution_count": 93,
     "metadata": {},
     "output_type": "execute_result"
    }
   ],
   "source": [
    "[{key:value} for key, value in mydict.items() if value == max(mydict.values())]"
   ]
  },
  {
   "cell_type": "code",
   "execution_count": 65,
   "id": "80a8f7ce",
   "metadata": {},
   "outputs": [
    {
     "name": "stdout",
     "output_type": "stream",
     "text": [
      "Count of all characters in GeeksforGeeks is :\n",
      "  {'G': 2, 'e': 4, 'k': 2, 's': 2, 'f': 1, 'o': 1, 'r': 1}\n"
     ]
    }
   ],
   "source": [
    "# https://www.geeksforgeeks.org/python-frequency-of-each-character-in-string/\n",
    "# initializing string \n",
    "test_str = \"GeeksforGeeks\"\n",
    "res = Counter(test_str)\n",
    "  \n",
    "# printing result \n",
    "print (\"Count of all characters in GeeksforGeeks is :\\n \" , dict(res) )"
   ]
  },
  {
   "cell_type": "code",
   "execution_count": null,
   "id": "a1cae3d4",
   "metadata": {},
   "outputs": [],
   "source": []
  },
  {
   "cell_type": "code",
   "execution_count": 84,
   "id": "a4877264",
   "metadata": {},
   "outputs": [
    {
     "name": "stdout",
     "output_type": "stream",
     "text": [
      "Character has largest value is e\n",
      "4\n",
      "Character has largest value is e, has value 4\n"
     ]
    }
   ],
   "source": [
    "#https://datagy.io/python-get-dictionary-key-with-max-value/\n",
    "# max_keys = [key for key, value in dict.items() if value == max(dict.values())]\n",
    "d = dict(res) \n",
    "max_chr = max(d, key=d.get)\n",
    "\n",
    "#max_value = max([max(d for dict in d])\n",
    "print('Character has largest value is ' + max_chr) \n",
    "print( d[max_chr] )\n",
    "print(\"Character has largest value is {}, has value {}\".format(max_chr,d[max_chr] )) "
   ]
  },
  {
   "cell_type": "code",
   "execution_count": 61,
   "id": "c1a2802a",
   "metadata": {},
   "outputs": [
    {
     "name": "stdout",
     "output_type": "stream",
     "text": [
      "{'s', 'k', 'o', 'f', 'G', 'e', 'r'}\n"
     ]
    }
   ],
   "source": [
    "print(set(res))"
   ]
  },
  {
   "cell_type": "code",
   "execution_count": 54,
   "id": "4ed1874f",
   "metadata": {},
   "outputs": [],
   "source": [
    "def freq(str):\n",
    "  \n",
    "    # break the string into list of words\n",
    "    str_list = str.split()\n",
    "  \n",
    "    # gives set of unique words\n",
    "    unique_words = set(str_list)\n",
    "      \n",
    "    for words in unique_words :\n",
    "        print('Frequency of ', words , 'is :', str_list.count(words))"
   ]
  },
  {
   "cell_type": "code",
   "execution_count": 55,
   "id": "1dee93be",
   "metadata": {},
   "outputs": [
    {
     "name": "stdout",
     "output_type": "stream",
     "text": [
      "Frequency of  guava is : 1\n",
      "Frequency of  apple is : 3\n",
      "Frequency of  orange is : 2\n",
      "Frequency of  mango is : 3\n"
     ]
    }
   ],
   "source": [
    "#Find frequency of each word in a string\n",
    "# https://www.geeksforgeeks.org/find-frequency-of-each-word-in-a-string-in-python/?ref=lbp\n",
    "#\n",
    "str ='apple mango apple orange orange apple guava mango mango'\n",
    "      \n",
    "    # calling the freq function\n",
    "freq(str)"
   ]
  },
  {
   "cell_type": "code",
   "execution_count": 58,
   "id": "1c779619",
   "metadata": {},
   "outputs": [
    {
     "name": "stdout",
     "output_type": "stream",
     "text": [
      "{'apple': 3, 'mango': 3, 'orange': 2, 'guava': 1}\n"
     ]
    }
   ],
   "source": [
    "# https://algodaily.com/challenges/find-duplicate-words/info-screen-LmE2ZvZWd0Q\n",
    "split_s = str.lower().split(' ')\n",
    "\n",
    "occurrences = {}\n",
    "\n",
    "for word in split_s:\n",
    "    if word not in occurrences:\n",
    "        occurrences[word] = 1\n",
    "    else:\n",
    "        occurrences[word] += 1\n",
    "\n",
    "print(occurrences)"
   ]
  },
  {
   "cell_type": "code",
   "execution_count": 56,
   "id": "35eea34a",
   "metadata": {},
   "outputs": [
    {
     "name": "stdout",
     "output_type": "stream",
     "text": [
      "The duplicate word in the string is: \n",
      "apple\n",
      "mango\n",
      "orange\n"
     ]
    }
   ],
   "source": [
    "# https://www.knowprogram.com/python/find-duplicate-words-in-string-python/\n",
    "str = str.lower()\n",
    "\n",
    "# split function\n",
    "words = str.split(\" \")\n",
    "\n",
    "print(\"The duplicate word in the string is: \")\n",
    "# range function\n",
    "for i in range(0, len(words)):\n",
    "   count = 1\n",
    "   for x in range(i+1, len(words)):\n",
    "      if(words[i] == (words[x])):\n",
    "         count = count + 1\n",
    "         # To prevent printing a visited word,\n",
    "         # set words[x] to 0.\n",
    "         words[x] = \"0\"\n",
    "   # duplicate word if count is more than 1\n",
    "   if(count > 1 and words[i] != \"0\"):\n",
    "      print(words[i])"
   ]
  },
  {
   "cell_type": "code",
   "execution_count": 60,
   "id": "6ee4e08a",
   "metadata": {},
   "outputs": [
    {
     "name": "stdout",
     "output_type": "stream",
     "text": [
      "{'guava', 'apple', 'orange', 'mango'}\n"
     ]
    }
   ],
   "source": [
    "s =set(str.split())\n",
    "print(s)"
   ]
  },
  {
   "cell_type": "markdown",
   "id": "50857836",
   "metadata": {},
   "source": [
    "import pandas as pd\n",
    "df = pd.DataFrame(..)\n",
    "df.dropna(inplace = True)\n",
    "\n",
    "df.nlargest(n=5, ['columns'], keep='last')  ties are resolved in reverse order:\n",
    "df.nlargest(n=5, 'column', keep='all')   all duplicate items are maintained:\n",
    "df.nsmallest(5, \"Salary\") extracting least 5"
   ]
  },
  {
   "cell_type": "code",
   "execution_count": 1,
   "id": "01785b9c",
   "metadata": {},
   "outputs": [
    {
     "name": "stdout",
     "output_type": "stream",
     "text": [
      "The maximum element of the list is : 7\n"
     ]
    }
   ],
   "source": [
    "# https://www.geeksforgeeks.org/python-lambda-anonymous-functions-filter-map-reduce/#:~:text=The%20map()%20function%20in,that%20function%20for%20each%20item.\n",
    "\n",
    "# importing functools for reduce()\n",
    "import functools\n",
    " \n",
    "# initializing list\n",
    "lis = [7, 1 , 3, 5, 6, 2, ]\n",
    " \n",
    "# using reduce to compute maximum element from list\n",
    "print (\"The maximum element of the list is : \",end=\"\")\n",
    "print (functools.reduce(lambda a,b : a if a > b else b,lis))"
   ]
  },
  {
   "cell_type": "code",
   "execution_count": 6,
   "id": "61b2eca8",
   "metadata": {},
   "outputs": [
    {
     "name": "stdout",
     "output_type": "stream",
     "text": [
      "0 eat\n",
      "1 sleep\n",
      "2 repeat\n"
     ]
    }
   ],
   "source": [
    "list5=[\"eat\", \"sleep\", \"repeat\"]\n",
    "for count, value in enumerate(list5):\n",
    "    print(count, value)   # enumerate() is that it returns a tuple with the counter and value"
   ]
  },
  {
   "cell_type": "code",
   "execution_count": 8,
   "id": "54e8ae30",
   "metadata": {},
   "outputs": [],
   "source": [
    "# https://realpython.com/python-enumerate/\n",
    "def even_items(iterable):\n",
    "    return [v for i, v in enumerate(iterable, start=1) if not i % 2]"
   ]
  },
  {
   "cell_type": "code",
   "execution_count": 9,
   "id": "88ce70be",
   "metadata": {
    "scrolled": true
   },
   "outputs": [
    {
     "name": "stdout",
     "output_type": "stream",
     "text": [
      "[1, 2, 3, 4, 5, 6, 7, 8, 9, 10]\n"
     ]
    },
    {
     "data": {
      "text/plain": [
       "[2, 4, 6, 8, 10]"
      ]
     },
     "execution_count": 9,
     "metadata": {},
     "output_type": "execute_result"
    }
   ],
   "source": [
    "seq = list(range(1, 11))\n",
    "print(seq)\n",
    "even_items(seq)"
   ]
  },
  {
   "cell_type": "markdown",
   "id": "ee97488f",
   "metadata": {},
   "source": [
    "# Print the index of the character in a string"
   ]
  },
  {
   "cell_type": "code",
   "execution_count": 2,
   "id": "2e5488e5",
   "metadata": {},
   "outputs": [
    {
     "name": "stdout",
     "output_type": "stream",
     "text": [
      "Current character w position at 0\n",
      "Current character 3 position at 1\n",
      "Current character r position at 2\n",
      "Current character e position at 3\n",
      "Current character s position at 4\n",
      "Current character o position at 5\n",
      "Current character u position at 6\n",
      "Current character r position at 7\n",
      "Current character c position at 8\n",
      "Current character e position at 9\n"
     ]
    }
   ],
   "source": [
    "str1 = \"w3resource\"\n",
    "for index, char in enumerate(str1):\n",
    "    print(\"Current character\", char, \"position at\", index )"
   ]
  },
  {
   "cell_type": "code",
   "execution_count": 5,
   "id": "ecc30157",
   "metadata": {},
   "outputs": [
    {
     "name": "stdout",
     "output_type": "stream",
     "text": [
      "Current character w position at = 0\n",
      "Current character 3 position at = 1\n",
      "Current character r position at = 2\n",
      "Current character e position at = 3\n",
      "Current character s position at = 4\n",
      "Current character o position at = 5\n",
      "Current character u position at = 6\n",
      "Current character r position at = 7\n",
      "Current character c position at = 8\n",
      "Current character e position at = 9\n"
     ]
    }
   ],
   "source": [
    "for i in range(len(str1)):\n",
    "    print(\"Current character %c position at = %d\" %(str1[i], i))"
   ]
  },
  {
   "cell_type": "markdown",
   "id": "4ca638b5",
   "metadata": {},
   "source": [
    "# Using lambda() Function with map()\n",
    "\n",
    "#### A lambda operator or lambda function is used for creating small, one-time, anonymous function objects in Python.\n",
    "#### lambda arguments : expression\n",
    "\n",
    "#### map functions expect a function object and any number of iterables, such as list, dictionary, etc. It executes the function_object for each element in the sequence and returns a list of the elements modified by the function object.\n",
    "#### map(function_object, iterable1, iterable2,...)"
   ]
  },
  {
   "cell_type": "code",
   "execution_count": 6,
   "id": "afb434a2",
   "metadata": {},
   "outputs": [
    {
     "data": {
      "text/plain": [
       "['SUMMER!', 'IS!', 'COMING!']"
      ]
     },
     "execution_count": 6,
     "metadata": {},
     "output_type": "execute_result"
    }
   ],
   "source": [
    "strs = ['Summer', 'is', 'coming']\n",
    "list(map(lambda s: s.upper() + '!', strs))"
   ]
  },
  {
   "cell_type": "code",
   "execution_count": 7,
   "id": "12a648eb",
   "metadata": {
    "scrolled": true
   },
   "outputs": [
    {
     "data": {
      "text/plain": [
       "['SUMMER!', 'IS!', 'COMING!']"
      ]
     },
     "execution_count": 7,
     "metadata": {},
     "output_type": "execute_result"
    }
   ],
   "source": [
    "list(map(lambda strs: str.upper(strs)  + '!', strs))"
   ]
  },
  {
   "cell_type": "code",
   "execution_count": 11,
   "id": "92eb7438",
   "metadata": {},
   "outputs": [
    {
     "name": "stdout",
     "output_type": "stream",
     "text": [
      "[8, 27, 64, 125]\n"
     ]
    }
   ],
   "source": [
    "# Iterating Over a Dictionary Using Map and Lambda\n",
    "# Using lambda function to iterate over a dictionary\n",
    "my_squares = {2:4, 3:9, 4:16, 5:25}  \n",
    "my_cubes = list(map(lambda key: key**3, my_squares.keys())) \n",
    "print(my_cubes)"
   ]
  },
  {
   "cell_type": "markdown",
   "id": "78ee0584",
   "metadata": {},
   "source": [
    "# Using lambda() Function with filter()"
   ]
  },
  {
   "cell_type": "code",
   "execution_count": 9,
   "id": "b9d02d01",
   "metadata": {},
   "outputs": [
    {
     "data": {
      "text/plain": [
       "['Summer', 'coming']"
      ]
     },
     "execution_count": 9,
     "metadata": {},
     "output_type": "execute_result"
    }
   ],
   "source": [
    "list(filter(lambda s: len(s) > 3, strs))"
   ]
  },
  {
   "cell_type": "code",
   "execution_count": 14,
   "id": "9a7cfed6",
   "metadata": {},
   "outputs": [
    {
     "data": {
      "text/plain": [
       "[{'name': 'python', 'points': 10}]"
      ]
     },
     "execution_count": 14,
     "metadata": {},
     "output_type": "execute_result"
    }
   ],
   "source": [
    "dict_a = [{'name': 'python', 'points': 10}, {'name': 'java', 'points': 8}]\n",
    "\n",
    "list(filter(lambda x : x['name'] == 'python', dict_a))\n"
   ]
  },
  {
   "cell_type": "code",
   "execution_count": 24,
   "id": "1449f5e2",
   "metadata": {},
   "outputs": [
    {
     "data": {
      "text/plain": [
       "[{'name': 'python', 'points': 10}]"
      ]
     },
     "execution_count": 24,
     "metadata": {},
     "output_type": "execute_result"
    }
   ],
   "source": [
    "list(d for d in dict_a if  d['name'] == 'python')"
   ]
  },
  {
   "cell_type": "code",
   "execution_count": 31,
   "id": "8b1ee2d0",
   "metadata": {},
   "outputs": [
    {
     "name": "stdout",
     "output_type": "stream",
     "text": [
      "Filter dictionary: {9: 'z', 3: 's'}\n"
     ]
    }
   ],
   "source": [
    "my_dict = {8:'u', 4:'t', 9:'z', 10:'j' ,5:'k', 3:'s'}\n",
    "\n",
    "new_filt = dict(filter(lambda key: key[0] % 3 == 0, my_dict.items()))\n",
    "print(\"Filter dictionary:\",new_filt)"
   ]
  },
  {
   "cell_type": "code",
   "execution_count": 28,
   "id": "41fa6437",
   "metadata": {},
   "outputs": [
    {
     "name": "stdout",
     "output_type": "stream",
     "text": [
      "None keys element :  {'Banana': None, 'oranges': None}\n"
     ]
    }
   ],
   "source": [
    "my_dict = {'Mangoes' : 4, 'Cherry' : 6, 'Banana' : None, 'oranges': None}\n",
    "new_filt = dict(filter(lambda item: item[1] is None, my_dict.items()))\n",
    "print(\"None element : \",new_filt)"
   ]
  },
  {
   "cell_type": "code",
   "execution_count": null,
   "id": "54d2bd33",
   "metadata": {},
   "outputs": [],
   "source": []
  },
  {
   "cell_type": "code",
   "execution_count": null,
   "id": "8fb74de9",
   "metadata": {},
   "outputs": [],
   "source": []
  },
  {
   "cell_type": "code",
   "execution_count": 31,
   "id": "79fdb9c8",
   "metadata": {},
   "outputs": [
    {
     "data": {
      "text/plain": [
       "[99, 0, 95, 94, 0]"
      ]
     },
     "execution_count": 31,
     "metadata": {},
     "output_type": "execute_result"
    }
   ],
   "source": [
    "\n",
    "def foo(lst):\n",
    "    return [v if not isinstance(v,str) else 0 for v in lst]\n",
    "\n",
    "foo([99, 'no data', 95, 94, 'no data'])"
   ]
  },
  {
   "cell_type": "markdown",
   "id": "b9793f7c",
   "metadata": {},
   "source": [
    "##  Check if a Number is an Armstrong Number\n",
    "#### A number of n-digits can be defined as an Armstrong number if and only if the sum of its digits powered to n is equal to the number itself. For example, 1634 is an Armstrong number as 1634 = 1^4 +6^4 +3^4 + 4^4\n",
    "#### https://www.scaler.com/topics/armstrong-number-in-python/"
   ]
  },
  {
   "cell_type": "code",
   "execution_count": 32,
   "id": "5ace4ac8",
   "metadata": {},
   "outputs": [
    {
     "name": "stdout",
     "output_type": "stream",
     "text": [
      "Enter a number: 407\n",
      "407 is an Armstrong number\n"
     ]
    }
   ],
   "source": [
    "# https://www.programiz.com/python-programming/examples/armstrong-number\n",
    "# take input from the user\n",
    "num = int(input(\"Enter a number: \"))\n",
    "\n",
    "# initialize sum\n",
    "sum = 0\n",
    "\n",
    "# find the sum of the cube of each digit\n",
    "temp = num\n",
    "while temp > 0:\n",
    "   digit = temp % 10\n",
    "   sum += digit ** 3\n",
    "   temp //= 10\n",
    "\n",
    "# display the result\n",
    "if num == sum:\n",
    "   print(num,\"is an Armstrong number\")\n",
    "else:\n",
    "   print(num,\"is not an Armstrong number\")"
   ]
  },
  {
   "cell_type": "code",
   "execution_count": 60,
   "id": "16ed28a8",
   "metadata": {},
   "outputs": [
    {
     "name": "stdout",
     "output_type": "stream",
     "text": [
      "Enter any number: 407\n",
      "The number is an armstrong number. \n"
     ]
    }
   ],
   "source": [
    "from functools import reduce\n",
    "n=int(input(\"Enter any number: \"))\n",
    "\n",
    "a=list(map(int,str(n)))\n",
    "b=list(map(lambda x:x**3,a)) \n",
    "c=reduce(lambda x,y: x+y, b )\n",
    "if(c==n):\n",
    "    print(\"The number is an armstrong number. \")\n",
    "else:\n",
    "    print(\"The number isn't an arsmtrong number. \")"
   ]
  },
  {
   "cell_type": "markdown",
   "id": "12b257cb",
   "metadata": {},
   "source": [
    "##  Check if a Number is Perfect Number\n",
    "#### When a number is equal to the sum of all of its positive divisors except itself, it is said to be a Perfect Number.\n",
    "#### https://www.scaler.com/topics/perfect-number-in-python/\n",
    "    Positive divisors of 6 except itself are 1, 2 and 3\n",
    "\n",
    "    Sum of divisors is 1 + 2 + 3 = 6"
   ]
  },
  {
   "cell_type": "code",
   "execution_count": 69,
   "id": "20fcde0b",
   "metadata": {},
   "outputs": [
    {
     "name": "stdout",
     "output_type": "stream",
     "text": [
      "Enter any number: 496\n",
      "The number is a Perfect number!\n"
     ]
    }
   ],
   "source": [
    "# https://codingcompiler.com/python-coding-interview-questions-answers/\n",
    "n = int(input(\"Enter any number: \"))\n",
    "sum1 = 0\n",
    "for i in range(1, n):\n",
    "    if(n % i == 0):\n",
    "        sum1 = sum1 + i\n",
    "if (sum1 == n):\n",
    "    print(\"The number is a Perfect number!\")\n",
    "else:\n",
    "    print(\"The number is not a Perfect number!\")"
   ]
  },
  {
   "cell_type": "code",
   "execution_count": 72,
   "id": "1121812a",
   "metadata": {},
   "outputs": [
    {
     "name": "stdout",
     "output_type": "stream",
     "text": [
      "factors of 496 are [1, 2, 4, 8, 16, 31, 62, 124, 248, 496]\n"
     ]
    }
   ],
   "source": [
    "# https://www.pythonforbeginners.com/basics/check-for-perfect-number-in-python\n",
    "def calculate_factors(N):\n",
    "    factors = []\n",
    "    for i in range(1, N + 1):\n",
    "        if N % i == 0:\n",
    "            factors.append(i)\n",
    "    return factors\n",
    "\n",
    "\n",
    "input_number = 496\n",
    "output = calculate_factors(input_number)\n",
    "print(\"factors of {} are {}\".format(input_number, output))"
   ]
  },
  {
   "cell_type": "code",
   "execution_count": 75,
   "id": "229bb9b5",
   "metadata": {},
   "outputs": [
    {
     "name": "stdout",
     "output_type": "stream",
     "text": [
      "496 is a perfect number: True\n"
     ]
    }
   ],
   "source": [
    "                                            # from functools import reduce\n",
    "def sum_of_list(l):\n",
    "  total = 0\n",
    "  for val in l:\n",
    "    total = total + val\n",
    "  return total\n",
    "\n",
    "\n",
    "def check_perfect_number(N):\n",
    "    factors = calculate_factors(N)\n",
    "    \n",
    "    sumOfFactors = sum_of_list(factors)     # reduce(lambda x,y: x+y, factors)\n",
    "    if sumOfFactors // 2 == N:\n",
    "        return True\n",
    "    else:\n",
    "        return False\n",
    "\n",
    "input_number = 496\n",
    "output = check_perfect_number(input_number)\n",
    "print(\"{} is a perfect number: {}\".format(input_number, output))"
   ]
  },
  {
   "cell_type": "markdown",
   "id": "068f7a47",
   "metadata": {},
   "source": [
    "## Check if a Number is a Strong Number\n",
    "#### Strong number is a number whose sum of all digits’ factorial is equal to the number ‘n’. For Example: 145 is strong number. Since, 1! + 4! + 5!\n",
    "#### https://www.tutorialspoint.com/python-program-to-check-if-a-number-is-a-strong-number#:~:text=Strong%20number%20is%20a%20number,%3D%205x4x3x2x1%20%3D%20120."
   ]
  },
  {
   "cell_type": "code",
   "execution_count": 79,
   "id": "69441b77",
   "metadata": {},
   "outputs": [
    {
     "name": "stdout",
     "output_type": "stream",
     "text": [
      "Enter a number:145\n",
      "The number is a strong number\n"
     ]
    }
   ],
   "source": [
    "# https://codingcompiler.com/python-coding-interview-questions-answers/\n",
    "# https://www.educba.com/strong-number-in-python/\n",
    "# https://www.geeksforgeeks.org/print-all-strong-numbers-less-than-or-equal-to-n/\n",
    "# https://www.tutorialspoint.com/python-program-to-check-if-a-number-is-a-strong-number#:~:text=Strong%20number%20is%20a%20number,%3D%205x4x3x2x1%20%3D%20120.\n",
    "sum1=0\n",
    "num=int(input(\"Enter a number:\"))\n",
    "temp=num\n",
    "while(num):\n",
    "    i=1\n",
    "    factor=1\n",
    "    remainder=num % 10\n",
    "    while(i<=remainder):\n",
    "        factor=factor*i\n",
    "        i=i+1\n",
    "    sum1=sum1+factor\n",
    "    num=num//10\n",
    "if(sum1==temp):\n",
    "    print(\"The number is a strong number\")\n",
    "else:\n",
    "    print(\"The number is not a strong number\")"
   ]
  },
  {
   "cell_type": "code",
   "execution_count": null,
   "id": "97bdf95c",
   "metadata": {},
   "outputs": [],
   "source": []
  },
  {
   "cell_type": "code",
   "execution_count": null,
   "id": "6782cd4c",
   "metadata": {},
   "outputs": [],
   "source": []
  },
  {
   "cell_type": "markdown",
   "id": "a8df6764",
   "metadata": {},
   "source": [
    "    https://www.analyticsvidhya.com/blog/2021/10/an-explanation-to-pythons-lambda-map-filter-and-reduce/\n",
    "    Summary\n",
    "    Lambda\n",
    "        Function with many arguments but only one expression.\n",
    "        It helps to make our code pythonic and to create function wrappers.\n",
    "    Map\n",
    "        A function that applies a given function to each item of an iterable and returns an iterator.\n",
    "        It provides a faster way to transform an iterable based on the given condition.\n",
    "        It can have multiple iterables.\n",
    "    Filter\n",
    "        It has the same syntax as the map function.\n",
    "        It helps in extracting items from an iterable based on the given condition.\n",
    "    Reduce\n",
    "        It applies a function cumulatively/successively on each item of an iterable and returns a single value."
   ]
  },
  {
   "cell_type": "code",
   "execution_count": null,
   "id": "1591301e",
   "metadata": {},
   "outputs": [],
   "source": []
  },
  {
   "cell_type": "markdown",
   "id": "0acf9083",
   "metadata": {},
   "source": [
    "    https://thispointer.com/check-if-all-elements-in-a-list-are-none-in-python/\n",
    "    https://www.listendata.com/2019/07/python-list-comprehension-with-examples.html\n",
    "    https://pythonguides.com/python-dictionary-filter/\n"
   ]
  },
  {
   "cell_type": "markdown",
   "id": "a69e1586",
   "metadata": {},
   "source": [
    "    https://github.com/Ebazhanov/linkedin-skill-assessments-quizzes/blob/main/python/python-quiz.md"
   ]
  },
  {
   "cell_type": "markdown",
   "id": "b41265b5",
   "metadata": {},
   "source": [
    "    https://pencilprogrammer.com/python-programs/check-perfect-number/"
   ]
  }
 ],
 "metadata": {
  "kernelspec": {
   "display_name": "Python 3",
   "language": "python",
   "name": "python3"
  },
  "language_info": {
   "codemirror_mode": {
    "name": "ipython",
    "version": 3
   },
   "file_extension": ".py",
   "mimetype": "text/x-python",
   "name": "python",
   "nbconvert_exporter": "python",
   "pygments_lexer": "ipython3",
   "version": "3.8.8"
  }
 },
 "nbformat": 4,
 "nbformat_minor": 5
}
