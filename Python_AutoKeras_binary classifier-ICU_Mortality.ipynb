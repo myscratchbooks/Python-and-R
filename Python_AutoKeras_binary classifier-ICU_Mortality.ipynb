{
 "cells": [
  {
   "cell_type": "markdown",
   "id": "a23c58cc-d2b7-4c84-8ef7-5a9fd8580272",
   "metadata": {},
   "source": [
    "# Using Auto-Keras binary classifier on Predicting In-Hospital Deaths in the ICU"
   ]
  },
  {
   "cell_type": "code",
   "execution_count": 290,
   "id": "c1734dff-2ada-4ff4-ae08-1fccc91679e4",
   "metadata": {},
   "outputs": [],
   "source": [
    "# Ignore warnings\n",
    "import warnings\n",
    "warnings.filterwarnings('ignore')\n",
    "\n",
    "# Handle table-like data and matrices\n",
    "import numpy as np\n",
    "import pandas as pd\n",
    "import math \n",
    "\n",
    "from sklearn.model_selection import train_test_split\n",
    "\n",
    "# Visualisation\n",
    "import matplotlib.pyplot as plt\n",
    "import seaborn as sns\n",
    "sns.set_theme()\n",
    "\n",
    "# Configure visualisations\n",
    "%matplotlib inline"
   ]
  },
  {
   "cell_type": "markdown",
   "id": "62e28ba6-add5-4d33-9dba-b3b90bea8fbd",
   "metadata": {},
   "source": [
    "####  PhysioNet Computing in Cardiology Challenge 2012 dataset: https://physionet.org/content/challenge-2012/1.0.0/sources/#files-panel"
   ]
  },
  {
   "cell_type": "code",
   "execution_count": 291,
   "id": "54bcd86b-9c50-4cc4-90ca-1cf1dfc43cf2",
   "metadata": {},
   "outputs": [],
   "source": [
    "try:\n",
    "    import autokeras as ak\n",
    "except:\n",
    "    !pip3 install autokeras --quiet\n",
    "    import autokeras as ak"
   ]
  },
  {
   "cell_type": "code",
   "execution_count": 292,
   "id": "1e914d7a-b5da-46c7-a8d1-7332774d95d3",
   "metadata": {},
   "outputs": [
    {
     "name": "stdout",
     "output_type": "stream",
     "text": [
      "[name: \"/device:CPU:0\"\n",
      "device_type: \"CPU\"\n",
      "memory_limit: 268435456\n",
      "locality {\n",
      "}\n",
      "incarnation: 18082558054978399061\n",
      "xla_global_id: -1\n",
      ", name: \"/device:GPU:0\"\n",
      "device_type: \"GPU\"\n",
      "memory_limit: 3680501760\n",
      "locality {\n",
      "  bus_id: 1\n",
      "  links {\n",
      "  }\n",
      "}\n",
      "incarnation: 2806931050751732078\n",
      "physical_device_desc: \"device: 0, name: NVIDIA GeForce RTX 3050, pci bus id: 0000:01:00.0, compute capability: 8.6\"\n",
      "xla_global_id: 416903419\n",
      "]\n"
     ]
    }
   ],
   "source": [
    "from tensorflow.python.client import device_lib\n",
    "\n",
    "print(device_lib.list_local_devices())"
   ]
  },
  {
   "cell_type": "markdown",
   "id": "39ff7bb4-ce20-4860-9dbe-2223216279c5",
   "metadata": {},
   "source": [
    "**<h2> Exploratory Data Analysis**"
   ]
  },
  {
   "cell_type": "code",
   "execution_count": 293,
   "id": "0285ea7d-d049-4084-b1e1-85764a901239",
   "metadata": {},
   "outputs": [],
   "source": [
    "features =  pd.read_csv('ICU_train.csv', delimiter=',')\n",
    "labels =  pd.read_csv('ICU_labels.csv', delimiter=',')"
   ]
  },
  {
   "cell_type": "code",
   "execution_count": 294,
   "id": "219e85cf-02dd-4da5-9203-35d4b3986272",
   "metadata": {},
   "outputs": [
    {
     "data": {
      "text/plain": [
       "(3999, 42)"
      ]
     },
     "execution_count": 294,
     "metadata": {},
     "output_type": "execute_result"
    }
   ],
   "source": [
    "features.shape"
   ]
  },
  {
   "cell_type": "code",
   "execution_count": 295,
   "id": "1b485ef5-7983-4ed6-8ec7-382079885782",
   "metadata": {},
   "outputs": [
    {
     "data": {
      "text/plain": [
       "(3999, 1)"
      ]
     },
     "execution_count": 295,
     "metadata": {},
     "output_type": "execute_result"
    }
   ],
   "source": [
    "labels.shape"
   ]
  },
  {
   "cell_type": "code",
   "execution_count": 296,
   "id": "8457339b-c29e-4d63-bc37-b3f803c74132",
   "metadata": {},
   "outputs": [
    {
     "data": {
      "text/plain": [
       "In-hospital_death\n",
       "0    3445\n",
       "1     554\n",
       "Name: count, dtype: int64"
      ]
     },
     "execution_count": 296,
     "metadata": {},
     "output_type": "execute_result"
    }
   ],
   "source": [
    "labels[\"In-hospital_death\"].value_counts()"
   ]
  },
  {
   "cell_type": "code",
   "execution_count": 297,
   "id": "be111f8f-a209-4c84-a69a-ddf4961049c7",
   "metadata": {},
   "outputs": [],
   "source": [
    "# separate into train and test sets\n",
    "# By default, AutoKeras use the last 20% of training data as validation data. \n",
    "X = features\n",
    "y = labels\n",
    "X_train, X_test, y_train, y_test = train_test_split(X, y, test_size=0.3, random_state=1)"
   ]
  },
  {
   "cell_type": "code",
   "execution_count": 298,
   "id": "39dba6ab-6580-4616-b235-31d6c4172f16",
   "metadata": {},
   "outputs": [],
   "source": [
    "from sklearn.preprocessing import StandardScaler\n",
    "sc = StandardScaler()\n",
    "\n",
    "X_train = sc.fit_transform(X_train)\n",
    "X_test = sc.transform(X_test)"
   ]
  },
  {
   "cell_type": "code",
   "execution_count": 299,
   "id": "e182acdc-e018-4551-a728-87c9641bbe0b",
   "metadata": {},
   "outputs": [],
   "source": [
    "# define the search\n",
    "from tensorflow.keras.metrics import AUC\n",
    "\n",
    "model = ak.StructuredDataClassifier(overwrite=True, max_trials=15,\n",
    "                                   metrics=['accuracy', AUC()]\n",
    "                                   )"
   ]
  },
  {
   "cell_type": "code",
   "execution_count": 300,
   "id": "4162079b-129b-431d-94f8-4a4fffe2e0ad",
   "metadata": {
    "scrolled": true
   },
   "outputs": [],
   "source": [
    "# Calculate class weights to handle class imbalance \n",
    "class_weights = {\n",
    "    0: len(y_train) / (2 * np.bincount(y_train.to_numpy().flatten())[0]),\n",
    "    1: len(y_train) / (2 * np.bincount(y_train.to_numpy().flatten())[1]),\n",
    "}"
   ]
  },
  {
   "cell_type": "code",
   "execution_count": 301,
   "id": "496ea390-804b-4250-8ed9-6fc3ad704f61",
   "metadata": {},
   "outputs": [
    {
     "name": "stdout",
     "output_type": "stream",
     "text": [
      "Trial 15 Complete [00h 00m 16s]\n",
      "val_accuracy: 0.7959595918655396\n",
      "\n",
      "Best val_accuracy So Far: 0.8141413927078247\n",
      "Total elapsed time: 00h 04m 08s\n",
      "Epoch 1/120\n",
      "44/44 [==============================] - 1s 11ms/step - loss: 0.6247 - accuracy: 0.6620 - auc: 0.7330\n",
      "Epoch 2/120\n",
      "44/44 [==============================] - 0s 9ms/step - loss: 0.5018 - accuracy: 0.7617 - auc: 0.8391\n",
      "Epoch 3/120\n",
      "44/44 [==============================] - 0s 9ms/step - loss: 0.4614 - accuracy: 0.7810 - auc: 0.8668\n",
      "Epoch 4/120\n",
      "44/44 [==============================] - 0s 9ms/step - loss: 0.4339 - accuracy: 0.7931 - auc: 0.8821\n",
      "Epoch 5/120\n",
      "44/44 [==============================] - 0s 8ms/step - loss: 0.4097 - accuracy: 0.8035 - auc: 0.8968\n",
      "Epoch 6/120\n",
      "44/44 [==============================] - 0s 9ms/step - loss: 0.3870 - accuracy: 0.8249 - auc: 0.9080\n",
      "Epoch 7/120\n",
      "44/44 [==============================] - 0s 9ms/step - loss: 0.3645 - accuracy: 0.8371 - auc: 0.9195\n",
      "Epoch 8/120\n",
      "44/44 [==============================] - 0s 8ms/step - loss: 0.3465 - accuracy: 0.8496 - auc: 0.9275\n",
      "Epoch 9/120\n",
      "44/44 [==============================] - 0s 10ms/step - loss: 0.3301 - accuracy: 0.8564 - auc: 0.9342\n",
      "Epoch 10/120\n",
      "44/44 [==============================] - 0s 10ms/step - loss: 0.3133 - accuracy: 0.8667 - auc: 0.9406\n",
      "Epoch 11/120\n",
      "44/44 [==============================] - 0s 10ms/step - loss: 0.3033 - accuracy: 0.8700 - auc: 0.9445\n",
      "Epoch 12/120\n",
      "44/44 [==============================] - 0s 11ms/step - loss: 0.2955 - accuracy: 0.8721 - auc: 0.9461\n",
      "Epoch 13/120\n",
      "44/44 [==============================] - 0s 9ms/step - loss: 0.2766 - accuracy: 0.8782 - auc: 0.9534\n",
      "Epoch 14/120\n",
      "44/44 [==============================] - 0s 9ms/step - loss: 0.2666 - accuracy: 0.8842 - auc: 0.9563\n",
      "Epoch 15/120\n",
      "44/44 [==============================] - 0s 9ms/step - loss: 0.2548 - accuracy: 0.8878 - auc: 0.9601\n",
      "Epoch 16/120\n",
      "44/44 [==============================] - 0s 9ms/step - loss: 0.2478 - accuracy: 0.8910 - auc: 0.9619\n",
      "Epoch 17/120\n",
      "44/44 [==============================] - 0s 9ms/step - loss: 0.2382 - accuracy: 0.8910 - auc: 0.9645\n",
      "Epoch 18/120\n",
      "44/44 [==============================] - 0s 8ms/step - loss: 0.2256 - accuracy: 0.8992 - auc: 0.9683\n",
      "Epoch 19/120\n",
      "44/44 [==============================] - 0s 9ms/step - loss: 0.2170 - accuracy: 0.9014 - auc: 0.9705\n",
      "Epoch 20/120\n",
      "44/44 [==============================] - 0s 9ms/step - loss: 0.2178 - accuracy: 0.9060 - auc: 0.9700\n",
      "Epoch 21/120\n",
      "44/44 [==============================] - 0s 9ms/step - loss: 0.2083 - accuracy: 0.9082 - auc: 0.9730\n",
      "Epoch 22/120\n",
      "44/44 [==============================] - 0s 9ms/step - loss: 0.2036 - accuracy: 0.9107 - auc: 0.9734\n",
      "Epoch 23/120\n",
      "44/44 [==============================] - 0s 9ms/step - loss: 0.1999 - accuracy: 0.9118 - auc: 0.9738\n",
      "Epoch 24/120\n",
      "44/44 [==============================] - 0s 11ms/step - loss: 0.1846 - accuracy: 0.9157 - auc: 0.9786\n",
      "Epoch 25/120\n",
      "44/44 [==============================] - 0s 10ms/step - loss: 0.1963 - accuracy: 0.9128 - auc: 0.9752\n",
      "Epoch 26/120\n",
      "44/44 [==============================] - 0s 10ms/step - loss: 0.1765 - accuracy: 0.9253 - auc: 0.9811\n",
      "Epoch 27/120\n",
      "44/44 [==============================] - 0s 9ms/step - loss: 0.1687 - accuracy: 0.9260 - auc: 0.9824\n",
      "Epoch 28/120\n",
      "44/44 [==============================] - 0s 9ms/step - loss: 0.1517 - accuracy: 0.9339 - auc: 0.9854\n",
      "Epoch 29/120\n",
      "44/44 [==============================] - 0s 8ms/step - loss: 0.1434 - accuracy: 0.9396 - auc: 0.9870\n",
      "Epoch 30/120\n",
      "44/44 [==============================] - 0s 8ms/step - loss: 0.1347 - accuracy: 0.9436 - auc: 0.9887\n",
      "Epoch 31/120\n",
      "44/44 [==============================] - 0s 9ms/step - loss: 0.1300 - accuracy: 0.9468 - auc: 0.9898\n",
      "Epoch 32/120\n",
      "44/44 [==============================] - 0s 10ms/step - loss: 0.1267 - accuracy: 0.9475 - auc: 0.9900\n",
      "Epoch 33/120\n",
      "44/44 [==============================] - 0s 11ms/step - loss: 0.1215 - accuracy: 0.9482 - auc: 0.9909\n",
      "Epoch 34/120\n",
      "44/44 [==============================] - 0s 10ms/step - loss: 0.1152 - accuracy: 0.9521 - auc: 0.9921\n",
      "Epoch 35/120\n",
      "44/44 [==============================] - 0s 9ms/step - loss: 0.1126 - accuracy: 0.9568 - auc: 0.9919\n",
      "Epoch 36/120\n",
      "44/44 [==============================] - 0s 9ms/step - loss: 0.1107 - accuracy: 0.9550 - auc: 0.9921\n",
      "Epoch 37/120\n",
      "44/44 [==============================] - 0s 9ms/step - loss: 0.1201 - accuracy: 0.9521 - auc: 0.9905\n",
      "Epoch 38/120\n",
      "44/44 [==============================] - 0s 10ms/step - loss: 0.1414 - accuracy: 0.9360 - auc: 0.9856\n",
      "Epoch 39/120\n",
      "44/44 [==============================] - 0s 11ms/step - loss: 0.1511 - accuracy: 0.9321 - auc: 0.9840\n",
      "Epoch 40/120\n",
      "44/44 [==============================] - 0s 10ms/step - loss: 0.1594 - accuracy: 0.9278 - auc: 0.9828\n",
      "Epoch 41/120\n",
      "44/44 [==============================] - 0s 9ms/step - loss: 0.1848 - accuracy: 0.9303 - auc: 0.9787\n",
      "Epoch 42/120\n",
      "44/44 [==============================] - 0s 9ms/step - loss: 0.2088 - accuracy: 0.9175 - auc: 0.9730\n",
      "Epoch 43/120\n",
      "44/44 [==============================] - 0s 9ms/step - loss: 0.1693 - accuracy: 0.9207 - auc: 0.9803\n",
      "Epoch 44/120\n",
      "44/44 [==============================] - 0s 8ms/step - loss: 0.1704 - accuracy: 0.9275 - auc: 0.9810\n",
      "Epoch 45/120\n",
      "44/44 [==============================] - 0s 11ms/step - loss: 0.1161 - accuracy: 0.9507 - auc: 0.9903\n",
      "Epoch 46/120\n",
      "44/44 [==============================] - 0s 8ms/step - loss: 0.0971 - accuracy: 0.9568 - auc: 0.9932\n",
      "Epoch 47/120\n",
      "44/44 [==============================] - 0s 9ms/step - loss: 0.0919 - accuracy: 0.9628 - auc: 0.9935\n",
      "Epoch 48/120\n",
      "44/44 [==============================] - 0s 8ms/step - loss: 0.0887 - accuracy: 0.9643 - auc: 0.9942\n",
      "Epoch 49/120\n",
      "44/44 [==============================] - 0s 9ms/step - loss: 0.0796 - accuracy: 0.9664 - auc: 0.9958\n",
      "Epoch 50/120\n",
      "44/44 [==============================] - 0s 8ms/step - loss: 0.0855 - accuracy: 0.9657 - auc: 0.9950\n",
      "Epoch 51/120\n",
      "44/44 [==============================] - 0s 10ms/step - loss: 0.0725 - accuracy: 0.9725 - auc: 0.9968\n",
      "Epoch 52/120\n",
      "44/44 [==============================] - 0s 9ms/step - loss: 0.0615 - accuracy: 0.9757 - auc: 0.9979\n",
      "Epoch 53/120\n",
      "44/44 [==============================] - 0s 9ms/step - loss: 0.0587 - accuracy: 0.9771 - auc: 0.9983\n",
      "Epoch 54/120\n",
      "44/44 [==============================] - 0s 8ms/step - loss: 0.0528 - accuracy: 0.9814 - auc: 0.9990\n",
      "Epoch 55/120\n",
      "44/44 [==============================] - 0s 8ms/step - loss: 0.0487 - accuracy: 0.9843 - auc: 0.9991\n",
      "Epoch 56/120\n",
      "44/44 [==============================] - 0s 9ms/step - loss: 0.0471 - accuracy: 0.9843 - auc: 0.9992\n",
      "Epoch 57/120\n",
      "44/44 [==============================] - 0s 9ms/step - loss: 0.0455 - accuracy: 0.9846 - auc: 0.9994\n",
      "Epoch 58/120\n",
      "44/44 [==============================] - 0s 9ms/step - loss: 0.0436 - accuracy: 0.9854 - auc: 0.9994\n",
      "Epoch 59/120\n",
      "44/44 [==============================] - 1s 11ms/step - loss: 0.0409 - accuracy: 0.9868 - auc: 0.9996\n",
      "Epoch 60/120\n",
      "44/44 [==============================] - 0s 8ms/step - loss: 0.0398 - accuracy: 0.9871 - auc: 0.9997\n",
      "Epoch 61/120\n",
      "44/44 [==============================] - 0s 8ms/step - loss: 0.0387 - accuracy: 0.9879 - auc: 0.9997\n",
      "Epoch 62/120\n",
      "44/44 [==============================] - 0s 8ms/step - loss: 0.0367 - accuracy: 0.9889 - auc: 0.9998\n",
      "Epoch 63/120\n",
      "44/44 [==============================] - 0s 8ms/step - loss: 0.0353 - accuracy: 0.9904 - auc: 0.9998\n",
      "Epoch 64/120\n",
      "44/44 [==============================] - 0s 9ms/step - loss: 0.0339 - accuracy: 0.9904 - auc: 0.9998\n",
      "Epoch 65/120\n",
      "44/44 [==============================] - 1s 12ms/step - loss: 0.0331 - accuracy: 0.9918 - auc: 0.9998\n",
      "Epoch 66/120\n",
      "44/44 [==============================] - 0s 8ms/step - loss: 0.0326 - accuracy: 0.9921 - auc: 0.9999\n",
      "Epoch 67/120\n",
      "44/44 [==============================] - 0s 9ms/step - loss: 0.0312 - accuracy: 0.9936 - auc: 0.9999\n",
      "Epoch 68/120\n",
      "44/44 [==============================] - 0s 9ms/step - loss: 0.0298 - accuracy: 0.9936 - auc: 0.9999\n",
      "Epoch 69/120\n",
      "44/44 [==============================] - 0s 9ms/step - loss: 0.0289 - accuracy: 0.9939 - auc: 0.9999\n",
      "Epoch 70/120\n",
      "44/44 [==============================] - 0s 8ms/step - loss: 0.0284 - accuracy: 0.9936 - auc: 0.9999\n",
      "Epoch 71/120\n",
      "44/44 [==============================] - 0s 10ms/step - loss: 0.0275 - accuracy: 0.9943 - auc: 1.0000\n",
      "Epoch 72/120\n",
      "44/44 [==============================] - 0s 9ms/step - loss: 0.0260 - accuracy: 0.9954 - auc: 1.0000\n",
      "Epoch 73/120\n",
      "44/44 [==============================] - 0s 8ms/step - loss: 0.0247 - accuracy: 0.9961 - auc: 1.0000\n",
      "Epoch 74/120\n",
      "44/44 [==============================] - 0s 9ms/step - loss: 0.0236 - accuracy: 0.9961 - auc: 1.0000\n",
      "Epoch 75/120\n",
      "44/44 [==============================] - 0s 11ms/step - loss: 0.0229 - accuracy: 0.9954 - auc: 1.0000\n",
      "Epoch 76/120\n",
      "44/44 [==============================] - 0s 8ms/step - loss: 0.0225 - accuracy: 0.9950 - auc: 1.0000\n",
      "Epoch 77/120\n",
      "44/44 [==============================] - 0s 9ms/step - loss: 0.0219 - accuracy: 0.9957 - auc: 1.0000\n",
      "Epoch 78/120\n",
      "44/44 [==============================] - 0s 8ms/step - loss: 0.0221 - accuracy: 0.9946 - auc: 1.0000\n",
      "Epoch 79/120\n",
      "44/44 [==============================] - 0s 9ms/step - loss: 0.0237 - accuracy: 0.9946 - auc: 1.0000\n",
      "Epoch 80/120\n",
      "44/44 [==============================] - 0s 9ms/step - loss: 0.0331 - accuracy: 0.9900 - auc: 0.9992\n",
      "Epoch 81/120\n",
      "44/44 [==============================] - 0s 9ms/step - loss: 0.1631 - accuracy: 0.9468 - auc: 0.9839\n",
      "Epoch 82/120\n",
      "44/44 [==============================] - 0s 9ms/step - loss: 0.6597 - accuracy: 0.8614 - auc: 0.9301\n",
      "Epoch 83/120\n",
      "44/44 [==============================] - 0s 10ms/step - loss: 0.5393 - accuracy: 0.8721 - auc: 0.9400\n",
      "Epoch 84/120\n",
      "44/44 [==============================] - 0s 9ms/step - loss: 0.4128 - accuracy: 0.9007 - auc: 0.9577\n",
      "Epoch 85/120\n",
      "44/44 [==============================] - 0s 8ms/step - loss: 0.2052 - accuracy: 0.9353 - auc: 0.9807\n",
      "Epoch 86/120\n",
      "44/44 [==============================] - 0s 8ms/step - loss: 0.1268 - accuracy: 0.9525 - auc: 0.9900\n",
      "Epoch 87/120\n",
      "44/44 [==============================] - 0s 8ms/step - loss: 0.0963 - accuracy: 0.9639 - auc: 0.9924\n",
      "Epoch 88/120\n",
      "44/44 [==============================] - 0s 8ms/step - loss: 0.0848 - accuracy: 0.9693 - auc: 0.9935\n",
      "Epoch 89/120\n",
      "44/44 [==============================] - 0s 9ms/step - loss: 0.0673 - accuracy: 0.9796 - auc: 0.9971\n",
      "Epoch 90/120\n",
      "44/44 [==============================] - 0s 9ms/step - loss: 0.0437 - accuracy: 0.9825 - auc: 0.9989\n",
      "Epoch 91/120\n",
      "44/44 [==============================] - 0s 9ms/step - loss: 0.0375 - accuracy: 0.9846 - auc: 0.9994\n",
      "Epoch 92/120\n",
      "44/44 [==============================] - 0s 8ms/step - loss: 0.0344 - accuracy: 0.9871 - auc: 0.9998\n",
      "Epoch 93/120\n",
      "44/44 [==============================] - 0s 8ms/step - loss: 0.0362 - accuracy: 0.9875 - auc: 0.9996\n",
      "Epoch 94/120\n",
      "44/44 [==============================] - 0s 9ms/step - loss: 0.0335 - accuracy: 0.9882 - auc: 0.9996\n",
      "Epoch 95/120\n",
      "44/44 [==============================] - 0s 9ms/step - loss: 0.0306 - accuracy: 0.9882 - auc: 0.9999\n",
      "Epoch 96/120\n",
      "44/44 [==============================] - 0s 9ms/step - loss: 0.0300 - accuracy: 0.9893 - auc: 0.9998\n",
      "Epoch 97/120\n",
      "44/44 [==============================] - 0s 9ms/step - loss: 0.0287 - accuracy: 0.9911 - auc: 0.9999\n",
      "Epoch 98/120\n",
      "44/44 [==============================] - 0s 9ms/step - loss: 0.0293 - accuracy: 0.9904 - auc: 0.9999\n",
      "Epoch 99/120\n",
      "44/44 [==============================] - 0s 9ms/step - loss: 0.0286 - accuracy: 0.9911 - auc: 0.9999\n",
      "Epoch 100/120\n",
      "44/44 [==============================] - 0s 9ms/step - loss: 0.0281 - accuracy: 0.9904 - auc: 0.9999\n",
      "Epoch 101/120\n",
      "44/44 [==============================] - 0s 8ms/step - loss: 0.0267 - accuracy: 0.9925 - auc: 0.9999\n",
      "Epoch 102/120\n",
      "44/44 [==============================] - 0s 8ms/step - loss: 0.0276 - accuracy: 0.9907 - auc: 0.9998\n",
      "Epoch 103/120\n",
      "44/44 [==============================] - 0s 9ms/step - loss: 0.0255 - accuracy: 0.9929 - auc: 0.9998\n",
      "Epoch 104/120\n",
      "44/44 [==============================] - 0s 11ms/step - loss: 0.0261 - accuracy: 0.9929 - auc: 0.9996\n",
      "Epoch 105/120\n",
      "44/44 [==============================] - 0s 10ms/step - loss: 0.0233 - accuracy: 0.9946 - auc: 0.9997\n",
      "Epoch 106/120\n",
      "44/44 [==============================] - 0s 9ms/step - loss: 0.0229 - accuracy: 0.9936 - auc: 0.9995\n",
      "Epoch 107/120\n",
      "44/44 [==============================] - 0s 8ms/step - loss: 0.0219 - accuracy: 0.9946 - auc: 0.9996\n",
      "Epoch 108/120\n",
      "44/44 [==============================] - 0s 10ms/step - loss: 0.0222 - accuracy: 0.9943 - auc: 0.9994\n",
      "Epoch 109/120\n",
      "44/44 [==============================] - 0s 9ms/step - loss: 0.0219 - accuracy: 0.9946 - auc: 0.9994\n",
      "Epoch 110/120\n",
      "44/44 [==============================] - 0s 9ms/step - loss: 0.0200 - accuracy: 0.9957 - auc: 0.9994\n",
      "Epoch 111/120\n",
      "44/44 [==============================] - 0s 9ms/step - loss: 0.0193 - accuracy: 0.9961 - auc: 0.9994\n",
      "Epoch 112/120\n",
      "44/44 [==============================] - 0s 10ms/step - loss: 0.0194 - accuracy: 0.9961 - auc: 0.9994\n",
      "Epoch 113/120\n",
      "44/44 [==============================] - 0s 9ms/step - loss: 0.0176 - accuracy: 0.9975 - auc: 0.9994\n",
      "Epoch 114/120\n",
      "44/44 [==============================] - 0s 10ms/step - loss: 0.0168 - accuracy: 0.9971 - auc: 0.9994\n",
      "Epoch 115/120\n",
      "44/44 [==============================] - 0s 9ms/step - loss: 0.0152 - accuracy: 0.9975 - auc: 0.9997\n",
      "Epoch 116/120\n",
      "44/44 [==============================] - 0s 9ms/step - loss: 0.0141 - accuracy: 0.9979 - auc: 0.9998\n",
      "Epoch 117/120\n",
      "44/44 [==============================] - 0s 9ms/step - loss: 0.0123 - accuracy: 0.9986 - auc: 1.0000\n",
      "Epoch 118/120\n",
      "44/44 [==============================] - 0s 8ms/step - loss: 0.0114 - accuracy: 0.9989 - auc: 1.0000\n",
      "Epoch 119/120\n",
      "44/44 [==============================] - 0s 8ms/step - loss: 0.0103 - accuracy: 0.9989 - auc: 1.0000\n",
      "Epoch 120/120\n",
      "44/44 [==============================] - 0s 8ms/step - loss: 0.0095 - accuracy: 0.9996 - auc: 1.0000\n",
      "INFO:tensorflow:Assets written to: .\\structured_data_classifier\\best_model\\assets\n"
     ]
    },
    {
     "data": {
      "text/plain": [
       "<keras.callbacks.History at 0x1f1362628f0>"
      ]
     },
     "execution_count": 301,
     "metadata": {},
     "output_type": "execute_result"
    }
   ],
   "source": [
    "# perform the search\n",
    "model.fit(x=X_train, y=y_train, epochs=120, batch_size=64 ,verbose=1, class_weight=class_weights)"
   ]
  },
  {
   "cell_type": "markdown",
   "id": "f20da80c-c577-4fcd-a1ba-d1a7347cc804",
   "metadata": {},
   "source": [
    "#### In most real-life classification problems, imbalanced class distribution exists and thus F1-score is a better metric to evaluate our model on.\n",
    "#### https://medium.com/analytics-vidhya/accuracy-vs-f1-score-6258237beca2"
   ]
  },
  {
   "cell_type": "code",
   "execution_count": 302,
   "id": "8c91c9be-237f-4d21-b36d-0796417c413e",
   "metadata": {},
   "outputs": [
    {
     "name": "stdout",
     "output_type": "stream",
     "text": [
      "38/38 [==============================] - 0s 6ms/step\n",
      "38/38 [==============================] - 0s 6ms/step\n",
      "Predicted: [1. 0. 0. ... 0. 0. 0.]\n"
     ]
    }
   ],
   "source": [
    "# use the model to make a prediction\n",
    "y_predictions = model.predict(X_test).ravel()\n",
    "print('Predicted:', y_predictions)"
   ]
  },
  {
   "cell_type": "code",
   "execution_count": 303,
   "id": "a375787f-2bcd-4ddc-a046-b268e9f3a242",
   "metadata": {},
   "outputs": [
    {
     "name": "stdout",
     "output_type": "stream",
     "text": [
      "38/38 [==============================] - 1s 7ms/step - loss: 1.7083 - accuracy: 0.8233 - auc: 0.6626\n",
      "[1.7083377838134766, 0.8233333230018616, 0.6626012325286865]\n"
     ]
    }
   ],
   "source": [
    "# Evaluate on the testing data.\n",
    "print(model.evaluate(X_test, y_test))"
   ]
  },
  {
   "cell_type": "code",
   "execution_count": 304,
   "id": "750fdaee-f1a9-4f34-a336-852299ef2000",
   "metadata": {
    "scrolled": true
   },
   "outputs": [
    {
     "name": "stdout",
     "output_type": "stream",
     "text": [
      "              precision    recall  f1-score   support\n",
      "\n",
      "           0       0.89      0.91      0.90      1033\n",
      "           1       0.35      0.31      0.32       167\n",
      "\n",
      "    accuracy                           0.82      1200\n",
      "   macro avg       0.62      0.61      0.61      1200\n",
      "weighted avg       0.81      0.82      0.82      1200\n",
      "\n"
     ]
    }
   ],
   "source": [
    "from sklearn.metrics import confusion_matrix ,classification_report, roc_curve, RocCurveDisplay, auc, accuracy_score, f1_score\n",
    "\n",
    "print(classification_report(y_test, y_predictions))"
   ]
  },
  {
   "cell_type": "code",
   "execution_count": 305,
   "id": "ccff0345-817f-41c0-b879-5e42f0172847",
   "metadata": {},
   "outputs": [
    {
     "name": "stdout",
     "output_type": "stream",
     "text": [
      "[[937  96]\n",
      " [116  51]]\n"
     ]
    }
   ],
   "source": [
    "print(confusion_matrix(y_test, y_predictions))"
   ]
  },
  {
   "cell_type": "code",
   "execution_count": 306,
   "id": "167a1265-1d5a-468e-ad76-0ea4e13f30a0",
   "metadata": {},
   "outputs": [
    {
     "name": "stdout",
     "output_type": "stream",
     "text": [
      "Accuracy = 82%\n"
     ]
    }
   ],
   "source": [
    "print('Accuracy = %0.0f%%' %(100*accuracy_score(y_test, y_predictions)))"
   ]
  },
  {
   "cell_type": "code",
   "execution_count": 307,
   "id": "1c2c21b5-18ec-4acc-946e-fd8557a1cee7",
   "metadata": {},
   "outputs": [
    {
     "name": "stdout",
     "output_type": "stream",
     "text": [
      "Micro-F1: 0.823\n",
      "Macro-F1: 0.612\n"
     ]
    }
   ],
   "source": [
    "print(\"Micro-F1: %.3f\" % f1_score(y_test, y_predictions, average=\"micro\"))\n",
    "print(\"Macro-F1: %.3f\" % f1_score(y_test, y_predictions, average=\"macro\"))"
   ]
  },
  {
   "cell_type": "code",
   "execution_count": 308,
   "id": "995fd460-1d01-435a-b035-c64151383da3",
   "metadata": {},
   "outputs": [
    {
     "data": {
      "image/png": "[encoded data removed]",
      "text/plain": [
       "<Figure size 800x550 with 1 Axes>"
      ]
     },
     "metadata": {},
     "output_type": "display_data"
    }
   ],
   "source": [
    "fpr, tpr, thresholds = roc_curve(y_test, y_predictions)\n",
    "roc_auc = auc(fpr, tpr)\n",
    "display = RocCurveDisplay(fpr=fpr, tpr=tpr, roc_auc=roc_auc,\n",
    "                                  estimator_name='example estimator')\n",
    "display.plot()\n",
    "plt.plot([0, 1], [0, 1], 'k--')\n",
    "plt.show()"
   ]
  },
  {
   "cell_type": "code",
   "execution_count": 309,
   "id": "b5285f48-8dff-4141-a21e-e6b53451d508",
   "metadata": {},
   "outputs": [
    {
     "data": {
      "image/png": "[encoded data removed]",
      "text/plain": [
       "<Figure size 800x550 with 1 Axes>"
      ]
     },
     "metadata": {},
     "output_type": "display_data"
    }
   ],
   "source": [
    "\n",
    "PrecisionRecallDisplay.from_predictions(y_test, y_predictions)\n",
    "plt.axhline(y=0.5, color='black', linestyle='--')\n",
    "plt.title(\"2-class Precision-Recall curve\")\n",
    "plt.show()"
   ]
  },
  {
   "cell_type": "code",
   "execution_count": 310,
   "id": "4fed4c4c-fef0-4691-ab84-3ba4b891713f",
   "metadata": {},
   "outputs": [
    {
     "name": "stdout",
     "output_type": "stream",
     "text": [
      "Model: \"model\"\n",
      "_________________________________________________________________\n",
      " Layer (type)                Output Shape              Param #   \n",
      "=================================================================\n",
      " input_1 (InputLayer)        [(None, 42)]              0         \n",
      "                                                                 \n",
      " multi_category_encoding (Mu  (None, 42)               0         \n",
      " ltiCategoryEncoding)                                            \n",
      "                                                                 \n",
      " normalization (Normalizatio  (None, 42)               85        \n",
      " n)                                                              \n",
      "                                                                 \n",
      " dense (Dense)               (None, 32)                1376      \n",
      "                                                                 \n",
      " re_lu (ReLU)                (None, 32)                0         \n",
      "                                                                 \n",
      " dense_1 (Dense)             (None, 1)                 33        \n",
      "                                                                 \n",
      " classification_head_1 (Acti  (None, 1)                0         \n",
      " vation)                                                         \n",
      "                                                                 \n",
      "=================================================================\n",
      "Total params: 1,494\n",
      "Trainable params: 1,409\n",
      "Non-trainable params: 85\n",
      "_________________________________________________________________\n"
     ]
    }
   ],
   "source": [
    "# get the best performing model\n",
    "model = model.export_model()\n",
    "\n",
    "# summarize the loaded model\n",
    "model.summary()\n",
    "\n",
    "# save the best performing model to file\n",
    "#model.save('model_sonar.h5')"
   ]
  },
  {
   "cell_type": "code",
   "execution_count": null,
   "id": "fd105700-4f8e-4d01-b465-4b0f4aa65b65",
   "metadata": {},
   "outputs": [],
   "source": []
  },
  {
   "cell_type": "markdown",
   "id": "bd400c93-d9e7-4369-8f5f-27e3eefc8dc6",
   "metadata": {},
   "source": [
    "### AUC-ROC (Area Under the Receiver Operating Characteristic curve)\n",
    "#### Measures the performance of a binary classifier by plotting true positive rate against false positive rate at various threshold settings. It is particularly useful for imbalanced dataset\n",
    "\n",
    "### AUC-PR (Area Under the Precision-Recall curve)\n",
    "#### Evaluates the performance of a binary classifier by plotting precision against recall at various threshold settings. It is an alternative to AUC-ROC for imbalanced datasets.\n",
    "\n",
    "#### Accuracy measures prediction match with true labels in classification. Precision, recall, and F1 score handle imbalanced datasets, while AUC-ROC and AUC-PR measure binary classifier performance.\n",
    "\n",
    "#### https://gitnux.org/tensorflow-metrics/"
   ]
  },
  {
   "cell_type": "code",
   "execution_count": null,
   "id": "24b38141-0652-477a-9c2c-d79252deb91f",
   "metadata": {},
   "outputs": [],
   "source": []
  },
  {
   "cell_type": "code",
   "execution_count": null,
   "id": "2fdfc190-f6da-4600-9311-395941a3cd67",
   "metadata": {},
   "outputs": [],
   "source": []
  },
  {
   "cell_type": "code",
   "execution_count": null,
   "id": "391146ae-ca8e-4b5b-8c34-93c71cdca6b5",
   "metadata": {},
   "outputs": [],
   "source": []
  },
  {
   "cell_type": "code",
   "execution_count": null,
   "id": "9714f643-f13e-4cc9-a19d-1d3c3787a341",
   "metadata": {},
   "outputs": [],
   "source": []
  },
  {
   "cell_type": "markdown",
   "id": "68af61d8-21c2-4f2d-94bb-246db8078bcf",
   "metadata": {},
   "source": [
    "### Reference\n",
    "    \n",
    "    https://physionet.org/content/challenge-2012/1.0.0/\n",
    "    \n",
    "    https://medium.com/@mzia.bese19seecs/complete-guide-to-autokeras-745340d0fe40\n",
    "    https://machinelearningmastery.com/autokeras-for-classification-and-regression/\n",
    "    https://pyimagesearch.com/2019/01/07/auto-keras-and-automl-a-getting-started-guide/\n",
    "    https://www.linkedin.com/pulse/autokeras-new-revolution-deep-learning-360-digitmg\n",
    "    https://www.e2enetworks.com/blog/step-by-step-guide-to-learning-autokeras-for-deep-learning\n",
    "    https://itnext.io/python-and-autokeras-cbf9f1dbaa04\n",
    "    https://ogsconnect.medium.com/exploring-automl-to-address-class-imbalance-75106c2aac83\n",
    "    https://medium.com/nerd-for-tech/multi-class-classification-using-auto-keras-9e90684f99aa\n",
    "    https://keras.io/examples/structured_data/imbalanced_classification/\n"
   ]
  },
  {
   "cell_type": "code",
   "execution_count": null,
   "id": "ae5a1148-bdc1-41f7-8e49-fc54dec8a18d",
   "metadata": {},
   "outputs": [],
   "source": []
  }
 ],
 "metadata": {
  "kernelspec": {
   "display_name": "Python 3 (ipykernel)",
   "language": "python",
   "name": "python3"
  },
  "language_info": {
   "codemirror_mode": {
    "name": "ipython",
    "version": 3
   },
   "file_extension": ".py",
   "mimetype": "text/x-python",
   "name": "python",
   "nbconvert_exporter": "python",
   "pygments_lexer": "ipython3",
   "version": "3.10.13"
  }
 },
 "nbformat": 4,
 "nbformat_minor": 5
}
